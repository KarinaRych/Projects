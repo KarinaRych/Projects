{
  "nbformat": 4,
  "nbformat_minor": 0,
  "metadata": {
    "_change_revision": 36,
    "_is_fork": false,
    "kernelspec": {
      "display_name": "Python 3",
      "language": "python",
      "name": "python3"
    },
    "language_info": {
      "codemirror_mode": {
        "name": "ipython",
        "version": 3
      },
      "file_extension": ".py",
      "mimetype": "text/x-python",
      "name": "python",
      "nbconvert_exporter": "python",
      "pygments_lexer": "ipython3",
      "version": "3.7.5"
    },
    "colab": {
      "name": "Rychkova BIVT-17-1 Praktika 5.ipynb\"\"",
      "provenance": [],
      "collapsed_sections": []
    }
  },
  "cells": [
    {
      "cell_type": "markdown",
      "metadata": {
        "id": "kyugkF-xfkor"
      },
      "source": [
        "# Предсказание оттока сотрудников \n",
        "\n",
        "Ключ к успеху любой организации - это привлечение и удержание лучших сотрудников. Для HR-аналитиков одной из задач является \n",
        "предотвращение ухода персонала. Для этого им необходимо знать факторы, увеличивающие вовлеченность сотрудников, и, наоборот, побуждающие сотрудников уйти. "
      ]
    },
    {
      "cell_type": "markdown",
      "metadata": {
        "id": "8WX_jd-qfkow"
      },
      "source": [
        "<a href=\"https://drive.google.com/uc?id=1jAZLpihYxu_FPvN9PIJ1G4S_KvO_6Ku6\n",
        "\" target=\"_blank\"><img src=\"https://drive.google.com/uc?id=1jAZLpihYxu_FPvN9PIJ1G4S_KvO_6Ku6\" \n",
        "alt=\"IMAGE ALT TEXT HERE\" width=\"500\" border=\"0\" /></a>"
      ]
    },
    {
      "cell_type": "markdown",
      "metadata": {
        "id": "DZWzmwSCfko0"
      },
      "source": [
        "**Бизнес-постановка задачи** \n",
        "\n",
        "Очевидно, компании не выгодно терять своих сотрудников. На данный момент HR-ы \"вручную\" отслеживают комфортность рабочей среды, лично наблюдая за сотрудниками и общаясь с ними. Мы предлагаем построить модель, которая будет прогнозировать возможность ухода сотрудника, а также позволит выявить причины этого. \n",
        "\n",
        "Такая модель позволит одновременно улучшить контроль над текучкой кадров и сократить штат HR-ов. "
      ]
    },
    {
      "cell_type": "markdown",
      "metadata": {
        "id": "Mtg9sFWrfkoy"
      },
      "source": [
        "Мы попробуем на данных из Kaggle обучить модель машинного обучения, которая будет предсказывать отток сотрудников.\n",
        "https://www.kaggle.com/patelprashant/employee-attrition"
      ]
    },
    {
      "cell_type": "markdown",
      "metadata": {
        "id": "_OTPvMJ5fko5"
      },
      "source": [
        "**Обзор доступных данных**\n",
        "\n",
        "В выборке 4410 исторических наблюдений и 20 переменных, одна из которых - целевая. \n",
        "Таким образом, про каждого из 4410 сотрудников мы знаем значения 20 их характеристик (возраст, пол, место и область работы, расстояние от дома и т.д.), в том числе значение целевой переменной: ушел сотрудник или нет.\n",
        "\n",
        "Выборка была разбита на две части для обучения и для тестирования модели.\n",
        "В обучающей выборке 3308 сотрудников, в тестовой выборке - 1102."
      ]
    },
    {
      "cell_type": "markdown",
      "metadata": {
        "id": "K2qJocD2fko2"
      },
      "source": [
        "**Постановка задачи анализа данных** \n",
        "\n",
        "Целью данной задачи является построение модели *классификации сотрудников*: на вход модель будет принимать данные о сотруднике, а на выходе она должна работать в двух режимах:\n",
        "\n",
        "* выдавать вероятность ухода для данного сотрудника,\n",
        "* выдавать правильный с точки зрения модели класс сотрудника (не доволен и собирается уйти или всё устраивает и остается).\n",
        "\n",
        "Обучать модель мы будем по данным с платформы kaggle."
      ]
    },
    {
      "cell_type": "markdown",
      "metadata": {
        "id": "an2OUerefko7"
      },
      "source": [
        "**Доступные признаки**\n",
        "\n",
        "Данные содержат два типа переменных:\n",
        "\n",
        "* Целевая: **Attrition**, ушел работник или нет\n",
        "* Остальные переменные: 19 переменных, могут использоваться для прогноза целевой переменной.\n",
        "\n",
        "| Имя столбца       | Значение                | Имя столбца             | Значение\n",
        "|:-----------------:|:-----------------------:|:-----------------------:|:---------------------------------------------:|\n",
        "| Age               | Возраст                 | NumCompaniesWorked      | Кол-во компаний, в которых работал сотрудник  |\n",
        "| BusinessTravel    | Частота командировок    | PercentSalaryHike       | Процент повышения з/п за время работы         |\n",
        "| Department        | Отдел                   | StandardHours           | Стандартная продолжительность рабочего дня    |\n",
        "| DistanceFromHome  | Расстояние от дома в км | StockOptionLevel        | Уровень опциона на акции                      |\n",
        "| Education         | Уровень образования     | TotalWorkingYears       | Общий трудовой стаж                           |\n",
        "| EducationField    | Сфера образования       | TrainingTimesLastYear   | Общее время дополнительного обучения          |\n",
        "| Gender            | Пол                     | YearsAtCompany          | Стаж работы в данной компании                 |\n",
        "| JobRole           | Должностная роль        | YearsSinceLastPromotion | Кол-во лет с последнего повышения             |\n",
        "| MaritalStatus     | Семейное положение      | YearsWithCurrManager    | Кол-во лет работы с текущим менеджером        |\n",
        "| MonthlyIncome     | Ежемесячный доход       | Attrition               | **Целевая переменная:** ушел работник или нет |\n",
        "\n",
        "\t\n"
      ]
    },
    {
      "cell_type": "markdown",
      "metadata": {
        "id": "yHg-EEr9fko8"
      },
      "source": [
        "## План анализа данных (data mining):\n",
        "\n",
        "  1. Загрузить данные для обучения\n",
        "  2. Обработать данные перед обучением модели\n",
        "  3. Обучить модель на обучающей выборке\n",
        "  4. Загрузить и предобработать данные для тестирования\n",
        "  5. Провалидировать модель на тестовой выборке"
      ]
    },
    {
      "cell_type": "markdown",
      "metadata": {
        "id": "pkHvvbG5fko9"
      },
      "source": [
        "## 1. Загрузить данные для обучения"
      ]
    },
    {
      "cell_type": "markdown",
      "metadata": {
        "id": "7eAMeXk5fko9"
      },
      "source": [
        "**Шаг 1.1. Загружаем библиотеки** \n",
        "\n",
        "Для корректной работы с данными в python требуется загрузить специальную библиотеку\n",
        "**pandas**, программную библиотеку на языке python для обработки и анализа данных. "
      ]
    },
    {
      "cell_type": "markdown",
      "metadata": {
        "_cell_guid": "cfdaacbc-23a3-423d-8d4d-120939ac7383",
        "collapsed": true,
        "id": "35cP83FOfko-"
      },
      "source": [
        "Основная нагрузка по обработке входных данных ложится на модуль **pandas**. С\n",
        "помощью функций `pandas.read_*` можно подтягивать данные из простых текстовых\n",
        "файлов `CSV`, таблиц **Excel**, таблиц **HTML**, а также **SQL** запросами\n",
        "из корпоративных баз данных и прочих распределённых хранилищ."
      ]
    },
    {
      "cell_type": "code",
      "metadata": {
        "_cell_guid": "cfdaacbc-23a3-423d-8d4d-120939ac7383",
        "id": "M4CeFXNGfko_"
      },
      "source": [
        "import pandas as pd"
      ],
      "execution_count": null,
      "outputs": []
    },
    {
      "cell_type": "markdown",
      "metadata": {
        "id": "YIBIwMTDfkpF"
      },
      "source": [
        "Для корректной работы с графиками в python требуется загрузить специальную библиотеку\n",
        "**matplotlib**, программную библиотеку на языке python для визуализации данных двумерной и трехмерной графикой.\n",
        "\n",
        "Графики используются для облегчения интерпретации полученных результатов, а также в качестве иллюстраций в презентациях и отчетах. \n",
        "\n",
        "Оснвные методы для построения:\n",
        "* plot() - графики\n",
        "* semilogy() - график логарифметический\n",
        "* hist() - гистограммы"
      ]
    },
    {
      "cell_type": "code",
      "metadata": {
        "id": "R55B0cnEfkpG"
      },
      "source": [
        "import matplotlib.pyplot as plt # загружаем библиотеку и для простоты обращения в коде называем её сокращенно plt"
      ],
      "execution_count": null,
      "outputs": []
    },
    {
      "cell_type": "markdown",
      "metadata": {
        "id": "wQvSSCMqfkpI"
      },
      "source": [
        "Основную вычислительную нагрузку берёт на себя модуль **Numpy**, с помощью которого можно быстро производить\n",
        "вычисления сразу над массивами чисел."
      ]
    },
    {
      "cell_type": "code",
      "metadata": {
        "id": "X3ci_qgGfkpJ"
      },
      "source": [
        "import numpy as np"
      ],
      "execution_count": null,
      "outputs": []
    },
    {
      "cell_type": "markdown",
      "metadata": {
        "id": "ran1d4E2fkpL"
      },
      "source": [
        "Библиотека **scikit-learn** -- де факто наиболее популярный, разносторонний, хорошо\n",
        "документированный и постоянно обогащающийся инструмент для построения моделей машинного\n",
        "обучения.\n",
        "\n",
        "Выберем из него несколько готовых функции для расчёта метрик качества классификации."
      ]
    },
    {
      "cell_type": "code",
      "metadata": {
        "_cell_guid": "cfdaacbc-23a3-423d-8d4d-120939ac7383",
        "id": "ll9etI7JfkpM"
      },
      "source": [
        "from sklearn.metrics import roc_curve, precision_recall_curve, auc # метрики качества\n",
        "from sklearn.metrics import confusion_matrix, accuracy_score # метрики качества\n",
        "from sklearn.metrics import average_precision_score # метрики качества"
      ],
      "execution_count": null,
      "outputs": []
    },
    {
      "cell_type": "markdown",
      "metadata": {
        "id": "hj1yrX8JfkpO"
      },
      "source": [
        "Будем использовать библиотеку **MatplotLib**, которая отлично справляется с этой задачей.\n",
        "Модуль **seaborn** устанавливет \"приятные для глаз\" палитры и стили для графиков."
      ]
    },
    {
      "cell_type": "code",
      "metadata": {
        "_cell_guid": "cfdaacbc-23a3-423d-8d4d-120939ac7383",
        "id": "6yXO2ggsfkpP"
      },
      "source": [
        "%matplotlib inline\n",
        "import matplotlib.pyplot as plt\n",
        "\n",
        "import seaborn as sns\n",
        "sns.set_style('whitegrid') # установить стиль whitegrid, другие стили можно найти в документации к seaborn"
      ],
      "execution_count": null,
      "outputs": []
    },
    {
      "cell_type": "markdown",
      "metadata": {
        "id": "G0-nvr-CfkpR"
      },
      "source": [
        "Некоторые библиотеки могут выводить на экран предупреждения, которые важно учитывать в \"боевых\" задачах. Но в учебной тетради мы укажем Python'у игнорировать их."
      ]
    },
    {
      "cell_type": "code",
      "metadata": {
        "id": "HDXxBSg0fkpS"
      },
      "source": [
        "import warnings\n",
        "warnings.filterwarnings(\"ignore\")"
      ],
      "execution_count": null,
      "outputs": []
    },
    {
      "cell_type": "markdown",
      "metadata": {
        "id": "BYLFGU7LfkpU"
      },
      "source": [
        "**Шаг 1.2. Загрузим данные**\n",
        "\n",
        "Для решения задачи мы будем использовать данные. Они состоят из двух частей: часть для обучения и часть для тестирования модели. Загружаем данные с помощие команды !wget. Для того, чтобы игнорировать сообщения в процессе загрузки используем магическую команду %%capture в первой строке.\n",
        "\n"
      ]
    },
    {
      "cell_type": "code",
      "metadata": {
        "id": "CoqHRjvVgrHK"
      },
      "source": [
        "%%capture\n",
        "!wget https://www.dropbox.com/s/jaea4smqjbmslsb/training_data.csv\n",
        "!wget https://www.dropbox.com/s/y1i45d72k9byzak/test_data.csv"
      ],
      "execution_count": null,
      "outputs": []
    },
    {
      "cell_type": "code",
      "metadata": {
        "id": "gW08szPfyTqC",
        "colab": {
          "base_uri": "https://localhost:8080/"
        },
        "outputId": "5dca7451-a5f0-4147-ab21-544357da934c"
      },
      "source": [
        "!ls"
      ],
      "execution_count": null,
      "outputs": [
        {
          "output_type": "stream",
          "text": [
            "sample_data  test_data.csv  training_data.csv\n"
          ],
          "name": "stdout"
        }
      ]
    },
    {
      "cell_type": "markdown",
      "metadata": {
        "id": "udyJyD2HgrR5"
      },
      "source": [
        "Наши данные в формате `csv` - comma separated values, значения, разделенные точкой. Обычно data scientists работают с табличными данными, которые представлены именно в таком виде. Чтобы загрузить такие данные, будем использовать функцию **`pd.read_csv()`** из библиотеки `pandas`."
      ]
    },
    {
      "cell_type": "code",
      "metadata": {
        "_cell_guid": "3ab4c525-a5cb-4183-9468-c1dd005c4c78",
        "id": "1YFLIos-fkpV"
      },
      "source": [
        "training_data = pd.read_csv('training_data.csv')"
      ],
      "execution_count": null,
      "outputs": []
    },
    {
      "cell_type": "markdown",
      "metadata": {
        "id": "PJwu8u_PfkpY"
      },
      "source": [
        "Посмотрим на 10 случайно выбранных записей из обучающего набора, для этого будем использовать функцию **sample()**. Параметр\n",
        "**random_state=123** фиксирует \"случайность\", то есть на любом компьютере метод **sample()** будет работать одинаково. "
      ]
    },
    {
      "cell_type": "code",
      "metadata": {
        "id": "MXXfCDLMfkpY",
        "colab": {
          "base_uri": "https://localhost:8080/",
          "height": 529
        },
        "outputId": "ba234861-d647-4e83-d0d6-5d46ecd02631"
      },
      "source": [
        "training_data.sample(10, random_state=123)"
      ],
      "execution_count": null,
      "outputs": [
        {
          "output_type": "execute_result",
          "data": {
            "text/html": [
              "<div>\n",
              "<style scoped>\n",
              "    .dataframe tbody tr th:only-of-type {\n",
              "        vertical-align: middle;\n",
              "    }\n",
              "\n",
              "    .dataframe tbody tr th {\n",
              "        vertical-align: top;\n",
              "    }\n",
              "\n",
              "    .dataframe thead th {\n",
              "        text-align: right;\n",
              "    }\n",
              "</style>\n",
              "<table border=\"1\" class=\"dataframe\">\n",
              "  <thead>\n",
              "    <tr style=\"text-align: right;\">\n",
              "      <th></th>\n",
              "      <th>Age</th>\n",
              "      <th>BusinessTravel</th>\n",
              "      <th>Department</th>\n",
              "      <th>DistanceFromHome</th>\n",
              "      <th>Education</th>\n",
              "      <th>EducationField</th>\n",
              "      <th>Gender</th>\n",
              "      <th>JobRole</th>\n",
              "      <th>MaritalStatus</th>\n",
              "      <th>MonthlyIncome</th>\n",
              "      <th>NumCompaniesWorked</th>\n",
              "      <th>PercentSalaryHike</th>\n",
              "      <th>StandardHours</th>\n",
              "      <th>StockOptionLevel</th>\n",
              "      <th>TotalWorkingYears</th>\n",
              "      <th>TrainingTimesLastYear</th>\n",
              "      <th>YearsAtCompany</th>\n",
              "      <th>YearsSinceLastPromotion</th>\n",
              "      <th>YearsWithCurrManager</th>\n",
              "      <th>Attrition</th>\n",
              "    </tr>\n",
              "  </thead>\n",
              "  <tbody>\n",
              "    <tr>\n",
              "      <th>1930</th>\n",
              "      <td>45</td>\n",
              "      <td>Non-Travel</td>\n",
              "      <td>Sales</td>\n",
              "      <td>2</td>\n",
              "      <td>3</td>\n",
              "      <td>Medical</td>\n",
              "      <td>Female</td>\n",
              "      <td>Sales Executive</td>\n",
              "      <td>Married</td>\n",
              "      <td>66440</td>\n",
              "      <td>1.0</td>\n",
              "      <td>12</td>\n",
              "      <td>8</td>\n",
              "      <td>0</td>\n",
              "      <td>9.0</td>\n",
              "      <td>3</td>\n",
              "      <td>9</td>\n",
              "      <td>0</td>\n",
              "      <td>8</td>\n",
              "      <td>0</td>\n",
              "    </tr>\n",
              "    <tr>\n",
              "      <th>909</th>\n",
              "      <td>35</td>\n",
              "      <td>Travel_Rarely</td>\n",
              "      <td>Research &amp; Development</td>\n",
              "      <td>9</td>\n",
              "      <td>3</td>\n",
              "      <td>Life Sciences</td>\n",
              "      <td>Male</td>\n",
              "      <td>Manager</td>\n",
              "      <td>Divorced</td>\n",
              "      <td>173990</td>\n",
              "      <td>6.0</td>\n",
              "      <td>12</td>\n",
              "      <td>8</td>\n",
              "      <td>0</td>\n",
              "      <td>7.0</td>\n",
              "      <td>3</td>\n",
              "      <td>2</td>\n",
              "      <td>2</td>\n",
              "      <td>2</td>\n",
              "      <td>1</td>\n",
              "    </tr>\n",
              "    <tr>\n",
              "      <th>222</th>\n",
              "      <td>30</td>\n",
              "      <td>Travel_Frequently</td>\n",
              "      <td>Research &amp; Development</td>\n",
              "      <td>9</td>\n",
              "      <td>3</td>\n",
              "      <td>Other</td>\n",
              "      <td>Male</td>\n",
              "      <td>Healthcare Representative</td>\n",
              "      <td>Married</td>\n",
              "      <td>68250</td>\n",
              "      <td>1.0</td>\n",
              "      <td>14</td>\n",
              "      <td>8</td>\n",
              "      <td>0</td>\n",
              "      <td>1.0</td>\n",
              "      <td>2</td>\n",
              "      <td>1</td>\n",
              "      <td>0</td>\n",
              "      <td>0</td>\n",
              "      <td>1</td>\n",
              "    </tr>\n",
              "    <tr>\n",
              "      <th>2307</th>\n",
              "      <td>33</td>\n",
              "      <td>Travel_Rarely</td>\n",
              "      <td>Research &amp; Development</td>\n",
              "      <td>9</td>\n",
              "      <td>3</td>\n",
              "      <td>Medical</td>\n",
              "      <td>Female</td>\n",
              "      <td>Manufacturing Director</td>\n",
              "      <td>Married</td>\n",
              "      <td>28990</td>\n",
              "      <td>1.0</td>\n",
              "      <td>17</td>\n",
              "      <td>8</td>\n",
              "      <td>0</td>\n",
              "      <td>15.0</td>\n",
              "      <td>3</td>\n",
              "      <td>15</td>\n",
              "      <td>5</td>\n",
              "      <td>7</td>\n",
              "      <td>0</td>\n",
              "    </tr>\n",
              "    <tr>\n",
              "      <th>576</th>\n",
              "      <td>34</td>\n",
              "      <td>Travel_Rarely</td>\n",
              "      <td>Sales</td>\n",
              "      <td>1</td>\n",
              "      <td>1</td>\n",
              "      <td>Marketing</td>\n",
              "      <td>Female</td>\n",
              "      <td>Laboratory Technician</td>\n",
              "      <td>Married</td>\n",
              "      <td>24760</td>\n",
              "      <td>1.0</td>\n",
              "      <td>19</td>\n",
              "      <td>8</td>\n",
              "      <td>0</td>\n",
              "      <td>6.0</td>\n",
              "      <td>2</td>\n",
              "      <td>6</td>\n",
              "      <td>1</td>\n",
              "      <td>3</td>\n",
              "      <td>0</td>\n",
              "    </tr>\n",
              "    <tr>\n",
              "      <th>1984</th>\n",
              "      <td>56</td>\n",
              "      <td>Travel_Frequently</td>\n",
              "      <td>Research &amp; Development</td>\n",
              "      <td>1</td>\n",
              "      <td>2</td>\n",
              "      <td>Life Sciences</td>\n",
              "      <td>Female</td>\n",
              "      <td>Manufacturing Director</td>\n",
              "      <td>Married</td>\n",
              "      <td>52280</td>\n",
              "      <td>2.0</td>\n",
              "      <td>11</td>\n",
              "      <td>8</td>\n",
              "      <td>0</td>\n",
              "      <td>18.0</td>\n",
              "      <td>4</td>\n",
              "      <td>5</td>\n",
              "      <td>0</td>\n",
              "      <td>3</td>\n",
              "      <td>0</td>\n",
              "    </tr>\n",
              "    <tr>\n",
              "      <th>2984</th>\n",
              "      <td>28</td>\n",
              "      <td>Travel_Rarely</td>\n",
              "      <td>Research &amp; Development</td>\n",
              "      <td>9</td>\n",
              "      <td>3</td>\n",
              "      <td>Medical</td>\n",
              "      <td>Male</td>\n",
              "      <td>Sales Representative</td>\n",
              "      <td>Single</td>\n",
              "      <td>46480</td>\n",
              "      <td>0.0</td>\n",
              "      <td>23</td>\n",
              "      <td>8</td>\n",
              "      <td>2</td>\n",
              "      <td>9.0</td>\n",
              "      <td>2</td>\n",
              "      <td>8</td>\n",
              "      <td>0</td>\n",
              "      <td>7</td>\n",
              "      <td>0</td>\n",
              "    </tr>\n",
              "    <tr>\n",
              "      <th>2942</th>\n",
              "      <td>32</td>\n",
              "      <td>Travel_Frequently</td>\n",
              "      <td>Research &amp; Development</td>\n",
              "      <td>17</td>\n",
              "      <td>4</td>\n",
              "      <td>Other</td>\n",
              "      <td>Male</td>\n",
              "      <td>Sales Executive</td>\n",
              "      <td>Married</td>\n",
              "      <td>193280</td>\n",
              "      <td>1.0</td>\n",
              "      <td>15</td>\n",
              "      <td>8</td>\n",
              "      <td>3</td>\n",
              "      <td>5.0</td>\n",
              "      <td>2</td>\n",
              "      <td>5</td>\n",
              "      <td>0</td>\n",
              "      <td>3</td>\n",
              "      <td>0</td>\n",
              "    </tr>\n",
              "    <tr>\n",
              "      <th>43</th>\n",
              "      <td>18</td>\n",
              "      <td>Travel_Rarely</td>\n",
              "      <td>Sales</td>\n",
              "      <td>7</td>\n",
              "      <td>3</td>\n",
              "      <td>Life Sciences</td>\n",
              "      <td>Male</td>\n",
              "      <td>Research Scientist</td>\n",
              "      <td>Single</td>\n",
              "      <td>38120</td>\n",
              "      <td>1.0</td>\n",
              "      <td>15</td>\n",
              "      <td>8</td>\n",
              "      <td>0</td>\n",
              "      <td>0.0</td>\n",
              "      <td>3</td>\n",
              "      <td>0</td>\n",
              "      <td>0</td>\n",
              "      <td>0</td>\n",
              "      <td>0</td>\n",
              "    </tr>\n",
              "    <tr>\n",
              "      <th>2880</th>\n",
              "      <td>38</td>\n",
              "      <td>Travel_Rarely</td>\n",
              "      <td>Sales</td>\n",
              "      <td>8</td>\n",
              "      <td>2</td>\n",
              "      <td>Marketing</td>\n",
              "      <td>Male</td>\n",
              "      <td>Research Scientist</td>\n",
              "      <td>Married</td>\n",
              "      <td>49300</td>\n",
              "      <td>9.0</td>\n",
              "      <td>14</td>\n",
              "      <td>8</td>\n",
              "      <td>0</td>\n",
              "      <td>14.0</td>\n",
              "      <td>0</td>\n",
              "      <td>1</td>\n",
              "      <td>0</td>\n",
              "      <td>0</td>\n",
              "      <td>0</td>\n",
              "    </tr>\n",
              "  </tbody>\n",
              "</table>\n",
              "</div>"
            ],
            "text/plain": [
              "      Age     BusinessTravel  ... YearsWithCurrManager  Attrition\n",
              "1930   45         Non-Travel  ...                    8          0\n",
              "909    35      Travel_Rarely  ...                    2          1\n",
              "222    30  Travel_Frequently  ...                    0          1\n",
              "2307   33      Travel_Rarely  ...                    7          0\n",
              "576    34      Travel_Rarely  ...                    3          0\n",
              "1984   56  Travel_Frequently  ...                    3          0\n",
              "2984   28      Travel_Rarely  ...                    7          0\n",
              "2942   32  Travel_Frequently  ...                    3          0\n",
              "43     18      Travel_Rarely  ...                    0          0\n",
              "2880   38      Travel_Rarely  ...                    0          0\n",
              "\n",
              "[10 rows x 20 columns]"
            ]
          },
          "metadata": {
            "tags": []
          },
          "execution_count": 10
        }
      ]
    },
    {
      "cell_type": "markdown",
      "metadata": {
        "id": "vk_o4HxOyfiz"
      },
      "source": [
        "***Упражнение1:*** выведите на экран те строчки из таблицы `training_data`, для котрых возраст сотрудника (Age) не больше 35 и не меньше 25, для которых сотрудник мужчина(Male) и работает в отделе продаж (Sales). Также проверьте размерность полученной выборки, просмотрите записи"
      ]
    },
    {
      "cell_type": "code",
      "metadata": {
        "id": "y5L0DBfhBo8j"
      },
      "source": [
        "training_data_mid_age_male_sales=training_data[(training_data['Age']>=25)&(training_data['Age']<=35)&(training_data['Gender'] == 'Male')&(training_data['Department'] == 'Sales') ]"
      ],
      "execution_count": null,
      "outputs": []
    },
    {
      "cell_type": "code",
      "metadata": {
        "id": "9ydNZUBM0JyX",
        "colab": {
          "base_uri": "https://localhost:8080/"
        },
        "outputId": "3dcc510b-53e5-4bb9-a91d-6ef8a727dce0"
      },
      "source": [
        "training_data_mid_age_male_sales.shape"
      ],
      "execution_count": null,
      "outputs": [
        {
          "output_type": "execute_result",
          "data": {
            "text/plain": [
              "(273, 20)"
            ]
          },
          "metadata": {
            "tags": []
          },
          "execution_count": 48
        }
      ]
    },
    {
      "cell_type": "code",
      "metadata": {
        "id": "6KMzzN6S0c4u",
        "colab": {
          "base_uri": "https://localhost:8080/",
          "height": 975
        },
        "outputId": "b67f0764-c3b0-4c58-e458-fc877df80154"
      },
      "source": [
        "training_data_mid_age_male_sales.sample(20)"
      ],
      "execution_count": null,
      "outputs": [
        {
          "output_type": "execute_result",
          "data": {
            "text/html": [
              "<div>\n",
              "<style scoped>\n",
              "    .dataframe tbody tr th:only-of-type {\n",
              "        vertical-align: middle;\n",
              "    }\n",
              "\n",
              "    .dataframe tbody tr th {\n",
              "        vertical-align: top;\n",
              "    }\n",
              "\n",
              "    .dataframe thead th {\n",
              "        text-align: right;\n",
              "    }\n",
              "</style>\n",
              "<table border=\"1\" class=\"dataframe\">\n",
              "  <thead>\n",
              "    <tr style=\"text-align: right;\">\n",
              "      <th></th>\n",
              "      <th>Age</th>\n",
              "      <th>BusinessTravel</th>\n",
              "      <th>Department</th>\n",
              "      <th>DistanceFromHome</th>\n",
              "      <th>Education</th>\n",
              "      <th>EducationField</th>\n",
              "      <th>Gender</th>\n",
              "      <th>JobRole</th>\n",
              "      <th>MaritalStatus</th>\n",
              "      <th>MonthlyIncome</th>\n",
              "      <th>NumCompaniesWorked</th>\n",
              "      <th>PercentSalaryHike</th>\n",
              "      <th>StandardHours</th>\n",
              "      <th>StockOptionLevel</th>\n",
              "      <th>TotalWorkingYears</th>\n",
              "      <th>TrainingTimesLastYear</th>\n",
              "      <th>YearsAtCompany</th>\n",
              "      <th>YearsSinceLastPromotion</th>\n",
              "      <th>YearsWithCurrManager</th>\n",
              "      <th>Attrition</th>\n",
              "    </tr>\n",
              "  </thead>\n",
              "  <tbody>\n",
              "    <tr>\n",
              "      <th>2233</th>\n",
              "      <td>25</td>\n",
              "      <td>Travel_Rarely</td>\n",
              "      <td>Sales</td>\n",
              "      <td>16</td>\n",
              "      <td>4</td>\n",
              "      <td>Life Sciences</td>\n",
              "      <td>Male</td>\n",
              "      <td>Research Scientist</td>\n",
              "      <td>Married</td>\n",
              "      <td>198590</td>\n",
              "      <td>3.0</td>\n",
              "      <td>19</td>\n",
              "      <td>8</td>\n",
              "      <td>0</td>\n",
              "      <td>6.0</td>\n",
              "      <td>3</td>\n",
              "      <td>3</td>\n",
              "      <td>2</td>\n",
              "      <td>2</td>\n",
              "      <td>1</td>\n",
              "    </tr>\n",
              "    <tr>\n",
              "      <th>2614</th>\n",
              "      <td>31</td>\n",
              "      <td>Travel_Rarely</td>\n",
              "      <td>Sales</td>\n",
              "      <td>6</td>\n",
              "      <td>3</td>\n",
              "      <td>Other</td>\n",
              "      <td>Male</td>\n",
              "      <td>Manufacturing Director</td>\n",
              "      <td>Divorced</td>\n",
              "      <td>45340</td>\n",
              "      <td>1.0</td>\n",
              "      <td>13</td>\n",
              "      <td>8</td>\n",
              "      <td>0</td>\n",
              "      <td>1.0</td>\n",
              "      <td>2</td>\n",
              "      <td>1</td>\n",
              "      <td>0</td>\n",
              "      <td>0</td>\n",
              "      <td>0</td>\n",
              "    </tr>\n",
              "    <tr>\n",
              "      <th>1638</th>\n",
              "      <td>30</td>\n",
              "      <td>Non-Travel</td>\n",
              "      <td>Sales</td>\n",
              "      <td>10</td>\n",
              "      <td>2</td>\n",
              "      <td>Life Sciences</td>\n",
              "      <td>Male</td>\n",
              "      <td>Laboratory Technician</td>\n",
              "      <td>Single</td>\n",
              "      <td>188800</td>\n",
              "      <td>0.0</td>\n",
              "      <td>22</td>\n",
              "      <td>8</td>\n",
              "      <td>1</td>\n",
              "      <td>12.0</td>\n",
              "      <td>3</td>\n",
              "      <td>11</td>\n",
              "      <td>6</td>\n",
              "      <td>7</td>\n",
              "      <td>0</td>\n",
              "    </tr>\n",
              "    <tr>\n",
              "      <th>1752</th>\n",
              "      <td>28</td>\n",
              "      <td>Travel_Rarely</td>\n",
              "      <td>Sales</td>\n",
              "      <td>2</td>\n",
              "      <td>4</td>\n",
              "      <td>Life Sciences</td>\n",
              "      <td>Male</td>\n",
              "      <td>Research Scientist</td>\n",
              "      <td>Single</td>\n",
              "      <td>20750</td>\n",
              "      <td>7.0</td>\n",
              "      <td>18</td>\n",
              "      <td>8</td>\n",
              "      <td>3</td>\n",
              "      <td>10.0</td>\n",
              "      <td>0</td>\n",
              "      <td>7</td>\n",
              "      <td>3</td>\n",
              "      <td>7</td>\n",
              "      <td>1</td>\n",
              "    </tr>\n",
              "    <tr>\n",
              "      <th>282</th>\n",
              "      <td>28</td>\n",
              "      <td>Travel_Rarely</td>\n",
              "      <td>Sales</td>\n",
              "      <td>2</td>\n",
              "      <td>4</td>\n",
              "      <td>Life Sciences</td>\n",
              "      <td>Male</td>\n",
              "      <td>Research Scientist</td>\n",
              "      <td>Single</td>\n",
              "      <td>20750</td>\n",
              "      <td>7.0</td>\n",
              "      <td>18</td>\n",
              "      <td>8</td>\n",
              "      <td>3</td>\n",
              "      <td>10.0</td>\n",
              "      <td>0</td>\n",
              "      <td>7</td>\n",
              "      <td>3</td>\n",
              "      <td>7</td>\n",
              "      <td>1</td>\n",
              "    </tr>\n",
              "    <tr>\n",
              "      <th>2762</th>\n",
              "      <td>30</td>\n",
              "      <td>Travel_Rarely</td>\n",
              "      <td>Sales</td>\n",
              "      <td>18</td>\n",
              "      <td>3</td>\n",
              "      <td>Life Sciences</td>\n",
              "      <td>Male</td>\n",
              "      <td>Human Resources</td>\n",
              "      <td>Married</td>\n",
              "      <td>22960</td>\n",
              "      <td>1.0</td>\n",
              "      <td>18</td>\n",
              "      <td>8</td>\n",
              "      <td>1</td>\n",
              "      <td>10.0</td>\n",
              "      <td>2</td>\n",
              "      <td>10</td>\n",
              "      <td>3</td>\n",
              "      <td>0</td>\n",
              "      <td>0</td>\n",
              "    </tr>\n",
              "    <tr>\n",
              "      <th>2135</th>\n",
              "      <td>34</td>\n",
              "      <td>Travel_Frequently</td>\n",
              "      <td>Sales</td>\n",
              "      <td>1</td>\n",
              "      <td>3</td>\n",
              "      <td>Life Sciences</td>\n",
              "      <td>Male</td>\n",
              "      <td>Sales Executive</td>\n",
              "      <td>Married</td>\n",
              "      <td>24000</td>\n",
              "      <td>4.0</td>\n",
              "      <td>18</td>\n",
              "      <td>8</td>\n",
              "      <td>1</td>\n",
              "      <td>14.0</td>\n",
              "      <td>3</td>\n",
              "      <td>10</td>\n",
              "      <td>1</td>\n",
              "      <td>8</td>\n",
              "      <td>0</td>\n",
              "    </tr>\n",
              "    <tr>\n",
              "      <th>1743</th>\n",
              "      <td>32</td>\n",
              "      <td>Travel_Rarely</td>\n",
              "      <td>Sales</td>\n",
              "      <td>1</td>\n",
              "      <td>3</td>\n",
              "      <td>Medical</td>\n",
              "      <td>Male</td>\n",
              "      <td>Sales Executive</td>\n",
              "      <td>Single</td>\n",
              "      <td>136640</td>\n",
              "      <td>3.0</td>\n",
              "      <td>14</td>\n",
              "      <td>8</td>\n",
              "      <td>0</td>\n",
              "      <td>10.0</td>\n",
              "      <td>6</td>\n",
              "      <td>7</td>\n",
              "      <td>7</td>\n",
              "      <td>7</td>\n",
              "      <td>0</td>\n",
              "    </tr>\n",
              "    <tr>\n",
              "      <th>3292</th>\n",
              "      <td>27</td>\n",
              "      <td>Travel_Rarely</td>\n",
              "      <td>Sales</td>\n",
              "      <td>2</td>\n",
              "      <td>4</td>\n",
              "      <td>Medical</td>\n",
              "      <td>Male</td>\n",
              "      <td>Manager</td>\n",
              "      <td>Divorced</td>\n",
              "      <td>33460</td>\n",
              "      <td>1.0</td>\n",
              "      <td>21</td>\n",
              "      <td>8</td>\n",
              "      <td>1</td>\n",
              "      <td>9.0</td>\n",
              "      <td>2</td>\n",
              "      <td>9</td>\n",
              "      <td>0</td>\n",
              "      <td>8</td>\n",
              "      <td>0</td>\n",
              "    </tr>\n",
              "    <tr>\n",
              "      <th>2719</th>\n",
              "      <td>35</td>\n",
              "      <td>Travel_Rarely</td>\n",
              "      <td>Sales</td>\n",
              "      <td>2</td>\n",
              "      <td>4</td>\n",
              "      <td>Marketing</td>\n",
              "      <td>Male</td>\n",
              "      <td>Manufacturing Director</td>\n",
              "      <td>Married</td>\n",
              "      <td>104660</td>\n",
              "      <td>1.0</td>\n",
              "      <td>13</td>\n",
              "      <td>8</td>\n",
              "      <td>0</td>\n",
              "      <td>2.0</td>\n",
              "      <td>1</td>\n",
              "      <td>2</td>\n",
              "      <td>2</td>\n",
              "      <td>2</td>\n",
              "      <td>0</td>\n",
              "    </tr>\n",
              "    <tr>\n",
              "      <th>452</th>\n",
              "      <td>33</td>\n",
              "      <td>Non-Travel</td>\n",
              "      <td>Sales</td>\n",
              "      <td>15</td>\n",
              "      <td>3</td>\n",
              "      <td>Other</td>\n",
              "      <td>Male</td>\n",
              "      <td>Research Director</td>\n",
              "      <td>Single</td>\n",
              "      <td>194360</td>\n",
              "      <td>1.0</td>\n",
              "      <td>19</td>\n",
              "      <td>8</td>\n",
              "      <td>2</td>\n",
              "      <td>10.0</td>\n",
              "      <td>4</td>\n",
              "      <td>10</td>\n",
              "      <td>6</td>\n",
              "      <td>0</td>\n",
              "      <td>0</td>\n",
              "    </tr>\n",
              "    <tr>\n",
              "      <th>1428</th>\n",
              "      <td>30</td>\n",
              "      <td>Travel_Frequently</td>\n",
              "      <td>Sales</td>\n",
              "      <td>3</td>\n",
              "      <td>2</td>\n",
              "      <td>Medical</td>\n",
              "      <td>Male</td>\n",
              "      <td>Healthcare Representative</td>\n",
              "      <td>Single</td>\n",
              "      <td>28620</td>\n",
              "      <td>5.0</td>\n",
              "      <td>14</td>\n",
              "      <td>8</td>\n",
              "      <td>0</td>\n",
              "      <td>9.0</td>\n",
              "      <td>2</td>\n",
              "      <td>6</td>\n",
              "      <td>0</td>\n",
              "      <td>1</td>\n",
              "      <td>1</td>\n",
              "    </tr>\n",
              "    <tr>\n",
              "      <th>2898</th>\n",
              "      <td>30</td>\n",
              "      <td>Travel_Frequently</td>\n",
              "      <td>Sales</td>\n",
              "      <td>3</td>\n",
              "      <td>2</td>\n",
              "      <td>Medical</td>\n",
              "      <td>Male</td>\n",
              "      <td>Healthcare Representative</td>\n",
              "      <td>Single</td>\n",
              "      <td>28620</td>\n",
              "      <td>5.0</td>\n",
              "      <td>14</td>\n",
              "      <td>8</td>\n",
              "      <td>0</td>\n",
              "      <td>9.0</td>\n",
              "      <td>2</td>\n",
              "      <td>6</td>\n",
              "      <td>0</td>\n",
              "      <td>1</td>\n",
              "      <td>1</td>\n",
              "    </tr>\n",
              "    <tr>\n",
              "      <th>254</th>\n",
              "      <td>27</td>\n",
              "      <td>Travel_Rarely</td>\n",
              "      <td>Sales</td>\n",
              "      <td>9</td>\n",
              "      <td>3</td>\n",
              "      <td>Marketing</td>\n",
              "      <td>Male</td>\n",
              "      <td>Research Director</td>\n",
              "      <td>Single</td>\n",
              "      <td>59930</td>\n",
              "      <td>0.0</td>\n",
              "      <td>14</td>\n",
              "      <td>8</td>\n",
              "      <td>1</td>\n",
              "      <td>5.0</td>\n",
              "      <td>3</td>\n",
              "      <td>4</td>\n",
              "      <td>1</td>\n",
              "      <td>1</td>\n",
              "      <td>0</td>\n",
              "    </tr>\n",
              "    <tr>\n",
              "      <th>3003</th>\n",
              "      <td>31</td>\n",
              "      <td>Travel_Rarely</td>\n",
              "      <td>Sales</td>\n",
              "      <td>24</td>\n",
              "      <td>3</td>\n",
              "      <td>Life Sciences</td>\n",
              "      <td>Male</td>\n",
              "      <td>Healthcare Representative</td>\n",
              "      <td>Divorced</td>\n",
              "      <td>10810</td>\n",
              "      <td>4.0</td>\n",
              "      <td>11</td>\n",
              "      <td>8</td>\n",
              "      <td>3</td>\n",
              "      <td>13.0</td>\n",
              "      <td>4</td>\n",
              "      <td>7</td>\n",
              "      <td>1</td>\n",
              "      <td>7</td>\n",
              "      <td>0</td>\n",
              "    </tr>\n",
              "    <tr>\n",
              "      <th>2573</th>\n",
              "      <td>26</td>\n",
              "      <td>Travel_Frequently</td>\n",
              "      <td>Sales</td>\n",
              "      <td>16</td>\n",
              "      <td>2</td>\n",
              "      <td>Life Sciences</td>\n",
              "      <td>Male</td>\n",
              "      <td>Healthcare Representative</td>\n",
              "      <td>Married</td>\n",
              "      <td>83800</td>\n",
              "      <td>0.0</td>\n",
              "      <td>14</td>\n",
              "      <td>8</td>\n",
              "      <td>0</td>\n",
              "      <td>8.0</td>\n",
              "      <td>3</td>\n",
              "      <td>7</td>\n",
              "      <td>7</td>\n",
              "      <td>7</td>\n",
              "      <td>0</td>\n",
              "    </tr>\n",
              "    <tr>\n",
              "      <th>467</th>\n",
              "      <td>35</td>\n",
              "      <td>Travel_Rarely</td>\n",
              "      <td>Sales</td>\n",
              "      <td>24</td>\n",
              "      <td>3</td>\n",
              "      <td>Medical</td>\n",
              "      <td>Male</td>\n",
              "      <td>Healthcare Representative</td>\n",
              "      <td>Divorced</td>\n",
              "      <td>20700</td>\n",
              "      <td>1.0</td>\n",
              "      <td>13</td>\n",
              "      <td>8</td>\n",
              "      <td>3</td>\n",
              "      <td>5.0</td>\n",
              "      <td>1</td>\n",
              "      <td>4</td>\n",
              "      <td>0</td>\n",
              "      <td>2</td>\n",
              "      <td>1</td>\n",
              "    </tr>\n",
              "    <tr>\n",
              "      <th>2009</th>\n",
              "      <td>26</td>\n",
              "      <td>Travel_Rarely</td>\n",
              "      <td>Sales</td>\n",
              "      <td>8</td>\n",
              "      <td>2</td>\n",
              "      <td>Marketing</td>\n",
              "      <td>Male</td>\n",
              "      <td>Sales Executive</td>\n",
              "      <td>Divorced</td>\n",
              "      <td>80950</td>\n",
              "      <td>1.0</td>\n",
              "      <td>15</td>\n",
              "      <td>8</td>\n",
              "      <td>0</td>\n",
              "      <td>1.0</td>\n",
              "      <td>3</td>\n",
              "      <td>1</td>\n",
              "      <td>0</td>\n",
              "      <td>0</td>\n",
              "      <td>1</td>\n",
              "    </tr>\n",
              "    <tr>\n",
              "      <th>1922</th>\n",
              "      <td>33</td>\n",
              "      <td>Non-Travel</td>\n",
              "      <td>Sales</td>\n",
              "      <td>15</td>\n",
              "      <td>3</td>\n",
              "      <td>Other</td>\n",
              "      <td>Male</td>\n",
              "      <td>Research Director</td>\n",
              "      <td>Single</td>\n",
              "      <td>194360</td>\n",
              "      <td>1.0</td>\n",
              "      <td>19</td>\n",
              "      <td>8</td>\n",
              "      <td>2</td>\n",
              "      <td>10.0</td>\n",
              "      <td>4</td>\n",
              "      <td>10</td>\n",
              "      <td>6</td>\n",
              "      <td>0</td>\n",
              "      <td>0</td>\n",
              "    </tr>\n",
              "    <tr>\n",
              "      <th>2095</th>\n",
              "      <td>33</td>\n",
              "      <td>Travel_Rarely</td>\n",
              "      <td>Sales</td>\n",
              "      <td>26</td>\n",
              "      <td>2</td>\n",
              "      <td>Marketing</td>\n",
              "      <td>Male</td>\n",
              "      <td>Research Scientist</td>\n",
              "      <td>Married</td>\n",
              "      <td>42300</td>\n",
              "      <td>0.0</td>\n",
              "      <td>12</td>\n",
              "      <td>8</td>\n",
              "      <td>0</td>\n",
              "      <td>15.0</td>\n",
              "      <td>0</td>\n",
              "      <td>14</td>\n",
              "      <td>4</td>\n",
              "      <td>10</td>\n",
              "      <td>0</td>\n",
              "    </tr>\n",
              "  </tbody>\n",
              "</table>\n",
              "</div>"
            ],
            "text/plain": [
              "      Age     BusinessTravel  ... YearsWithCurrManager  Attrition\n",
              "2233   25      Travel_Rarely  ...                    2          1\n",
              "2614   31      Travel_Rarely  ...                    0          0\n",
              "1638   30         Non-Travel  ...                    7          0\n",
              "1752   28      Travel_Rarely  ...                    7          1\n",
              "282    28      Travel_Rarely  ...                    7          1\n",
              "2762   30      Travel_Rarely  ...                    0          0\n",
              "2135   34  Travel_Frequently  ...                    8          0\n",
              "1743   32      Travel_Rarely  ...                    7          0\n",
              "3292   27      Travel_Rarely  ...                    8          0\n",
              "2719   35      Travel_Rarely  ...                    2          0\n",
              "452    33         Non-Travel  ...                    0          0\n",
              "1428   30  Travel_Frequently  ...                    1          1\n",
              "2898   30  Travel_Frequently  ...                    1          1\n",
              "254    27      Travel_Rarely  ...                    1          0\n",
              "3003   31      Travel_Rarely  ...                    7          0\n",
              "2573   26  Travel_Frequently  ...                    7          0\n",
              "467    35      Travel_Rarely  ...                    2          1\n",
              "2009   26      Travel_Rarely  ...                    0          1\n",
              "1922   33         Non-Travel  ...                    0          0\n",
              "2095   33      Travel_Rarely  ...                   10          0\n",
              "\n",
              "[20 rows x 20 columns]"
            ]
          },
          "metadata": {
            "tags": []
          },
          "execution_count": 49
        }
      ]
    },
    {
      "cell_type": "markdown",
      "metadata": {
        "id": "IbZ3HBLYAOmE"
      },
      "source": [
        "***Упражнение2***: выведите на экран те строчки из таблицы training_data, для котрых возраст сотрудника (Age) не больше 35 и не меньше 25, для которых сотрудник мужчина(Male) и его работа (JobRole) связана с продажами (Sales). Также проверьте размерность полученной выборки, просмотрите записи"
      ]
    },
    {
      "cell_type": "code",
      "metadata": {
        "id": "DwNM3_JIBqeK"
      },
      "source": [
        "training_data_mid_age_male_sales_2 = training_data[(training_data['Age'] >= 25)&(training_data['Age']<=35)&(training_data['Gender']=='Male')&(training_data['JobRole'].str.find('Sales')>=0)]"
      ],
      "execution_count": null,
      "outputs": []
    },
    {
      "cell_type": "code",
      "metadata": {
        "colab": {
          "base_uri": "https://localhost:8080/"
        },
        "id": "dacIsuy46_xl",
        "outputId": "37204104-9be9-4a03-8ac8-a552c20179cd"
      },
      "source": [
        "training_data_mid_age_male_sales_2.shape"
      ],
      "execution_count": null,
      "outputs": [
        {
          "output_type": "execute_result",
          "data": {
            "text/plain": [
              "(220, 20)"
            ]
          },
          "metadata": {
            "tags": []
          },
          "execution_count": 427
        }
      ]
    },
    {
      "cell_type": "code",
      "metadata": {
        "colab": {
          "base_uri": "https://localhost:8080/",
          "height": 992
        },
        "id": "Gb-3MReB7BbN",
        "outputId": "cf9f7f6b-8056-4326-b31f-362010cd942a"
      },
      "source": [
        "traning_data_mid_age_male_sales.sample(20)"
      ],
      "execution_count": null,
      "outputs": [
        {
          "output_type": "execute_result",
          "data": {
            "text/html": [
              "<div>\n",
              "<style scoped>\n",
              "    .dataframe tbody tr th:only-of-type {\n",
              "        vertical-align: middle;\n",
              "    }\n",
              "\n",
              "    .dataframe tbody tr th {\n",
              "        vertical-align: top;\n",
              "    }\n",
              "\n",
              "    .dataframe thead th {\n",
              "        text-align: right;\n",
              "    }\n",
              "</style>\n",
              "<table border=\"1\" class=\"dataframe\">\n",
              "  <thead>\n",
              "    <tr style=\"text-align: right;\">\n",
              "      <th></th>\n",
              "      <th>Age</th>\n",
              "      <th>BusinessTravel</th>\n",
              "      <th>Department</th>\n",
              "      <th>DistanceFromHome</th>\n",
              "      <th>Education</th>\n",
              "      <th>EducationField</th>\n",
              "      <th>Gender</th>\n",
              "      <th>JobRole</th>\n",
              "      <th>MaritalStatus</th>\n",
              "      <th>MonthlyIncome</th>\n",
              "      <th>NumCompaniesWorked</th>\n",
              "      <th>PercentSalaryHike</th>\n",
              "      <th>StandardHours</th>\n",
              "      <th>StockOptionLevel</th>\n",
              "      <th>TotalWorkingYears</th>\n",
              "      <th>TrainingTimesLastYear</th>\n",
              "      <th>YearsAtCompany</th>\n",
              "      <th>YearsSinceLastPromotion</th>\n",
              "      <th>YearsWithCurrManager</th>\n",
              "      <th>Attrition</th>\n",
              "    </tr>\n",
              "  </thead>\n",
              "  <tbody>\n",
              "    <tr>\n",
              "      <th>2381</th>\n",
              "      <td>27</td>\n",
              "      <td>Travel_Rarely</td>\n",
              "      <td>Sales</td>\n",
              "      <td>10</td>\n",
              "      <td>4</td>\n",
              "      <td>Life Sciences</td>\n",
              "      <td>Male</td>\n",
              "      <td>Sales Executive</td>\n",
              "      <td>Married</td>\n",
              "      <td>194190</td>\n",
              "      <td>7.0</td>\n",
              "      <td>14</td>\n",
              "      <td>8</td>\n",
              "      <td>1</td>\n",
              "      <td>5.0</td>\n",
              "      <td>2</td>\n",
              "      <td>3</td>\n",
              "      <td>0</td>\n",
              "      <td>2</td>\n",
              "      <td>0</td>\n",
              "    </tr>\n",
              "    <tr>\n",
              "      <th>2465</th>\n",
              "      <td>33</td>\n",
              "      <td>Non-Travel</td>\n",
              "      <td>Research &amp; Development</td>\n",
              "      <td>2</td>\n",
              "      <td>4</td>\n",
              "      <td>Medical</td>\n",
              "      <td>Male</td>\n",
              "      <td>Sales Representative</td>\n",
              "      <td>Single</td>\n",
              "      <td>25960</td>\n",
              "      <td>8.0</td>\n",
              "      <td>14</td>\n",
              "      <td>8</td>\n",
              "      <td>1</td>\n",
              "      <td>13.0</td>\n",
              "      <td>4</td>\n",
              "      <td>11</td>\n",
              "      <td>1</td>\n",
              "      <td>7</td>\n",
              "      <td>0</td>\n",
              "    </tr>\n",
              "    <tr>\n",
              "      <th>474</th>\n",
              "      <td>30</td>\n",
              "      <td>Travel_Frequently</td>\n",
              "      <td>Research &amp; Development</td>\n",
              "      <td>8</td>\n",
              "      <td>4</td>\n",
              "      <td>Medical</td>\n",
              "      <td>Male</td>\n",
              "      <td>Sales Executive</td>\n",
              "      <td>Single</td>\n",
              "      <td>191440</td>\n",
              "      <td>0.0</td>\n",
              "      <td>11</td>\n",
              "      <td>8</td>\n",
              "      <td>0</td>\n",
              "      <td>4.0</td>\n",
              "      <td>3</td>\n",
              "      <td>3</td>\n",
              "      <td>1</td>\n",
              "      <td>2</td>\n",
              "      <td>1</td>\n",
              "    </tr>\n",
              "    <tr>\n",
              "      <th>115</th>\n",
              "      <td>27</td>\n",
              "      <td>Travel_Rarely</td>\n",
              "      <td>Sales</td>\n",
              "      <td>2</td>\n",
              "      <td>3</td>\n",
              "      <td>Life Sciences</td>\n",
              "      <td>Male</td>\n",
              "      <td>Sales Executive</td>\n",
              "      <td>Divorced</td>\n",
              "      <td>23670</td>\n",
              "      <td>NaN</td>\n",
              "      <td>12</td>\n",
              "      <td>8</td>\n",
              "      <td>1</td>\n",
              "      <td>5.0</td>\n",
              "      <td>2</td>\n",
              "      <td>5</td>\n",
              "      <td>0</td>\n",
              "      <td>4</td>\n",
              "      <td>0</td>\n",
              "    </tr>\n",
              "    <tr>\n",
              "      <th>1590</th>\n",
              "      <td>34</td>\n",
              "      <td>Non-Travel</td>\n",
              "      <td>Research &amp; Development</td>\n",
              "      <td>7</td>\n",
              "      <td>3</td>\n",
              "      <td>Life Sciences</td>\n",
              "      <td>Male</td>\n",
              "      <td>Sales Representative</td>\n",
              "      <td>Single</td>\n",
              "      <td>56170</td>\n",
              "      <td>8.0</td>\n",
              "      <td>25</td>\n",
              "      <td>8</td>\n",
              "      <td>1</td>\n",
              "      <td>9.0</td>\n",
              "      <td>3</td>\n",
              "      <td>5</td>\n",
              "      <td>0</td>\n",
              "      <td>4</td>\n",
              "      <td>1</td>\n",
              "    </tr>\n",
              "    <tr>\n",
              "      <th>2197</th>\n",
              "      <td>31</td>\n",
              "      <td>Travel_Rarely</td>\n",
              "      <td>Research &amp; Development</td>\n",
              "      <td>15</td>\n",
              "      <td>2</td>\n",
              "      <td>Life Sciences</td>\n",
              "      <td>Male</td>\n",
              "      <td>Sales Executive</td>\n",
              "      <td>Married</td>\n",
              "      <td>49600</td>\n",
              "      <td>1.0</td>\n",
              "      <td>15</td>\n",
              "      <td>8</td>\n",
              "      <td>0</td>\n",
              "      <td>10.0</td>\n",
              "      <td>3</td>\n",
              "      <td>10</td>\n",
              "      <td>6</td>\n",
              "      <td>7</td>\n",
              "      <td>1</td>\n",
              "    </tr>\n",
              "    <tr>\n",
              "      <th>2803</th>\n",
              "      <td>33</td>\n",
              "      <td>Non-Travel</td>\n",
              "      <td>Sales</td>\n",
              "      <td>7</td>\n",
              "      <td>3</td>\n",
              "      <td>Life Sciences</td>\n",
              "      <td>Male</td>\n",
              "      <td>Sales Executive</td>\n",
              "      <td>Married</td>\n",
              "      <td>112450</td>\n",
              "      <td>0.0</td>\n",
              "      <td>21</td>\n",
              "      <td>8</td>\n",
              "      <td>0</td>\n",
              "      <td>8.0</td>\n",
              "      <td>3</td>\n",
              "      <td>7</td>\n",
              "      <td>0</td>\n",
              "      <td>7</td>\n",
              "      <td>0</td>\n",
              "    </tr>\n",
              "    <tr>\n",
              "      <th>806</th>\n",
              "      <td>30</td>\n",
              "      <td>Travel_Rarely</td>\n",
              "      <td>Research &amp; Development</td>\n",
              "      <td>1</td>\n",
              "      <td>2</td>\n",
              "      <td>Life Sciences</td>\n",
              "      <td>Male</td>\n",
              "      <td>Sales Executive</td>\n",
              "      <td>Divorced</td>\n",
              "      <td>102210</td>\n",
              "      <td>0.0</td>\n",
              "      <td>19</td>\n",
              "      <td>8</td>\n",
              "      <td>1</td>\n",
              "      <td>6.0</td>\n",
              "      <td>2</td>\n",
              "      <td>5</td>\n",
              "      <td>1</td>\n",
              "      <td>3</td>\n",
              "      <td>0</td>\n",
              "    </tr>\n",
              "    <tr>\n",
              "      <th>1429</th>\n",
              "      <td>29</td>\n",
              "      <td>Travel_Rarely</td>\n",
              "      <td>Research &amp; Development</td>\n",
              "      <td>2</td>\n",
              "      <td>3</td>\n",
              "      <td>Life Sciences</td>\n",
              "      <td>Male</td>\n",
              "      <td>Sales Executive</td>\n",
              "      <td>Single</td>\n",
              "      <td>49780</td>\n",
              "      <td>0.0</td>\n",
              "      <td>13</td>\n",
              "      <td>8</td>\n",
              "      <td>0</td>\n",
              "      <td>7.0</td>\n",
              "      <td>3</td>\n",
              "      <td>6</td>\n",
              "      <td>1</td>\n",
              "      <td>5</td>\n",
              "      <td>1</td>\n",
              "    </tr>\n",
              "    <tr>\n",
              "      <th>995</th>\n",
              "      <td>33</td>\n",
              "      <td>Non-Travel</td>\n",
              "      <td>Research &amp; Development</td>\n",
              "      <td>2</td>\n",
              "      <td>4</td>\n",
              "      <td>Medical</td>\n",
              "      <td>Male</td>\n",
              "      <td>Sales Representative</td>\n",
              "      <td>Single</td>\n",
              "      <td>25960</td>\n",
              "      <td>8.0</td>\n",
              "      <td>14</td>\n",
              "      <td>8</td>\n",
              "      <td>1</td>\n",
              "      <td>13.0</td>\n",
              "      <td>4</td>\n",
              "      <td>11</td>\n",
              "      <td>1</td>\n",
              "      <td>7</td>\n",
              "      <td>0</td>\n",
              "    </tr>\n",
              "    <tr>\n",
              "      <th>616</th>\n",
              "      <td>30</td>\n",
              "      <td>Travel_Rarely</td>\n",
              "      <td>Sales</td>\n",
              "      <td>29</td>\n",
              "      <td>3</td>\n",
              "      <td>Marketing</td>\n",
              "      <td>Male</td>\n",
              "      <td>Sales Executive</td>\n",
              "      <td>Divorced</td>\n",
              "      <td>25460</td>\n",
              "      <td>1.0</td>\n",
              "      <td>14</td>\n",
              "      <td>8</td>\n",
              "      <td>1</td>\n",
              "      <td>10.0</td>\n",
              "      <td>2</td>\n",
              "      <td>10</td>\n",
              "      <td>8</td>\n",
              "      <td>9</td>\n",
              "      <td>0</td>\n",
              "    </tr>\n",
              "    <tr>\n",
              "      <th>3092</th>\n",
              "      <td>30</td>\n",
              "      <td>Travel_Rarely</td>\n",
              "      <td>Sales</td>\n",
              "      <td>25</td>\n",
              "      <td>3</td>\n",
              "      <td>Marketing</td>\n",
              "      <td>Male</td>\n",
              "      <td>Sales Executive</td>\n",
              "      <td>Single</td>\n",
              "      <td>24060</td>\n",
              "      <td>2.0</td>\n",
              "      <td>20</td>\n",
              "      <td>8</td>\n",
              "      <td>1</td>\n",
              "      <td>11.0</td>\n",
              "      <td>5</td>\n",
              "      <td>5</td>\n",
              "      <td>0</td>\n",
              "      <td>2</td>\n",
              "      <td>0</td>\n",
              "    </tr>\n",
              "    <tr>\n",
              "      <th>2239</th>\n",
              "      <td>34</td>\n",
              "      <td>Travel_Rarely</td>\n",
              "      <td>Research &amp; Development</td>\n",
              "      <td>9</td>\n",
              "      <td>2</td>\n",
              "      <td>Medical</td>\n",
              "      <td>Male</td>\n",
              "      <td>Sales Executive</td>\n",
              "      <td>Married</td>\n",
              "      <td>32800</td>\n",
              "      <td>5.0</td>\n",
              "      <td>13</td>\n",
              "      <td>8</td>\n",
              "      <td>0</td>\n",
              "      <td>7.0</td>\n",
              "      <td>3</td>\n",
              "      <td>5</td>\n",
              "      <td>0</td>\n",
              "      <td>2</td>\n",
              "      <td>0</td>\n",
              "    </tr>\n",
              "    <tr>\n",
              "      <th>179</th>\n",
              "      <td>30</td>\n",
              "      <td>Travel_Rarely</td>\n",
              "      <td>Research &amp; Development</td>\n",
              "      <td>2</td>\n",
              "      <td>3</td>\n",
              "      <td>Life Sciences</td>\n",
              "      <td>Male</td>\n",
              "      <td>Sales Executive</td>\n",
              "      <td>Single</td>\n",
              "      <td>48500</td>\n",
              "      <td>0.0</td>\n",
              "      <td>12</td>\n",
              "      <td>8</td>\n",
              "      <td>1</td>\n",
              "      <td>4.0</td>\n",
              "      <td>4</td>\n",
              "      <td>3</td>\n",
              "      <td>1</td>\n",
              "      <td>2</td>\n",
              "      <td>0</td>\n",
              "    </tr>\n",
              "    <tr>\n",
              "      <th>3213</th>\n",
              "      <td>32</td>\n",
              "      <td>Travel_Rarely</td>\n",
              "      <td>Sales</td>\n",
              "      <td>1</td>\n",
              "      <td>3</td>\n",
              "      <td>Medical</td>\n",
              "      <td>Male</td>\n",
              "      <td>Sales Executive</td>\n",
              "      <td>Single</td>\n",
              "      <td>136640</td>\n",
              "      <td>3.0</td>\n",
              "      <td>14</td>\n",
              "      <td>8</td>\n",
              "      <td>0</td>\n",
              "      <td>10.0</td>\n",
              "      <td>6</td>\n",
              "      <td>7</td>\n",
              "      <td>7</td>\n",
              "      <td>7</td>\n",
              "      <td>0</td>\n",
              "    </tr>\n",
              "    <tr>\n",
              "      <th>1107</th>\n",
              "      <td>29</td>\n",
              "      <td>Travel_Frequently</td>\n",
              "      <td>Human Resources</td>\n",
              "      <td>2</td>\n",
              "      <td>4</td>\n",
              "      <td>Human Resources</td>\n",
              "      <td>Male</td>\n",
              "      <td>Sales Executive</td>\n",
              "      <td>Single</td>\n",
              "      <td>28750</td>\n",
              "      <td>1.0</td>\n",
              "      <td>11</td>\n",
              "      <td>8</td>\n",
              "      <td>0</td>\n",
              "      <td>1.0</td>\n",
              "      <td>3</td>\n",
              "      <td>1</td>\n",
              "      <td>0</td>\n",
              "      <td>0</td>\n",
              "      <td>1</td>\n",
              "    </tr>\n",
              "    <tr>\n",
              "      <th>1476</th>\n",
              "      <td>28</td>\n",
              "      <td>Travel_Rarely</td>\n",
              "      <td>Research &amp; Development</td>\n",
              "      <td>11</td>\n",
              "      <td>2</td>\n",
              "      <td>Medical</td>\n",
              "      <td>Male</td>\n",
              "      <td>Sales Executive</td>\n",
              "      <td>Single</td>\n",
              "      <td>58130</td>\n",
              "      <td>2.0</td>\n",
              "      <td>20</td>\n",
              "      <td>8</td>\n",
              "      <td>1</td>\n",
              "      <td>5.0</td>\n",
              "      <td>2</td>\n",
              "      <td>0</td>\n",
              "      <td>0</td>\n",
              "      <td>0</td>\n",
              "      <td>1</td>\n",
              "    </tr>\n",
              "    <tr>\n",
              "      <th>2671</th>\n",
              "      <td>29</td>\n",
              "      <td>Travel_Rarely</td>\n",
              "      <td>Research &amp; Development</td>\n",
              "      <td>1</td>\n",
              "      <td>3</td>\n",
              "      <td>Medical</td>\n",
              "      <td>Male</td>\n",
              "      <td>Sales Executive</td>\n",
              "      <td>Married</td>\n",
              "      <td>42840</td>\n",
              "      <td>4.0</td>\n",
              "      <td>11</td>\n",
              "      <td>8</td>\n",
              "      <td>0</td>\n",
              "      <td>10.0</td>\n",
              "      <td>5</td>\n",
              "      <td>4</td>\n",
              "      <td>0</td>\n",
              "      <td>3</td>\n",
              "      <td>0</td>\n",
              "    </tr>\n",
              "    <tr>\n",
              "      <th>2958</th>\n",
              "      <td>35</td>\n",
              "      <td>Travel_Rarely</td>\n",
              "      <td>Sales</td>\n",
              "      <td>7</td>\n",
              "      <td>4</td>\n",
              "      <td>Life Sciences</td>\n",
              "      <td>Male</td>\n",
              "      <td>Sales Representative</td>\n",
              "      <td>Divorced</td>\n",
              "      <td>24380</td>\n",
              "      <td>7.0</td>\n",
              "      <td>16</td>\n",
              "      <td>8</td>\n",
              "      <td>0</td>\n",
              "      <td>10.0</td>\n",
              "      <td>5</td>\n",
              "      <td>7</td>\n",
              "      <td>6</td>\n",
              "      <td>2</td>\n",
              "      <td>0</td>\n",
              "    </tr>\n",
              "    <tr>\n",
              "      <th>1202</th>\n",
              "      <td>29</td>\n",
              "      <td>Travel_Rarely</td>\n",
              "      <td>Research &amp; Development</td>\n",
              "      <td>5</td>\n",
              "      <td>3</td>\n",
              "      <td>Medical</td>\n",
              "      <td>Male</td>\n",
              "      <td>Sales Representative</td>\n",
              "      <td>Single</td>\n",
              "      <td>75530</td>\n",
              "      <td>1.0</td>\n",
              "      <td>19</td>\n",
              "      <td>8</td>\n",
              "      <td>0</td>\n",
              "      <td>5.0</td>\n",
              "      <td>3</td>\n",
              "      <td>5</td>\n",
              "      <td>0</td>\n",
              "      <td>4</td>\n",
              "      <td>0</td>\n",
              "    </tr>\n",
              "  </tbody>\n",
              "</table>\n",
              "</div>"
            ],
            "text/plain": [
              "      Age     BusinessTravel  ... YearsWithCurrManager  Attrition\n",
              "2381   27      Travel_Rarely  ...                    2          0\n",
              "2465   33         Non-Travel  ...                    7          0\n",
              "474    30  Travel_Frequently  ...                    2          1\n",
              "115    27      Travel_Rarely  ...                    4          0\n",
              "1590   34         Non-Travel  ...                    4          1\n",
              "2197   31      Travel_Rarely  ...                    7          1\n",
              "2803   33         Non-Travel  ...                    7          0\n",
              "806    30      Travel_Rarely  ...                    3          0\n",
              "1429   29      Travel_Rarely  ...                    5          1\n",
              "995    33         Non-Travel  ...                    7          0\n",
              "616    30      Travel_Rarely  ...                    9          0\n",
              "3092   30      Travel_Rarely  ...                    2          0\n",
              "2239   34      Travel_Rarely  ...                    2          0\n",
              "179    30      Travel_Rarely  ...                    2          0\n",
              "3213   32      Travel_Rarely  ...                    7          0\n",
              "1107   29  Travel_Frequently  ...                    0          1\n",
              "1476   28      Travel_Rarely  ...                    0          1\n",
              "2671   29      Travel_Rarely  ...                    3          0\n",
              "2958   35      Travel_Rarely  ...                    2          0\n",
              "1202   29      Travel_Rarely  ...                    4          0\n",
              "\n",
              "[20 rows x 20 columns]"
            ]
          },
          "metadata": {
            "tags": []
          },
          "execution_count": 428
        }
      ]
    },
    {
      "cell_type": "markdown",
      "metadata": {
        "id": "7GUHTGCifkpc"
      },
      "source": [
        "**Шаг 1.3. Посмотрим общую статистику по данным**\n",
        "\n",
        "Посмотрим на технические параметры загруженных данных для обучения. Для этого вызовем метод **`describe()`** для набора данных *`training_data`*\n",
        "\n",
        "Для удобства отображения мы транспонируем результат: меняем местами столбцы и строки."
      ]
    },
    {
      "cell_type": "code",
      "metadata": {
        "scrolled": true,
        "id": "QGUwuilbfkpd"
      },
      "source": [
        "training_data.describe().T"
      ],
      "execution_count": null,
      "outputs": []
    },
    {
      "cell_type": "markdown",
      "metadata": {
        "id": "TbMHhrB6fkph"
      },
      "source": [
        "Обратим внимание на общие статистики показателей в данных:\n",
        "* **count** -- количество значений, которые не являются пропущенными (`NaN`);\n",
        "* **mean**, **std** -- среднее и разброс данных в соответствующем поле;\n",
        "* остальные статистики -- минимальное и максимальное значения, и квантили."
      ]
    },
    {
      "cell_type": "markdown",
      "metadata": {
        "id": "sdURPuwafkph"
      },
      "source": [
        "Из таких характеристик столбцов мы уже можем извлечь некоторую информацию о данных:\n",
        "* У столбца **Attrition** среднее 0.160. Значит, в нашей выборке только 16% сотрудников ушли из компании.\n",
        "* У столбца **MonthlyIncome** существенно отличается масштаб значений: минимальное значение дохода - 10090, максимальное - 199990.\n",
        "* У столбцов **NumCompaniesWorked** и **TotalWorkingYears** есть пропуски."
      ]
    },
    {
      "cell_type": "markdown",
      "metadata": {
        "id": "h8EEwRAYfkpi"
      },
      "source": [
        "## 2. Обработать данные перед обучением модели"
      ]
    },
    {
      "cell_type": "markdown",
      "metadata": {
        "id": "-J1tB8wIfkpj"
      },
      "source": [
        "**Шаг 2.1. Проверяем данные на наличие пропусков и типов переменных**\n",
        "\n",
        "Начнем с проверки общей информации о данных.\n",
        "Для того чтобы это сделать, нужно обратиться вызвать у переменной *training_data* метод **info()**.\n",
        "\n",
        "Напомним, что в конце необходимо поставить скобочки."
      ]
    },
    {
      "cell_type": "code",
      "metadata": {
        "id": "AF7d9q9_fkpj",
        "colab": {
          "base_uri": "https://localhost:8080/"
        },
        "outputId": "2816bc88-b1f9-48a9-8196-45ae9dca8276"
      },
      "source": [
        "training_data.info()"
      ],
      "execution_count": null,
      "outputs": [
        {
          "output_type": "stream",
          "text": [
            "<class 'pandas.core.frame.DataFrame'>\n",
            "RangeIndex: 3308 entries, 0 to 3307\n",
            "Data columns (total 20 columns):\n",
            " #   Column                   Non-Null Count  Dtype  \n",
            "---  ------                   --------------  -----  \n",
            " 0   Age                      3308 non-null   int64  \n",
            " 1   BusinessTravel           3308 non-null   object \n",
            " 2   Department               3308 non-null   object \n",
            " 3   DistanceFromHome         3308 non-null   int64  \n",
            " 4   Education                3308 non-null   int64  \n",
            " 5   EducationField           3308 non-null   object \n",
            " 6   Gender                   3308 non-null   object \n",
            " 7   JobRole                  3308 non-null   object \n",
            " 8   MaritalStatus            3308 non-null   object \n",
            " 9   MonthlyIncome            3308 non-null   int64  \n",
            " 10  NumCompaniesWorked       3293 non-null   float64\n",
            " 11  PercentSalaryHike        3308 non-null   int64  \n",
            " 12  StandardHours            3308 non-null   int64  \n",
            " 13  StockOptionLevel         3308 non-null   int64  \n",
            " 14  TotalWorkingYears        3301 non-null   float64\n",
            " 15  TrainingTimesLastYear    3308 non-null   int64  \n",
            " 16  YearsAtCompany           3308 non-null   int64  \n",
            " 17  YearsSinceLastPromotion  3308 non-null   int64  \n",
            " 18  YearsWithCurrManager     3308 non-null   int64  \n",
            " 19  Attrition                3308 non-null   int64  \n",
            "dtypes: float64(2), int64(12), object(6)\n",
            "memory usage: 517.0+ KB\n"
          ],
          "name": "stdout"
        }
      ]
    },
    {
      "cell_type": "markdown",
      "metadata": {
        "id": "qiaPNczsfkpm"
      },
      "source": [
        "Как мы уже видели, пропусков в данных не так много: только у столбцов  **NumCompaniesWorked** и **TotalWorkingYears**. "
      ]
    },
    {
      "cell_type": "markdown",
      "metadata": {
        "id": "MpMfawl1fkpo"
      },
      "source": [
        "**Шаг 2.2. Заполнение пропусков**\n",
        "\n",
        "Рассчитаем средние значения признаков в обучающей выборке, и заполним полученными\n",
        "числами пропуски как в **тестовом наборе** данных, так и в **самой обучающей выборке**.\n",
        "\n",
        "Мы будем заполнять средними значениями из обучающей выборки, так как при решении реальной задачи нам будут доступны только данные для обучения.\n",
        "\n",
        "Для получения средних значений вызовем метод **`mean()`**. По умолчанию метод считает средним значения по столбцам. После выполнения ячейки средние значения записаны в переменной *`train_mean`*\n",
        "\n"
      ]
    },
    {
      "cell_type": "code",
      "metadata": {
        "id": "3yBF5eaVDZSC",
        "colab": {
          "base_uri": "https://localhost:8080/",
          "height": 458
        },
        "outputId": "ceb45bef-1452-43f2-bde0-c703c795fa8c"
      },
      "source": [
        "training_data.describe().T"
      ],
      "execution_count": null,
      "outputs": [
        {
          "output_type": "execute_result",
          "data": {
            "text/html": [
              "<div>\n",
              "<style scoped>\n",
              "    .dataframe tbody tr th:only-of-type {\n",
              "        vertical-align: middle;\n",
              "    }\n",
              "\n",
              "    .dataframe tbody tr th {\n",
              "        vertical-align: top;\n",
              "    }\n",
              "\n",
              "    .dataframe thead th {\n",
              "        text-align: right;\n",
              "    }\n",
              "</style>\n",
              "<table border=\"1\" class=\"dataframe\">\n",
              "  <thead>\n",
              "    <tr style=\"text-align: right;\">\n",
              "      <th></th>\n",
              "      <th>count</th>\n",
              "      <th>mean</th>\n",
              "      <th>std</th>\n",
              "      <th>min</th>\n",
              "      <th>25%</th>\n",
              "      <th>50%</th>\n",
              "      <th>75%</th>\n",
              "      <th>max</th>\n",
              "    </tr>\n",
              "  </thead>\n",
              "  <tbody>\n",
              "    <tr>\n",
              "      <th>Age</th>\n",
              "      <td>3308.0</td>\n",
              "      <td>36.879383</td>\n",
              "      <td>9.146506</td>\n",
              "      <td>18.0</td>\n",
              "      <td>30.0</td>\n",
              "      <td>36.0</td>\n",
              "      <td>43.0</td>\n",
              "      <td>60.0</td>\n",
              "    </tr>\n",
              "    <tr>\n",
              "      <th>DistanceFromHome</th>\n",
              "      <td>3308.0</td>\n",
              "      <td>9.201935</td>\n",
              "      <td>8.078147</td>\n",
              "      <td>1.0</td>\n",
              "      <td>2.0</td>\n",
              "      <td>7.0</td>\n",
              "      <td>14.0</td>\n",
              "      <td>29.0</td>\n",
              "    </tr>\n",
              "    <tr>\n",
              "      <th>Education</th>\n",
              "      <td>3308.0</td>\n",
              "      <td>2.918380</td>\n",
              "      <td>1.024933</td>\n",
              "      <td>1.0</td>\n",
              "      <td>2.0</td>\n",
              "      <td>3.0</td>\n",
              "      <td>4.0</td>\n",
              "      <td>5.0</td>\n",
              "    </tr>\n",
              "    <tr>\n",
              "      <th>MonthlyIncome</th>\n",
              "      <td>3308.0</td>\n",
              "      <td>64594.903265</td>\n",
              "      <td>46744.260986</td>\n",
              "      <td>10090.0</td>\n",
              "      <td>29040.0</td>\n",
              "      <td>49070.0</td>\n",
              "      <td>83210.0</td>\n",
              "      <td>199990.0</td>\n",
              "    </tr>\n",
              "    <tr>\n",
              "      <th>NumCompaniesWorked</th>\n",
              "      <td>3293.0</td>\n",
              "      <td>2.703310</td>\n",
              "      <td>2.506197</td>\n",
              "      <td>0.0</td>\n",
              "      <td>1.0</td>\n",
              "      <td>2.0</td>\n",
              "      <td>4.0</td>\n",
              "      <td>9.0</td>\n",
              "    </tr>\n",
              "    <tr>\n",
              "      <th>PercentSalaryHike</th>\n",
              "      <td>3308.0</td>\n",
              "      <td>15.230048</td>\n",
              "      <td>3.672812</td>\n",
              "      <td>11.0</td>\n",
              "      <td>12.0</td>\n",
              "      <td>14.0</td>\n",
              "      <td>18.0</td>\n",
              "      <td>25.0</td>\n",
              "    </tr>\n",
              "    <tr>\n",
              "      <th>StandardHours</th>\n",
              "      <td>3308.0</td>\n",
              "      <td>8.000000</td>\n",
              "      <td>0.000000</td>\n",
              "      <td>8.0</td>\n",
              "      <td>8.0</td>\n",
              "      <td>8.0</td>\n",
              "      <td>8.0</td>\n",
              "      <td>8.0</td>\n",
              "    </tr>\n",
              "    <tr>\n",
              "      <th>StockOptionLevel</th>\n",
              "      <td>3308.0</td>\n",
              "      <td>0.804716</td>\n",
              "      <td>0.860350</td>\n",
              "      <td>0.0</td>\n",
              "      <td>0.0</td>\n",
              "      <td>1.0</td>\n",
              "      <td>1.0</td>\n",
              "      <td>3.0</td>\n",
              "    </tr>\n",
              "    <tr>\n",
              "      <th>TotalWorkingYears</th>\n",
              "      <td>3301.0</td>\n",
              "      <td>11.283248</td>\n",
              "      <td>7.791024</td>\n",
              "      <td>0.0</td>\n",
              "      <td>6.0</td>\n",
              "      <td>10.0</td>\n",
              "      <td>15.0</td>\n",
              "      <td>40.0</td>\n",
              "    </tr>\n",
              "    <tr>\n",
              "      <th>TrainingTimesLastYear</th>\n",
              "      <td>3308.0</td>\n",
              "      <td>2.801995</td>\n",
              "      <td>1.290718</td>\n",
              "      <td>0.0</td>\n",
              "      <td>2.0</td>\n",
              "      <td>3.0</td>\n",
              "      <td>3.0</td>\n",
              "      <td>6.0</td>\n",
              "    </tr>\n",
              "    <tr>\n",
              "      <th>YearsAtCompany</th>\n",
              "      <td>3308.0</td>\n",
              "      <td>6.998791</td>\n",
              "      <td>6.135502</td>\n",
              "      <td>0.0</td>\n",
              "      <td>3.0</td>\n",
              "      <td>5.0</td>\n",
              "      <td>9.0</td>\n",
              "      <td>40.0</td>\n",
              "    </tr>\n",
              "    <tr>\n",
              "      <th>YearsSinceLastPromotion</th>\n",
              "      <td>3308.0</td>\n",
              "      <td>2.187122</td>\n",
              "      <td>3.217035</td>\n",
              "      <td>0.0</td>\n",
              "      <td>0.0</td>\n",
              "      <td>1.0</td>\n",
              "      <td>3.0</td>\n",
              "      <td>15.0</td>\n",
              "    </tr>\n",
              "    <tr>\n",
              "      <th>YearsWithCurrManager</th>\n",
              "      <td>3308.0</td>\n",
              "      <td>4.118501</td>\n",
              "      <td>3.560423</td>\n",
              "      <td>0.0</td>\n",
              "      <td>2.0</td>\n",
              "      <td>3.0</td>\n",
              "      <td>7.0</td>\n",
              "      <td>17.0</td>\n",
              "    </tr>\n",
              "    <tr>\n",
              "      <th>Attrition</th>\n",
              "      <td>3308.0</td>\n",
              "      <td>0.160218</td>\n",
              "      <td>0.366863</td>\n",
              "      <td>0.0</td>\n",
              "      <td>0.0</td>\n",
              "      <td>0.0</td>\n",
              "      <td>0.0</td>\n",
              "      <td>1.0</td>\n",
              "    </tr>\n",
              "  </tbody>\n",
              "</table>\n",
              "</div>"
            ],
            "text/plain": [
              "                          count          mean  ...      75%       max\n",
              "Age                      3308.0     36.879383  ...     43.0      60.0\n",
              "DistanceFromHome         3308.0      9.201935  ...     14.0      29.0\n",
              "Education                3308.0      2.918380  ...      4.0       5.0\n",
              "MonthlyIncome            3308.0  64594.903265  ...  83210.0  199990.0\n",
              "NumCompaniesWorked       3293.0      2.703310  ...      4.0       9.0\n",
              "PercentSalaryHike        3308.0     15.230048  ...     18.0      25.0\n",
              "StandardHours            3308.0      8.000000  ...      8.0       8.0\n",
              "StockOptionLevel         3308.0      0.804716  ...      1.0       3.0\n",
              "TotalWorkingYears        3301.0     11.283248  ...     15.0      40.0\n",
              "TrainingTimesLastYear    3308.0      2.801995  ...      3.0       6.0\n",
              "YearsAtCompany           3308.0      6.998791  ...      9.0      40.0\n",
              "YearsSinceLastPromotion  3308.0      2.187122  ...      3.0      15.0\n",
              "YearsWithCurrManager     3308.0      4.118501  ...      7.0      17.0\n",
              "Attrition                3308.0      0.160218  ...      0.0       1.0\n",
              "\n",
              "[14 rows x 8 columns]"
            ]
          },
          "metadata": {
            "tags": []
          },
          "execution_count": 54
        }
      ]
    },
    {
      "cell_type": "code",
      "metadata": {
        "id": "Qk6_zy1ffkpo",
        "colab": {
          "base_uri": "https://localhost:8080/"
        },
        "outputId": "8b7553c5-e5bc-4ca9-a55f-ee94576d04f2"
      },
      "source": [
        "train_mean = training_data.mean()\n",
        "train_mean"
      ],
      "execution_count": null,
      "outputs": [
        {
          "output_type": "execute_result",
          "data": {
            "text/plain": [
              "Age                           36.879383\n",
              "DistanceFromHome               9.201935\n",
              "Education                      2.918380\n",
              "MonthlyIncome              64594.903265\n",
              "NumCompaniesWorked             2.703310\n",
              "PercentSalaryHike             15.230048\n",
              "StandardHours                  8.000000\n",
              "StockOptionLevel               0.804716\n",
              "TotalWorkingYears             11.283248\n",
              "TrainingTimesLastYear          2.801995\n",
              "YearsAtCompany                 6.998791\n",
              "YearsSinceLastPromotion        2.187122\n",
              "YearsWithCurrManager           4.118501\n",
              "Attrition                      0.160218\n",
              "dtype: float64"
            ]
          },
          "metadata": {
            "tags": []
          },
          "execution_count": 55
        }
      ]
    },
    {
      "cell_type": "markdown",
      "metadata": {
        "id": "L8-US770w7IC"
      },
      "source": [
        "**Упражнение3:** Найдите среднее значение переменной \"Кол-во компаний, в которых работал сотрудник\"(NumCompaniesWorked) среди тех сотрудников, у которых месячный доход (MonthlyIncome) находится между 80000 и 120000"
      ]
    },
    {
      "cell_type": "code",
      "metadata": {
        "colab": {
          "base_uri": "https://localhost:8080/"
        },
        "id": "lF4VU5cIEcqJ",
        "outputId": "5557e808-40c9-4520-df55-401a44e59837"
      },
      "source": [
        "training_data.loc[(training_data['MonthlyIncome'] >= 80000) & (training_data['MonthlyIncome'] <= 120000),'NumCompaniesWorked'].mean()"
      ],
      "execution_count": null,
      "outputs": [
        {
          "output_type": "execute_result",
          "data": {
            "text/plain": [
              "2.1947115384615383"
            ]
          },
          "metadata": {
            "tags": []
          },
          "execution_count": 58
        }
      ]
    },
    {
      "cell_type": "code",
      "metadata": {
        "id": "3vLdNYmqJar7",
        "colab": {
          "base_uri": "https://localhost:8080/"
        },
        "outputId": "397418b9-9e9f-4ab0-cb39-6ce949f1700d"
      },
      "source": [
        "training_data[training_data['MonthlyIncome'].isin(range(80000,120000))].NumCompaniesWorked.mean()"
      ],
      "execution_count": null,
      "outputs": [
        {
          "output_type": "execute_result",
          "data": {
            "text/plain": [
              "2.1947115384615383"
            ]
          },
          "metadata": {
            "tags": []
          },
          "execution_count": 57
        }
      ]
    },
    {
      "cell_type": "markdown",
      "metadata": {
        "id": "WKl_GvqYfkpr"
      },
      "source": [
        "Пропуски в данных можно заполнять и разными методами:\n",
        "* выборочной статистикой (среднее, медиана);\n",
        "* прогнозами регрессии по известным признакам;\n",
        "* случайными значениями.\n",
        "\n",
        "Если относительно небольшая доля наблюдению имеет пропуски, то можно\n",
        "вовсе исключить неполные наблюдения с пропущенными значениями из выборки.\n",
        "\n",
        "Для заполнения средним значением, передадим на вход методу **`fillna()`** полученный ранее набор средних значений для каждого столбца. Опция `inplace=True` говорит, что мы запишем изменения прямо в существующий массив, а не создадим новый."
      ]
    },
    {
      "cell_type": "code",
      "metadata": {
        "id": "2wXGqQ3Tfkpr"
      },
      "source": [
        "training_data.fillna(train_mean, inplace=True)"
      ],
      "execution_count": null,
      "outputs": []
    },
    {
      "cell_type": "markdown",
      "metadata": {
        "id": "0YErevvOfkpt"
      },
      "source": [
        "Убедимся, что пропусков больше нет"
      ]
    },
    {
      "cell_type": "code",
      "metadata": {
        "id": "jgotMFeNfkpv",
        "colab": {
          "base_uri": "https://localhost:8080/"
        },
        "outputId": "04e1551c-7781-4461-aaf3-57635326ca07"
      },
      "source": [
        "training_data.info()"
      ],
      "execution_count": null,
      "outputs": [
        {
          "output_type": "stream",
          "text": [
            "<class 'pandas.core.frame.DataFrame'>\n",
            "RangeIndex: 3308 entries, 0 to 3307\n",
            "Data columns (total 20 columns):\n",
            " #   Column                   Non-Null Count  Dtype  \n",
            "---  ------                   --------------  -----  \n",
            " 0   Age                      3308 non-null   int64  \n",
            " 1   BusinessTravel           3308 non-null   object \n",
            " 2   Department               3308 non-null   object \n",
            " 3   DistanceFromHome         3308 non-null   int64  \n",
            " 4   Education                3308 non-null   int64  \n",
            " 5   EducationField           3308 non-null   object \n",
            " 6   Gender                   3308 non-null   object \n",
            " 7   JobRole                  3308 non-null   object \n",
            " 8   MaritalStatus            3308 non-null   object \n",
            " 9   MonthlyIncome            3308 non-null   int64  \n",
            " 10  NumCompaniesWorked       3308 non-null   float64\n",
            " 11  PercentSalaryHike        3308 non-null   int64  \n",
            " 12  StandardHours            3308 non-null   int64  \n",
            " 13  StockOptionLevel         3308 non-null   int64  \n",
            " 14  TotalWorkingYears        3308 non-null   float64\n",
            " 15  TrainingTimesLastYear    3308 non-null   int64  \n",
            " 16  YearsAtCompany           3308 non-null   int64  \n",
            " 17  YearsSinceLastPromotion  3308 non-null   int64  \n",
            " 18  YearsWithCurrManager     3308 non-null   int64  \n",
            " 19  Attrition                3308 non-null   int64  \n",
            "dtypes: float64(2), int64(12), object(6)\n",
            "memory usage: 517.0+ KB\n"
          ],
          "name": "stdout"
        }
      ]
    },
    {
      "cell_type": "markdown",
      "metadata": {
        "id": "4rxdUB8Rfkp0"
      },
      "source": [
        "**Шаг 2.3. Работаем с целевой переменной**\n",
        "\n",
        "*Какая переменная целевая?*\n",
        "\n",
        "В данном случае по условию задачи мы должны прогнозировать уход сотрудника, поэтому целевая переменная - это Attrition, факт ухода или не ухода сотрудника. "
      ]
    },
    {
      "cell_type": "markdown",
      "metadata": {
        "id": "_feUDAA1fkp1"
      },
      "source": [
        "Нам нужно выделить в отдельную переменную *training_values* столбец из нашей таблицы, который соответствует определенной выше целевой переменной. Для этого мы у таблицы *training_data* в квадратных скобках указываем имя нужного столбца. В нашем случае это имя записано в переменной *target_variable_name*. "
      ]
    },
    {
      "cell_type": "code",
      "metadata": {
        "id": "YQGmNPwCfkp2"
      },
      "source": [
        "target_variable_name = 'Attrition'"
      ],
      "execution_count": null,
      "outputs": []
    },
    {
      "cell_type": "code",
      "metadata": {
        "id": "AVqbJaXrfkp5"
      },
      "source": [
        "training_values = training_data[target_variable_name]"
      ],
      "execution_count": null,
      "outputs": []
    },
    {
      "cell_type": "markdown",
      "metadata": {
        "id": "hB44V7tmfkp7"
      },
      "source": [
        "Чтобы посчитать количество сотрудников, которые уволились (значение переменной **Attrition** равно единице) и сотрудников, которые остались (значение **Attrition** равно нулю) вызовем метод **`value_counts()`**"
      ]
    },
    {
      "cell_type": "code",
      "metadata": {
        "id": "48jPMfyrfkp7",
        "colab": {
          "base_uri": "https://localhost:8080/"
        },
        "outputId": "e5927dd9-b067-4c66-b929-b9b9d9908d85"
      },
      "source": [
        "training_values.value_counts()"
      ],
      "execution_count": null,
      "outputs": [
        {
          "output_type": "execute_result",
          "data": {
            "text/plain": [
              "0    2778\n",
              "1     530\n",
              "Name: Attrition, dtype: int64"
            ]
          },
          "metadata": {
            "tags": []
          },
          "execution_count": 63
        }
      ]
    },
    {
      "cell_type": "markdown",
      "metadata": {
        "id": "EnZXq2F1GW9O"
      },
      "source": [
        "***Упражнение4***:посчитайте количество значений в других столбцах датафрейма training_data с помощью метода value_counts()."
      ]
    },
    {
      "cell_type": "code",
      "metadata": {
        "id": "AchU6QfoSeMx"
      },
      "source": [
        "colz=training_data.columns[:-1]\n",
        "val_cou=[]\n",
        "for i in colz:\n",
        "  val_cou.append((i,training_data[i].value_counts()))"
      ],
      "execution_count": null,
      "outputs": []
    },
    {
      "cell_type": "code",
      "metadata": {
        "id": "NrabdDs_SddU",
        "colab": {
          "base_uri": "https://localhost:8080/"
        },
        "outputId": "05a9a585-bf78-4fde-a237-3554184be48c"
      },
      "source": [
        "val_cou[1]"
      ],
      "execution_count": null,
      "outputs": [
        {
          "output_type": "execute_result",
          "data": {
            "text/plain": [
              "('BusinessTravel', Travel_Rarely        2352\n",
              " Travel_Frequently     624\n",
              " Non-Travel            332\n",
              " Name: BusinessTravel, dtype: int64)"
            ]
          },
          "metadata": {
            "tags": []
          },
          "execution_count": 65
        }
      ]
    },
    {
      "cell_type": "markdown",
      "metadata": {
        "id": "c-PQEy-mfkp-"
      },
      "source": [
        "Отделим входные переменные от выходной (целевой), чтобы можно было построить модель предсказания целевой переменной по входным. Для это нужно у переменной *`training_data`* вызвать метод **`drop()`**."
      ]
    },
    {
      "cell_type": "code",
      "metadata": {
        "id": "Z7lMkoLyfkp_"
      },
      "source": [
        "training_points = training_data.drop(target_variable_name, axis=1)"
      ],
      "execution_count": null,
      "outputs": []
    },
    {
      "cell_type": "code",
      "metadata": {
        "id": "Tgt3CbZbfkqB",
        "colab": {
          "base_uri": "https://localhost:8080/"
        },
        "outputId": "5dd28285-8993-48f9-d1f3-549a01995b6a"
      },
      "source": [
        "training_points.shape"
      ],
      "execution_count": null,
      "outputs": [
        {
          "output_type": "execute_result",
          "data": {
            "text/plain": [
              "(3308, 19)"
            ]
          },
          "metadata": {
            "tags": []
          },
          "execution_count": 67
        }
      ]
    },
    {
      "cell_type": "markdown",
      "metadata": {
        "id": "7bDIqioIfkqG"
      },
      "source": [
        "Видно, что столбца действительно нет, а количество строк не изменилось. "
      ]
    },
    {
      "cell_type": "markdown",
      "metadata": {
        "id": "A22kexYWfkqI"
      },
      "source": [
        "## 3. Загрузить и предобработать данные для тестирования"
      ]
    },
    {
      "cell_type": "markdown",
      "metadata": {
        "id": "yBEqN7sVfkqI"
      },
      "source": [
        "**Шаг 3.1. Загрузим данные для тестирования**\n",
        "\n",
        "Наши данные в формате `csv` - comma separated values, значения, разделенные точкой. Обычно data scientists работают с табличными данными, которые представлены именно в таком виде. Чтобы загрузить такие данные, будем использовать функцию **`pd.read_csv()`** из библиотеки `pandas`."
      ]
    },
    {
      "cell_type": "code",
      "metadata": {
        "id": "FFKj49vvfkqJ",
        "colab": {
          "base_uri": "https://localhost:8080/",
          "height": 458
        },
        "outputId": "0c2acbff-9548-49c0-fdf8-e4f49015d6f2"
      },
      "source": [
        "test_data = pd.read_csv('test_data.csv')\n",
        "test_data.describe().T"
      ],
      "execution_count": null,
      "outputs": [
        {
          "output_type": "execute_result",
          "data": {
            "text/html": [
              "<div>\n",
              "<style scoped>\n",
              "    .dataframe tbody tr th:only-of-type {\n",
              "        vertical-align: middle;\n",
              "    }\n",
              "\n",
              "    .dataframe tbody tr th {\n",
              "        vertical-align: top;\n",
              "    }\n",
              "\n",
              "    .dataframe thead th {\n",
              "        text-align: right;\n",
              "    }\n",
              "</style>\n",
              "<table border=\"1\" class=\"dataframe\">\n",
              "  <thead>\n",
              "    <tr style=\"text-align: right;\">\n",
              "      <th></th>\n",
              "      <th>count</th>\n",
              "      <th>mean</th>\n",
              "      <th>std</th>\n",
              "      <th>min</th>\n",
              "      <th>25%</th>\n",
              "      <th>50%</th>\n",
              "      <th>75%</th>\n",
              "      <th>max</th>\n",
              "    </tr>\n",
              "  </thead>\n",
              "  <tbody>\n",
              "    <tr>\n",
              "      <th>Age</th>\n",
              "      <td>1102.0</td>\n",
              "      <td>37.057169</td>\n",
              "      <td>9.096386</td>\n",
              "      <td>18.0</td>\n",
              "      <td>30.0</td>\n",
              "      <td>36.0</td>\n",
              "      <td>43.0</td>\n",
              "      <td>60.0</td>\n",
              "    </tr>\n",
              "    <tr>\n",
              "      <th>DistanceFromHome</th>\n",
              "      <td>1102.0</td>\n",
              "      <td>9.164247</td>\n",
              "      <td>8.188807</td>\n",
              "      <td>1.0</td>\n",
              "      <td>2.0</td>\n",
              "      <td>7.0</td>\n",
              "      <td>14.0</td>\n",
              "      <td>29.0</td>\n",
              "    </tr>\n",
              "    <tr>\n",
              "      <th>Education</th>\n",
              "      <td>1102.0</td>\n",
              "      <td>2.896552</td>\n",
              "      <td>1.021213</td>\n",
              "      <td>1.0</td>\n",
              "      <td>2.0</td>\n",
              "      <td>3.0</td>\n",
              "      <td>4.0</td>\n",
              "      <td>5.0</td>\n",
              "    </tr>\n",
              "    <tr>\n",
              "      <th>MonthlyIncome</th>\n",
              "      <td>1102.0</td>\n",
              "      <td>66333.330309</td>\n",
              "      <td>48028.087236</td>\n",
              "      <td>10090.0</td>\n",
              "      <td>29730.0</td>\n",
              "      <td>49385.0</td>\n",
              "      <td>84712.5</td>\n",
              "      <td>199990.0</td>\n",
              "    </tr>\n",
              "    <tr>\n",
              "      <th>NumCompaniesWorked</th>\n",
              "      <td>1098.0</td>\n",
              "      <td>2.669399</td>\n",
              "      <td>2.477794</td>\n",
              "      <td>0.0</td>\n",
              "      <td>1.0</td>\n",
              "      <td>2.0</td>\n",
              "      <td>4.0</td>\n",
              "      <td>9.0</td>\n",
              "    </tr>\n",
              "    <tr>\n",
              "      <th>PercentSalaryHike</th>\n",
              "      <td>1102.0</td>\n",
              "      <td>15.147913</td>\n",
              "      <td>3.618613</td>\n",
              "      <td>11.0</td>\n",
              "      <td>12.0</td>\n",
              "      <td>14.0</td>\n",
              "      <td>18.0</td>\n",
              "      <td>25.0</td>\n",
              "    </tr>\n",
              "    <tr>\n",
              "      <th>StandardHours</th>\n",
              "      <td>1102.0</td>\n",
              "      <td>8.000000</td>\n",
              "      <td>0.000000</td>\n",
              "      <td>8.0</td>\n",
              "      <td>8.0</td>\n",
              "      <td>8.0</td>\n",
              "      <td>8.0</td>\n",
              "      <td>8.0</td>\n",
              "    </tr>\n",
              "    <tr>\n",
              "      <th>StockOptionLevel</th>\n",
              "      <td>1102.0</td>\n",
              "      <td>0.761343</td>\n",
              "      <td>0.825476</td>\n",
              "      <td>0.0</td>\n",
              "      <td>0.0</td>\n",
              "      <td>1.0</td>\n",
              "      <td>1.0</td>\n",
              "      <td>3.0</td>\n",
              "    </tr>\n",
              "    <tr>\n",
              "      <th>TotalWorkingYears</th>\n",
              "      <td>1100.0</td>\n",
              "      <td>11.270000</td>\n",
              "      <td>7.759277</td>\n",
              "      <td>0.0</td>\n",
              "      <td>6.0</td>\n",
              "      <td>10.0</td>\n",
              "      <td>15.0</td>\n",
              "      <td>40.0</td>\n",
              "    </tr>\n",
              "    <tr>\n",
              "      <th>TrainingTimesLastYear</th>\n",
              "      <td>1102.0</td>\n",
              "      <td>2.791289</td>\n",
              "      <td>1.284292</td>\n",
              "      <td>0.0</td>\n",
              "      <td>2.0</td>\n",
              "      <td>3.0</td>\n",
              "      <td>3.0</td>\n",
              "      <td>6.0</td>\n",
              "    </tr>\n",
              "    <tr>\n",
              "      <th>YearsAtCompany</th>\n",
              "      <td>1102.0</td>\n",
              "      <td>7.036298</td>\n",
              "      <td>6.096600</td>\n",
              "      <td>0.0</td>\n",
              "      <td>3.0</td>\n",
              "      <td>5.0</td>\n",
              "      <td>10.0</td>\n",
              "      <td>40.0</td>\n",
              "    </tr>\n",
              "    <tr>\n",
              "      <th>YearsSinceLastPromotion</th>\n",
              "      <td>1102.0</td>\n",
              "      <td>2.189655</td>\n",
              "      <td>3.237126</td>\n",
              "      <td>0.0</td>\n",
              "      <td>0.0</td>\n",
              "      <td>1.0</td>\n",
              "      <td>3.0</td>\n",
              "      <td>15.0</td>\n",
              "    </tr>\n",
              "    <tr>\n",
              "      <th>YearsWithCurrManager</th>\n",
              "      <td>1102.0</td>\n",
              "      <td>4.137024</td>\n",
              "      <td>3.589559</td>\n",
              "      <td>0.0</td>\n",
              "      <td>2.0</td>\n",
              "      <td>3.0</td>\n",
              "      <td>7.0</td>\n",
              "      <td>17.0</td>\n",
              "    </tr>\n",
              "    <tr>\n",
              "      <th>Attrition</th>\n",
              "      <td>1102.0</td>\n",
              "      <td>0.164247</td>\n",
              "      <td>0.370668</td>\n",
              "      <td>0.0</td>\n",
              "      <td>0.0</td>\n",
              "      <td>0.0</td>\n",
              "      <td>0.0</td>\n",
              "      <td>1.0</td>\n",
              "    </tr>\n",
              "  </tbody>\n",
              "</table>\n",
              "</div>"
            ],
            "text/plain": [
              "                          count          mean  ...      75%       max\n",
              "Age                      1102.0     37.057169  ...     43.0      60.0\n",
              "DistanceFromHome         1102.0      9.164247  ...     14.0      29.0\n",
              "Education                1102.0      2.896552  ...      4.0       5.0\n",
              "MonthlyIncome            1102.0  66333.330309  ...  84712.5  199990.0\n",
              "NumCompaniesWorked       1098.0      2.669399  ...      4.0       9.0\n",
              "PercentSalaryHike        1102.0     15.147913  ...     18.0      25.0\n",
              "StandardHours            1102.0      8.000000  ...      8.0       8.0\n",
              "StockOptionLevel         1102.0      0.761343  ...      1.0       3.0\n",
              "TotalWorkingYears        1100.0     11.270000  ...     15.0      40.0\n",
              "TrainingTimesLastYear    1102.0      2.791289  ...      3.0       6.0\n",
              "YearsAtCompany           1102.0      7.036298  ...     10.0      40.0\n",
              "YearsSinceLastPromotion  1102.0      2.189655  ...      3.0      15.0\n",
              "YearsWithCurrManager     1102.0      4.137024  ...      7.0      17.0\n",
              "Attrition                1102.0      0.164247  ...      0.0       1.0\n",
              "\n",
              "[14 rows x 8 columns]"
            ]
          },
          "metadata": {
            "tags": []
          },
          "execution_count": 68
        }
      ]
    },
    {
      "cell_type": "markdown",
      "metadata": {
        "id": "cruGxub-fkqL"
      },
      "source": [
        "**Шаг 3.2. Предобработка данных для тестирования**"
      ]
    },
    {
      "cell_type": "markdown",
      "metadata": {
        "id": "KmrfWhyffkqM"
      },
      "source": [
        "Тестовые данные нужно предобработать аналогично обучающим. Поэтому заполним сперва пропуски в данных.\n",
        "\n",
        "Для заполнения средним значеним, передадим на вход методу **`fillna()`** полученный ранее набор средних значений для каждого столбца. Опция `inplace=True` говорит, что мы запишем изменения прямо в существующий массив, а не создадим новы"
      ]
    },
    {
      "cell_type": "code",
      "metadata": {
        "id": "WfmyiPzifkqQ",
        "colab": {
          "base_uri": "https://localhost:8080/"
        },
        "outputId": "b4f62240-3609-44f1-ba78-5ee906c8dbdb"
      },
      "source": [
        "test_data.fillna(train_mean, inplace=True)\n",
        "test_data.info()"
      ],
      "execution_count": null,
      "outputs": [
        {
          "output_type": "stream",
          "text": [
            "<class 'pandas.core.frame.DataFrame'>\n",
            "RangeIndex: 1102 entries, 0 to 1101\n",
            "Data columns (total 20 columns):\n",
            " #   Column                   Non-Null Count  Dtype  \n",
            "---  ------                   --------------  -----  \n",
            " 0   Age                      1102 non-null   int64  \n",
            " 1   BusinessTravel           1102 non-null   object \n",
            " 2   Department               1102 non-null   object \n",
            " 3   DistanceFromHome         1102 non-null   int64  \n",
            " 4   Education                1102 non-null   int64  \n",
            " 5   EducationField           1102 non-null   object \n",
            " 6   Gender                   1102 non-null   object \n",
            " 7   JobRole                  1102 non-null   object \n",
            " 8   MaritalStatus            1102 non-null   object \n",
            " 9   MonthlyIncome            1102 non-null   int64  \n",
            " 10  NumCompaniesWorked       1102 non-null   float64\n",
            " 11  PercentSalaryHike        1102 non-null   int64  \n",
            " 12  StandardHours            1102 non-null   int64  \n",
            " 13  StockOptionLevel         1102 non-null   int64  \n",
            " 14  TotalWorkingYears        1102 non-null   float64\n",
            " 15  TrainingTimesLastYear    1102 non-null   int64  \n",
            " 16  YearsAtCompany           1102 non-null   int64  \n",
            " 17  YearsSinceLastPromotion  1102 non-null   int64  \n",
            " 18  YearsWithCurrManager     1102 non-null   int64  \n",
            " 19  Attrition                1102 non-null   int64  \n",
            "dtypes: float64(2), int64(12), object(6)\n",
            "memory usage: 172.3+ KB\n"
          ],
          "name": "stdout"
        }
      ]
    },
    {
      "cell_type": "markdown",
      "metadata": {
        "id": "Xx2-CrccfkqV"
      },
      "source": [
        "**Шаг 3.3. Отделяем целевую переменную**"
      ]
    },
    {
      "cell_type": "markdown",
      "metadata": {
        "id": "fjoojbMAfkqW"
      },
      "source": [
        "Нам нужно выделить в отдельную переменную *test_values* столбец из нашей таблицы, который соответствует определенной выше целевой переменной. Для этого мы у таблицы *test_data* в квадратных скобках указываем имя нужного столбца. В нашем случае это имя записано в переменной *target_variable_name*. "
      ]
    },
    {
      "cell_type": "code",
      "metadata": {
        "id": "ep1ujJ9FfkqW"
      },
      "source": [
        "test_values = test_data[target_variable_name]"
      ],
      "execution_count": null,
      "outputs": []
    },
    {
      "cell_type": "markdown",
      "metadata": {
        "id": "g_BinfOVfkqY"
      },
      "source": [
        "Отделим переменные для модели от выходной переменной (целевой). Для это нужно у переменной *`test_data`* нужно вызвать метод **`drop()`**."
      ]
    },
    {
      "cell_type": "code",
      "metadata": {
        "id": "svutkZjEfkqZ"
      },
      "source": [
        "test_points = test_data.drop(target_variable_name, axis=1)"
      ],
      "execution_count": null,
      "outputs": []
    },
    {
      "cell_type": "markdown",
      "metadata": {
        "id": "s8CpUOVrfkqb"
      },
      "source": [
        "И проверяем результат записанный в test_points"
      ]
    },
    {
      "cell_type": "code",
      "metadata": {
        "id": "z5iTKcrbfkqb",
        "colab": {
          "base_uri": "https://localhost:8080/",
          "height": 298
        },
        "outputId": "f81941ca-41cf-4017-c79d-65ba2cfba5de"
      },
      "source": [
        "test_points.head(5)"
      ],
      "execution_count": null,
      "outputs": [
        {
          "output_type": "execute_result",
          "data": {
            "text/html": [
              "<div>\n",
              "<style scoped>\n",
              "    .dataframe tbody tr th:only-of-type {\n",
              "        vertical-align: middle;\n",
              "    }\n",
              "\n",
              "    .dataframe tbody tr th {\n",
              "        vertical-align: top;\n",
              "    }\n",
              "\n",
              "    .dataframe thead th {\n",
              "        text-align: right;\n",
              "    }\n",
              "</style>\n",
              "<table border=\"1\" class=\"dataframe\">\n",
              "  <thead>\n",
              "    <tr style=\"text-align: right;\">\n",
              "      <th></th>\n",
              "      <th>Age</th>\n",
              "      <th>BusinessTravel</th>\n",
              "      <th>Department</th>\n",
              "      <th>DistanceFromHome</th>\n",
              "      <th>Education</th>\n",
              "      <th>EducationField</th>\n",
              "      <th>Gender</th>\n",
              "      <th>JobRole</th>\n",
              "      <th>MaritalStatus</th>\n",
              "      <th>MonthlyIncome</th>\n",
              "      <th>NumCompaniesWorked</th>\n",
              "      <th>PercentSalaryHike</th>\n",
              "      <th>StandardHours</th>\n",
              "      <th>StockOptionLevel</th>\n",
              "      <th>TotalWorkingYears</th>\n",
              "      <th>TrainingTimesLastYear</th>\n",
              "      <th>YearsAtCompany</th>\n",
              "      <th>YearsSinceLastPromotion</th>\n",
              "      <th>YearsWithCurrManager</th>\n",
              "    </tr>\n",
              "  </thead>\n",
              "  <tbody>\n",
              "    <tr>\n",
              "      <th>0</th>\n",
              "      <td>32</td>\n",
              "      <td>Travel_Rarely</td>\n",
              "      <td>Sales</td>\n",
              "      <td>10</td>\n",
              "      <td>3</td>\n",
              "      <td>Marketing</td>\n",
              "      <td>Female</td>\n",
              "      <td>Human Resources</td>\n",
              "      <td>Married</td>\n",
              "      <td>30720</td>\n",
              "      <td>5.0</td>\n",
              "      <td>12</td>\n",
              "      <td>8</td>\n",
              "      <td>0</td>\n",
              "      <td>9.0</td>\n",
              "      <td>4</td>\n",
              "      <td>5</td>\n",
              "      <td>1</td>\n",
              "      <td>3</td>\n",
              "    </tr>\n",
              "    <tr>\n",
              "      <th>1</th>\n",
              "      <td>52</td>\n",
              "      <td>Travel_Frequently</td>\n",
              "      <td>Research &amp; Development</td>\n",
              "      <td>1</td>\n",
              "      <td>1</td>\n",
              "      <td>Life Sciences</td>\n",
              "      <td>Male</td>\n",
              "      <td>Laboratory Technician</td>\n",
              "      <td>Married</td>\n",
              "      <td>50060</td>\n",
              "      <td>3.0</td>\n",
              "      <td>16</td>\n",
              "      <td>8</td>\n",
              "      <td>1</td>\n",
              "      <td>31.0</td>\n",
              "      <td>2</td>\n",
              "      <td>9</td>\n",
              "      <td>0</td>\n",
              "      <td>0</td>\n",
              "    </tr>\n",
              "    <tr>\n",
              "      <th>2</th>\n",
              "      <td>37</td>\n",
              "      <td>Travel_Rarely</td>\n",
              "      <td>Sales</td>\n",
              "      <td>24</td>\n",
              "      <td>2</td>\n",
              "      <td>Life Sciences</td>\n",
              "      <td>Female</td>\n",
              "      <td>Laboratory Technician</td>\n",
              "      <td>Divorced</td>\n",
              "      <td>42570</td>\n",
              "      <td>4.0</td>\n",
              "      <td>15</td>\n",
              "      <td>8</td>\n",
              "      <td>0</td>\n",
              "      <td>9.0</td>\n",
              "      <td>2</td>\n",
              "      <td>1</td>\n",
              "      <td>0</td>\n",
              "      <td>0</td>\n",
              "    </tr>\n",
              "    <tr>\n",
              "      <th>3</th>\n",
              "      <td>28</td>\n",
              "      <td>Travel_Rarely</td>\n",
              "      <td>Research &amp; Development</td>\n",
              "      <td>21</td>\n",
              "      <td>4</td>\n",
              "      <td>Life Sciences</td>\n",
              "      <td>Female</td>\n",
              "      <td>Healthcare Representative</td>\n",
              "      <td>Divorced</td>\n",
              "      <td>25000</td>\n",
              "      <td>1.0</td>\n",
              "      <td>16</td>\n",
              "      <td>8</td>\n",
              "      <td>2</td>\n",
              "      <td>6.0</td>\n",
              "      <td>3</td>\n",
              "      <td>5</td>\n",
              "      <td>0</td>\n",
              "      <td>4</td>\n",
              "    </tr>\n",
              "    <tr>\n",
              "      <th>4</th>\n",
              "      <td>22</td>\n",
              "      <td>Travel_Rarely</td>\n",
              "      <td>Research &amp; Development</td>\n",
              "      <td>2</td>\n",
              "      <td>2</td>\n",
              "      <td>Life Sciences</td>\n",
              "      <td>Male</td>\n",
              "      <td>Sales Representative</td>\n",
              "      <td>Married</td>\n",
              "      <td>11020</td>\n",
              "      <td>6.0</td>\n",
              "      <td>19</td>\n",
              "      <td>8</td>\n",
              "      <td>0</td>\n",
              "      <td>4.0</td>\n",
              "      <td>3</td>\n",
              "      <td>2</td>\n",
              "      <td>2</td>\n",
              "      <td>2</td>\n",
              "    </tr>\n",
              "  </tbody>\n",
              "</table>\n",
              "</div>"
            ],
            "text/plain": [
              "   Age     BusinessTravel  ... YearsSinceLastPromotion  YearsWithCurrManager\n",
              "0   32      Travel_Rarely  ...                       1                     3\n",
              "1   52  Travel_Frequently  ...                       0                     0\n",
              "2   37      Travel_Rarely  ...                       0                     0\n",
              "3   28      Travel_Rarely  ...                       0                     4\n",
              "4   22      Travel_Rarely  ...                       2                     2\n",
              "\n",
              "[5 rows x 19 columns]"
            ]
          },
          "metadata": {
            "tags": []
          },
          "execution_count": 72
        }
      ]
    },
    {
      "cell_type": "markdown",
      "metadata": {
        "id": "XOVwKAaPfkqd"
      },
      "source": [
        "## Шаг 4.  Обработать текстовые переменные"
      ]
    },
    {
      "cell_type": "markdown",
      "metadata": {
        "id": "7kqa17cZfkqe"
      },
      "source": [
        "В наших данных 6 столбцов имеют значения типа object. В нашем случае, это текстовые признаки. Чтобы можно было подавать их на вход алгоритму, нам необходимо закодировать их.  "
      ]
    },
    {
      "cell_type": "markdown",
      "metadata": {
        "id": "GpZ_flCgfkqe"
      },
      "source": [
        "Мы рассмотрим два популярных метода кодирования категориальных признаков:\n",
        "*  метод **get_dummies()** из библиотеки **pandas**\n",
        "*  метод **LabelEncoder()** из библиотеки **sklearn**"
      ]
    },
    {
      "cell_type": "markdown",
      "metadata": {
        "id": "Rp0QrqD6fkqf"
      },
      "source": [
        "Для начала нам необходимо определить какие из признаков категориальные"
      ]
    },
    {
      "cell_type": "code",
      "metadata": {
        "id": "gIiv4-eUfkqg"
      },
      "source": [
        "text_features = ['BusinessTravel', 'Department', 'EducationField', 'Gender', 'JobRole', 'MaritalStatus']"
      ],
      "execution_count": null,
      "outputs": []
    },
    {
      "cell_type": "markdown",
      "metadata": {
        "id": "4pVvxZ3Ffkqj"
      },
      "source": [
        "Далее нам необходимо преобразовать значения в выбранных колонках к числам, потому что наши алгоритмы не умеют работать с текстом."
      ]
    },
    {
      "cell_type": "markdown",
      "metadata": {
        "id": "0Pc1lOHVfkqj"
      },
      "source": [
        "Первый способ заключается в том, чтобы заменить признаки типа: \n",
        "\n",
        "|                 |       Отдел                   |  \n",
        "|-----------------|-------------------------------|\n",
        "|**Сотрудник 1**  |       Sales                   | \n",
        "|**Сотрудник 2**  |       RnD                     | \n",
        "|**Сотрудник 3**  |       HR                      | \n",
        "\n",
        "Признаками типа:\n",
        "\n",
        "|                 | Отдел - Sales ? | Отдел - Rnd ? | Отдел - HR ? |\n",
        "|-----------------|-----------------|---------------|--------------|\n",
        "|**Сотрудник 1**  |       Да  (1)   |      Нет (0)  |      Нет (0) |\n",
        "|**Сотрудник 2**  |       Нет (0)   |      Да  (1)  |      Нет (0) |\n",
        "|**Сотрудник 3**  |       Нет (0)   |      Нет (0)  |      Да  (1) |\n",
        "\n",
        "Таким образом, наши новые признаки говорят относится ли сотрудник к определённому отделу или нет. При таком подходе для каждого категориального признака появляется столько новых колонок, сколько есть возможных категорий. Одна из колонок будет заполнена `1`, а остальные `0`."
      ]
    },
    {
      "cell_type": "code",
      "metadata": {
        "id": "oSGDmz8Sfkqk"
      },
      "source": [
        "dummies = pd.get_dummies(data=training_points, columns=text_features)"
      ],
      "execution_count": null,
      "outputs": []
    },
    {
      "cell_type": "markdown",
      "metadata": {
        "id": "HyIqSXYqfkqn"
      },
      "source": [
        "В функцию **get_dummies()** в качестве параметров передаём:\n",
        "*  **data** - исходные данные\n",
        "*  **columns** - имена колонок, в которых находятся кагегориальные признаки"
      ]
    },
    {
      "cell_type": "code",
      "metadata": {
        "id": "5W8cmQYqfkqo",
        "colab": {
          "base_uri": "https://localhost:8080/",
          "height": 231
        },
        "outputId": "e09370b7-8ade-402c-e059-c1c662bdda6f"
      },
      "source": [
        "dummies.head()"
      ],
      "execution_count": null,
      "outputs": [
        {
          "output_type": "execute_result",
          "data": {
            "text/html": [
              "<div>\n",
              "<style scoped>\n",
              "    .dataframe tbody tr th:only-of-type {\n",
              "        vertical-align: middle;\n",
              "    }\n",
              "\n",
              "    .dataframe tbody tr th {\n",
              "        vertical-align: top;\n",
              "    }\n",
              "\n",
              "    .dataframe thead th {\n",
              "        text-align: right;\n",
              "    }\n",
              "</style>\n",
              "<table border=\"1\" class=\"dataframe\">\n",
              "  <thead>\n",
              "    <tr style=\"text-align: right;\">\n",
              "      <th></th>\n",
              "      <th>Age</th>\n",
              "      <th>DistanceFromHome</th>\n",
              "      <th>Education</th>\n",
              "      <th>MonthlyIncome</th>\n",
              "      <th>NumCompaniesWorked</th>\n",
              "      <th>PercentSalaryHike</th>\n",
              "      <th>StandardHours</th>\n",
              "      <th>StockOptionLevel</th>\n",
              "      <th>TotalWorkingYears</th>\n",
              "      <th>TrainingTimesLastYear</th>\n",
              "      <th>YearsAtCompany</th>\n",
              "      <th>YearsSinceLastPromotion</th>\n",
              "      <th>YearsWithCurrManager</th>\n",
              "      <th>BusinessTravel_Non-Travel</th>\n",
              "      <th>BusinessTravel_Travel_Frequently</th>\n",
              "      <th>BusinessTravel_Travel_Rarely</th>\n",
              "      <th>Department_Human Resources</th>\n",
              "      <th>Department_Research &amp; Development</th>\n",
              "      <th>Department_Sales</th>\n",
              "      <th>EducationField_Human Resources</th>\n",
              "      <th>EducationField_Life Sciences</th>\n",
              "      <th>EducationField_Marketing</th>\n",
              "      <th>EducationField_Medical</th>\n",
              "      <th>EducationField_Other</th>\n",
              "      <th>EducationField_Technical Degree</th>\n",
              "      <th>Gender_Female</th>\n",
              "      <th>Gender_Male</th>\n",
              "      <th>JobRole_Healthcare Representative</th>\n",
              "      <th>JobRole_Human Resources</th>\n",
              "      <th>JobRole_Laboratory Technician</th>\n",
              "      <th>JobRole_Manager</th>\n",
              "      <th>JobRole_Manufacturing Director</th>\n",
              "      <th>JobRole_Research Director</th>\n",
              "      <th>JobRole_Research Scientist</th>\n",
              "      <th>JobRole_Sales Executive</th>\n",
              "      <th>JobRole_Sales Representative</th>\n",
              "      <th>MaritalStatus_Divorced</th>\n",
              "      <th>MaritalStatus_Married</th>\n",
              "      <th>MaritalStatus_Single</th>\n",
              "    </tr>\n",
              "  </thead>\n",
              "  <tbody>\n",
              "    <tr>\n",
              "      <th>0</th>\n",
              "      <td>51</td>\n",
              "      <td>6</td>\n",
              "      <td>2</td>\n",
              "      <td>131160</td>\n",
              "      <td>1.0</td>\n",
              "      <td>11</td>\n",
              "      <td>8</td>\n",
              "      <td>0</td>\n",
              "      <td>1.0</td>\n",
              "      <td>6</td>\n",
              "      <td>1</td>\n",
              "      <td>0</td>\n",
              "      <td>0</td>\n",
              "      <td>0</td>\n",
              "      <td>0</td>\n",
              "      <td>1</td>\n",
              "      <td>0</td>\n",
              "      <td>0</td>\n",
              "      <td>1</td>\n",
              "      <td>0</td>\n",
              "      <td>1</td>\n",
              "      <td>0</td>\n",
              "      <td>0</td>\n",
              "      <td>0</td>\n",
              "      <td>0</td>\n",
              "      <td>1</td>\n",
              "      <td>0</td>\n",
              "      <td>1</td>\n",
              "      <td>0</td>\n",
              "      <td>0</td>\n",
              "      <td>0</td>\n",
              "      <td>0</td>\n",
              "      <td>0</td>\n",
              "      <td>0</td>\n",
              "      <td>0</td>\n",
              "      <td>0</td>\n",
              "      <td>0</td>\n",
              "      <td>1</td>\n",
              "      <td>0</td>\n",
              "    </tr>\n",
              "    <tr>\n",
              "      <th>1</th>\n",
              "      <td>31</td>\n",
              "      <td>10</td>\n",
              "      <td>1</td>\n",
              "      <td>41890</td>\n",
              "      <td>0.0</td>\n",
              "      <td>23</td>\n",
              "      <td>8</td>\n",
              "      <td>1</td>\n",
              "      <td>6.0</td>\n",
              "      <td>3</td>\n",
              "      <td>5</td>\n",
              "      <td>1</td>\n",
              "      <td>4</td>\n",
              "      <td>0</td>\n",
              "      <td>1</td>\n",
              "      <td>0</td>\n",
              "      <td>0</td>\n",
              "      <td>1</td>\n",
              "      <td>0</td>\n",
              "      <td>0</td>\n",
              "      <td>1</td>\n",
              "      <td>0</td>\n",
              "      <td>0</td>\n",
              "      <td>0</td>\n",
              "      <td>0</td>\n",
              "      <td>1</td>\n",
              "      <td>0</td>\n",
              "      <td>0</td>\n",
              "      <td>0</td>\n",
              "      <td>0</td>\n",
              "      <td>0</td>\n",
              "      <td>0</td>\n",
              "      <td>0</td>\n",
              "      <td>1</td>\n",
              "      <td>0</td>\n",
              "      <td>0</td>\n",
              "      <td>0</td>\n",
              "      <td>0</td>\n",
              "      <td>1</td>\n",
              "    </tr>\n",
              "    <tr>\n",
              "      <th>2</th>\n",
              "      <td>32</td>\n",
              "      <td>17</td>\n",
              "      <td>4</td>\n",
              "      <td>193280</td>\n",
              "      <td>1.0</td>\n",
              "      <td>15</td>\n",
              "      <td>8</td>\n",
              "      <td>3</td>\n",
              "      <td>5.0</td>\n",
              "      <td>2</td>\n",
              "      <td>5</td>\n",
              "      <td>0</td>\n",
              "      <td>3</td>\n",
              "      <td>0</td>\n",
              "      <td>1</td>\n",
              "      <td>0</td>\n",
              "      <td>0</td>\n",
              "      <td>1</td>\n",
              "      <td>0</td>\n",
              "      <td>0</td>\n",
              "      <td>0</td>\n",
              "      <td>0</td>\n",
              "      <td>0</td>\n",
              "      <td>1</td>\n",
              "      <td>0</td>\n",
              "      <td>0</td>\n",
              "      <td>1</td>\n",
              "      <td>0</td>\n",
              "      <td>0</td>\n",
              "      <td>0</td>\n",
              "      <td>0</td>\n",
              "      <td>0</td>\n",
              "      <td>0</td>\n",
              "      <td>0</td>\n",
              "      <td>1</td>\n",
              "      <td>0</td>\n",
              "      <td>0</td>\n",
              "      <td>1</td>\n",
              "      <td>0</td>\n",
              "    </tr>\n",
              "    <tr>\n",
              "      <th>3</th>\n",
              "      <td>38</td>\n",
              "      <td>2</td>\n",
              "      <td>5</td>\n",
              "      <td>83210</td>\n",
              "      <td>3.0</td>\n",
              "      <td>11</td>\n",
              "      <td>8</td>\n",
              "      <td>3</td>\n",
              "      <td>13.0</td>\n",
              "      <td>5</td>\n",
              "      <td>8</td>\n",
              "      <td>7</td>\n",
              "      <td>5</td>\n",
              "      <td>1</td>\n",
              "      <td>0</td>\n",
              "      <td>0</td>\n",
              "      <td>0</td>\n",
              "      <td>1</td>\n",
              "      <td>0</td>\n",
              "      <td>0</td>\n",
              "      <td>1</td>\n",
              "      <td>0</td>\n",
              "      <td>0</td>\n",
              "      <td>0</td>\n",
              "      <td>0</td>\n",
              "      <td>0</td>\n",
              "      <td>1</td>\n",
              "      <td>0</td>\n",
              "      <td>1</td>\n",
              "      <td>0</td>\n",
              "      <td>0</td>\n",
              "      <td>0</td>\n",
              "      <td>0</td>\n",
              "      <td>0</td>\n",
              "      <td>0</td>\n",
              "      <td>0</td>\n",
              "      <td>0</td>\n",
              "      <td>1</td>\n",
              "      <td>0</td>\n",
              "    </tr>\n",
              "    <tr>\n",
              "      <th>4</th>\n",
              "      <td>32</td>\n",
              "      <td>10</td>\n",
              "      <td>1</td>\n",
              "      <td>23420</td>\n",
              "      <td>4.0</td>\n",
              "      <td>12</td>\n",
              "      <td>8</td>\n",
              "      <td>2</td>\n",
              "      <td>9.0</td>\n",
              "      <td>2</td>\n",
              "      <td>6</td>\n",
              "      <td>0</td>\n",
              "      <td>4</td>\n",
              "      <td>0</td>\n",
              "      <td>0</td>\n",
              "      <td>1</td>\n",
              "      <td>0</td>\n",
              "      <td>1</td>\n",
              "      <td>0</td>\n",
              "      <td>0</td>\n",
              "      <td>0</td>\n",
              "      <td>0</td>\n",
              "      <td>1</td>\n",
              "      <td>0</td>\n",
              "      <td>0</td>\n",
              "      <td>0</td>\n",
              "      <td>1</td>\n",
              "      <td>0</td>\n",
              "      <td>0</td>\n",
              "      <td>0</td>\n",
              "      <td>0</td>\n",
              "      <td>0</td>\n",
              "      <td>0</td>\n",
              "      <td>0</td>\n",
              "      <td>1</td>\n",
              "      <td>0</td>\n",
              "      <td>0</td>\n",
              "      <td>0</td>\n",
              "      <td>1</td>\n",
              "    </tr>\n",
              "  </tbody>\n",
              "</table>\n",
              "</div>"
            ],
            "text/plain": [
              "   Age  DistanceFromHome  ...  MaritalStatus_Married  MaritalStatus_Single\n",
              "0   51                 6  ...                      1                     0\n",
              "1   31                10  ...                      0                     1\n",
              "2   32                17  ...                      1                     0\n",
              "3   38                 2  ...                      1                     0\n",
              "4   32                10  ...                      0                     1\n",
              "\n",
              "[5 rows x 39 columns]"
            ]
          },
          "metadata": {
            "tags": []
          },
          "execution_count": 75
        }
      ]
    },
    {
      "cell_type": "markdown",
      "metadata": {
        "id": "w8AK-b_afkqq"
      },
      "source": [
        "Как видим, после кодирования у нас получилось на 20 признаков больше (39 вместо 19)."
      ]
    },
    {
      "cell_type": "code",
      "metadata": {
        "id": "wNKis67Gfkqr",
        "colab": {
          "base_uri": "https://localhost:8080/"
        },
        "outputId": "2c3ea439-f11c-4fd8-899a-4aa0f0f8d2d4"
      },
      "source": [
        "training_points.shape"
      ],
      "execution_count": null,
      "outputs": [
        {
          "output_type": "execute_result",
          "data": {
            "text/plain": [
              "(3308, 19)"
            ]
          },
          "metadata": {
            "tags": []
          },
          "execution_count": 76
        }
      ]
    },
    {
      "cell_type": "code",
      "metadata": {
        "id": "kY-OCBiJfkqu",
        "colab": {
          "base_uri": "https://localhost:8080/"
        },
        "outputId": "db366da0-8fa0-47de-b98e-f1204044e685"
      },
      "source": [
        "dummies.shape"
      ],
      "execution_count": null,
      "outputs": [
        {
          "output_type": "execute_result",
          "data": {
            "text/plain": [
              "(3308, 39)"
            ]
          },
          "metadata": {
            "tags": []
          },
          "execution_count": 77
        }
      ]
    },
    {
      "cell_type": "markdown",
      "metadata": {
        "id": "JckWL4OHfkqy"
      },
      "source": [
        "Второй способ кодирования категориальных признаков заключается в том, чтобы просто присвоить каждой категории уникальный номер, и заменить значения признаков на соответствующие номера.\n",
        "Например, вместо таблицы:\n",
        "\n",
        "|                 |       Отдел                   |  \n",
        "|-----------------|-------------------------------|\n",
        "|**Сотрудник 1**  |       Sales                   | \n",
        "|**Сотрудник 2**  |       RnD                     |\n",
        "|**Сотрудник 3**  |       RnD                     |\n",
        "|**Сотрудник 4**  |       Sales                   |\n",
        "|**Сотрудник 5**  |       HR                      |\n",
        "|**Сотрудник 6**  |       RnD                     | \n",
        "\n",
        "Получаем:\n",
        "\n",
        "|                 |       Отдел                   |  \n",
        "|-----------------|-------------------------------|\n",
        "|**Сотрудник 1**  |       1                       | \n",
        "|**Сотрудник 2**  |       2                       | \n",
        "|**Сотрудник 3**  |       2                       |\n",
        "|**Сотрудник 4**  |       1                       |\n",
        "|**Сотрудник 5**  |       3                       |\n",
        "|**Сотрудник 6**  |       2                       |\n",
        "\n",
        "Здесь все значения **Sales** заменены на `1`, **RnD** заменены на `2`, **HR** заменены на `3`."
      ]
    },
    {
      "cell_type": "code",
      "metadata": {
        "id": "To8KiouUfkqz"
      },
      "source": [
        "from sklearn.preprocessing import LabelEncoder"
      ],
      "execution_count": null,
      "outputs": []
    },
    {
      "cell_type": "markdown",
      "metadata": {
        "id": "8eg45UU7fkq0"
      },
      "source": [
        "Сперва создаем прототип кодировщика: "
      ]
    },
    {
      "cell_type": "code",
      "metadata": {
        "id": "KwN3cY37fkq2"
      },
      "source": [
        "label_encoder = LabelEncoder()"
      ],
      "execution_count": null,
      "outputs": []
    },
    {
      "cell_type": "markdown",
      "metadata": {
        "id": "I3jsNGMtfkq5"
      },
      "source": [
        "Так как нам нужно закодировать сразу список признаков, мы будем делать это в цикле. Рассматриваем каждый текстовый признак из списка *text_categor_cols*, далее:\n",
        "1. методу **fit_transform()** передаем в качестве аргумента этот признак у обучающей выборки\n",
        "2. методу **transform()** передаем в качестве аргумента этот признак у тестовой выборки\n",
        "\n",
        "К полученным числовым представлениям признака будем прибавлять единичку, чтобы кодирование начиналось с 1, а не с 0. Затем результат будем записывать в табличку. "
      ]
    },
    {
      "cell_type": "code",
      "metadata": {
        "id": "wZN_DNYSfkq6"
      },
      "source": [
        "for col in text_features:\n",
        "    training_points[col] = label_encoder.fit_transform(training_points[col]) + 1\n",
        "    test_points[col] = label_encoder.transform(test_points[col]) + 1"
      ],
      "execution_count": null,
      "outputs": []
    },
    {
      "cell_type": "markdown",
      "metadata": {
        "id": "wJHNlgdKfkq8"
      },
      "source": [
        "Посмотрим на данные теперь:"
      ]
    },
    {
      "cell_type": "code",
      "metadata": {
        "id": "nRL9j9LCfkq9",
        "colab": {
          "base_uri": "https://localhost:8080/",
          "height": 214
        },
        "outputId": "3d9ce86e-0553-4ec7-adfa-6706075bcf04"
      },
      "source": [
        "training_points.head()"
      ],
      "execution_count": null,
      "outputs": [
        {
          "output_type": "execute_result",
          "data": {
            "text/html": [
              "<div>\n",
              "<style scoped>\n",
              "    .dataframe tbody tr th:only-of-type {\n",
              "        vertical-align: middle;\n",
              "    }\n",
              "\n",
              "    .dataframe tbody tr th {\n",
              "        vertical-align: top;\n",
              "    }\n",
              "\n",
              "    .dataframe thead th {\n",
              "        text-align: right;\n",
              "    }\n",
              "</style>\n",
              "<table border=\"1\" class=\"dataframe\">\n",
              "  <thead>\n",
              "    <tr style=\"text-align: right;\">\n",
              "      <th></th>\n",
              "      <th>Age</th>\n",
              "      <th>BusinessTravel</th>\n",
              "      <th>Department</th>\n",
              "      <th>DistanceFromHome</th>\n",
              "      <th>Education</th>\n",
              "      <th>EducationField</th>\n",
              "      <th>Gender</th>\n",
              "      <th>JobRole</th>\n",
              "      <th>MaritalStatus</th>\n",
              "      <th>MonthlyIncome</th>\n",
              "      <th>NumCompaniesWorked</th>\n",
              "      <th>PercentSalaryHike</th>\n",
              "      <th>StandardHours</th>\n",
              "      <th>StockOptionLevel</th>\n",
              "      <th>TotalWorkingYears</th>\n",
              "      <th>TrainingTimesLastYear</th>\n",
              "      <th>YearsAtCompany</th>\n",
              "      <th>YearsSinceLastPromotion</th>\n",
              "      <th>YearsWithCurrManager</th>\n",
              "    </tr>\n",
              "  </thead>\n",
              "  <tbody>\n",
              "    <tr>\n",
              "      <th>0</th>\n",
              "      <td>51</td>\n",
              "      <td>3</td>\n",
              "      <td>3</td>\n",
              "      <td>6</td>\n",
              "      <td>2</td>\n",
              "      <td>2</td>\n",
              "      <td>1</td>\n",
              "      <td>1</td>\n",
              "      <td>2</td>\n",
              "      <td>131160</td>\n",
              "      <td>1.0</td>\n",
              "      <td>11</td>\n",
              "      <td>8</td>\n",
              "      <td>0</td>\n",
              "      <td>1.0</td>\n",
              "      <td>6</td>\n",
              "      <td>1</td>\n",
              "      <td>0</td>\n",
              "      <td>0</td>\n",
              "    </tr>\n",
              "    <tr>\n",
              "      <th>1</th>\n",
              "      <td>31</td>\n",
              "      <td>2</td>\n",
              "      <td>2</td>\n",
              "      <td>10</td>\n",
              "      <td>1</td>\n",
              "      <td>2</td>\n",
              "      <td>1</td>\n",
              "      <td>7</td>\n",
              "      <td>3</td>\n",
              "      <td>41890</td>\n",
              "      <td>0.0</td>\n",
              "      <td>23</td>\n",
              "      <td>8</td>\n",
              "      <td>1</td>\n",
              "      <td>6.0</td>\n",
              "      <td>3</td>\n",
              "      <td>5</td>\n",
              "      <td>1</td>\n",
              "      <td>4</td>\n",
              "    </tr>\n",
              "    <tr>\n",
              "      <th>2</th>\n",
              "      <td>32</td>\n",
              "      <td>2</td>\n",
              "      <td>2</td>\n",
              "      <td>17</td>\n",
              "      <td>4</td>\n",
              "      <td>5</td>\n",
              "      <td>2</td>\n",
              "      <td>8</td>\n",
              "      <td>2</td>\n",
              "      <td>193280</td>\n",
              "      <td>1.0</td>\n",
              "      <td>15</td>\n",
              "      <td>8</td>\n",
              "      <td>3</td>\n",
              "      <td>5.0</td>\n",
              "      <td>2</td>\n",
              "      <td>5</td>\n",
              "      <td>0</td>\n",
              "      <td>3</td>\n",
              "    </tr>\n",
              "    <tr>\n",
              "      <th>3</th>\n",
              "      <td>38</td>\n",
              "      <td>1</td>\n",
              "      <td>2</td>\n",
              "      <td>2</td>\n",
              "      <td>5</td>\n",
              "      <td>2</td>\n",
              "      <td>2</td>\n",
              "      <td>2</td>\n",
              "      <td>2</td>\n",
              "      <td>83210</td>\n",
              "      <td>3.0</td>\n",
              "      <td>11</td>\n",
              "      <td>8</td>\n",
              "      <td>3</td>\n",
              "      <td>13.0</td>\n",
              "      <td>5</td>\n",
              "      <td>8</td>\n",
              "      <td>7</td>\n",
              "      <td>5</td>\n",
              "    </tr>\n",
              "    <tr>\n",
              "      <th>4</th>\n",
              "      <td>32</td>\n",
              "      <td>3</td>\n",
              "      <td>2</td>\n",
              "      <td>10</td>\n",
              "      <td>1</td>\n",
              "      <td>4</td>\n",
              "      <td>2</td>\n",
              "      <td>8</td>\n",
              "      <td>3</td>\n",
              "      <td>23420</td>\n",
              "      <td>4.0</td>\n",
              "      <td>12</td>\n",
              "      <td>8</td>\n",
              "      <td>2</td>\n",
              "      <td>9.0</td>\n",
              "      <td>2</td>\n",
              "      <td>6</td>\n",
              "      <td>0</td>\n",
              "      <td>4</td>\n",
              "    </tr>\n",
              "  </tbody>\n",
              "</table>\n",
              "</div>"
            ],
            "text/plain": [
              "   Age  BusinessTravel  ...  YearsSinceLastPromotion  YearsWithCurrManager\n",
              "0   51               3  ...                        0                     0\n",
              "1   31               2  ...                        1                     4\n",
              "2   32               2  ...                        0                     3\n",
              "3   38               1  ...                        7                     5\n",
              "4   32               3  ...                        0                     4\n",
              "\n",
              "[5 rows x 19 columns]"
            ]
          },
          "metadata": {
            "tags": []
          },
          "execution_count": 81
        }
      ]
    },
    {
      "cell_type": "code",
      "metadata": {
        "id": "ea86PaQ5fkq-",
        "colab": {
          "base_uri": "https://localhost:8080/"
        },
        "outputId": "01c15d77-e23d-4e2c-976a-cbdf9c058fee"
      },
      "source": [
        "training_points.shape"
      ],
      "execution_count": null,
      "outputs": [
        {
          "output_type": "execute_result",
          "data": {
            "text/plain": [
              "(3308, 19)"
            ]
          },
          "metadata": {
            "tags": []
          },
          "execution_count": 82
        }
      ]
    },
    {
      "cell_type": "markdown",
      "metadata": {
        "id": "D1i7_ZclfkrA"
      },
      "source": [
        "При таком способе кодирования количество признаков не меняется."
      ]
    },
    {
      "cell_type": "markdown",
      "metadata": {
        "id": "b_XlOaRifkrB"
      },
      "source": [
        "Чем может быть обусловлен выбор метода кодирования признаков?"
      ]
    },
    {
      "cell_type": "markdown",
      "metadata": {
        "id": "Hl6jVBRvfkrC"
      },
      "source": [
        "##   5. Обучить модель на обучающей выборке"
      ]
    },
    {
      "cell_type": "markdown",
      "metadata": {
        "id": "NIgW6Fr8fkrC"
      },
      "source": [
        "**Шаг 5.1. Выбираем метод, который будем использовать**\n",
        "\n",
        "Мы воспользуемся двумя методами для построения моделей классификации и сравним их между собой:\n",
        "* Логистическая регрессия *logistic regression*\n",
        "* Градиентный бустинг над решающими деревьями *xgboost*\n",
        "\n",
        "Логистическая регрессия - \"адаптация\" линейной регрессии для решения задачи классификации. Она принадлежит к классу обобщенных линейных моделей.\n",
        "А вот с помощью градиентного бустинга можно эффективнее работать с лесом решающих деревьев, а значит лучше решать и задачу регрессии, и задачу классификации."
      ]
    },
    {
      "cell_type": "markdown",
      "metadata": {
        "id": "7UgpB60FfkrF"
      },
      "source": [
        "Для корректной работы с методами построения моделей в python требуется загрузить специальную библиотеку\n",
        "**sklearn**, программную библиотеку на языке python для для машинного обучения и анализа данных.\n",
        "\n",
        "Мы импортируем один модуль из этой библиотеки:\n",
        " * *linear_model* - тут находятся все линейные *и обобщенные линейные* модели, в том числе модель логистической регрессии."
      ]
    },
    {
      "cell_type": "code",
      "metadata": {
        "id": "PUZSFJm3fkrG"
      },
      "source": [
        "from sklearn import linear_model"
      ],
      "execution_count": null,
      "outputs": []
    },
    {
      "cell_type": "markdown",
      "metadata": {
        "id": "XZKLH8b8fkrJ"
      },
      "source": [
        "В библиотеке **xgboost**, программной библиотеке на языке python, реализован градиентный бустинг над решающими деревьями как для задачи регрессии, так и для задачи классификации. "
      ]
    },
    {
      "cell_type": "code",
      "metadata": {
        "id": "4gOiCSmWfkrK"
      },
      "source": [
        "# !pip install xgboost"
      ],
      "execution_count": null,
      "outputs": []
    },
    {
      "cell_type": "code",
      "metadata": {
        "id": "S71djvQ6fkrN"
      },
      "source": [
        "import xgboost as xgb"
      ],
      "execution_count": null,
      "outputs": []
    },
    {
      "cell_type": "markdown",
      "metadata": {
        "id": "VY6kfMJCfkrQ"
      },
      "source": [
        "Чтобы создать модель логистической регресии, пишем имя модуля 'linear_model', затем точку, затем название модели.\n",
        "\n",
        "Для этого нужно выполнить следующий код:\n",
        "\n",
        "```python\n",
        "logistic_regression_model = linear_model.logistic_regression_model()\n",
        "logistic_regression_model\n",
        "```"
      ]
    },
    {
      "cell_type": "code",
      "metadata": {
        "id": "udsDoZbMfkrR"
      },
      "source": [
        "logistic_regression_model = linear_model.LogisticRegression() # создаем модель"
      ],
      "execution_count": null,
      "outputs": []
    },
    {
      "cell_type": "markdown",
      "metadata": {
        "id": "kPZKCFtSfkrU"
      },
      "source": [
        "Результат выполнения должен быть следующим:\n",
        "\n",
        "```python\n",
        "LogisticRegression(C=1.0, class_weight=None, dual=False, \n",
        "          fit_intercept=True, intercept_scaling=1, \n",
        "          max_iter=100, multi_class='warn', n_jobs=None, \n",
        "          penalty='l2', random_state=None, solver='warn',\n",
        "          tol=0.0001, verbose=0, warm_start=False)\n",
        "```"
      ]
    },
    {
      "cell_type": "code",
      "metadata": {
        "id": "GT-t7FCFfkrV",
        "colab": {
          "base_uri": "https://localhost:8080/"
        },
        "outputId": "4774f9c8-e1fe-4632-80cc-83c6edc4730c"
      },
      "source": [
        "logistic_regression_model # смотрим, что получилось"
      ],
      "execution_count": null,
      "outputs": [
        {
          "output_type": "execute_result",
          "data": {
            "text/plain": [
              "LogisticRegression(C=1.0, class_weight=None, dual=False, fit_intercept=True,\n",
              "                   intercept_scaling=1, l1_ratio=None, max_iter=100,\n",
              "                   multi_class='auto', n_jobs=None, penalty='l2',\n",
              "                   random_state=None, solver='lbfgs', tol=0.0001, verbose=0,\n",
              "                   warm_start=False)"
            ]
          },
          "metadata": {
            "tags": []
          },
          "execution_count": 87
        }
      ]
    },
    {
      "cell_type": "markdown",
      "metadata": {
        "id": "U9_0k8uwfkrZ"
      },
      "source": [
        "Чтобы создать модель случайного леса с градиентным бустингом, пишем имя модуля xgboost (xgb), затем точку, затем название модели. \n",
        "\n",
        "Для этого нужно выполнить следующий код:\n",
        "\n",
        "```python\n",
        "xgboost_model = xgb.XGBClassifier()\n",
        "xgboost_model\n",
        "```\n",
        "\n",
        "```python\n",
        "XGBClassifier(base_score=0.5, booster='gbtree', colsample_bylevel=1,\n",
        "              colsample_bytree=1, gamma=0, learning_rate=0.1, max_delta_step=0,\n",
        "              max_depth=3, min_child_weight=1, missing=None, n_estimators=100,\n",
        "              n_jobs=1, nthread=None, objective='binary:logistic',\n",
        "              random_state=0, reg_alpha=0, reg_lambda=1, scale_pos_weight=1,\n",
        "              seed=None, silent=True, subsample=1)\n",
        "```"
      ]
    },
    {
      "cell_type": "markdown",
      "metadata": {
        "id": "4VDOb1fqfkrZ"
      },
      "source": [
        "У модели `xgboost` три типа параметров: общие параметры, параметры бустера и параметры задачи.\n",
        "\n",
        "Общие параметры относятся к тому, какой бустер мы используем для бустинга, обычно это дерево или линейная модель. Параметры бустера зависят от того, какой бустер вы выбрали (максимальная глубина дерева, количество деревьев в ансамбле и тд.) Параметры учебной задачи: регрессиия, классификация, ранжирование."
      ]
    },
    {
      "cell_type": "code",
      "metadata": {
        "id": "ZPUk9cXffkra"
      },
      "source": [
        "xgboost_model = xgb.XGBClassifier(n_estimators=100)"
      ],
      "execution_count": null,
      "outputs": []
    },
    {
      "cell_type": "code",
      "metadata": {
        "id": "ozvxa7FIfkrc",
        "colab": {
          "base_uri": "https://localhost:8080/"
        },
        "outputId": "9aadc945-866b-4b77-90ab-93b55525853c"
      },
      "source": [
        "xgboost_model"
      ],
      "execution_count": null,
      "outputs": [
        {
          "output_type": "execute_result",
          "data": {
            "text/plain": [
              "XGBClassifier(base_score=0.5, booster='gbtree', colsample_bylevel=1,\n",
              "              colsample_bynode=1, colsample_bytree=1, gamma=0,\n",
              "              learning_rate=0.1, max_delta_step=0, max_depth=3,\n",
              "              min_child_weight=1, missing=None, n_estimators=100, n_jobs=1,\n",
              "              nthread=None, objective='binary:logistic', random_state=0,\n",
              "              reg_alpha=0, reg_lambda=1, scale_pos_weight=1, seed=None,\n",
              "              silent=None, subsample=1, verbosity=1)"
            ]
          },
          "metadata": {
            "tags": []
          },
          "execution_count": 89
        }
      ]
    },
    {
      "cell_type": "markdown",
      "metadata": {
        "id": "YuDMxXzpfkre"
      },
      "source": [
        "У модели классификации на основе случайного леса больше параметров. Рассмотрим наиболее важные:\n",
        "* параметр *n_estimators* определяет, сколько деревьев в лесу,\n",
        "* в параметре *max_depth* устанавливается, какая максимальная глубина у дерева,"
      ]
    },
    {
      "cell_type": "markdown",
      "metadata": {
        "id": "H9bG6M2Tfkre"
      },
      "source": [
        "**Шаг 5.2. Обучить модель**\n",
        "\n",
        "Теперь, когда мы создали прототипы обеих моделей, можем их обучить с помощью обучающей выборки. \n",
        "\n",
        "Для этого вызываем метод **fit()** у каждой модели и передаем ему на вход два аргумента: \n",
        "таблицу входных признаков и столбец значений целевой переменной - (training_points, training_values)"
      ]
    },
    {
      "cell_type": "code",
      "metadata": {
        "id": "PLB7Dslyfkrf",
        "colab": {
          "base_uri": "https://localhost:8080/"
        },
        "outputId": "01e62bcf-fc67-4c13-ceb4-d666aa9a7556"
      },
      "source": [
        "logistic_regression_model.fit(training_points, training_values)"
      ],
      "execution_count": null,
      "outputs": [
        {
          "output_type": "execute_result",
          "data": {
            "text/plain": [
              "LogisticRegression(C=1.0, class_weight=None, dual=False, fit_intercept=True,\n",
              "                   intercept_scaling=1, l1_ratio=None, max_iter=100,\n",
              "                   multi_class='auto', n_jobs=None, penalty='l2',\n",
              "                   random_state=None, solver='lbfgs', tol=0.0001, verbose=0,\n",
              "                   warm_start=False)"
            ]
          },
          "metadata": {
            "tags": []
          },
          "execution_count": 90
        }
      ]
    },
    {
      "cell_type": "markdown",
      "metadata": {
        "id": "i00rGI__fkrh"
      },
      "source": [
        "Делаем тоже самое для модели решающего леса.\n",
        "\n",
        "Возможно, будут предупреждения, о том, что в будущем планируются изменения в этой модели (FutureWarning). "
      ]
    },
    {
      "cell_type": "code",
      "metadata": {
        "id": "nQdjxqrZfkrj",
        "colab": {
          "base_uri": "https://localhost:8080/"
        },
        "outputId": "84336d86-e3fc-4bbe-d878-433f2608b89c"
      },
      "source": [
        "xgboost_model.fit(training_points, training_values)"
      ],
      "execution_count": null,
      "outputs": [
        {
          "output_type": "execute_result",
          "data": {
            "text/plain": [
              "XGBClassifier(base_score=0.5, booster='gbtree', colsample_bylevel=1,\n",
              "              colsample_bynode=1, colsample_bytree=1, gamma=0,\n",
              "              learning_rate=0.1, max_delta_step=0, max_depth=3,\n",
              "              min_child_weight=1, missing=None, n_estimators=100, n_jobs=1,\n",
              "              nthread=None, objective='binary:logistic', random_state=0,\n",
              "              reg_alpha=0, reg_lambda=1, scale_pos_weight=1, seed=None,\n",
              "              silent=None, subsample=1, verbosity=1)"
            ]
          },
          "metadata": {
            "tags": []
          },
          "execution_count": 93
        }
      ]
    },
    {
      "cell_type": "markdown",
      "metadata": {
        "id": "rBmTuKmPfkrn"
      },
      "source": [
        "* Для двух разных моделей методы для обучения модели не отличаются.\n",
        "* Мы получили две обученные модели. \n",
        "* Теперь необходимо провалидировать модели на новых тестовых данных, которые не использовались при обучении модели."
      ]
    },
    {
      "cell_type": "markdown",
      "metadata": {
        "id": "--22CS30fkrq"
      },
      "source": [
        "# 6. Провалидировать модель на тестовой выборке"
      ]
    },
    {
      "cell_type": "markdown",
      "metadata": {
        "id": "1W2Aks_bfkrr"
      },
      "source": [
        "Сначала получим прогноз модели на тестовых данных `test_points` с помощью моделей логистической регрессии и решающего леса с градиентным бустингом.\n",
        "Для этого для таких моделей запустим метод `predict`."
      ]
    },
    {
      "cell_type": "code",
      "metadata": {
        "id": "F5agd7Xqfkrs"
      },
      "source": [
        "test_predictions_logistic_regression = logistic_regression_model.predict(test_points)"
      ],
      "execution_count": null,
      "outputs": []
    },
    {
      "cell_type": "code",
      "metadata": {
        "id": "P_9FFdgifkrw"
      },
      "source": [
        "test_predictions_xgboost = xgboost_model.predict(test_points)"
      ],
      "execution_count": null,
      "outputs": []
    },
    {
      "cell_type": "markdown",
      "metadata": {
        "id": "bW5H14vUfkrz"
      },
      "source": [
        "### Шаг 6.1. Точность прогноза"
      ]
    },
    {
      "cell_type": "markdown",
      "metadata": {
        "id": "__1QHI2Pfkr0"
      },
      "source": [
        "Посчитаем точность (accuracy) работы моделей. Напомним, что точность отражает, сколько в процентном соотношении от размера тестовой выборки модель угадала единичек и сколько угадала ноликов."
      ]
    },
    {
      "cell_type": "markdown",
      "metadata": {
        "id": "jumUSqEXfkr1"
      },
      "source": [
        "Функция для подсчета точности реализована в библиотеке **sklearn** и называется **`accuracy_score()`**. Импортируем её. "
      ]
    },
    {
      "cell_type": "code",
      "metadata": {
        "id": "PeVHGZAifkr2"
      },
      "source": [
        "from sklearn.metrics import accuracy_score"
      ],
      "execution_count": null,
      "outputs": []
    },
    {
      "cell_type": "markdown",
      "metadata": {
        "id": "OdO7dYE0fkr-"
      },
      "source": [
        "В функцию **`accuracy_score()`** необходимо передать два аргумента:\n",
        "* истинные значения меток - *test_values*\n",
        "* предсказания модели - *test_predictions_logistic_regression* или *test_predictions_random_forest*"
      ]
    },
    {
      "cell_type": "code",
      "metadata": {
        "id": "Fh-MGTvsfksA",
        "colab": {
          "base_uri": "https://localhost:8080/"
        },
        "outputId": "15e5f9da-4796-4044-e369-205c982296f6"
      },
      "source": [
        "print(accuracy_score(test_values, test_predictions_logistic_regression))\n",
        "print(accuracy_score(test_values, test_predictions_xgboost))"
      ],
      "execution_count": null,
      "outputs": [
        {
          "output_type": "stream",
          "text": [
            "0.8357531760435571\n",
            "0.8756805807622504\n"
          ],
          "name": "stdout"
        }
      ]
    },
    {
      "cell_type": "markdown",
      "metadata": {
        "id": "AqYKNlqJfksF"
      },
      "source": [
        "Сравним значения точности для наших моделей с точностью для константного классификатора, модели, которая всегда бы предсказывала больший класс, в нашем случае 0. \n",
        "Для этого можно в функцию **`accuracy_score()`** в качестве второго аргумента передать массив нулей такого же размера, как и *test_values*. Это делается с помощью функции **`zeros_like()`** из библиотеки pandas, у которой один аргумент - *test_values*, массив с размером которого будет создан массив нулей. "
      ]
    },
    {
      "cell_type": "code",
      "metadata": {
        "id": "Ci83rfINfksG",
        "colab": {
          "base_uri": "https://localhost:8080/"
        },
        "outputId": "b8c573e5-0f01-439d-c92b-8eb995e6d85c"
      },
      "source": [
        "print(accuracy_score(test_values, np.zeros_like(test_values)))"
      ],
      "execution_count": null,
      "outputs": [
        {
          "output_type": "stream",
          "text": [
            "0.8357531760435571\n"
          ],
          "name": "stdout"
        }
      ]
    },
    {
      "cell_type": "markdown",
      "metadata": {
        "id": "fq2jcND2fksI"
      },
      "source": [
        "Как видно, значения точности для логистической регрессии равно точности для контстантного классификатора. И на самом деле, модель логистической регресси предсказывает только класс 0:"
      ]
    },
    {
      "cell_type": "code",
      "metadata": {
        "id": "8RocT_VpfksI",
        "colab": {
          "base_uri": "https://localhost:8080/"
        },
        "outputId": "7b25f626-e150-463c-cc0e-3e0d77b9e743"
      },
      "source": [
        "pd.value_counts(test_predictions_logistic_regression)"
      ],
      "execution_count": null,
      "outputs": [
        {
          "output_type": "execute_result",
          "data": {
            "text/plain": [
              "0    1102\n",
              "dtype: int64"
            ]
          },
          "metadata": {
            "tags": []
          },
          "execution_count": 99
        }
      ]
    },
    {
      "cell_type": "code",
      "metadata": {
        "id": "syZSMO9BNHcR",
        "colab": {
          "base_uri": "https://localhost:8080/"
        },
        "outputId": "ad29e3a0-2a2e-45b2-c5ad-e0cf7658d128"
      },
      "source": [
        "pd.value_counts(test_predictions_xgboost)"
      ],
      "execution_count": null,
      "outputs": [
        {
          "output_type": "execute_result",
          "data": {
            "text/plain": [
              "0    1052\n",
              "1      50\n",
              "dtype: int64"
            ]
          },
          "metadata": {
            "tags": []
          },
          "execution_count": 100
        }
      ]
    },
    {
      "cell_type": "markdown",
      "metadata": {
        "id": "CrimlZ0VfksK"
      },
      "source": [
        "Модель градиентного бустинга над решающими деревьями работает лучше, поэтому для дальнейшего исследования мы оставим её.  "
      ]
    },
    {
      "cell_type": "markdown",
      "metadata": {
        "id": "hCk7hNEwfksK"
      },
      "source": [
        "### Шаг 6.2. Таблица сопряженности модели классификации"
      ]
    },
    {
      "cell_type": "markdown",
      "metadata": {
        "id": "1vq89Cv4fksL"
      },
      "source": [
        "Напоминм, что **таблица сопряжённости** (матрица неточности, или Confusion matrix) содержит сводные показатели качества работы классификатора. **Строки** этой таблицы соответствуют **фактическим классам** тестового набора, а **столбцы** - **предсказанным** классификатором меткам.\n",
        "\n",
        "Импортируем функцию для построения таблицы сопряженности из библиотеки **`sklearn`**."
      ]
    },
    {
      "cell_type": "code",
      "metadata": {
        "id": "EeZufTfJfksL"
      },
      "source": [
        "from sklearn.metrics import confusion_matrix"
      ],
      "execution_count": null,
      "outputs": []
    },
    {
      "cell_type": "markdown",
      "metadata": {
        "id": "KicFOOWgfksO"
      },
      "source": [
        "Таблица содержит четыре сводных показателя, каждый из которых отражает количество объектов в одной и четырех\n",
        "категорий: \n",
        "* **истинно позитивный** (*True positive*, **TP**) -- объект\n",
        "класса `1` был верно помечен меткой `1`;\n",
        "* **ложно позитивный** (*False positive*, **FP**) -- объект\n",
        "фактически принадлежит классу `0`, но помечен меткой `1`;\n",
        "* **истинно отрицательный** (*True negative*, **TN**) -- классификатор\n",
        "верно определил, что объект класса `0` принадлежит классу `0`;\n",
        "* **ложно отрицательный** (*False negative*, **FN**) -- классификатор\n",
        "пометил объект меткой `0`, однако на самом деле объект принадлежит классу `1`.\n",
        "\n",
        "\n",
        "Замечание: ошибки False positive часто называют **ложной тревогой**, а False negative - **пропуском цели**. "
      ]
    },
    {
      "cell_type": "markdown",
      "metadata": {
        "id": "hv1zRMibfksO"
      },
      "source": [
        "|                   |  Предсказано `0` |  Предсказано `1` |\n",
        "|:-------------------|:------------------|:------------------|\n",
        "|**Фактически** `0`  |       TN         |       FP         |\n",
        "|**Фактически** `1`  |       FN         |       TP         | "
      ]
    },
    {
      "cell_type": "markdown",
      "metadata": {
        "id": "g5aCd_EofksP"
      },
      "source": [
        "Посмотрим на таблицу сопряженности для градиентного бустинга. Для этого в функцию **`confusion_matrix()`** необходимо передать два аргумента:\n",
        "* истинные значения меток - *test_values*\n",
        "* предсказания модели - *test_predictions_xgboost*\n",
        "\n",
        "Далее для удобства мы запишем полученную матрицу в удобный табличный вид, воспользовавшись функцией **`DataFrame()`** из библиотеки **pandas**. "
      ]
    },
    {
      "cell_type": "code",
      "metadata": {
        "scrolled": true,
        "id": "ePfeHroafksP",
        "colab": {
          "base_uri": "https://localhost:8080/",
          "height": 106
        },
        "outputId": "7387e5cf-3bb0-4d40-e882-19a7ebbd711a"
      },
      "source": [
        "xgboost_confusion_matrix = confusion_matrix(test_values, test_predictions_xgboost)\n",
        "xgboost_confusion_matrix = pd.DataFrame(xgboost_confusion_matrix)\n",
        "\n",
        "xgboost_confusion_matrix"
      ],
      "execution_count": null,
      "outputs": [
        {
          "output_type": "execute_result",
          "data": {
            "text/html": [
              "<div>\n",
              "<style scoped>\n",
              "    .dataframe tbody tr th:only-of-type {\n",
              "        vertical-align: middle;\n",
              "    }\n",
              "\n",
              "    .dataframe tbody tr th {\n",
              "        vertical-align: top;\n",
              "    }\n",
              "\n",
              "    .dataframe thead th {\n",
              "        text-align: right;\n",
              "    }\n",
              "</style>\n",
              "<table border=\"1\" class=\"dataframe\">\n",
              "  <thead>\n",
              "    <tr style=\"text-align: right;\">\n",
              "      <th></th>\n",
              "      <th>0</th>\n",
              "      <th>1</th>\n",
              "    </tr>\n",
              "  </thead>\n",
              "  <tbody>\n",
              "    <tr>\n",
              "      <th>0</th>\n",
              "      <td>918</td>\n",
              "      <td>3</td>\n",
              "    </tr>\n",
              "    <tr>\n",
              "      <th>1</th>\n",
              "      <td>134</td>\n",
              "      <td>47</td>\n",
              "    </tr>\n",
              "  </tbody>\n",
              "</table>\n",
              "</div>"
            ],
            "text/plain": [
              "     0   1\n",
              "0  918   3\n",
              "1  134  47"
            ]
          },
          "metadata": {
            "tags": []
          },
          "execution_count": 102
        }
      ]
    },
    {
      "cell_type": "markdown",
      "metadata": {
        "id": "SnvNuH74fksR"
      },
      "source": [
        "### Шаг 6.3. Прогноз вероятности принадлежности к классу\n",
        "\n",
        "Вместо прогноза меток классов модель может с помощью метода **`predict_proba()`** выдавать метки вероятности принадлежности к классам.\n",
        "Так как класса у нас 2: сотрудники, которые ушли и которые продолжили работать, то матрица будет размером **(количество объектов в тестовой выборке, 2)**."
      ]
    },
    {
      "cell_type": "code",
      "metadata": {
        "id": "Hg5_hn44fksS"
      },
      "source": [
        "test_probabilities = xgboost_model.predict_proba(test_points)"
      ],
      "execution_count": null,
      "outputs": []
    },
    {
      "cell_type": "markdown",
      "metadata": {
        "id": "ORG5t6MKfksU"
      },
      "source": [
        "Посмотрим на первые пять значений этой матрицу: "
      ]
    },
    {
      "cell_type": "code",
      "metadata": {
        "id": "d4k9kGbmfksV",
        "colab": {
          "base_uri": "https://localhost:8080/"
        },
        "outputId": "c40fd09b-3be9-44a1-c8b1-7d97f6283a82"
      },
      "source": [
        "test_probabilities[:5, :]"
      ],
      "execution_count": null,
      "outputs": [
        {
          "output_type": "execute_result",
          "data": {
            "text/plain": [
              "array([[0.85320413, 0.1467959 ],\n",
              "       [0.89820313, 0.10179687],\n",
              "       [0.90320766, 0.09679237],\n",
              "       [0.94075686, 0.05924314],\n",
              "       [0.632504  , 0.367496  ]], dtype=float32)"
            ]
          },
          "metadata": {
            "tags": []
          },
          "execution_count": 104
        }
      ]
    },
    {
      "cell_type": "markdown",
      "metadata": {
        "id": "fD-b5oTdfksY"
      },
      "source": [
        "Вероятность принадлежности ко второму классу - во втором столбце матрицы вероятностей."
      ]
    },
    {
      "cell_type": "code",
      "metadata": {
        "id": "geVV3ig4fksZ"
      },
      "source": [
        "test_probabilities = test_probabilities[:, 1]"
      ],
      "execution_count": null,
      "outputs": []
    },
    {
      "cell_type": "markdown",
      "metadata": {
        "id": "AmSo-KVFfksa"
      },
      "source": [
        "Посмотрим на распределение предсказанной классификатором вероятности ухода сотрудника, метки `1`."
      ]
    },
    {
      "cell_type": "code",
      "metadata": {
        "id": "f9bYXlW9fksb",
        "colab": {
          "base_uri": "https://localhost:8080/",
          "height": 343
        },
        "outputId": "2be95ad8-4654-4329-a97d-475d46b820a2"
      },
      "source": [
        "plt.figure(figsize=(8, 5))\n",
        "\n",
        "plt.hist(test_probabilities, bins=100)\n",
        "plt.vlines(0.5, 0, 100)\n",
        "\n",
        "plt.xlabel('Предсказанная вероятность ухода сотрудника', fontsize=20)\n",
        "plt.ylabel('Количество сотрудников', fontsize=20);"
      ],
      "execution_count": null,
      "outputs": [
        {
          "output_type": "display_data",
          "data": {
            "image/png": "[encoded data removed]",
            "text/plain": [
              "<Figure size 576x360 with 1 Axes>"
            ]
          },
          "metadata": {
            "tags": []
          }
        }
      ]
    },
    {
      "cell_type": "markdown",
      "metadata": {
        "id": "tg0rO1DKfksh"
      },
      "source": [
        "Распределение сконцентрировано на отрезке от `0` до `0.4` и лишь незначительная часть вероятностей превышает порог `0.5`. Из\n",
        "этого можно предположить, что классификатор склонен классифицировать все\n",
        "объекты скорее как `0`, игнорируя метку `1`. Это происходит потому, что меток `1` в обучающей выборке сильно меньше, чем меток `0`."
      ]
    },
    {
      "cell_type": "markdown",
      "metadata": {
        "id": "N-OTtW-9fksi"
      },
      "source": [
        "## *Бонус: Точность и полнота"
      ]
    },
    {
      "cell_type": "markdown",
      "metadata": {
        "id": "D71o1Sjufksj"
      },
      "source": [
        "Метрики **Точность** (*Precision*) и **Полнота** (*Recall*) позволяют по-другому взглянуть на качество работы классификатора. Обе метрики рассчитываются на основе значений **таблицы сопряжённости**."
      ]
    },
    {
      "cell_type": "markdown",
      "metadata": {
        "id": "eDmhVY5bfksj"
      },
      "source": [
        "<a href=\"https://drive.google.com/uc?id=1jAZLpihYxu_FPvN9PIJ1G4S_KvO_6Ku6\n",
        "\" target=\"_blank\"><img src=\"https://drive.google.com/uc?id=1Q3zfGLnyEYJmZbfVxKXoxpsndmoLwd7K\" \n",
        "alt=\"IMAGE ALT TEXT HERE\" width=\"500\" border=\"0\" /></a>\n"
      ]
    },
    {
      "cell_type": "markdown",
      "metadata": {
        "id": "drq41XiCfksk"
      },
      "source": [
        "Несмотря на то, что в английском языке слова *accuracy* и *precision*\n",
        "синонимы, они соответствуют принципиально разным метрикам. В русском языке\n",
        "оба слова переводятся как \"точность\"."
      ]
    },
    {
      "cell_type": "markdown",
      "metadata": {
        "id": "cD98iZjwfksm"
      },
      "source": [
        "Для начала получим матрицу сопряженности для классификатора на основе случайного леса:"
      ]
    },
    {
      "cell_type": "code",
      "metadata": {
        "id": "e1jW1TEYfksn"
      },
      "source": [
        "confusion_matrix_xgboost = confusion_matrix(test_values, test_predictions_xgboost)"
      ],
      "execution_count": null,
      "outputs": []
    },
    {
      "cell_type": "markdown",
      "metadata": {
        "id": "f5JmcbJ8fksp"
      },
      "source": [
        "|                   |  Предсказано `0` |  Предсказано `1` |\n",
        "|-------------------|------------------|------------------|\n",
        "|**Фактически** `0` |       TN         |       FP         |\n",
        "|**Фактически** `1` |       FN         |       TP         | "
      ]
    },
    {
      "cell_type": "markdown",
      "metadata": {
        "id": "drTwkeuKfksq"
      },
      "source": [
        "Выделим каждое значение в отдельную переменную:"
      ]
    },
    {
      "cell_type": "code",
      "metadata": {
        "id": "0ZIqAPtAfksq"
      },
      "source": [
        "TN, FP = confusion_matrix_xgboost[0, 0], confusion_matrix_xgboost[0, 1]\n",
        "\n",
        "FN, TP = confusion_matrix_xgboost[1, 0], confusion_matrix_xgboost[1, 1]"
      ],
      "execution_count": null,
      "outputs": []
    },
    {
      "cell_type": "markdown",
      "metadata": {
        "id": "N6tJCANtfksu"
      },
      "source": [
        "Полнота (**Recall**) классификатора равна доли истинно положительных срабатываний **TPR**\n",
        "(отношение $\\frac{TP}{TP + FN}$). Эту характеристику можно интерпретировать, как\n",
        "\"чувствительность\" классификатора к объектам класса `1`. Чем ближе к $100\\%$, тем\n",
        "реже классификатор \"пропускает\" положительный объект (в данном случае истинного класса `1`)."
      ]
    },
    {
      "cell_type": "code",
      "metadata": {
        "id": "pNuAeE9-fksv",
        "colab": {
          "base_uri": "https://localhost:8080/"
        },
        "outputId": "ff0e5b66-0c1a-4d8e-f066-fac7633ae75b"
      },
      "source": [
        "recall = TP / (TP + FN)\n",
        "\n",
        "print(\"Полнота: %.2f%%\" % (100 * recall))"
      ],
      "execution_count": null,
      "outputs": [
        {
          "output_type": "stream",
          "text": [
            "Полнота: 25.97%\n"
          ],
          "name": "stdout"
        }
      ]
    },
    {
      "cell_type": "markdown",
      "metadata": {
        "id": "tObSm5WCfksx"
      },
      "source": [
        "Точность классификатора (**Precision**) -- это отношение $\\frac{TP}{TP + FP}$. Оно отражает,\n",
        "насколько разборчиво классификатор присваивает метки положительного класса `1`. Чем выше этот показатель,\n",
        "тем \"реже\" объекты, помеченные как `1`, являются на самом деле примерами из класса `0`."
      ]
    },
    {
      "cell_type": "code",
      "metadata": {
        "id": "C37JGziifksx",
        "colab": {
          "base_uri": "https://localhost:8080/"
        },
        "outputId": "287ad2cd-ca3b-4a84-9609-2b1bd97c272b"
      },
      "source": [
        "precision = TP / (TP + FP)\n",
        "\n",
        "print(\"Точность: %.2f%%\" % (100 * precision))"
      ],
      "execution_count": null,
      "outputs": [
        {
          "output_type": "stream",
          "text": [
            "Точность: 94.00%\n"
          ],
          "name": "stdout"
        }
      ]
    },
    {
      "cell_type": "markdown",
      "metadata": {
        "id": "83-WDV-nfksz"
      },
      "source": [
        "Классификатор с высокой полнотой, но низкой точностью срабатывает очень\n",
        "часто, однако при этом большинство результатов ошибочны (много ложных\n",
        "срабатываний)."
      ]
    },
    {
      "cell_type": "markdown",
      "metadata": {
        "id": "Y2y1KJ5qfks0"
      },
      "source": [
        "Наоборот, если у классификатора низкая полнота, но высокая точность,\n",
        "то он срабатывает достаточно редко, но при этом почти безошибочно определяет\n",
        "объекты класса `1` (много пропущенных объектов, ложное \"бездействие\")."
      ]
    },
    {
      "cell_type": "markdown",
      "metadata": {
        "id": "c7X1pUX4fks0"
      },
      "source": [
        "### Кривая precision-recall"
      ]
    },
    {
      "cell_type": "markdown",
      "metadata": {
        "id": "urVRqgfKfks0"
      },
      "source": [
        "В пространстве **precision-recall** можно построить кривую, аналогичную **ROC**-кривой. Она также отражает зависимость метрик от порога классификации и косвенно друг от друга. В **sklearn** для построения этой кривой есть функция **precision_recall_curve()**<br/>"
      ]
    },
    {
      "cell_type": "markdown",
      "metadata": {
        "id": "WTME_dROfks1"
      },
      "source": [
        "Получим координаты точек кривой **PR** для тестового набора данных, для этого функции **precision_recall_curve()** нужно передать два аргумента: \n",
        "* истинные значения - *test_values*\n",
        "* предсказанные вероятности - *test_probabilities*"
      ]
    },
    {
      "cell_type": "code",
      "metadata": {
        "id": "aqAK97h-fks4"
      },
      "source": [
        "precision, recall, _ = precision_recall_curve(test_values, test_probabilities)"
      ],
      "execution_count": null,
      "outputs": []
    },
    {
      "cell_type": "markdown",
      "metadata": {
        "id": "2AMdCg4Bfks6"
      },
      "source": [
        "Нарисуем кривую precision-recall:"
      ]
    },
    {
      "cell_type": "code",
      "metadata": {
        "id": "TKefJMDxfks7",
        "colab": {
          "base_uri": "https://localhost:8080/",
          "height": 467
        },
        "outputId": "80613a0b-c327-4a2b-e433-3aaf8fff15e9"
      },
      "source": [
        "plt.figure(figsize=(7, 7))\n",
        "\n",
        "plt.plot(recall, precision, color='darkorange')\n",
        "\n",
        "plt.title('Precision-Recall curve', fontsize=18)\n",
        "plt.xlabel('Полнота (Recall)', fontsize=16)\n",
        "plt.ylabel('Точность (Precision)', fontsize=16)\n",
        "\n",
        "plt.show()"
      ],
      "execution_count": null,
      "outputs": [
        {
          "output_type": "display_data",
          "data": {
            "image/png": "[encoded data removed]",
            "text/plain": [
              "<Figure size 504x504 with 1 Axes>"
            ]
          },
          "metadata": {
            "tags": []
          }
        }
      ]
    },
    {
      "cell_type": "markdown",
      "metadata": {
        "id": "UzV2koTJfks_"
      },
      "source": [
        "Чем ближе кривая **PR** к **правому верхнему** углу тем лучше качество классификации."
      ]
    },
    {
      "cell_type": "markdown",
      "metadata": {
        "id": "rT6I59Vvfks_"
      },
      "source": [
        "Площадь под **precision-recall** рассчитывается отдельной функцией **average_precision_score()**:"
      ]
    },
    {
      "cell_type": "code",
      "metadata": {
        "id": "C8UYHKR_fktA",
        "colab": {
          "base_uri": "https://localhost:8080/"
        },
        "outputId": "9ed948a4-be95-4073-aa47-6b8d379f09d6"
      },
      "source": [
        "pr_auc_value = average_precision_score(test_values, test_probabilities)\n",
        "\n",
        "print(\"PR-AUC на тестовой выборке:\", pr_auc_value) "
      ],
      "execution_count": null,
      "outputs": [
        {
          "output_type": "stream",
          "text": [
            "PR-AUC на тестовой выборке: 0.7102069442776826\n"
          ],
          "name": "stdout"
        }
      ]
    },
    {
      "cell_type": "markdown",
      "metadata": {
        "id": "xfSwwDzdfktC"
      },
      "source": [
        "Большая площадь под кривой отражает высокие метрики точности и полноты,\n",
        "что означает низкое число ложных срабатываний, и низкое число пропущенных\n",
        "объектов интересующего нас класса `1`."
      ]
    },
    {
      "cell_type": "markdown",
      "metadata": {
        "id": "V7rUxaRvfktD"
      },
      "source": [
        "Также нарисуем ROC кривую классификатора."
      ]
    },
    {
      "cell_type": "code",
      "metadata": {
        "id": "biLKJb7ifktD"
      },
      "source": [
        "false_positive_rates, true_positive_rates, threshold = roc_curve(test_values, test_probabilities)"
      ],
      "execution_count": null,
      "outputs": []
    },
    {
      "cell_type": "code",
      "metadata": {
        "id": "eAOS1rm9fktG",
        "colab": {
          "base_uri": "https://localhost:8080/",
          "height": 458
        },
        "outputId": "5a6f6665-d75f-487f-9616-3977230ed06f"
      },
      "source": [
        "# создаём график\n",
        "plt.figure(figsize=(7, 7))\n",
        "\n",
        "# рисуем кривую\n",
        "plt.plot(false_positive_rates, true_positive_rates, label='Сглаженные значения ROC-AUC')\n",
        "\n",
        "# кривая, соответствующая случайному угадыванию\n",
        "plt.plot([0, 1], [0, 1], color='k', lw=2, linestyle=':', label='Модель, выдающая случайное значение')\n",
        "\n",
        "plt.title('ROC curve')\n",
        "plt.xlabel('False Positive Rate')\n",
        "plt.ylabel('True Positive Rate')\n",
        "\n",
        "plt.fill_between(false_positive_rates, true_positive_rates, step=\"mid\", alpha=0.4, label='площадь под кривой (ROC-AUC)')\n",
        "plt.legend()\n",
        "plt.show()"
      ],
      "execution_count": null,
      "outputs": [
        {
          "output_type": "display_data",
          "data": {
            "image/png": "[encoded data removed]",
            "text/plain": [
              "<Figure size 504x504 with 1 Axes>"
            ]
          },
          "metadata": {
            "tags": []
          }
        }
      ]
    },
    {
      "cell_type": "code",
      "metadata": {
        "id": "kTTTouahfktI"
      },
      "source": [
        "from sklearn.metrics import roc_auc_score"
      ],
      "execution_count": null,
      "outputs": []
    },
    {
      "cell_type": "code",
      "metadata": {
        "id": "vfkmIeCTfktJ",
        "colab": {
          "base_uri": "https://localhost:8080/"
        },
        "outputId": "714a5557-fb47-4116-aaef-1ec7178a5fbd"
      },
      "source": [
        "roc_auc_value = roc_auc_score(test_values, test_probabilities)\n",
        "\n",
        "print(\"ROC-AUC на тестовой выборке:\", roc_auc_value) "
      ],
      "execution_count": null,
      "outputs": [
        {
          "output_type": "stream",
          "text": [
            "ROC-AUC на тестовой выборке: 0.9031079597602895\n"
          ],
          "name": "stdout"
        }
      ]
    },
    {
      "cell_type": "markdown",
      "metadata": {
        "id": "pnwXcdwdfktK"
      },
      "source": [
        "Типичная шкала для **ROC-AUC** (часто все зависит от задачи):\n",
        "* $0.90$ - $1.00$ отлично;\n",
        "* $0.80$ - $0.90$ хорошо;\n",
        "* $0.70$ - $0.80$ удовлетворительно;\n",
        "* $0.60$ - $0.70$ плохо;\n",
        "* $0.50$ - $0.60$ очень плохо;\n",
        "* $0.00$ - $0.50$ классификатор перепутал метки."
      ]
    },
    {
      "cell_type": "markdown",
      "metadata": {
        "id": "MvdJb6KHfktL"
      },
      "source": [
        "## *Бонус 2: Определение важности признаков"
      ]
    },
    {
      "cell_type": "markdown",
      "metadata": {
        "id": "afRFaXcjfktM"
      },
      "source": [
        "Очевидно, что не все собранные признаки будут одинаково полезны. После обучения алгоритма мы можем посмотреть какие из признаков больше влияют на результат. Если в наборе данных окажутся бесполезные признаки, то их можно удалить, чтобы уменьшить время обучения. В алгоритмах библиотеки **sklearn** посмотреть на важность признаков можно с помощью свойства **feature_importances_**"
      ]
    },
    {
      "cell_type": "code",
      "metadata": {
        "id": "th6law_6fktM"
      },
      "source": [
        "importances = xgboost_model.feature_importances_\n",
        "indices = np.argsort(importances)[::-1]"
      ],
      "execution_count": null,
      "outputs": []
    },
    {
      "cell_type": "code",
      "metadata": {
        "id": "XtivTPmhknVn",
        "colab": {
          "base_uri": "https://localhost:8080/"
        },
        "outputId": "15d94547-7874-4059-d16f-16ee68b530dd"
      },
      "source": [
        "importances.shape"
      ],
      "execution_count": null,
      "outputs": [
        {
          "output_type": "execute_result",
          "data": {
            "text/plain": [
              "(19,)"
            ]
          },
          "metadata": {
            "tags": []
          },
          "execution_count": 119
        }
      ]
    },
    {
      "cell_type": "code",
      "metadata": {
        "id": "EVPrGphlfktN",
        "colab": {
          "base_uri": "https://localhost:8080/",
          "height": 627
        },
        "outputId": "37e18cb5-3c09-4be0-fb60-eb9861e7d051"
      },
      "source": [
        "plt.figure(figsize=(8, 8))\n",
        "\n",
        "plt.title('Важность признаков')\n",
        "plt.ylabel('Важность (полезность)')\n",
        "plt.xlabel('Название признака')\n",
        "\n",
        "plt.bar(training_points.columns[indices], importances[indices])\n",
        "plt.xticks(rotation=90)\n",
        "plt.show()"
      ],
      "execution_count": null,
      "outputs": [
        {
          "output_type": "display_data",
          "data": {
            "image/png": "[encoded data removed]",
            "text/plain": [
              "<Figure size 576x576 with 1 Axes>"
            ]
          },
          "metadata": {
            "tags": []
          }
        }
      ]
    },
    {
      "cell_type": "code",
      "metadata": {
        "id": "HFB9l-ojich5"
      },
      "source": [
        "importances = logistic_regression_model.coef_.flatten()\n",
        "indices = np.argsort(importances)[::-1]"
      ],
      "execution_count": null,
      "outputs": []
    },
    {
      "cell_type": "code",
      "metadata": {
        "id": "uGJgdHJ3jrBF",
        "colab": {
          "base_uri": "https://localhost:8080/",
          "height": 627
        },
        "outputId": "cea59b41-aec9-4d9a-ed71-1e1d96d1686b"
      },
      "source": [
        "plt.figure(figsize=(8, 8))\n",
        "\n",
        "plt.title('Важность признаков')\n",
        "plt.ylabel('Важность (полезность)')\n",
        "plt.xlabel('Название признака')\n",
        "\n",
        "plt.bar(training_points.columns[indices], importances[indices])\n",
        "plt.xticks(rotation=90)\n",
        "plt.show()"
      ],
      "execution_count": null,
      "outputs": [
        {
          "output_type": "display_data",
          "data": {
            "image/png": "[encoded data removed]",
            "text/plain": [
              "<Figure size 576x576 with 1 Axes>"
            ]
          },
          "metadata": {
            "tags": []
          }
        }
      ]
    },
    {
      "cell_type": "markdown",
      "metadata": {
        "id": "t_Wb5ZRMKFAX"
      },
      "source": [
        "# 7. Задание 2"
      ]
    },
    {
      "cell_type": "markdown",
      "metadata": {
        "id": "nxv_xImELcqQ"
      },
      "source": [
        "Из предыдущего пункта мы видим, что в логистической регрессионной модели бесполезным признаком является \"StandartHours\" (название переменных с индексом _2), а в модели случайного леса \"Gender\", \"StandartHours\", \"MonthlyIncome\", \"StockOptionLevel\", \"BusinessTravel\" (название переменных с индексом _3). Уберем их и обучим модели \n",
        "заново."
      ]
    },
    {
      "cell_type": "markdown",
      "metadata": {
        "id": "w9LQS7tmLWlX"
      },
      "source": [
        "Загрузим данные"
      ]
    },
    {
      "cell_type": "code",
      "metadata": {
        "id": "B-PA8I3Oj3dS"
      },
      "source": [
        "training_data_2 = pd.read_csv('training_data.csv')"
      ],
      "execution_count": null,
      "outputs": []
    },
    {
      "cell_type": "code",
      "metadata": {
        "id": "zW7QXX46N4P6"
      },
      "source": [
        "training_data_3 = pd.read_csv('training_data.csv')"
      ],
      "execution_count": null,
      "outputs": []
    },
    {
      "cell_type": "markdown",
      "metadata": {
        "id": "QuY1NbN84XZy"
      },
      "source": [
        "Проверим данные на наличие пропусков"
      ]
    },
    {
      "cell_type": "code",
      "metadata": {
        "colab": {
          "base_uri": "https://localhost:8080/"
        },
        "id": "Ew0bfd6TMoMX",
        "outputId": "e4b7fbbf-54da-45a0-f539-4c72f4c11693"
      },
      "source": [
        "training_data_2.info()"
      ],
      "execution_count": null,
      "outputs": [
        {
          "output_type": "stream",
          "text": [
            "<class 'pandas.core.frame.DataFrame'>\n",
            "RangeIndex: 3308 entries, 0 to 3307\n",
            "Data columns (total 20 columns):\n",
            " #   Column                   Non-Null Count  Dtype  \n",
            "---  ------                   --------------  -----  \n",
            " 0   Age                      3308 non-null   int64  \n",
            " 1   BusinessTravel           3308 non-null   object \n",
            " 2   Department               3308 non-null   object \n",
            " 3   DistanceFromHome         3308 non-null   int64  \n",
            " 4   Education                3308 non-null   int64  \n",
            " 5   EducationField           3308 non-null   object \n",
            " 6   Gender                   3308 non-null   object \n",
            " 7   JobRole                  3308 non-null   object \n",
            " 8   MaritalStatus            3308 non-null   object \n",
            " 9   MonthlyIncome            3308 non-null   int64  \n",
            " 10  NumCompaniesWorked       3293 non-null   float64\n",
            " 11  PercentSalaryHike        3308 non-null   int64  \n",
            " 12  StandardHours            3308 non-null   int64  \n",
            " 13  StockOptionLevel         3308 non-null   int64  \n",
            " 14  TotalWorkingYears        3301 non-null   float64\n",
            " 15  TrainingTimesLastYear    3308 non-null   int64  \n",
            " 16  YearsAtCompany           3308 non-null   int64  \n",
            " 17  YearsSinceLastPromotion  3308 non-null   int64  \n",
            " 18  YearsWithCurrManager     3308 non-null   int64  \n",
            " 19  Attrition                3308 non-null   int64  \n",
            "dtypes: float64(2), int64(12), object(6)\n",
            "memory usage: 517.0+ KB\n"
          ],
          "name": "stdout"
        }
      ]
    },
    {
      "cell_type": "code",
      "metadata": {
        "colab": {
          "base_uri": "https://localhost:8080/"
        },
        "id": "It7iUDRqN7Cw",
        "outputId": "d0d23b06-1c17-41d3-ace2-b862325f0171"
      },
      "source": [
        "training_data_3.info()"
      ],
      "execution_count": null,
      "outputs": [
        {
          "output_type": "stream",
          "text": [
            "<class 'pandas.core.frame.DataFrame'>\n",
            "RangeIndex: 3308 entries, 0 to 3307\n",
            "Data columns (total 20 columns):\n",
            " #   Column                   Non-Null Count  Dtype  \n",
            "---  ------                   --------------  -----  \n",
            " 0   Age                      3308 non-null   int64  \n",
            " 1   BusinessTravel           3308 non-null   object \n",
            " 2   Department               3308 non-null   object \n",
            " 3   DistanceFromHome         3308 non-null   int64  \n",
            " 4   Education                3308 non-null   int64  \n",
            " 5   EducationField           3308 non-null   object \n",
            " 6   Gender                   3308 non-null   object \n",
            " 7   JobRole                  3308 non-null   object \n",
            " 8   MaritalStatus            3308 non-null   object \n",
            " 9   MonthlyIncome            3308 non-null   int64  \n",
            " 10  NumCompaniesWorked       3293 non-null   float64\n",
            " 11  PercentSalaryHike        3308 non-null   int64  \n",
            " 12  StandardHours            3308 non-null   int64  \n",
            " 13  StockOptionLevel         3308 non-null   int64  \n",
            " 14  TotalWorkingYears        3301 non-null   float64\n",
            " 15  TrainingTimesLastYear    3308 non-null   int64  \n",
            " 16  YearsAtCompany           3308 non-null   int64  \n",
            " 17  YearsSinceLastPromotion  3308 non-null   int64  \n",
            " 18  YearsWithCurrManager     3308 non-null   int64  \n",
            " 19  Attrition                3308 non-null   int64  \n",
            "dtypes: float64(2), int64(12), object(6)\n",
            "memory usage: 517.0+ KB\n"
          ],
          "name": "stdout"
        }
      ]
    },
    {
      "cell_type": "markdown",
      "metadata": {
        "id": "ArN_DXFbM4L9"
      },
      "source": [
        "Рассчитаем средние значения признаков в обучающей выборке, и заполним полученными числами пропуски как в тестовом наборе данных, так и в самой обучающей выборке.\n",
        "\n",
        "Мы будем заполнять средними значениями из обучающей выборки, так как при решении реальной задачи нам будут доступны только данные для обучения."
      ]
    },
    {
      "cell_type": "code",
      "metadata": {
        "colab": {
          "base_uri": "https://localhost:8080/",
          "height": 458
        },
        "id": "9b351n1gM4_V",
        "outputId": "93e56660-1b55-457a-a87e-0e93641efa13"
      },
      "source": [
        "training_data_2.describe().T"
      ],
      "execution_count": null,
      "outputs": [
        {
          "output_type": "execute_result",
          "data": {
            "text/html": [
              "<div>\n",
              "<style scoped>\n",
              "    .dataframe tbody tr th:only-of-type {\n",
              "        vertical-align: middle;\n",
              "    }\n",
              "\n",
              "    .dataframe tbody tr th {\n",
              "        vertical-align: top;\n",
              "    }\n",
              "\n",
              "    .dataframe thead th {\n",
              "        text-align: right;\n",
              "    }\n",
              "</style>\n",
              "<table border=\"1\" class=\"dataframe\">\n",
              "  <thead>\n",
              "    <tr style=\"text-align: right;\">\n",
              "      <th></th>\n",
              "      <th>count</th>\n",
              "      <th>mean</th>\n",
              "      <th>std</th>\n",
              "      <th>min</th>\n",
              "      <th>25%</th>\n",
              "      <th>50%</th>\n",
              "      <th>75%</th>\n",
              "      <th>max</th>\n",
              "    </tr>\n",
              "  </thead>\n",
              "  <tbody>\n",
              "    <tr>\n",
              "      <th>Age</th>\n",
              "      <td>3308.0</td>\n",
              "      <td>36.879383</td>\n",
              "      <td>9.146506</td>\n",
              "      <td>18.0</td>\n",
              "      <td>30.0</td>\n",
              "      <td>36.0</td>\n",
              "      <td>43.0</td>\n",
              "      <td>60.0</td>\n",
              "    </tr>\n",
              "    <tr>\n",
              "      <th>DistanceFromHome</th>\n",
              "      <td>3308.0</td>\n",
              "      <td>9.201935</td>\n",
              "      <td>8.078147</td>\n",
              "      <td>1.0</td>\n",
              "      <td>2.0</td>\n",
              "      <td>7.0</td>\n",
              "      <td>14.0</td>\n",
              "      <td>29.0</td>\n",
              "    </tr>\n",
              "    <tr>\n",
              "      <th>Education</th>\n",
              "      <td>3308.0</td>\n",
              "      <td>2.918380</td>\n",
              "      <td>1.024933</td>\n",
              "      <td>1.0</td>\n",
              "      <td>2.0</td>\n",
              "      <td>3.0</td>\n",
              "      <td>4.0</td>\n",
              "      <td>5.0</td>\n",
              "    </tr>\n",
              "    <tr>\n",
              "      <th>MonthlyIncome</th>\n",
              "      <td>3308.0</td>\n",
              "      <td>64594.903265</td>\n",
              "      <td>46744.260986</td>\n",
              "      <td>10090.0</td>\n",
              "      <td>29040.0</td>\n",
              "      <td>49070.0</td>\n",
              "      <td>83210.0</td>\n",
              "      <td>199990.0</td>\n",
              "    </tr>\n",
              "    <tr>\n",
              "      <th>NumCompaniesWorked</th>\n",
              "      <td>3293.0</td>\n",
              "      <td>2.703310</td>\n",
              "      <td>2.506197</td>\n",
              "      <td>0.0</td>\n",
              "      <td>1.0</td>\n",
              "      <td>2.0</td>\n",
              "      <td>4.0</td>\n",
              "      <td>9.0</td>\n",
              "    </tr>\n",
              "    <tr>\n",
              "      <th>PercentSalaryHike</th>\n",
              "      <td>3308.0</td>\n",
              "      <td>15.230048</td>\n",
              "      <td>3.672812</td>\n",
              "      <td>11.0</td>\n",
              "      <td>12.0</td>\n",
              "      <td>14.0</td>\n",
              "      <td>18.0</td>\n",
              "      <td>25.0</td>\n",
              "    </tr>\n",
              "    <tr>\n",
              "      <th>StandardHours</th>\n",
              "      <td>3308.0</td>\n",
              "      <td>8.000000</td>\n",
              "      <td>0.000000</td>\n",
              "      <td>8.0</td>\n",
              "      <td>8.0</td>\n",
              "      <td>8.0</td>\n",
              "      <td>8.0</td>\n",
              "      <td>8.0</td>\n",
              "    </tr>\n",
              "    <tr>\n",
              "      <th>StockOptionLevel</th>\n",
              "      <td>3308.0</td>\n",
              "      <td>0.804716</td>\n",
              "      <td>0.860350</td>\n",
              "      <td>0.0</td>\n",
              "      <td>0.0</td>\n",
              "      <td>1.0</td>\n",
              "      <td>1.0</td>\n",
              "      <td>3.0</td>\n",
              "    </tr>\n",
              "    <tr>\n",
              "      <th>TotalWorkingYears</th>\n",
              "      <td>3301.0</td>\n",
              "      <td>11.283248</td>\n",
              "      <td>7.791024</td>\n",
              "      <td>0.0</td>\n",
              "      <td>6.0</td>\n",
              "      <td>10.0</td>\n",
              "      <td>15.0</td>\n",
              "      <td>40.0</td>\n",
              "    </tr>\n",
              "    <tr>\n",
              "      <th>TrainingTimesLastYear</th>\n",
              "      <td>3308.0</td>\n",
              "      <td>2.801995</td>\n",
              "      <td>1.290718</td>\n",
              "      <td>0.0</td>\n",
              "      <td>2.0</td>\n",
              "      <td>3.0</td>\n",
              "      <td>3.0</td>\n",
              "      <td>6.0</td>\n",
              "    </tr>\n",
              "    <tr>\n",
              "      <th>YearsAtCompany</th>\n",
              "      <td>3308.0</td>\n",
              "      <td>6.998791</td>\n",
              "      <td>6.135502</td>\n",
              "      <td>0.0</td>\n",
              "      <td>3.0</td>\n",
              "      <td>5.0</td>\n",
              "      <td>9.0</td>\n",
              "      <td>40.0</td>\n",
              "    </tr>\n",
              "    <tr>\n",
              "      <th>YearsSinceLastPromotion</th>\n",
              "      <td>3308.0</td>\n",
              "      <td>2.187122</td>\n",
              "      <td>3.217035</td>\n",
              "      <td>0.0</td>\n",
              "      <td>0.0</td>\n",
              "      <td>1.0</td>\n",
              "      <td>3.0</td>\n",
              "      <td>15.0</td>\n",
              "    </tr>\n",
              "    <tr>\n",
              "      <th>YearsWithCurrManager</th>\n",
              "      <td>3308.0</td>\n",
              "      <td>4.118501</td>\n",
              "      <td>3.560423</td>\n",
              "      <td>0.0</td>\n",
              "      <td>2.0</td>\n",
              "      <td>3.0</td>\n",
              "      <td>7.0</td>\n",
              "      <td>17.0</td>\n",
              "    </tr>\n",
              "    <tr>\n",
              "      <th>Attrition</th>\n",
              "      <td>3308.0</td>\n",
              "      <td>0.160218</td>\n",
              "      <td>0.366863</td>\n",
              "      <td>0.0</td>\n",
              "      <td>0.0</td>\n",
              "      <td>0.0</td>\n",
              "      <td>0.0</td>\n",
              "      <td>1.0</td>\n",
              "    </tr>\n",
              "  </tbody>\n",
              "</table>\n",
              "</div>"
            ],
            "text/plain": [
              "                          count          mean  ...      75%       max\n",
              "Age                      3308.0     36.879383  ...     43.0      60.0\n",
              "DistanceFromHome         3308.0      9.201935  ...     14.0      29.0\n",
              "Education                3308.0      2.918380  ...      4.0       5.0\n",
              "MonthlyIncome            3308.0  64594.903265  ...  83210.0  199990.0\n",
              "NumCompaniesWorked       3293.0      2.703310  ...      4.0       9.0\n",
              "PercentSalaryHike        3308.0     15.230048  ...     18.0      25.0\n",
              "StandardHours            3308.0      8.000000  ...      8.0       8.0\n",
              "StockOptionLevel         3308.0      0.804716  ...      1.0       3.0\n",
              "TotalWorkingYears        3301.0     11.283248  ...     15.0      40.0\n",
              "TrainingTimesLastYear    3308.0      2.801995  ...      3.0       6.0\n",
              "YearsAtCompany           3308.0      6.998791  ...      9.0      40.0\n",
              "YearsSinceLastPromotion  3308.0      2.187122  ...      3.0      15.0\n",
              "YearsWithCurrManager     3308.0      4.118501  ...      7.0      17.0\n",
              "Attrition                3308.0      0.160218  ...      0.0       1.0\n",
              "\n",
              "[14 rows x 8 columns]"
            ]
          },
          "metadata": {
            "tags": []
          },
          "execution_count": 338
        }
      ]
    },
    {
      "cell_type": "code",
      "metadata": {
        "colab": {
          "base_uri": "https://localhost:8080/",
          "height": 458
        },
        "id": "9q7K1OVaN_yO",
        "outputId": "65550a40-8a30-40b5-8ce1-fbff6397c704"
      },
      "source": [
        "training_data_3.describe().T"
      ],
      "execution_count": null,
      "outputs": [
        {
          "output_type": "execute_result",
          "data": {
            "text/html": [
              "<div>\n",
              "<style scoped>\n",
              "    .dataframe tbody tr th:only-of-type {\n",
              "        vertical-align: middle;\n",
              "    }\n",
              "\n",
              "    .dataframe tbody tr th {\n",
              "        vertical-align: top;\n",
              "    }\n",
              "\n",
              "    .dataframe thead th {\n",
              "        text-align: right;\n",
              "    }\n",
              "</style>\n",
              "<table border=\"1\" class=\"dataframe\">\n",
              "  <thead>\n",
              "    <tr style=\"text-align: right;\">\n",
              "      <th></th>\n",
              "      <th>count</th>\n",
              "      <th>mean</th>\n",
              "      <th>std</th>\n",
              "      <th>min</th>\n",
              "      <th>25%</th>\n",
              "      <th>50%</th>\n",
              "      <th>75%</th>\n",
              "      <th>max</th>\n",
              "    </tr>\n",
              "  </thead>\n",
              "  <tbody>\n",
              "    <tr>\n",
              "      <th>Age</th>\n",
              "      <td>3308.0</td>\n",
              "      <td>36.879383</td>\n",
              "      <td>9.146506</td>\n",
              "      <td>18.0</td>\n",
              "      <td>30.0</td>\n",
              "      <td>36.0</td>\n",
              "      <td>43.0</td>\n",
              "      <td>60.0</td>\n",
              "    </tr>\n",
              "    <tr>\n",
              "      <th>DistanceFromHome</th>\n",
              "      <td>3308.0</td>\n",
              "      <td>9.201935</td>\n",
              "      <td>8.078147</td>\n",
              "      <td>1.0</td>\n",
              "      <td>2.0</td>\n",
              "      <td>7.0</td>\n",
              "      <td>14.0</td>\n",
              "      <td>29.0</td>\n",
              "    </tr>\n",
              "    <tr>\n",
              "      <th>Education</th>\n",
              "      <td>3308.0</td>\n",
              "      <td>2.918380</td>\n",
              "      <td>1.024933</td>\n",
              "      <td>1.0</td>\n",
              "      <td>2.0</td>\n",
              "      <td>3.0</td>\n",
              "      <td>4.0</td>\n",
              "      <td>5.0</td>\n",
              "    </tr>\n",
              "    <tr>\n",
              "      <th>MonthlyIncome</th>\n",
              "      <td>3308.0</td>\n",
              "      <td>64594.903265</td>\n",
              "      <td>46744.260986</td>\n",
              "      <td>10090.0</td>\n",
              "      <td>29040.0</td>\n",
              "      <td>49070.0</td>\n",
              "      <td>83210.0</td>\n",
              "      <td>199990.0</td>\n",
              "    </tr>\n",
              "    <tr>\n",
              "      <th>NumCompaniesWorked</th>\n",
              "      <td>3293.0</td>\n",
              "      <td>2.703310</td>\n",
              "      <td>2.506197</td>\n",
              "      <td>0.0</td>\n",
              "      <td>1.0</td>\n",
              "      <td>2.0</td>\n",
              "      <td>4.0</td>\n",
              "      <td>9.0</td>\n",
              "    </tr>\n",
              "    <tr>\n",
              "      <th>PercentSalaryHike</th>\n",
              "      <td>3308.0</td>\n",
              "      <td>15.230048</td>\n",
              "      <td>3.672812</td>\n",
              "      <td>11.0</td>\n",
              "      <td>12.0</td>\n",
              "      <td>14.0</td>\n",
              "      <td>18.0</td>\n",
              "      <td>25.0</td>\n",
              "    </tr>\n",
              "    <tr>\n",
              "      <th>StandardHours</th>\n",
              "      <td>3308.0</td>\n",
              "      <td>8.000000</td>\n",
              "      <td>0.000000</td>\n",
              "      <td>8.0</td>\n",
              "      <td>8.0</td>\n",
              "      <td>8.0</td>\n",
              "      <td>8.0</td>\n",
              "      <td>8.0</td>\n",
              "    </tr>\n",
              "    <tr>\n",
              "      <th>StockOptionLevel</th>\n",
              "      <td>3308.0</td>\n",
              "      <td>0.804716</td>\n",
              "      <td>0.860350</td>\n",
              "      <td>0.0</td>\n",
              "      <td>0.0</td>\n",
              "      <td>1.0</td>\n",
              "      <td>1.0</td>\n",
              "      <td>3.0</td>\n",
              "    </tr>\n",
              "    <tr>\n",
              "      <th>TotalWorkingYears</th>\n",
              "      <td>3301.0</td>\n",
              "      <td>11.283248</td>\n",
              "      <td>7.791024</td>\n",
              "      <td>0.0</td>\n",
              "      <td>6.0</td>\n",
              "      <td>10.0</td>\n",
              "      <td>15.0</td>\n",
              "      <td>40.0</td>\n",
              "    </tr>\n",
              "    <tr>\n",
              "      <th>TrainingTimesLastYear</th>\n",
              "      <td>3308.0</td>\n",
              "      <td>2.801995</td>\n",
              "      <td>1.290718</td>\n",
              "      <td>0.0</td>\n",
              "      <td>2.0</td>\n",
              "      <td>3.0</td>\n",
              "      <td>3.0</td>\n",
              "      <td>6.0</td>\n",
              "    </tr>\n",
              "    <tr>\n",
              "      <th>YearsAtCompany</th>\n",
              "      <td>3308.0</td>\n",
              "      <td>6.998791</td>\n",
              "      <td>6.135502</td>\n",
              "      <td>0.0</td>\n",
              "      <td>3.0</td>\n",
              "      <td>5.0</td>\n",
              "      <td>9.0</td>\n",
              "      <td>40.0</td>\n",
              "    </tr>\n",
              "    <tr>\n",
              "      <th>YearsSinceLastPromotion</th>\n",
              "      <td>3308.0</td>\n",
              "      <td>2.187122</td>\n",
              "      <td>3.217035</td>\n",
              "      <td>0.0</td>\n",
              "      <td>0.0</td>\n",
              "      <td>1.0</td>\n",
              "      <td>3.0</td>\n",
              "      <td>15.0</td>\n",
              "    </tr>\n",
              "    <tr>\n",
              "      <th>YearsWithCurrManager</th>\n",
              "      <td>3308.0</td>\n",
              "      <td>4.118501</td>\n",
              "      <td>3.560423</td>\n",
              "      <td>0.0</td>\n",
              "      <td>2.0</td>\n",
              "      <td>3.0</td>\n",
              "      <td>7.0</td>\n",
              "      <td>17.0</td>\n",
              "    </tr>\n",
              "    <tr>\n",
              "      <th>Attrition</th>\n",
              "      <td>3308.0</td>\n",
              "      <td>0.160218</td>\n",
              "      <td>0.366863</td>\n",
              "      <td>0.0</td>\n",
              "      <td>0.0</td>\n",
              "      <td>0.0</td>\n",
              "      <td>0.0</td>\n",
              "      <td>1.0</td>\n",
              "    </tr>\n",
              "  </tbody>\n",
              "</table>\n",
              "</div>"
            ],
            "text/plain": [
              "                          count          mean  ...      75%       max\n",
              "Age                      3308.0     36.879383  ...     43.0      60.0\n",
              "DistanceFromHome         3308.0      9.201935  ...     14.0      29.0\n",
              "Education                3308.0      2.918380  ...      4.0       5.0\n",
              "MonthlyIncome            3308.0  64594.903265  ...  83210.0  199990.0\n",
              "NumCompaniesWorked       3293.0      2.703310  ...      4.0       9.0\n",
              "PercentSalaryHike        3308.0     15.230048  ...     18.0      25.0\n",
              "StandardHours            3308.0      8.000000  ...      8.0       8.0\n",
              "StockOptionLevel         3308.0      0.804716  ...      1.0       3.0\n",
              "TotalWorkingYears        3301.0     11.283248  ...     15.0      40.0\n",
              "TrainingTimesLastYear    3308.0      2.801995  ...      3.0       6.0\n",
              "YearsAtCompany           3308.0      6.998791  ...      9.0      40.0\n",
              "YearsSinceLastPromotion  3308.0      2.187122  ...      3.0      15.0\n",
              "YearsWithCurrManager     3308.0      4.118501  ...      7.0      17.0\n",
              "Attrition                3308.0      0.160218  ...      0.0       1.0\n",
              "\n",
              "[14 rows x 8 columns]"
            ]
          },
          "metadata": {
            "tags": []
          },
          "execution_count": 339
        }
      ]
    },
    {
      "cell_type": "code",
      "metadata": {
        "colab": {
          "base_uri": "https://localhost:8080/"
        },
        "id": "EH4Shc_7M7Qv",
        "outputId": "2eff7076-eb65-4176-95a2-bbf14f117248"
      },
      "source": [
        "train_mean = training_data_2.mean()\n",
        "train_mean"
      ],
      "execution_count": null,
      "outputs": [
        {
          "output_type": "execute_result",
          "data": {
            "text/plain": [
              "Age                           36.879383\n",
              "DistanceFromHome               9.201935\n",
              "Education                      2.918380\n",
              "MonthlyIncome              64594.903265\n",
              "NumCompaniesWorked             2.703310\n",
              "PercentSalaryHike             15.230048\n",
              "StandardHours                  8.000000\n",
              "StockOptionLevel               0.804716\n",
              "TotalWorkingYears             11.283248\n",
              "TrainingTimesLastYear          2.801995\n",
              "YearsAtCompany                 6.998791\n",
              "YearsSinceLastPromotion        2.187122\n",
              "YearsWithCurrManager           4.118501\n",
              "Attrition                      0.160218\n",
              "dtype: float64"
            ]
          },
          "metadata": {
            "tags": []
          },
          "execution_count": 340
        }
      ]
    },
    {
      "cell_type": "code",
      "metadata": {
        "colab": {
          "base_uri": "https://localhost:8080/"
        },
        "id": "E7Oi-jOkOCcV",
        "outputId": "bb435b4c-1cfe-403e-9609-32c5d0e169ce"
      },
      "source": [
        "train_mean = training_data_3.mean()\n",
        "train_mean"
      ],
      "execution_count": null,
      "outputs": [
        {
          "output_type": "execute_result",
          "data": {
            "text/plain": [
              "Age                           36.879383\n",
              "DistanceFromHome               9.201935\n",
              "Education                      2.918380\n",
              "MonthlyIncome              64594.903265\n",
              "NumCompaniesWorked             2.703310\n",
              "PercentSalaryHike             15.230048\n",
              "StandardHours                  8.000000\n",
              "StockOptionLevel               0.804716\n",
              "TotalWorkingYears             11.283248\n",
              "TrainingTimesLastYear          2.801995\n",
              "YearsAtCompany                 6.998791\n",
              "YearsSinceLastPromotion        2.187122\n",
              "YearsWithCurrManager           4.118501\n",
              "Attrition                      0.160218\n",
              "dtype: float64"
            ]
          },
          "metadata": {
            "tags": []
          },
          "execution_count": 341
        }
      ]
    },
    {
      "cell_type": "code",
      "metadata": {
        "id": "nUlrAfQzNERt"
      },
      "source": [
        "training_data_2.fillna(train_mean, inplace=True)"
      ],
      "execution_count": null,
      "outputs": []
    },
    {
      "cell_type": "code",
      "metadata": {
        "id": "QrNVcWs9OEqN"
      },
      "source": [
        "training_data_3.fillna(train_mean, inplace=True)"
      ],
      "execution_count": null,
      "outputs": []
    },
    {
      "cell_type": "markdown",
      "metadata": {
        "id": "pLoJ3MBhNfOZ"
      },
      "source": [
        "Проверим"
      ]
    },
    {
      "cell_type": "code",
      "metadata": {
        "colab": {
          "base_uri": "https://localhost:8080/"
        },
        "id": "ukDMhVEqNH5s",
        "outputId": "7135d6bc-2038-428b-a1e3-4e2a45e11dfa"
      },
      "source": [
        "training_data_2.info()"
      ],
      "execution_count": null,
      "outputs": [
        {
          "output_type": "stream",
          "text": [
            "<class 'pandas.core.frame.DataFrame'>\n",
            "RangeIndex: 3308 entries, 0 to 3307\n",
            "Data columns (total 20 columns):\n",
            " #   Column                   Non-Null Count  Dtype  \n",
            "---  ------                   --------------  -----  \n",
            " 0   Age                      3308 non-null   int64  \n",
            " 1   BusinessTravel           3308 non-null   object \n",
            " 2   Department               3308 non-null   object \n",
            " 3   DistanceFromHome         3308 non-null   int64  \n",
            " 4   Education                3308 non-null   int64  \n",
            " 5   EducationField           3308 non-null   object \n",
            " 6   Gender                   3308 non-null   object \n",
            " 7   JobRole                  3308 non-null   object \n",
            " 8   MaritalStatus            3308 non-null   object \n",
            " 9   MonthlyIncome            3308 non-null   int64  \n",
            " 10  NumCompaniesWorked       3308 non-null   float64\n",
            " 11  PercentSalaryHike        3308 non-null   int64  \n",
            " 12  StandardHours            3308 non-null   int64  \n",
            " 13  StockOptionLevel         3308 non-null   int64  \n",
            " 14  TotalWorkingYears        3308 non-null   float64\n",
            " 15  TrainingTimesLastYear    3308 non-null   int64  \n",
            " 16  YearsAtCompany           3308 non-null   int64  \n",
            " 17  YearsSinceLastPromotion  3308 non-null   int64  \n",
            " 18  YearsWithCurrManager     3308 non-null   int64  \n",
            " 19  Attrition                3308 non-null   int64  \n",
            "dtypes: float64(2), int64(12), object(6)\n",
            "memory usage: 517.0+ KB\n"
          ],
          "name": "stdout"
        }
      ]
    },
    {
      "cell_type": "code",
      "metadata": {
        "colab": {
          "base_uri": "https://localhost:8080/"
        },
        "id": "hyU1lbPSOGZN",
        "outputId": "530ddebf-001e-44f9-f11c-837a5897b4aa"
      },
      "source": [
        "training_data_3.info()"
      ],
      "execution_count": null,
      "outputs": [
        {
          "output_type": "stream",
          "text": [
            "<class 'pandas.core.frame.DataFrame'>\n",
            "RangeIndex: 3308 entries, 0 to 3307\n",
            "Data columns (total 20 columns):\n",
            " #   Column                   Non-Null Count  Dtype  \n",
            "---  ------                   --------------  -----  \n",
            " 0   Age                      3308 non-null   int64  \n",
            " 1   BusinessTravel           3308 non-null   object \n",
            " 2   Department               3308 non-null   object \n",
            " 3   DistanceFromHome         3308 non-null   int64  \n",
            " 4   Education                3308 non-null   int64  \n",
            " 5   EducationField           3308 non-null   object \n",
            " 6   Gender                   3308 non-null   object \n",
            " 7   JobRole                  3308 non-null   object \n",
            " 8   MaritalStatus            3308 non-null   object \n",
            " 9   MonthlyIncome            3308 non-null   int64  \n",
            " 10  NumCompaniesWorked       3308 non-null   float64\n",
            " 11  PercentSalaryHike        3308 non-null   int64  \n",
            " 12  StandardHours            3308 non-null   int64  \n",
            " 13  StockOptionLevel         3308 non-null   int64  \n",
            " 14  TotalWorkingYears        3308 non-null   float64\n",
            " 15  TrainingTimesLastYear    3308 non-null   int64  \n",
            " 16  YearsAtCompany           3308 non-null   int64  \n",
            " 17  YearsSinceLastPromotion  3308 non-null   int64  \n",
            " 18  YearsWithCurrManager     3308 non-null   int64  \n",
            " 19  Attrition                3308 non-null   int64  \n",
            "dtypes: float64(2), int64(12), object(6)\n",
            "memory usage: 517.0+ KB\n"
          ],
          "name": "stdout"
        }
      ]
    },
    {
      "cell_type": "markdown",
      "metadata": {
        "id": "GHXNH6yONgzd"
      },
      "source": [
        "Пропусков нет"
      ]
    },
    {
      "cell_type": "markdown",
      "metadata": {
        "id": "NiFLIr5iOT5B"
      },
      "source": [
        "Уберем в бесполезные признаки"
      ]
    },
    {
      "cell_type": "markdown",
      "metadata": {
        "id": "cDC0iWiQOZjM"
      },
      "source": [
        "Логистическая регрессионная модель"
      ]
    },
    {
      "cell_type": "code",
      "metadata": {
        "id": "HwTohLPeObq4"
      },
      "source": [
        "Standard_Hours = 'StandardHours'"
      ],
      "execution_count": null,
      "outputs": []
    },
    {
      "cell_type": "code",
      "metadata": {
        "id": "2ShosSo3OkHv"
      },
      "source": [
        "training_data_2 = training_data_2.drop(Standard_Hours, axis=1)"
      ],
      "execution_count": null,
      "outputs": []
    },
    {
      "cell_type": "markdown",
      "metadata": {
        "id": "_ZUttQH_PCct"
      },
      "source": [
        "Проверка"
      ]
    },
    {
      "cell_type": "code",
      "metadata": {
        "colab": {
          "base_uri": "https://localhost:8080/"
        },
        "id": "rFyHGEkHPEbd",
        "outputId": "89c20471-baa6-49eb-96a3-e539a8fb5aa8"
      },
      "source": [
        "training_data_2.info()"
      ],
      "execution_count": null,
      "outputs": [
        {
          "output_type": "stream",
          "text": [
            "<class 'pandas.core.frame.DataFrame'>\n",
            "RangeIndex: 3308 entries, 0 to 3307\n",
            "Data columns (total 19 columns):\n",
            " #   Column                   Non-Null Count  Dtype  \n",
            "---  ------                   --------------  -----  \n",
            " 0   Age                      3308 non-null   int64  \n",
            " 1   BusinessTravel           3308 non-null   object \n",
            " 2   Department               3308 non-null   object \n",
            " 3   DistanceFromHome         3308 non-null   int64  \n",
            " 4   Education                3308 non-null   int64  \n",
            " 5   EducationField           3308 non-null   object \n",
            " 6   Gender                   3308 non-null   object \n",
            " 7   JobRole                  3308 non-null   object \n",
            " 8   MaritalStatus            3308 non-null   object \n",
            " 9   MonthlyIncome            3308 non-null   int64  \n",
            " 10  NumCompaniesWorked       3308 non-null   float64\n",
            " 11  PercentSalaryHike        3308 non-null   int64  \n",
            " 12  StockOptionLevel         3308 non-null   int64  \n",
            " 13  TotalWorkingYears        3308 non-null   float64\n",
            " 14  TrainingTimesLastYear    3308 non-null   int64  \n",
            " 15  YearsAtCompany           3308 non-null   int64  \n",
            " 16  YearsSinceLastPromotion  3308 non-null   int64  \n",
            " 17  YearsWithCurrManager     3308 non-null   int64  \n",
            " 18  Attrition                3308 non-null   int64  \n",
            "dtypes: float64(2), int64(11), object(6)\n",
            "memory usage: 491.2+ KB\n"
          ],
          "name": "stdout"
        }
      ]
    },
    {
      "cell_type": "markdown",
      "metadata": {
        "id": "KZO3bJXkPGT6"
      },
      "source": [
        "Модель случайного леса"
      ]
    },
    {
      "cell_type": "code",
      "metadata": {
        "id": "0trwHX3bPRu5"
      },
      "source": [
        "Gender = \"Gender\""
      ],
      "execution_count": null,
      "outputs": []
    },
    {
      "cell_type": "code",
      "metadata": {
        "id": "a4aiCRmRPbJ6"
      },
      "source": [
        "Monthly_Income = \"MonthlyIncome\""
      ],
      "execution_count": null,
      "outputs": []
    },
    {
      "cell_type": "code",
      "metadata": {
        "id": "36CBvhvtPbDO"
      },
      "source": [
        "Stock_Option_Level = 'StockOptionLevel'"
      ],
      "execution_count": null,
      "outputs": []
    },
    {
      "cell_type": "code",
      "metadata": {
        "id": "Qj4r-_WVPybt"
      },
      "source": [
        "Business_Travel = 'BusinessTravel'"
      ],
      "execution_count": null,
      "outputs": []
    },
    {
      "cell_type": "code",
      "metadata": {
        "id": "BMmYFZ4CP75d"
      },
      "source": [
        "training_data_3 = training_data_3.drop(Gender, axis=1)"
      ],
      "execution_count": null,
      "outputs": []
    },
    {
      "cell_type": "code",
      "metadata": {
        "id": "3kyurlHJP-sP"
      },
      "source": [
        "training_data_3 = training_data_3.drop(Standard_Hours, axis=1)"
      ],
      "execution_count": null,
      "outputs": []
    },
    {
      "cell_type": "code",
      "metadata": {
        "id": "NnqJzkknQAQp"
      },
      "source": [
        "training_data_3 = training_data_3.drop(Monthly_Income, axis=1)"
      ],
      "execution_count": null,
      "outputs": []
    },
    {
      "cell_type": "code",
      "metadata": {
        "id": "2R5q5z-5Q_oo"
      },
      "source": [
        "training_data_3 = training_data_3.drop(Stock_Option_Level, axis=1)"
      ],
      "execution_count": null,
      "outputs": []
    },
    {
      "cell_type": "code",
      "metadata": {
        "id": "MN0cIDNIRCQd"
      },
      "source": [
        "training_data_3 = training_data_3.drop(Business_Travel, axis=1)"
      ],
      "execution_count": null,
      "outputs": []
    },
    {
      "cell_type": "code",
      "metadata": {
        "colab": {
          "base_uri": "https://localhost:8080/"
        },
        "id": "nNHL4aAdRUhB",
        "outputId": "44620b04-3fea-4b1c-b504-1f40fea0b536"
      },
      "source": [
        "training_data_3.info()"
      ],
      "execution_count": null,
      "outputs": [
        {
          "output_type": "stream",
          "text": [
            "<class 'pandas.core.frame.DataFrame'>\n",
            "RangeIndex: 3308 entries, 0 to 3307\n",
            "Data columns (total 15 columns):\n",
            " #   Column                   Non-Null Count  Dtype  \n",
            "---  ------                   --------------  -----  \n",
            " 0   Age                      3308 non-null   int64  \n",
            " 1   Department               3308 non-null   object \n",
            " 2   DistanceFromHome         3308 non-null   int64  \n",
            " 3   Education                3308 non-null   int64  \n",
            " 4   EducationField           3308 non-null   object \n",
            " 5   JobRole                  3308 non-null   object \n",
            " 6   MaritalStatus            3308 non-null   object \n",
            " 7   NumCompaniesWorked       3308 non-null   float64\n",
            " 8   PercentSalaryHike        3308 non-null   int64  \n",
            " 9   TotalWorkingYears        3308 non-null   float64\n",
            " 10  TrainingTimesLastYear    3308 non-null   int64  \n",
            " 11  YearsAtCompany           3308 non-null   int64  \n",
            " 12  YearsSinceLastPromotion  3308 non-null   int64  \n",
            " 13  YearsWithCurrManager     3308 non-null   int64  \n",
            " 14  Attrition                3308 non-null   int64  \n",
            "dtypes: float64(2), int64(9), object(4)\n",
            "memory usage: 387.8+ KB\n"
          ],
          "name": "stdout"
        }
      ]
    },
    {
      "cell_type": "markdown",
      "metadata": {
        "id": "Sav8i943RotD"
      },
      "source": [
        "Работаем с целевой переменной"
      ]
    },
    {
      "cell_type": "code",
      "metadata": {
        "id": "KaQ1ol9vRqtN"
      },
      "source": [
        "target_variable_name = 'Attrition'"
      ],
      "execution_count": null,
      "outputs": []
    },
    {
      "cell_type": "code",
      "metadata": {
        "id": "0WkOfkL7RuMs"
      },
      "source": [
        "training_values_2 = training_data_2[target_variable_name]"
      ],
      "execution_count": null,
      "outputs": []
    },
    {
      "cell_type": "code",
      "metadata": {
        "id": "bTUMYHrkRw8G"
      },
      "source": [
        "training_values_3 = training_data_3[target_variable_name]"
      ],
      "execution_count": null,
      "outputs": []
    },
    {
      "cell_type": "markdown",
      "metadata": {
        "id": "x3n2w3RAR777"
      },
      "source": [
        "Отделим входные переменные от выходной (целевой), чтобы можно было построить модель предсказания целевой переменной по входным. "
      ]
    },
    {
      "cell_type": "code",
      "metadata": {
        "id": "iZB9V96DR84K"
      },
      "source": [
        "training_points_2 = training_data_2.drop(target_variable_name, axis=1)"
      ],
      "execution_count": null,
      "outputs": []
    },
    {
      "cell_type": "code",
      "metadata": {
        "id": "MkmWrQqZSAX2"
      },
      "source": [
        "training_points_3 = training_data_3.drop(target_variable_name, axis=1)"
      ],
      "execution_count": null,
      "outputs": []
    },
    {
      "cell_type": "code",
      "metadata": {
        "colab": {
          "base_uri": "https://localhost:8080/"
        },
        "id": "GMIKxUaISFfJ",
        "outputId": "da5315ed-75ef-45db-db73-2b9c35830cec"
      },
      "source": [
        "training_points_2.columns"
      ],
      "execution_count": null,
      "outputs": [
        {
          "output_type": "execute_result",
          "data": {
            "text/plain": [
              "Index(['Age', 'BusinessTravel', 'Department', 'DistanceFromHome', 'Education',\n",
              "       'EducationField', 'Gender', 'JobRole', 'MaritalStatus', 'MonthlyIncome',\n",
              "       'NumCompaniesWorked', 'PercentSalaryHike', 'StockOptionLevel',\n",
              "       'TotalWorkingYears', 'TrainingTimesLastYear', 'YearsAtCompany',\n",
              "       'YearsSinceLastPromotion', 'YearsWithCurrManager'],\n",
              "      dtype='object')"
            ]
          },
          "metadata": {
            "tags": []
          },
          "execution_count": 364
        }
      ]
    },
    {
      "cell_type": "code",
      "metadata": {
        "colab": {
          "base_uri": "https://localhost:8080/"
        },
        "id": "etP4yv0vSJJW",
        "outputId": "8c56ae91-4a5e-433f-d676-ffcd6f41dc07"
      },
      "source": [
        "training_points_3.columns"
      ],
      "execution_count": null,
      "outputs": [
        {
          "output_type": "execute_result",
          "data": {
            "text/plain": [
              "Index(['Age', 'Department', 'DistanceFromHome', 'Education', 'EducationField',\n",
              "       'JobRole', 'MaritalStatus', 'NumCompaniesWorked', 'PercentSalaryHike',\n",
              "       'TotalWorkingYears', 'TrainingTimesLastYear', 'YearsAtCompany',\n",
              "       'YearsSinceLastPromotion', 'YearsWithCurrManager'],\n",
              "      dtype='object')"
            ]
          },
          "metadata": {
            "tags": []
          },
          "execution_count": 365
        }
      ]
    },
    {
      "cell_type": "markdown",
      "metadata": {
        "id": "y5xZqv7BSuar"
      },
      "source": [
        "Загрузим данные для тестирования"
      ]
    },
    {
      "cell_type": "code",
      "metadata": {
        "colab": {
          "base_uri": "https://localhost:8080/",
          "height": 458
        },
        "id": "0FvWwHl0SvIe",
        "outputId": "a63c6981-e554-4240-ee9b-e5708f48b1e8"
      },
      "source": [
        "test_data_2 = pd.read_csv('test_data.csv')\n",
        "test_data_2.describe().T"
      ],
      "execution_count": null,
      "outputs": [
        {
          "output_type": "execute_result",
          "data": {
            "text/html": [
              "<div>\n",
              "<style scoped>\n",
              "    .dataframe tbody tr th:only-of-type {\n",
              "        vertical-align: middle;\n",
              "    }\n",
              "\n",
              "    .dataframe tbody tr th {\n",
              "        vertical-align: top;\n",
              "    }\n",
              "\n",
              "    .dataframe thead th {\n",
              "        text-align: right;\n",
              "    }\n",
              "</style>\n",
              "<table border=\"1\" class=\"dataframe\">\n",
              "  <thead>\n",
              "    <tr style=\"text-align: right;\">\n",
              "      <th></th>\n",
              "      <th>count</th>\n",
              "      <th>mean</th>\n",
              "      <th>std</th>\n",
              "      <th>min</th>\n",
              "      <th>25%</th>\n",
              "      <th>50%</th>\n",
              "      <th>75%</th>\n",
              "      <th>max</th>\n",
              "    </tr>\n",
              "  </thead>\n",
              "  <tbody>\n",
              "    <tr>\n",
              "      <th>Age</th>\n",
              "      <td>1102.0</td>\n",
              "      <td>37.057169</td>\n",
              "      <td>9.096386</td>\n",
              "      <td>18.0</td>\n",
              "      <td>30.0</td>\n",
              "      <td>36.0</td>\n",
              "      <td>43.0</td>\n",
              "      <td>60.0</td>\n",
              "    </tr>\n",
              "    <tr>\n",
              "      <th>DistanceFromHome</th>\n",
              "      <td>1102.0</td>\n",
              "      <td>9.164247</td>\n",
              "      <td>8.188807</td>\n",
              "      <td>1.0</td>\n",
              "      <td>2.0</td>\n",
              "      <td>7.0</td>\n",
              "      <td>14.0</td>\n",
              "      <td>29.0</td>\n",
              "    </tr>\n",
              "    <tr>\n",
              "      <th>Education</th>\n",
              "      <td>1102.0</td>\n",
              "      <td>2.896552</td>\n",
              "      <td>1.021213</td>\n",
              "      <td>1.0</td>\n",
              "      <td>2.0</td>\n",
              "      <td>3.0</td>\n",
              "      <td>4.0</td>\n",
              "      <td>5.0</td>\n",
              "    </tr>\n",
              "    <tr>\n",
              "      <th>MonthlyIncome</th>\n",
              "      <td>1102.0</td>\n",
              "      <td>66333.330309</td>\n",
              "      <td>48028.087236</td>\n",
              "      <td>10090.0</td>\n",
              "      <td>29730.0</td>\n",
              "      <td>49385.0</td>\n",
              "      <td>84712.5</td>\n",
              "      <td>199990.0</td>\n",
              "    </tr>\n",
              "    <tr>\n",
              "      <th>NumCompaniesWorked</th>\n",
              "      <td>1098.0</td>\n",
              "      <td>2.669399</td>\n",
              "      <td>2.477794</td>\n",
              "      <td>0.0</td>\n",
              "      <td>1.0</td>\n",
              "      <td>2.0</td>\n",
              "      <td>4.0</td>\n",
              "      <td>9.0</td>\n",
              "    </tr>\n",
              "    <tr>\n",
              "      <th>PercentSalaryHike</th>\n",
              "      <td>1102.0</td>\n",
              "      <td>15.147913</td>\n",
              "      <td>3.618613</td>\n",
              "      <td>11.0</td>\n",
              "      <td>12.0</td>\n",
              "      <td>14.0</td>\n",
              "      <td>18.0</td>\n",
              "      <td>25.0</td>\n",
              "    </tr>\n",
              "    <tr>\n",
              "      <th>StandardHours</th>\n",
              "      <td>1102.0</td>\n",
              "      <td>8.000000</td>\n",
              "      <td>0.000000</td>\n",
              "      <td>8.0</td>\n",
              "      <td>8.0</td>\n",
              "      <td>8.0</td>\n",
              "      <td>8.0</td>\n",
              "      <td>8.0</td>\n",
              "    </tr>\n",
              "    <tr>\n",
              "      <th>StockOptionLevel</th>\n",
              "      <td>1102.0</td>\n",
              "      <td>0.761343</td>\n",
              "      <td>0.825476</td>\n",
              "      <td>0.0</td>\n",
              "      <td>0.0</td>\n",
              "      <td>1.0</td>\n",
              "      <td>1.0</td>\n",
              "      <td>3.0</td>\n",
              "    </tr>\n",
              "    <tr>\n",
              "      <th>TotalWorkingYears</th>\n",
              "      <td>1100.0</td>\n",
              "      <td>11.270000</td>\n",
              "      <td>7.759277</td>\n",
              "      <td>0.0</td>\n",
              "      <td>6.0</td>\n",
              "      <td>10.0</td>\n",
              "      <td>15.0</td>\n",
              "      <td>40.0</td>\n",
              "    </tr>\n",
              "    <tr>\n",
              "      <th>TrainingTimesLastYear</th>\n",
              "      <td>1102.0</td>\n",
              "      <td>2.791289</td>\n",
              "      <td>1.284292</td>\n",
              "      <td>0.0</td>\n",
              "      <td>2.0</td>\n",
              "      <td>3.0</td>\n",
              "      <td>3.0</td>\n",
              "      <td>6.0</td>\n",
              "    </tr>\n",
              "    <tr>\n",
              "      <th>YearsAtCompany</th>\n",
              "      <td>1102.0</td>\n",
              "      <td>7.036298</td>\n",
              "      <td>6.096600</td>\n",
              "      <td>0.0</td>\n",
              "      <td>3.0</td>\n",
              "      <td>5.0</td>\n",
              "      <td>10.0</td>\n",
              "      <td>40.0</td>\n",
              "    </tr>\n",
              "    <tr>\n",
              "      <th>YearsSinceLastPromotion</th>\n",
              "      <td>1102.0</td>\n",
              "      <td>2.189655</td>\n",
              "      <td>3.237126</td>\n",
              "      <td>0.0</td>\n",
              "      <td>0.0</td>\n",
              "      <td>1.0</td>\n",
              "      <td>3.0</td>\n",
              "      <td>15.0</td>\n",
              "    </tr>\n",
              "    <tr>\n",
              "      <th>YearsWithCurrManager</th>\n",
              "      <td>1102.0</td>\n",
              "      <td>4.137024</td>\n",
              "      <td>3.589559</td>\n",
              "      <td>0.0</td>\n",
              "      <td>2.0</td>\n",
              "      <td>3.0</td>\n",
              "      <td>7.0</td>\n",
              "      <td>17.0</td>\n",
              "    </tr>\n",
              "    <tr>\n",
              "      <th>Attrition</th>\n",
              "      <td>1102.0</td>\n",
              "      <td>0.164247</td>\n",
              "      <td>0.370668</td>\n",
              "      <td>0.0</td>\n",
              "      <td>0.0</td>\n",
              "      <td>0.0</td>\n",
              "      <td>0.0</td>\n",
              "      <td>1.0</td>\n",
              "    </tr>\n",
              "  </tbody>\n",
              "</table>\n",
              "</div>"
            ],
            "text/plain": [
              "                          count          mean  ...      75%       max\n",
              "Age                      1102.0     37.057169  ...     43.0      60.0\n",
              "DistanceFromHome         1102.0      9.164247  ...     14.0      29.0\n",
              "Education                1102.0      2.896552  ...      4.0       5.0\n",
              "MonthlyIncome            1102.0  66333.330309  ...  84712.5  199990.0\n",
              "NumCompaniesWorked       1098.0      2.669399  ...      4.0       9.0\n",
              "PercentSalaryHike        1102.0     15.147913  ...     18.0      25.0\n",
              "StandardHours            1102.0      8.000000  ...      8.0       8.0\n",
              "StockOptionLevel         1102.0      0.761343  ...      1.0       3.0\n",
              "TotalWorkingYears        1100.0     11.270000  ...     15.0      40.0\n",
              "TrainingTimesLastYear    1102.0      2.791289  ...      3.0       6.0\n",
              "YearsAtCompany           1102.0      7.036298  ...     10.0      40.0\n",
              "YearsSinceLastPromotion  1102.0      2.189655  ...      3.0      15.0\n",
              "YearsWithCurrManager     1102.0      4.137024  ...      7.0      17.0\n",
              "Attrition                1102.0      0.164247  ...      0.0       1.0\n",
              "\n",
              "[14 rows x 8 columns]"
            ]
          },
          "metadata": {
            "tags": []
          },
          "execution_count": 366
        }
      ]
    },
    {
      "cell_type": "code",
      "metadata": {
        "colab": {
          "base_uri": "https://localhost:8080/",
          "height": 458
        },
        "id": "-OldL8knSzze",
        "outputId": "fddbe2eb-0add-4448-eaf9-d27678c00a98"
      },
      "source": [
        "test_data_3 = pd.read_csv('test_data.csv')\n",
        "test_data_3.describe().T"
      ],
      "execution_count": null,
      "outputs": [
        {
          "output_type": "execute_result",
          "data": {
            "text/html": [
              "<div>\n",
              "<style scoped>\n",
              "    .dataframe tbody tr th:only-of-type {\n",
              "        vertical-align: middle;\n",
              "    }\n",
              "\n",
              "    .dataframe tbody tr th {\n",
              "        vertical-align: top;\n",
              "    }\n",
              "\n",
              "    .dataframe thead th {\n",
              "        text-align: right;\n",
              "    }\n",
              "</style>\n",
              "<table border=\"1\" class=\"dataframe\">\n",
              "  <thead>\n",
              "    <tr style=\"text-align: right;\">\n",
              "      <th></th>\n",
              "      <th>count</th>\n",
              "      <th>mean</th>\n",
              "      <th>std</th>\n",
              "      <th>min</th>\n",
              "      <th>25%</th>\n",
              "      <th>50%</th>\n",
              "      <th>75%</th>\n",
              "      <th>max</th>\n",
              "    </tr>\n",
              "  </thead>\n",
              "  <tbody>\n",
              "    <tr>\n",
              "      <th>Age</th>\n",
              "      <td>1102.0</td>\n",
              "      <td>37.057169</td>\n",
              "      <td>9.096386</td>\n",
              "      <td>18.0</td>\n",
              "      <td>30.0</td>\n",
              "      <td>36.0</td>\n",
              "      <td>43.0</td>\n",
              "      <td>60.0</td>\n",
              "    </tr>\n",
              "    <tr>\n",
              "      <th>DistanceFromHome</th>\n",
              "      <td>1102.0</td>\n",
              "      <td>9.164247</td>\n",
              "      <td>8.188807</td>\n",
              "      <td>1.0</td>\n",
              "      <td>2.0</td>\n",
              "      <td>7.0</td>\n",
              "      <td>14.0</td>\n",
              "      <td>29.0</td>\n",
              "    </tr>\n",
              "    <tr>\n",
              "      <th>Education</th>\n",
              "      <td>1102.0</td>\n",
              "      <td>2.896552</td>\n",
              "      <td>1.021213</td>\n",
              "      <td>1.0</td>\n",
              "      <td>2.0</td>\n",
              "      <td>3.0</td>\n",
              "      <td>4.0</td>\n",
              "      <td>5.0</td>\n",
              "    </tr>\n",
              "    <tr>\n",
              "      <th>MonthlyIncome</th>\n",
              "      <td>1102.0</td>\n",
              "      <td>66333.330309</td>\n",
              "      <td>48028.087236</td>\n",
              "      <td>10090.0</td>\n",
              "      <td>29730.0</td>\n",
              "      <td>49385.0</td>\n",
              "      <td>84712.5</td>\n",
              "      <td>199990.0</td>\n",
              "    </tr>\n",
              "    <tr>\n",
              "      <th>NumCompaniesWorked</th>\n",
              "      <td>1098.0</td>\n",
              "      <td>2.669399</td>\n",
              "      <td>2.477794</td>\n",
              "      <td>0.0</td>\n",
              "      <td>1.0</td>\n",
              "      <td>2.0</td>\n",
              "      <td>4.0</td>\n",
              "      <td>9.0</td>\n",
              "    </tr>\n",
              "    <tr>\n",
              "      <th>PercentSalaryHike</th>\n",
              "      <td>1102.0</td>\n",
              "      <td>15.147913</td>\n",
              "      <td>3.618613</td>\n",
              "      <td>11.0</td>\n",
              "      <td>12.0</td>\n",
              "      <td>14.0</td>\n",
              "      <td>18.0</td>\n",
              "      <td>25.0</td>\n",
              "    </tr>\n",
              "    <tr>\n",
              "      <th>StandardHours</th>\n",
              "      <td>1102.0</td>\n",
              "      <td>8.000000</td>\n",
              "      <td>0.000000</td>\n",
              "      <td>8.0</td>\n",
              "      <td>8.0</td>\n",
              "      <td>8.0</td>\n",
              "      <td>8.0</td>\n",
              "      <td>8.0</td>\n",
              "    </tr>\n",
              "    <tr>\n",
              "      <th>StockOptionLevel</th>\n",
              "      <td>1102.0</td>\n",
              "      <td>0.761343</td>\n",
              "      <td>0.825476</td>\n",
              "      <td>0.0</td>\n",
              "      <td>0.0</td>\n",
              "      <td>1.0</td>\n",
              "      <td>1.0</td>\n",
              "      <td>3.0</td>\n",
              "    </tr>\n",
              "    <tr>\n",
              "      <th>TotalWorkingYears</th>\n",
              "      <td>1100.0</td>\n",
              "      <td>11.270000</td>\n",
              "      <td>7.759277</td>\n",
              "      <td>0.0</td>\n",
              "      <td>6.0</td>\n",
              "      <td>10.0</td>\n",
              "      <td>15.0</td>\n",
              "      <td>40.0</td>\n",
              "    </tr>\n",
              "    <tr>\n",
              "      <th>TrainingTimesLastYear</th>\n",
              "      <td>1102.0</td>\n",
              "      <td>2.791289</td>\n",
              "      <td>1.284292</td>\n",
              "      <td>0.0</td>\n",
              "      <td>2.0</td>\n",
              "      <td>3.0</td>\n",
              "      <td>3.0</td>\n",
              "      <td>6.0</td>\n",
              "    </tr>\n",
              "    <tr>\n",
              "      <th>YearsAtCompany</th>\n",
              "      <td>1102.0</td>\n",
              "      <td>7.036298</td>\n",
              "      <td>6.096600</td>\n",
              "      <td>0.0</td>\n",
              "      <td>3.0</td>\n",
              "      <td>5.0</td>\n",
              "      <td>10.0</td>\n",
              "      <td>40.0</td>\n",
              "    </tr>\n",
              "    <tr>\n",
              "      <th>YearsSinceLastPromotion</th>\n",
              "      <td>1102.0</td>\n",
              "      <td>2.189655</td>\n",
              "      <td>3.237126</td>\n",
              "      <td>0.0</td>\n",
              "      <td>0.0</td>\n",
              "      <td>1.0</td>\n",
              "      <td>3.0</td>\n",
              "      <td>15.0</td>\n",
              "    </tr>\n",
              "    <tr>\n",
              "      <th>YearsWithCurrManager</th>\n",
              "      <td>1102.0</td>\n",
              "      <td>4.137024</td>\n",
              "      <td>3.589559</td>\n",
              "      <td>0.0</td>\n",
              "      <td>2.0</td>\n",
              "      <td>3.0</td>\n",
              "      <td>7.0</td>\n",
              "      <td>17.0</td>\n",
              "    </tr>\n",
              "    <tr>\n",
              "      <th>Attrition</th>\n",
              "      <td>1102.0</td>\n",
              "      <td>0.164247</td>\n",
              "      <td>0.370668</td>\n",
              "      <td>0.0</td>\n",
              "      <td>0.0</td>\n",
              "      <td>0.0</td>\n",
              "      <td>0.0</td>\n",
              "      <td>1.0</td>\n",
              "    </tr>\n",
              "  </tbody>\n",
              "</table>\n",
              "</div>"
            ],
            "text/plain": [
              "                          count          mean  ...      75%       max\n",
              "Age                      1102.0     37.057169  ...     43.0      60.0\n",
              "DistanceFromHome         1102.0      9.164247  ...     14.0      29.0\n",
              "Education                1102.0      2.896552  ...      4.0       5.0\n",
              "MonthlyIncome            1102.0  66333.330309  ...  84712.5  199990.0\n",
              "NumCompaniesWorked       1098.0      2.669399  ...      4.0       9.0\n",
              "PercentSalaryHike        1102.0     15.147913  ...     18.0      25.0\n",
              "StandardHours            1102.0      8.000000  ...      8.0       8.0\n",
              "StockOptionLevel         1102.0      0.761343  ...      1.0       3.0\n",
              "TotalWorkingYears        1100.0     11.270000  ...     15.0      40.0\n",
              "TrainingTimesLastYear    1102.0      2.791289  ...      3.0       6.0\n",
              "YearsAtCompany           1102.0      7.036298  ...     10.0      40.0\n",
              "YearsSinceLastPromotion  1102.0      2.189655  ...      3.0      15.0\n",
              "YearsWithCurrManager     1102.0      4.137024  ...      7.0      17.0\n",
              "Attrition                1102.0      0.164247  ...      0.0       1.0\n",
              "\n",
              "[14 rows x 8 columns]"
            ]
          },
          "metadata": {
            "tags": []
          },
          "execution_count": 367
        }
      ]
    },
    {
      "cell_type": "markdown",
      "metadata": {
        "id": "VtN8f89sS3Av"
      },
      "source": [
        "Предобработка данных для тестирования"
      ]
    },
    {
      "cell_type": "code",
      "metadata": {
        "colab": {
          "base_uri": "https://localhost:8080/"
        },
        "id": "Ux2GUv9XS4YO",
        "outputId": "1f593ca8-a4d2-48f9-c475-e777292bbf94"
      },
      "source": [
        "test_data_2.fillna(train_mean, inplace=True)\n",
        "test_data_2.info()"
      ],
      "execution_count": null,
      "outputs": [
        {
          "output_type": "stream",
          "text": [
            "<class 'pandas.core.frame.DataFrame'>\n",
            "RangeIndex: 1102 entries, 0 to 1101\n",
            "Data columns (total 20 columns):\n",
            " #   Column                   Non-Null Count  Dtype  \n",
            "---  ------                   --------------  -----  \n",
            " 0   Age                      1102 non-null   int64  \n",
            " 1   BusinessTravel           1102 non-null   object \n",
            " 2   Department               1102 non-null   object \n",
            " 3   DistanceFromHome         1102 non-null   int64  \n",
            " 4   Education                1102 non-null   int64  \n",
            " 5   EducationField           1102 non-null   object \n",
            " 6   Gender                   1102 non-null   object \n",
            " 7   JobRole                  1102 non-null   object \n",
            " 8   MaritalStatus            1102 non-null   object \n",
            " 9   MonthlyIncome            1102 non-null   int64  \n",
            " 10  NumCompaniesWorked       1102 non-null   float64\n",
            " 11  PercentSalaryHike        1102 non-null   int64  \n",
            " 12  StandardHours            1102 non-null   int64  \n",
            " 13  StockOptionLevel         1102 non-null   int64  \n",
            " 14  TotalWorkingYears        1102 non-null   float64\n",
            " 15  TrainingTimesLastYear    1102 non-null   int64  \n",
            " 16  YearsAtCompany           1102 non-null   int64  \n",
            " 17  YearsSinceLastPromotion  1102 non-null   int64  \n",
            " 18  YearsWithCurrManager     1102 non-null   int64  \n",
            " 19  Attrition                1102 non-null   int64  \n",
            "dtypes: float64(2), int64(12), object(6)\n",
            "memory usage: 172.3+ KB\n"
          ],
          "name": "stdout"
        }
      ]
    },
    {
      "cell_type": "code",
      "metadata": {
        "colab": {
          "base_uri": "https://localhost:8080/"
        },
        "id": "-wmgPkQ1S4jr",
        "outputId": "cd902d14-9ad0-4569-d3d8-f5888d6eabcb"
      },
      "source": [
        "test_data_3.fillna(train_mean, inplace=True)\n",
        "test_data_3.info()"
      ],
      "execution_count": null,
      "outputs": [
        {
          "output_type": "stream",
          "text": [
            "<class 'pandas.core.frame.DataFrame'>\n",
            "RangeIndex: 1102 entries, 0 to 1101\n",
            "Data columns (total 20 columns):\n",
            " #   Column                   Non-Null Count  Dtype  \n",
            "---  ------                   --------------  -----  \n",
            " 0   Age                      1102 non-null   int64  \n",
            " 1   BusinessTravel           1102 non-null   object \n",
            " 2   Department               1102 non-null   object \n",
            " 3   DistanceFromHome         1102 non-null   int64  \n",
            " 4   Education                1102 non-null   int64  \n",
            " 5   EducationField           1102 non-null   object \n",
            " 6   Gender                   1102 non-null   object \n",
            " 7   JobRole                  1102 non-null   object \n",
            " 8   MaritalStatus            1102 non-null   object \n",
            " 9   MonthlyIncome            1102 non-null   int64  \n",
            " 10  NumCompaniesWorked       1102 non-null   float64\n",
            " 11  PercentSalaryHike        1102 non-null   int64  \n",
            " 12  StandardHours            1102 non-null   int64  \n",
            " 13  StockOptionLevel         1102 non-null   int64  \n",
            " 14  TotalWorkingYears        1102 non-null   float64\n",
            " 15  TrainingTimesLastYear    1102 non-null   int64  \n",
            " 16  YearsAtCompany           1102 non-null   int64  \n",
            " 17  YearsSinceLastPromotion  1102 non-null   int64  \n",
            " 18  YearsWithCurrManager     1102 non-null   int64  \n",
            " 19  Attrition                1102 non-null   int64  \n",
            "dtypes: float64(2), int64(12), object(6)\n",
            "memory usage: 172.3+ KB\n"
          ],
          "name": "stdout"
        }
      ]
    },
    {
      "cell_type": "markdown",
      "metadata": {
        "id": "48YENwbXYNNN"
      },
      "source": [
        "Убираем бесполезные признаки"
      ]
    },
    {
      "cell_type": "code",
      "metadata": {
        "id": "Qy5D4g39YPVb"
      },
      "source": [
        "test_data_2 = test_data_2.drop(Standard_Hours, axis=1)"
      ],
      "execution_count": null,
      "outputs": []
    },
    {
      "cell_type": "code",
      "metadata": {
        "id": "-I74CQQBYZ6o"
      },
      "source": [
        "test_data_3 = test_data_3.drop(Gender, axis=1)"
      ],
      "execution_count": null,
      "outputs": []
    },
    {
      "cell_type": "code",
      "metadata": {
        "id": "yEXwtyxtYhPn"
      },
      "source": [
        "test_data_3 = test_data_3.drop(Standard_Hours, axis=1)"
      ],
      "execution_count": null,
      "outputs": []
    },
    {
      "cell_type": "code",
      "metadata": {
        "id": "MMBYJ7z4YhLg"
      },
      "source": [
        "test_data_3 = test_data_3.drop(Business_Travel, axis=1)"
      ],
      "execution_count": null,
      "outputs": []
    },
    {
      "cell_type": "code",
      "metadata": {
        "id": "O7_CFzoDYhF_"
      },
      "source": [
        "test_data_3 = test_data_3.drop(Monthly_Income, axis=1)"
      ],
      "execution_count": null,
      "outputs": []
    },
    {
      "cell_type": "code",
      "metadata": {
        "id": "S5hmVcVqYlYH"
      },
      "source": [
        "test_data_3 = test_data_3.drop(Stock_Option_Level, axis=1)"
      ],
      "execution_count": null,
      "outputs": []
    },
    {
      "cell_type": "markdown",
      "metadata": {
        "id": "-hhE3xEHS87I"
      },
      "source": [
        "Отделяем целевую переменную"
      ]
    },
    {
      "cell_type": "code",
      "metadata": {
        "id": "5E1m32VOS-_l"
      },
      "source": [
        "test_values_2 = test_data_2[target_variable_name]"
      ],
      "execution_count": null,
      "outputs": []
    },
    {
      "cell_type": "code",
      "metadata": {
        "id": "ycAfkH5YTEEB"
      },
      "source": [
        "test_values_3 = test_data_3[target_variable_name]"
      ],
      "execution_count": null,
      "outputs": []
    },
    {
      "cell_type": "markdown",
      "metadata": {
        "id": "_pndYMMBTPvM"
      },
      "source": [
        "Отделим переменные для модели от выходной переменной (целевой)."
      ]
    },
    {
      "cell_type": "code",
      "metadata": {
        "id": "VIEWxCf1TKoa"
      },
      "source": [
        "test_points_2 = test_data_2.drop(target_variable_name, axis=1)"
      ],
      "execution_count": null,
      "outputs": []
    },
    {
      "cell_type": "code",
      "metadata": {
        "id": "tIOn-KlRTKjm"
      },
      "source": [
        "test_points_3 = test_data_3.drop(target_variable_name, axis=1)"
      ],
      "execution_count": null,
      "outputs": []
    },
    {
      "cell_type": "markdown",
      "metadata": {
        "id": "P0FfLqOCTQcT"
      },
      "source": [
        "Обработаем текстовые переменные"
      ]
    },
    {
      "cell_type": "markdown",
      "metadata": {
        "id": "zqdgyCamTtzo"
      },
      "source": [
        "Для начала нам необходимо определить какие из признаков категориальные"
      ]
    },
    {
      "cell_type": "markdown",
      "metadata": {
        "id": "DOmY5_zjTuo-"
      },
      "source": [
        "Для логистической регрессионной модели"
      ]
    },
    {
      "cell_type": "code",
      "metadata": {
        "id": "xUNAv0OBTVx-"
      },
      "source": [
        "text_features_2 = ['BusinessTravel', 'Department', 'EducationField', 'Gender', 'JobRole', 'MaritalStatus']"
      ],
      "execution_count": null,
      "outputs": []
    },
    {
      "cell_type": "markdown",
      "metadata": {
        "id": "GSYAbf2KTyri"
      },
      "source": [
        "Для модели случайного леса"
      ]
    },
    {
      "cell_type": "code",
      "metadata": {
        "id": "id0k3F07T0uP"
      },
      "source": [
        "text_features_3 = ['Department', 'EducationField', 'JobRole', 'MaritalStatus']"
      ],
      "execution_count": null,
      "outputs": []
    },
    {
      "cell_type": "markdown",
      "metadata": {
        "id": "vrpBqmY_UKjS"
      },
      "source": [
        "Преобразуем значения в выбранных колонках к числам"
      ]
    },
    {
      "cell_type": "code",
      "metadata": {
        "id": "rZx3WR-vUOC7"
      },
      "source": [
        "from sklearn.preprocessing import LabelEncoder"
      ],
      "execution_count": null,
      "outputs": []
    },
    {
      "cell_type": "markdown",
      "metadata": {
        "id": "46pryh_9Ua8S"
      },
      "source": [
        "Создаем прототип кодировщика:"
      ]
    },
    {
      "cell_type": "code",
      "metadata": {
        "id": "Pt0TfNodUSWb"
      },
      "source": [
        "label_encoder_2 = LabelEncoder()"
      ],
      "execution_count": null,
      "outputs": []
    },
    {
      "cell_type": "code",
      "metadata": {
        "id": "cuqLHuN9UZcA"
      },
      "source": [
        "label_encoder_3 = LabelEncoder()"
      ],
      "execution_count": null,
      "outputs": []
    },
    {
      "cell_type": "markdown",
      "metadata": {
        "id": "pq9Igki9UyHu"
      },
      "source": [
        "Так как нам нужно закодировать сразу список признаков, мы будем делать это в цикле. Рассматриваем каждый текстовый признак из списка text_categor_cols, далее:\n",
        "\n",
        "методу fit_transform() передаем в качестве аргумента этот признак у обучающей выборки\n",
        "методу transform() передаем в качестве аргумента этот признак у тестовой выборки\n",
        "К полученным числовым представлениям признака будем прибавлять единичку, чтобы кодирование начиналось с 1, а не с 0. Затем результат будем записывать в табличку.\n",
        "\n"
      ]
    },
    {
      "cell_type": "code",
      "metadata": {
        "id": "LuK6X_flUfvZ"
      },
      "source": [
        "for col in text_features_2:\n",
        "    training_points_2[col] = label_encoder_2.fit_transform(training_points_2[col]) + 1\n",
        "    test_points_2[col] = label_encoder_2.transform(test_points_2[col]) + 1"
      ],
      "execution_count": null,
      "outputs": []
    },
    {
      "cell_type": "code",
      "metadata": {
        "id": "CyE6YjCjUqYE"
      },
      "source": [
        "for col in text_features_3:\n",
        "    training_points_3[col] = label_encoder_3.fit_transform(training_points_3[col]) + 1\n",
        "    test_points_3[col] = label_encoder_3.transform(test_points_3[col]) + 1"
      ],
      "execution_count": null,
      "outputs": []
    },
    {
      "cell_type": "markdown",
      "metadata": {
        "id": "oSe1r1SBU3E6"
      },
      "source": [
        "Посмотрим на данные теперь:"
      ]
    },
    {
      "cell_type": "code",
      "metadata": {
        "colab": {
          "base_uri": "https://localhost:8080/",
          "height": 214
        },
        "id": "3Cvi0qGNU0L_",
        "outputId": "ffcde70d-32e7-429e-de35-433566b89850"
      },
      "source": [
        "training_points_2.head()"
      ],
      "execution_count": null,
      "outputs": [
        {
          "output_type": "execute_result",
          "data": {
            "text/html": [
              "<div>\n",
              "<style scoped>\n",
              "    .dataframe tbody tr th:only-of-type {\n",
              "        vertical-align: middle;\n",
              "    }\n",
              "\n",
              "    .dataframe tbody tr th {\n",
              "        vertical-align: top;\n",
              "    }\n",
              "\n",
              "    .dataframe thead th {\n",
              "        text-align: right;\n",
              "    }\n",
              "</style>\n",
              "<table border=\"1\" class=\"dataframe\">\n",
              "  <thead>\n",
              "    <tr style=\"text-align: right;\">\n",
              "      <th></th>\n",
              "      <th>Age</th>\n",
              "      <th>BusinessTravel</th>\n",
              "      <th>Department</th>\n",
              "      <th>DistanceFromHome</th>\n",
              "      <th>Education</th>\n",
              "      <th>EducationField</th>\n",
              "      <th>Gender</th>\n",
              "      <th>JobRole</th>\n",
              "      <th>MaritalStatus</th>\n",
              "      <th>MonthlyIncome</th>\n",
              "      <th>NumCompaniesWorked</th>\n",
              "      <th>PercentSalaryHike</th>\n",
              "      <th>StockOptionLevel</th>\n",
              "      <th>TotalWorkingYears</th>\n",
              "      <th>TrainingTimesLastYear</th>\n",
              "      <th>YearsAtCompany</th>\n",
              "      <th>YearsSinceLastPromotion</th>\n",
              "      <th>YearsWithCurrManager</th>\n",
              "    </tr>\n",
              "  </thead>\n",
              "  <tbody>\n",
              "    <tr>\n",
              "      <th>0</th>\n",
              "      <td>51</td>\n",
              "      <td>3</td>\n",
              "      <td>3</td>\n",
              "      <td>6</td>\n",
              "      <td>2</td>\n",
              "      <td>2</td>\n",
              "      <td>1</td>\n",
              "      <td>1</td>\n",
              "      <td>2</td>\n",
              "      <td>131160</td>\n",
              "      <td>1.0</td>\n",
              "      <td>11</td>\n",
              "      <td>0</td>\n",
              "      <td>1.0</td>\n",
              "      <td>6</td>\n",
              "      <td>1</td>\n",
              "      <td>0</td>\n",
              "      <td>0</td>\n",
              "    </tr>\n",
              "    <tr>\n",
              "      <th>1</th>\n",
              "      <td>31</td>\n",
              "      <td>2</td>\n",
              "      <td>2</td>\n",
              "      <td>10</td>\n",
              "      <td>1</td>\n",
              "      <td>2</td>\n",
              "      <td>1</td>\n",
              "      <td>7</td>\n",
              "      <td>3</td>\n",
              "      <td>41890</td>\n",
              "      <td>0.0</td>\n",
              "      <td>23</td>\n",
              "      <td>1</td>\n",
              "      <td>6.0</td>\n",
              "      <td>3</td>\n",
              "      <td>5</td>\n",
              "      <td>1</td>\n",
              "      <td>4</td>\n",
              "    </tr>\n",
              "    <tr>\n",
              "      <th>2</th>\n",
              "      <td>32</td>\n",
              "      <td>2</td>\n",
              "      <td>2</td>\n",
              "      <td>17</td>\n",
              "      <td>4</td>\n",
              "      <td>5</td>\n",
              "      <td>2</td>\n",
              "      <td>8</td>\n",
              "      <td>2</td>\n",
              "      <td>193280</td>\n",
              "      <td>1.0</td>\n",
              "      <td>15</td>\n",
              "      <td>3</td>\n",
              "      <td>5.0</td>\n",
              "      <td>2</td>\n",
              "      <td>5</td>\n",
              "      <td>0</td>\n",
              "      <td>3</td>\n",
              "    </tr>\n",
              "    <tr>\n",
              "      <th>3</th>\n",
              "      <td>38</td>\n",
              "      <td>1</td>\n",
              "      <td>2</td>\n",
              "      <td>2</td>\n",
              "      <td>5</td>\n",
              "      <td>2</td>\n",
              "      <td>2</td>\n",
              "      <td>2</td>\n",
              "      <td>2</td>\n",
              "      <td>83210</td>\n",
              "      <td>3.0</td>\n",
              "      <td>11</td>\n",
              "      <td>3</td>\n",
              "      <td>13.0</td>\n",
              "      <td>5</td>\n",
              "      <td>8</td>\n",
              "      <td>7</td>\n",
              "      <td>5</td>\n",
              "    </tr>\n",
              "    <tr>\n",
              "      <th>4</th>\n",
              "      <td>32</td>\n",
              "      <td>3</td>\n",
              "      <td>2</td>\n",
              "      <td>10</td>\n",
              "      <td>1</td>\n",
              "      <td>4</td>\n",
              "      <td>2</td>\n",
              "      <td>8</td>\n",
              "      <td>3</td>\n",
              "      <td>23420</td>\n",
              "      <td>4.0</td>\n",
              "      <td>12</td>\n",
              "      <td>2</td>\n",
              "      <td>9.0</td>\n",
              "      <td>2</td>\n",
              "      <td>6</td>\n",
              "      <td>0</td>\n",
              "      <td>4</td>\n",
              "    </tr>\n",
              "  </tbody>\n",
              "</table>\n",
              "</div>"
            ],
            "text/plain": [
              "   Age  BusinessTravel  ...  YearsSinceLastPromotion  YearsWithCurrManager\n",
              "0   51               3  ...                        0                     0\n",
              "1   31               2  ...                        1                     4\n",
              "2   32               2  ...                        0                     3\n",
              "3   38               1  ...                        7                     5\n",
              "4   32               3  ...                        0                     4\n",
              "\n",
              "[5 rows x 18 columns]"
            ]
          },
          "metadata": {
            "tags": []
          },
          "execution_count": 387
        }
      ]
    },
    {
      "cell_type": "code",
      "metadata": {
        "colab": {
          "base_uri": "https://localhost:8080/",
          "height": 214
        },
        "id": "MQYLoLYMU7Fh",
        "outputId": "abbd40ab-5f81-4ca3-9a71-f0bbae0ec7b4"
      },
      "source": [
        "training_points_3.head()"
      ],
      "execution_count": null,
      "outputs": [
        {
          "output_type": "execute_result",
          "data": {
            "text/html": [
              "<div>\n",
              "<style scoped>\n",
              "    .dataframe tbody tr th:only-of-type {\n",
              "        vertical-align: middle;\n",
              "    }\n",
              "\n",
              "    .dataframe tbody tr th {\n",
              "        vertical-align: top;\n",
              "    }\n",
              "\n",
              "    .dataframe thead th {\n",
              "        text-align: right;\n",
              "    }\n",
              "</style>\n",
              "<table border=\"1\" class=\"dataframe\">\n",
              "  <thead>\n",
              "    <tr style=\"text-align: right;\">\n",
              "      <th></th>\n",
              "      <th>Age</th>\n",
              "      <th>Department</th>\n",
              "      <th>DistanceFromHome</th>\n",
              "      <th>Education</th>\n",
              "      <th>EducationField</th>\n",
              "      <th>JobRole</th>\n",
              "      <th>MaritalStatus</th>\n",
              "      <th>NumCompaniesWorked</th>\n",
              "      <th>PercentSalaryHike</th>\n",
              "      <th>TotalWorkingYears</th>\n",
              "      <th>TrainingTimesLastYear</th>\n",
              "      <th>YearsAtCompany</th>\n",
              "      <th>YearsSinceLastPromotion</th>\n",
              "      <th>YearsWithCurrManager</th>\n",
              "    </tr>\n",
              "  </thead>\n",
              "  <tbody>\n",
              "    <tr>\n",
              "      <th>0</th>\n",
              "      <td>51</td>\n",
              "      <td>3</td>\n",
              "      <td>6</td>\n",
              "      <td>2</td>\n",
              "      <td>2</td>\n",
              "      <td>1</td>\n",
              "      <td>2</td>\n",
              "      <td>1.0</td>\n",
              "      <td>11</td>\n",
              "      <td>1.0</td>\n",
              "      <td>6</td>\n",
              "      <td>1</td>\n",
              "      <td>0</td>\n",
              "      <td>0</td>\n",
              "    </tr>\n",
              "    <tr>\n",
              "      <th>1</th>\n",
              "      <td>31</td>\n",
              "      <td>2</td>\n",
              "      <td>10</td>\n",
              "      <td>1</td>\n",
              "      <td>2</td>\n",
              "      <td>7</td>\n",
              "      <td>3</td>\n",
              "      <td>0.0</td>\n",
              "      <td>23</td>\n",
              "      <td>6.0</td>\n",
              "      <td>3</td>\n",
              "      <td>5</td>\n",
              "      <td>1</td>\n",
              "      <td>4</td>\n",
              "    </tr>\n",
              "    <tr>\n",
              "      <th>2</th>\n",
              "      <td>32</td>\n",
              "      <td>2</td>\n",
              "      <td>17</td>\n",
              "      <td>4</td>\n",
              "      <td>5</td>\n",
              "      <td>8</td>\n",
              "      <td>2</td>\n",
              "      <td>1.0</td>\n",
              "      <td>15</td>\n",
              "      <td>5.0</td>\n",
              "      <td>2</td>\n",
              "      <td>5</td>\n",
              "      <td>0</td>\n",
              "      <td>3</td>\n",
              "    </tr>\n",
              "    <tr>\n",
              "      <th>3</th>\n",
              "      <td>38</td>\n",
              "      <td>2</td>\n",
              "      <td>2</td>\n",
              "      <td>5</td>\n",
              "      <td>2</td>\n",
              "      <td>2</td>\n",
              "      <td>2</td>\n",
              "      <td>3.0</td>\n",
              "      <td>11</td>\n",
              "      <td>13.0</td>\n",
              "      <td>5</td>\n",
              "      <td>8</td>\n",
              "      <td>7</td>\n",
              "      <td>5</td>\n",
              "    </tr>\n",
              "    <tr>\n",
              "      <th>4</th>\n",
              "      <td>32</td>\n",
              "      <td>2</td>\n",
              "      <td>10</td>\n",
              "      <td>1</td>\n",
              "      <td>4</td>\n",
              "      <td>8</td>\n",
              "      <td>3</td>\n",
              "      <td>4.0</td>\n",
              "      <td>12</td>\n",
              "      <td>9.0</td>\n",
              "      <td>2</td>\n",
              "      <td>6</td>\n",
              "      <td>0</td>\n",
              "      <td>4</td>\n",
              "    </tr>\n",
              "  </tbody>\n",
              "</table>\n",
              "</div>"
            ],
            "text/plain": [
              "   Age  Department  ...  YearsSinceLastPromotion  YearsWithCurrManager\n",
              "0   51           3  ...                        0                     0\n",
              "1   31           2  ...                        1                     4\n",
              "2   32           2  ...                        0                     3\n",
              "3   38           2  ...                        7                     5\n",
              "4   32           2  ...                        0                     4\n",
              "\n",
              "[5 rows x 14 columns]"
            ]
          },
          "metadata": {
            "tags": []
          },
          "execution_count": 388
        }
      ]
    },
    {
      "cell_type": "markdown",
      "metadata": {
        "id": "s67Upr5RU_3b"
      },
      "source": [
        "Обучаем модели"
      ]
    },
    {
      "cell_type": "code",
      "metadata": {
        "id": "ytPaQaCdVDop"
      },
      "source": [
        "from sklearn import linear_model"
      ],
      "execution_count": null,
      "outputs": []
    },
    {
      "cell_type": "code",
      "metadata": {
        "id": "Zd8Xvr_kVGZD"
      },
      "source": [
        "import xgboost as xgb"
      ],
      "execution_count": null,
      "outputs": []
    },
    {
      "cell_type": "code",
      "metadata": {
        "id": "ei7cR5ytVKOD"
      },
      "source": [
        "logistic_regression_model_2 = linear_model.LogisticRegression() # создаем модель"
      ],
      "execution_count": null,
      "outputs": []
    },
    {
      "cell_type": "code",
      "metadata": {
        "colab": {
          "base_uri": "https://localhost:8080/"
        },
        "id": "g2pfYotSVPmV",
        "outputId": "f14b8f51-5fb5-44b6-b563-c7502a84d724"
      },
      "source": [
        "logistic_regression_model_2 # смотрим, что получилось"
      ],
      "execution_count": null,
      "outputs": [
        {
          "output_type": "execute_result",
          "data": {
            "text/plain": [
              "LogisticRegression(C=1.0, class_weight=None, dual=False, fit_intercept=True,\n",
              "                   intercept_scaling=1, l1_ratio=None, max_iter=100,\n",
              "                   multi_class='auto', n_jobs=None, penalty='l2',\n",
              "                   random_state=None, solver='lbfgs', tol=0.0001, verbose=0,\n",
              "                   warm_start=False)"
            ]
          },
          "metadata": {
            "tags": []
          },
          "execution_count": 392
        }
      ]
    },
    {
      "cell_type": "code",
      "metadata": {
        "id": "TDuKrAbRVwb1"
      },
      "source": [
        "xgboost_model_3 = xgb.XGBClassifier(n_estimators=100)"
      ],
      "execution_count": null,
      "outputs": []
    },
    {
      "cell_type": "code",
      "metadata": {
        "colab": {
          "base_uri": "https://localhost:8080/"
        },
        "id": "8wYbiAy5V1fF",
        "outputId": "d3c280d5-3a47-4926-cddf-d0061df3ba53"
      },
      "source": [
        "xgboost_model_3"
      ],
      "execution_count": null,
      "outputs": [
        {
          "output_type": "execute_result",
          "data": {
            "text/plain": [
              "XGBClassifier(base_score=0.5, booster='gbtree', colsample_bylevel=1,\n",
              "              colsample_bynode=1, colsample_bytree=1, gamma=0,\n",
              "              learning_rate=0.1, max_delta_step=0, max_depth=3,\n",
              "              min_child_weight=1, missing=None, n_estimators=100, n_jobs=1,\n",
              "              nthread=None, objective='binary:logistic', random_state=0,\n",
              "              reg_alpha=0, reg_lambda=1, scale_pos_weight=1, seed=None,\n",
              "              silent=None, subsample=1, verbosity=1)"
            ]
          },
          "metadata": {
            "tags": []
          },
          "execution_count": 394
        }
      ]
    },
    {
      "cell_type": "markdown",
      "metadata": {
        "id": "AAof95tsV4AB"
      },
      "source": [
        "Обучаем модели"
      ]
    },
    {
      "cell_type": "code",
      "metadata": {
        "colab": {
          "base_uri": "https://localhost:8080/"
        },
        "id": "p__2_ZtMV5UA",
        "outputId": "00a26afa-5a6e-44d1-adb7-1d9bd26c5ba8"
      },
      "source": [
        "logistic_regression_model_2.fit(training_points_2, training_values_2)"
      ],
      "execution_count": null,
      "outputs": [
        {
          "output_type": "execute_result",
          "data": {
            "text/plain": [
              "LogisticRegression(C=1.0, class_weight=None, dual=False, fit_intercept=True,\n",
              "                   intercept_scaling=1, l1_ratio=None, max_iter=100,\n",
              "                   multi_class='auto', n_jobs=None, penalty='l2',\n",
              "                   random_state=None, solver='lbfgs', tol=0.0001, verbose=0,\n",
              "                   warm_start=False)"
            ]
          },
          "metadata": {
            "tags": []
          },
          "execution_count": 395
        }
      ]
    },
    {
      "cell_type": "code",
      "metadata": {
        "colab": {
          "base_uri": "https://localhost:8080/"
        },
        "id": "0YHuFdrcV90t",
        "outputId": "2dee18bc-6758-4765-e3e4-72a29cd770ce"
      },
      "source": [
        "xgboost_model_3.fit(training_points_3, training_values_3)"
      ],
      "execution_count": null,
      "outputs": [
        {
          "output_type": "execute_result",
          "data": {
            "text/plain": [
              "XGBClassifier(base_score=0.5, booster='gbtree', colsample_bylevel=1,\n",
              "              colsample_bynode=1, colsample_bytree=1, gamma=0,\n",
              "              learning_rate=0.1, max_delta_step=0, max_depth=3,\n",
              "              min_child_weight=1, missing=None, n_estimators=100, n_jobs=1,\n",
              "              nthread=None, objective='binary:logistic', random_state=0,\n",
              "              reg_alpha=0, reg_lambda=1, scale_pos_weight=1, seed=None,\n",
              "              silent=None, subsample=1, verbosity=1)"
            ]
          },
          "metadata": {
            "tags": []
          },
          "execution_count": 396
        }
      ]
    },
    {
      "cell_type": "markdown",
      "metadata": {
        "id": "-3yVbOdAWDPh"
      },
      "source": [
        "Провалидируем модели на тестовой выборке"
      ]
    },
    {
      "cell_type": "code",
      "metadata": {
        "id": "mKmCZeAoWc_g"
      },
      "source": [
        "test_predictions_logistic_regression_2 = logistic_regression_model_2.predict(test_points_2)"
      ],
      "execution_count": null,
      "outputs": []
    },
    {
      "cell_type": "code",
      "metadata": {
        "id": "A8qwtrK9XAYf"
      },
      "source": [
        "test_predictions_xgboost_3 = xgboost_model_3.predict(test_points_3)"
      ],
      "execution_count": null,
      "outputs": []
    },
    {
      "cell_type": "markdown",
      "metadata": {
        "id": "XcgF2MxbY79Q"
      },
      "source": [
        "Точность прогноза"
      ]
    },
    {
      "cell_type": "markdown",
      "metadata": {
        "id": "jhCfh7zCZGKF"
      },
      "source": [
        "Функция для подсчета точности реализована в библиотеке sklearn и называется accuracy_score(). Импортируем её."
      ]
    },
    {
      "cell_type": "code",
      "metadata": {
        "id": "3bEZHfWwY94z"
      },
      "source": [
        "from sklearn.metrics import accuracy_score"
      ],
      "execution_count": null,
      "outputs": []
    },
    {
      "cell_type": "markdown",
      "metadata": {
        "id": "u4LFYasUZKFl"
      },
      "source": [
        "В функцию accuracy_score() необходимо передать два аргумента:\n",
        "\n",
        "\n",
        "\n",
        "*   истинные значения меток - test_values\n",
        "*   предсказания модели - test_predictions_logistic_regression или test_predictions_random_forest\n",
        "\n",
        "\n",
        "\n",
        "\n"
      ]
    },
    {
      "cell_type": "code",
      "metadata": {
        "colab": {
          "base_uri": "https://localhost:8080/"
        },
        "id": "suAk-1OcZAJC",
        "outputId": "8f9a191a-e41a-4b6d-eb6a-c255970830d9"
      },
      "source": [
        "print(accuracy_score(test_values_2, test_predictions_logistic_regression_2))\n",
        "print(accuracy_score(test_values_3, test_predictions_xgboost_3))"
      ],
      "execution_count": null,
      "outputs": [
        {
          "output_type": "stream",
          "text": [
            "0.8357531760435571\n",
            "0.8693284936479129\n"
          ],
          "name": "stdout"
        }
      ]
    },
    {
      "cell_type": "markdown",
      "metadata": {
        "id": "RRvgVyePZg8m"
      },
      "source": [
        "Сравним значения точности для наших моделей с точностью для константного классификатора, модели, которая всегда бы предсказывала больший класс, в нашем случае 0."
      ]
    },
    {
      "cell_type": "code",
      "metadata": {
        "colab": {
          "base_uri": "https://localhost:8080/"
        },
        "id": "hAkc7OrNZiZG",
        "outputId": "10cacbf5-0c09-4086-91ad-9c2657635723"
      },
      "source": [
        "print(accuracy_score(test_values_2, np.zeros_like(test_values_2)))"
      ],
      "execution_count": null,
      "outputs": [
        {
          "output_type": "stream",
          "text": [
            "0.8357531760435571\n"
          ],
          "name": "stdout"
        }
      ]
    },
    {
      "cell_type": "code",
      "metadata": {
        "colab": {
          "base_uri": "https://localhost:8080/"
        },
        "id": "-yAbWLe1Zn9x",
        "outputId": "c7e0e3a2-b786-4871-f655-30da1aebe7ae"
      },
      "source": [
        "print(accuracy_score(test_values_3, np.zeros_like(test_values_3)))"
      ],
      "execution_count": null,
      "outputs": [
        {
          "output_type": "stream",
          "text": [
            "0.8357531760435571\n"
          ],
          "name": "stdout"
        }
      ]
    },
    {
      "cell_type": "markdown",
      "metadata": {
        "id": "iWeO7-NbZ3p1"
      },
      "source": [
        "Как видно, значения точности для логистической регрессии равно точности для контстантного классификатора. И на самом деле, модель логистической регресси предсказывает только класс 0:"
      ]
    },
    {
      "cell_type": "code",
      "metadata": {
        "colab": {
          "base_uri": "https://localhost:8080/"
        },
        "id": "6_KZM7ZkZ4Sm",
        "outputId": "57d6d86d-924d-4b6e-9465-da4dd05b3548"
      },
      "source": [
        "pd.value_counts(test_predictions_logistic_regression_2)"
      ],
      "execution_count": null,
      "outputs": [
        {
          "output_type": "execute_result",
          "data": {
            "text/plain": [
              "0    1102\n",
              "dtype: int64"
            ]
          },
          "metadata": {
            "tags": []
          },
          "execution_count": 404
        }
      ]
    },
    {
      "cell_type": "code",
      "metadata": {
        "colab": {
          "base_uri": "https://localhost:8080/"
        },
        "id": "K_tY3IFaZ-m0",
        "outputId": "f892f7a0-53f7-4660-afbf-431e08799bda"
      },
      "source": [
        "pd.value_counts(test_predictions_xgboost_3)"
      ],
      "execution_count": null,
      "outputs": [
        {
          "output_type": "execute_result",
          "data": {
            "text/plain": [
              "0    1049\n",
              "1      53\n",
              "dtype: int64"
            ]
          },
          "metadata": {
            "tags": []
          },
          "execution_count": 406
        }
      ]
    },
    {
      "cell_type": "markdown",
      "metadata": {
        "id": "D_1HBU4aaDZ6"
      },
      "source": [
        "Модель градиентного бустинга над решающими деревьями работает лучше, поэтому для дальнейшего исследования мы оставим её."
      ]
    },
    {
      "cell_type": "markdown",
      "metadata": {
        "id": "RbUG1YxoaJHH"
      },
      "source": [
        "Таблица сопряженности модели классификации"
      ]
    },
    {
      "cell_type": "code",
      "metadata": {
        "id": "gwIdZ627aKl8"
      },
      "source": [
        "from sklearn.metrics import confusion_matrix"
      ],
      "execution_count": null,
      "outputs": []
    },
    {
      "cell_type": "code",
      "metadata": {
        "colab": {
          "base_uri": "https://localhost:8080/",
          "height": 106
        },
        "id": "1z8L9KgaaOWc",
        "outputId": "ce3c76bf-8914-4b54-d383-6f0c829a4b5a"
      },
      "source": [
        "xgboost_confusion_matrix_3 = confusion_matrix(test_values_3, test_predictions_xgboost_3)\n",
        "xgboost_confusion_matrix_3 = pd.DataFrame(xgboost_confusion_matrix_3)\n",
        "\n",
        "xgboost_confusion_matrix_3"
      ],
      "execution_count": null,
      "outputs": [
        {
          "output_type": "execute_result",
          "data": {
            "text/html": [
              "<div>\n",
              "<style scoped>\n",
              "    .dataframe tbody tr th:only-of-type {\n",
              "        vertical-align: middle;\n",
              "    }\n",
              "\n",
              "    .dataframe tbody tr th {\n",
              "        vertical-align: top;\n",
              "    }\n",
              "\n",
              "    .dataframe thead th {\n",
              "        text-align: right;\n",
              "    }\n",
              "</style>\n",
              "<table border=\"1\" class=\"dataframe\">\n",
              "  <thead>\n",
              "    <tr style=\"text-align: right;\">\n",
              "      <th></th>\n",
              "      <th>0</th>\n",
              "      <th>1</th>\n",
              "    </tr>\n",
              "  </thead>\n",
              "  <tbody>\n",
              "    <tr>\n",
              "      <th>0</th>\n",
              "      <td>913</td>\n",
              "      <td>8</td>\n",
              "    </tr>\n",
              "    <tr>\n",
              "      <th>1</th>\n",
              "      <td>136</td>\n",
              "      <td>45</td>\n",
              "    </tr>\n",
              "  </tbody>\n",
              "</table>\n",
              "</div>"
            ],
            "text/plain": [
              "     0   1\n",
              "0  913   8\n",
              "1  136  45"
            ]
          },
          "metadata": {
            "tags": []
          },
          "execution_count": 408
        }
      ]
    },
    {
      "cell_type": "markdown",
      "metadata": {
        "id": "Z9Tku0-vaX18"
      },
      "source": [
        "Прогноз вероятности принадлежности к классу"
      ]
    },
    {
      "cell_type": "markdown",
      "metadata": {
        "id": "DQh36LGQaiY_"
      },
      "source": [
        "Вместо прогноза меток классов модель может с помощью метода predict_proba() выдавать метки вероятности принадлежности к классам. "
      ]
    },
    {
      "cell_type": "code",
      "metadata": {
        "id": "c9r3Ut0EaZon"
      },
      "source": [
        "test_probabilities_3 = xgboost_model_3.predict_proba(test_points_3)"
      ],
      "execution_count": null,
      "outputs": []
    },
    {
      "cell_type": "markdown",
      "metadata": {
        "id": "MgKhDmgyakk1"
      },
      "source": [
        "Посмотрим на первые пять значений этой матрицу:"
      ]
    },
    {
      "cell_type": "code",
      "metadata": {
        "colab": {
          "base_uri": "https://localhost:8080/"
        },
        "id": "8r6e5Hz0ajOS",
        "outputId": "645bfa4c-3c07-4ad4-b2d5-f0856f6fa893"
      },
      "source": [
        "test_probabilities_3[:5, :]"
      ],
      "execution_count": null,
      "outputs": [
        {
          "output_type": "execute_result",
          "data": {
            "text/plain": [
              "array([[0.7968916 , 0.20310839],\n",
              "       [0.9315087 , 0.06849129],\n",
              "       [0.8845193 , 0.11548074],\n",
              "       [0.9554608 , 0.04453924],\n",
              "       [0.56228673, 0.43771324]], dtype=float32)"
            ]
          },
          "metadata": {
            "tags": []
          },
          "execution_count": 411
        }
      ]
    },
    {
      "cell_type": "markdown",
      "metadata": {
        "id": "k100-2yzatIa"
      },
      "source": [
        "Вероятность принадлежности ко второму классу - во втором столбце матрицы вероятностей."
      ]
    },
    {
      "cell_type": "code",
      "metadata": {
        "id": "C0oLU0yKapsJ"
      },
      "source": [
        "test_probabilities_3 = test_probabilities_3[:, 1]"
      ],
      "execution_count": null,
      "outputs": []
    },
    {
      "cell_type": "markdown",
      "metadata": {
        "id": "sgF2LjFMa1id"
      },
      "source": [
        "Посмотрим на распределение предсказанной классификатором вероятности ухода сотрудника, метки 1."
      ]
    },
    {
      "cell_type": "code",
      "metadata": {
        "colab": {
          "base_uri": "https://localhost:8080/",
          "height": 343
        },
        "id": "f7Gdgsv1aw5j",
        "outputId": "df6cc2f2-8192-4b5c-cd51-def149f58742"
      },
      "source": [
        "plt.figure(figsize=(8, 5))\n",
        "\n",
        "plt.hist(test_probabilities_3, bins=100)\n",
        "plt.vlines(0.5, 0, 100)\n",
        "\n",
        "plt.xlabel('Предсказанная вероятность ухода сотрудника', fontsize=20)\n",
        "plt.ylabel('Количество сотрудников', fontsize=20);"
      ],
      "execution_count": null,
      "outputs": [
        {
          "output_type": "display_data",
          "data": {
            "image/png": "[encoded data removed]",
            "text/plain": [
              "<Figure size 576x360 with 1 Axes>"
            ]
          },
          "metadata": {
            "tags": []
          }
        }
      ]
    },
    {
      "cell_type": "markdown",
      "metadata": {
        "id": "djRU6HcqbB7-"
      },
      "source": [
        "Распределение сконцентрировано на отрезке от 0 до 0.5 и лишь незначительная часть вероятностей превышает порог 0.5. Из этого можно предположить, что классификатор склонен классифицировать все объекты скорее как 0, игнорируя метку 1. Это происходит потому, что меток 1 в обучающей выборке сильно меньше, чем меток 0."
      ]
    },
    {
      "cell_type": "markdown",
      "metadata": {
        "id": "Uqt7GzoCbUDp"
      },
      "source": [
        "Точность и полнота"
      ]
    },
    {
      "cell_type": "markdown",
      "metadata": {
        "id": "_iOeWNEhbWnE"
      },
      "source": [
        "Для начала получим матрицу сопряженности для классификатора на основе случайного леса:"
      ]
    },
    {
      "cell_type": "code",
      "metadata": {
        "id": "1wrTV4mFbYJB"
      },
      "source": [
        "confusion_matrix_xgboost_3 = confusion_matrix(test_values_3, test_predictions_xgboost_3)"
      ],
      "execution_count": null,
      "outputs": []
    },
    {
      "cell_type": "markdown",
      "metadata": {
        "id": "LLFQ1v1dbm-z"
      },
      "source": [
        "Выделим каждое значение в отдельную переменную:"
      ]
    },
    {
      "cell_type": "code",
      "metadata": {
        "id": "fwHAclsWbcyg"
      },
      "source": [
        "TN, FP = confusion_matrix_xgboost_3[0, 0], confusion_matrix_xgboost_3[0, 1]\n",
        "\n",
        "FN, TP = confusion_matrix_xgboost_3[1, 0], confusion_matrix_xgboost_3[1, 1]"
      ],
      "execution_count": null,
      "outputs": []
    },
    {
      "cell_type": "markdown",
      "metadata": {
        "id": "pxJgV9TSbqbf"
      },
      "source": [
        "Полнота (Recall) классификатора"
      ]
    },
    {
      "cell_type": "code",
      "metadata": {
        "colab": {
          "base_uri": "https://localhost:8080/"
        },
        "id": "FJs3w46Hbhim",
        "outputId": "ebb0f302-68b2-4279-fca2-a2d88b703a60"
      },
      "source": [
        "recall = TP / (TP + FN)\n",
        "\n",
        "print(\"Полнота: %.2f%%\" % (100 * recall))"
      ],
      "execution_count": null,
      "outputs": [
        {
          "output_type": "stream",
          "text": [
            "Полнота: 24.86%\n"
          ],
          "name": "stdout"
        }
      ]
    },
    {
      "cell_type": "markdown",
      "metadata": {
        "id": "ddbRjnIJbuJx"
      },
      "source": [
        "Точность классификатора (Precision) "
      ]
    },
    {
      "cell_type": "code",
      "metadata": {
        "colab": {
          "base_uri": "https://localhost:8080/"
        },
        "id": "57th6lmMbj-q",
        "outputId": "dcd26458-4f2a-4889-ee3a-c9f5b62ee7f2"
      },
      "source": [
        "precision = TP / (TP + FP)\n",
        "\n",
        "print(\"Точность: %.2f%%\" % (100 * precision))"
      ],
      "execution_count": null,
      "outputs": [
        {
          "output_type": "stream",
          "text": [
            "Точность: 84.91%\n"
          ],
          "name": "stdout"
        }
      ]
    },
    {
      "cell_type": "markdown",
      "metadata": {
        "id": "lboQ1r06b5Kg"
      },
      "source": [
        "У классификатора низкая полнота, но высокая точность, значит, он срабатывает достаточно редко, но при этом почти безошибочно определяет объекты класса 1 (много пропущенных объектов, ложное \"бездействие\")."
      ]
    },
    {
      "cell_type": "markdown",
      "metadata": {
        "id": "p4mPjM__cPaC"
      },
      "source": [
        "Кривая precision-recall"
      ]
    },
    {
      "cell_type": "markdown",
      "metadata": {
        "id": "pyR6vwedcSJI"
      },
      "source": [
        "Получим координаты точек кривой PR для тестового набора данных"
      ]
    },
    {
      "cell_type": "code",
      "metadata": {
        "id": "6Li8JZmgcUA2"
      },
      "source": [
        "precision_3, recall_3, _ = precision_recall_curve(test_values_3, test_probabilities_3)"
      ],
      "execution_count": null,
      "outputs": []
    },
    {
      "cell_type": "code",
      "metadata": {
        "colab": {
          "base_uri": "https://localhost:8080/",
          "height": 467
        },
        "id": "WfMYhLqtcaSi",
        "outputId": "99d03f69-9681-4ae1-dce6-47773eee0e43"
      },
      "source": [
        "plt.figure(figsize=(7, 7))\n",
        "\n",
        "plt.plot(recall_3, precision_3, color='darkorange')\n",
        "\n",
        "plt.title('Precision-Recall curve', fontsize=18)\n",
        "plt.xlabel('Полнота (Recall)', fontsize=16)\n",
        "plt.ylabel('Точность (Precision)', fontsize=16)\n",
        "\n",
        "plt.show()"
      ],
      "execution_count": null,
      "outputs": [
        {
          "output_type": "display_data",
          "data": {
            "image/png": "[encoded data removed]",
            "text/plain": [
              "<Figure size 504x504 with 1 Axes>"
            ]
          },
          "metadata": {
            "tags": []
          }
        }
      ]
    },
    {
      "cell_type": "markdown",
      "metadata": {
        "id": "2qUq2EhVckrT"
      },
      "source": [
        "Качество классификации среднее"
      ]
    },
    {
      "cell_type": "markdown",
      "metadata": {
        "id": "QIekIVvOcqs0"
      },
      "source": [
        "Площадь под precision-recall "
      ]
    },
    {
      "cell_type": "code",
      "metadata": {
        "colab": {
          "base_uri": "https://localhost:8080/"
        },
        "id": "cwHchFKNcoBK",
        "outputId": "b0b2f706-2582-405d-e5b0-6b31c5a5d2e9"
      },
      "source": [
        "pr_auc_value_3 = average_precision_score(test_values_3, test_probabilities_3)\n",
        "\n",
        "print(\"PR-AUC на тестовой выборке:\", pr_auc_value_3) "
      ],
      "execution_count": null,
      "outputs": [
        {
          "output_type": "stream",
          "text": [
            "PR-AUC на тестовой выборке: 0.6757720587690099\n"
          ],
          "name": "stdout"
        }
      ]
    },
    {
      "cell_type": "markdown",
      "metadata": {
        "id": "Wf5HHhjzc4si"
      },
      "source": [
        "Площадь достаточно небольшая, а значит полнота и точность средние"
      ]
    },
    {
      "cell_type": "markdown",
      "metadata": {
        "id": "Zpv4Xy_7dMLl"
      },
      "source": [
        "Также нарисуем ROC кривую классификатора."
      ]
    },
    {
      "cell_type": "code",
      "metadata": {
        "id": "2L_2pXMudNwU"
      },
      "source": [
        "false_positive_rates_3, true_positive_rates_3, threshold_3 = roc_curve(test_values_3, test_probabilities_3)"
      ],
      "execution_count": null,
      "outputs": []
    },
    {
      "cell_type": "code",
      "metadata": {
        "colab": {
          "base_uri": "https://localhost:8080/",
          "height": 458
        },
        "id": "Eq9BM2_fdSBN",
        "outputId": "a28e7c2f-4830-4c85-d7ad-8f45d1190f2f"
      },
      "source": [
        "# создаём график\n",
        "plt.figure(figsize=(7, 7))\n",
        "\n",
        "# рисуем кривую\n",
        "plt.plot(false_positive_rates_3, true_positive_rates_3, label='Сглаженные значения ROC-AUC')\n",
        "\n",
        "# кривая, соответствующая случайному угадыванию\n",
        "plt.plot([0, 1], [0, 1], color='k', lw=2, linestyle=':', label='Модель, выдающая случайное значение')\n",
        "\n",
        "plt.title('ROC curve')\n",
        "plt.xlabel('False Positive Rate')\n",
        "plt.ylabel('True Positive Rate')\n",
        "\n",
        "plt.fill_between(false_positive_rates, true_positive_rates, step=\"mid\", alpha=0.4, label='площадь под кривой (ROC-AUC)')\n",
        "plt.legend()\n",
        "plt.show()"
      ],
      "execution_count": null,
      "outputs": [
        {
          "output_type": "display_data",
          "data": {
            "image/png": "[encoded data removed]",
            "text/plain": [
              "<Figure size 504x504 with 1 Axes>"
            ]
          },
          "metadata": {
            "tags": []
          }
        }
      ]
    },
    {
      "cell_type": "code",
      "metadata": {
        "id": "kwqHzHT7dYS0"
      },
      "source": [
        "from sklearn.metrics import roc_auc_score"
      ],
      "execution_count": null,
      "outputs": []
    },
    {
      "cell_type": "code",
      "metadata": {
        "colab": {
          "base_uri": "https://localhost:8080/"
        },
        "id": "zzbv097idZkM",
        "outputId": "35149b5a-284e-4ccd-a0ac-9f71b57e1716"
      },
      "source": [
        "roc_auc_value_3 = roc_auc_score(test_values_3, test_probabilities_3)\n",
        "\n",
        "print(\"ROC-AUC на тестовой выборке:\", roc_auc_value_3) "
      ],
      "execution_count": null,
      "outputs": [
        {
          "output_type": "stream",
          "text": [
            "ROC-AUC на тестовой выборке: 0.8949316440813193\n"
          ],
          "name": "stdout"
        }
      ]
    },
    {
      "cell_type": "markdown",
      "metadata": {
        "id": "fEWWKZyEdf6x"
      },
      "source": [
        "Как мы видим, полученное число находится в промежутке между 0.80 - 0.90, что означает, что качество классификации хорошее."
      ]
    }
  ]
}