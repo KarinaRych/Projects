{
  "nbformat": 4,
  "nbformat_minor": 0,
  "metadata": {
    "kernelspec": {
      "display_name": "Python 3",
      "language": "python",
      "name": "python3"
    },
    "language_info": {
      "codemirror_mode": {
        "name": "ipython",
        "version": 3
      },
      "file_extension": ".py",
      "mimetype": "text/x-python",
      "name": "python",
      "nbconvert_exporter": "python",
      "pygments_lexer": "ipython3",
      "version": "3.6.5"
    },
    "toc": {
      "base_numbering": 1,
      "nav_menu": {},
      "number_sections": true,
      "sideBar": true,
      "skip_h1_title": false,
      "title_cell": "Table of Contents",
      "title_sidebar": "Contents",
      "toc_cell": false,
      "toc_position": {},
      "toc_section_display": true,
      "toc_window_display": false
    },
    "colab": {
      "name": "Rychkova BIVT-17-1 Praktika 2.ipynb\"\"",
      "provenance": [],
      "collapsed_sections": []
    }
  },
  "cells": [
    {
      "cell_type": "markdown",
      "metadata": {
        "id": "LYKqDli0Lqas"
      },
      "source": [
        "# Предсказание цен на недвижимость\n",
        "\n",
        "**Бизнес-постановка задачи** \n",
        "\n",
        "Компании по продаже недвижимости оценивают ее стоимость, используя методы машинного обучения. \n",
        "Задача оценки цены на недвижимость также может быть нужна для:\n",
        "* выявления аномально низких цен на недвижимость,\n",
        "* оценки макроэкономических показателей, \n",
        "* уточнения ставок по ипотеке"
      ]
    },
    {
      "cell_type": "markdown",
      "metadata": {
        "id": "FB3xfscxLqat"
      },
      "source": [
        "**Постановка задачи анализа данных** \n",
        "\n",
        "Целью данной задачи является прогнозирование стоимости домов в округе Кинг (штат Вашингтон, США) с помощью построения регрессионных моделей и их анализа. Набор данных состоит из цен на дома в округе Кинг, проданных в период с мая 2014 года по май 2015 года. Данные опубликованы в открытом доступе на платформе Kaggle. "
      ]
    },
    {
      "cell_type": "markdown",
      "metadata": {
        "id": "rvJWkambLqau"
      },
      "source": [
        "Данные с сайта renthub.com по стоимости квартир для аренды в Сиэтле:"
      ]
    },
    {
      "cell_type": "markdown",
      "metadata": {
        "id": "_vD1NqACLqav"
      },
      "source": [
        "<a href=\"https://drive.google.com/uc?id=1Dr-p-o5yMi3uIS2kPcUUwT5bH0cCt1Be\n",
        "\" target=\"_blank\"><img src=\"https://drive.google.com/uc?id=1Dr-p-o5yMi3uIS2kPcUUwT5bH0cCt1Be\" \n",
        "alt=\"IMAGE ALT TEXT HERE\" width=\"360\" border=\"0\" /></a>\n"
      ]
    },
    {
      "cell_type": "markdown",
      "metadata": {
        "id": "S15gn1XfLqaw"
      },
      "source": [
        "**Обзор доступных данных**\n",
        "\n",
        "В выборке 21613 наблюдений и 16 переменных. \n",
        "Таким образом, про каждый из 21613 объектов недвижимости мы знаем значения 16 их характеристик (число спален, оценка состояния риелтором, наличие вида на воду и т.п.)\n",
        "\n",
        "Выборка разбита на две части для обучения и для тестирования модели. Данные на обучение и тест обычно делят случайно и равномерно: нужно чтобы и обучающая, и тестовая выборка были похожие на те данные, на которых модель будет использоваться в боевых условиях. \n",
        "\n",
        "Доли общей выборки для обучения и тестирования обычно 70% и 30% соотвественно. Любые разумные числа подходят, если для обучения используется достаточно много данных (обычно больше 50%), но и для тестирования что-то остается (10% и больше).\n",
        "В нашей обучающей выборке 15129 объекта, а в тестовой - 6484.\n",
        "\n",
        "Более сложные разбиения могут использоваться если в данных есть временная компонента - например, мы строим скоринговую модель и для теста откладываем данные за последние несколько месяцев, а всю остальную выборку используем для обучения. Такое разбиение имитирует реальную работу модели: мы можем обучаться только на данных прошлых кредитов, а работать модель уже будет на данных из будущего. \n"
      ]
    },
    {
      "cell_type": "markdown",
      "metadata": {
        "id": "iOeVms4dLqax"
      },
      "source": [
        "Данные содержат два типа переменных:\n",
        "\n",
        "* Целевая: **Целевая. Цена**\n",
        "* Остальные переменные: **15 переменных, могут использоваться для прогноза целевой переменной.**"
      ]
    },
    {
      "cell_type": "markdown",
      "metadata": {
        "id": "OFP_i1F1Lqay"
      },
      "source": [
        "## План анализа данных (data mining):\n",
        "\n",
        "  1. Загрузить данные для обучения\n",
        "  2. Обработать данные перед обучением модели\n",
        "  3. Обучить модель на обучающей выборке\n",
        "  4. Загрузить и предобработать данные для тестирования\n",
        "  5. Провалидировать модель на тестовой выборке"
      ]
    },
    {
      "cell_type": "markdown",
      "metadata": {
        "id": "mKUYn0nHLqaz"
      },
      "source": [
        "## 1. Загрузить данные для обучения"
      ]
    },
    {
      "cell_type": "markdown",
      "metadata": {
        "id": "Bqqurd70Lqaz"
      },
      "source": [
        "**Шаг 1.1. Загружаем библиотеки** "
      ]
    },
    {
      "cell_type": "markdown",
      "metadata": {
        "id": "rY5oSQ0-Lqa0"
      },
      "source": [
        "Библиотека **warnings** отвечает за то, какие предупреждения (warnings) о работе будут выводиться пользователю. \n",
        "FutureWarning - предупреждения о том, как изменится работа библиотек в будущих версиях.\n",
        "Поэтому такие предупреждения мы будем игнорировать.\n",
        "Чтобы включить режим игнорирования мы отбираем все предупреждения из категории FutureWarning и выбираем для них действия 'ignore'.\n",
        "Это делается вызовом функции simplefilter c задание двух атрибутов: действия action и категории предупреждений category."
      ]
    },
    {
      "cell_type": "code",
      "metadata": {
        "id": "SVfM6HC8Lqa1"
      },
      "source": [
        "import warnings\n",
        "warnings.simplefilter(action='ignore', category=FutureWarning)"
      ],
      "execution_count": null,
      "outputs": []
    },
    {
      "cell_type": "markdown",
      "metadata": {
        "id": "28Bf-HdaLqa4"
      },
      "source": [
        "Для корректной работы с данными в python требуется загрузить специальную библиотеку\n",
        "**pandas**, программную библиотеку на языке python для обработки и анализа данных. "
      ]
    },
    {
      "cell_type": "code",
      "metadata": {
        "id": "DuCW163qLqa4"
      },
      "source": [
        "import pandas as pd # загружаем библиотеку и для простоты обращения в коде называем её сокращенно pd"
      ],
      "execution_count": null,
      "outputs": []
    },
    {
      "cell_type": "markdown",
      "metadata": {
        "id": "NT0TLhqxLqa7"
      },
      "source": [
        "Для корректной работы с графиками в python требуется загрузить специальную библиотеку\n",
        "**matplotlib**, программную библиотеку на языке python для визуализации данных двумерной и трехмерной графикой.\n",
        "\n",
        "Графики используются для облегчения интерпретации полученных результатов, а также в качестве иллюстраций в презентациях и отчетах. \n",
        "\n",
        "Основные методы построения графиков:\n",
        "* plot() - графики\n",
        "* semilogy() - график логарифметический\n",
        "* hist() - гистограммы\n",
        "\n",
        "Мы подробней разберем эти методы дальше."
      ]
    },
    {
      "cell_type": "code",
      "metadata": {
        "id": "gHGUZu8rLqa8"
      },
      "source": [
        "import matplotlib.pyplot as plt # загружаем библиотеку и для простоты обращения в коде называем её сокращенно plt\n",
        "# указываем, чтобы картинки отображались прямо в ноутбуке \n",
        "%matplotlib inline "
      ],
      "execution_count": null,
      "outputs": []
    },
    {
      "cell_type": "markdown",
      "metadata": {
        "id": "JVr8btg7Qk3x"
      },
      "source": [
        "**Шаг 1.2. Загрузим данные**"
      ]
    },
    {
      "cell_type": "markdown",
      "metadata": {
        "id": "5pzU4iRyQN9H"
      },
      "source": [
        "Для решения задачи мы будем использовать модель машинного обучения. Ее обучают на данных. Наши состоят из двух частей: часть для обучения и часть для тестирования модели. Загружаем данные с помощие команды !wget. Для того, чтобы игнорировать сообщения в процессе загрузки используем магическую команду %%capture в первой строке."
      ]
    },
    {
      "cell_type": "code",
      "metadata": {
        "id": "g6rmRg3BOTxG"
      },
      "source": [
        "%%capture\n",
        "!wget https://www.dropbox.com/s/afwb0tnqm9izxha/predict_house_price_training_data.xlsx\n",
        "!wget https://www.dropbox.com/s/sur2avqf4n5f4az/predict_house_price_test_data.xlsx"
      ],
      "execution_count": null,
      "outputs": []
    },
    {
      "cell_type": "markdown",
      "metadata": {
        "id": "yJpKlVRBLqa-"
      },
      "source": [
        "Так как данные в формате xlsx (Excel), мы будем использовать специальную функцию\n",
        "из библиотеки pandas для загрузки таких данных **read_excel**.\n",
        "\n",
        "В функции передаем один атрибут: название таблицы с данными."
      ]
    },
    {
      "cell_type": "code",
      "metadata": {
        "id": "jaBeMSeuLqa_"
      },
      "source": [
        "training_data = pd.read_excel('predict_house_price_training_data.xlsx') # загружаем таблицу в переменную training_data"
      ],
      "execution_count": null,
      "outputs": []
    },
    {
      "cell_type": "markdown",
      "metadata": {
        "id": "eD4og2Zsv_du"
      },
      "source": [
        "Поскольку нам нужно перестроить модели, убрав минимальный(ые) по значимости признак (и) из файлов обучения и тестирования, для этих целей будут созданы аналогичные сущности с аналогичными названиями только с добавлением \"_2\"."
      ]
    },
    {
      "cell_type": "code",
      "metadata": {
        "id": "nQh-AtFEsBf2"
      },
      "source": [
        "training_data_2 = pd.read_excel('predict_house_price_training_data.xlsx') # загружаем таблицу в переменную training_data_2"
      ],
      "execution_count": null,
      "outputs": []
    },
    {
      "cell_type": "markdown",
      "metadata": {
        "id": "jK9Xd2a5LqbB"
      },
      "source": [
        "*Что важно посмотреть после того, как мы загрузили данные?*\n",
        "- проверить, что данные действительно загрузились\n",
        "- посмотреть на данные, чтобы удостовериться, что они правильные: колонки имеют те же названия, что и в таблице и т.д.\n",
        "\n",
        "Для того чтобы это сделать, нужно вызвать от переменной *training_data* метод **head()**, который выводит первые 5 строк таблицы. \n",
        "\n",
        "Для вызова метода объекта необходимо сначала написать *имя объекта*, затем поставить *точку*, затем уже написать *название метода*. Обратите внимание, что в конце обязательно ставить скобочки, потому что метод - это функция и в ней есть аргументы, просто в данном случае мы их не передаем, поэтому оставляем поле пустым"
      ]
    },
    {
      "cell_type": "code",
      "metadata": {
        "id": "q3Me_dg-LqbC",
        "colab": {
          "base_uri": "https://localhost:8080/",
          "height": 234
        },
        "outputId": "969ced5b-988c-41a7-bf06-59ae5ff97a35"
      },
      "source": [
        "training_data.head()"
      ],
      "execution_count": null,
      "outputs": [
        {
          "output_type": "execute_result",
          "data": {
            "text/html": [
              "<div>\n",
              "<style scoped>\n",
              "    .dataframe tbody tr th:only-of-type {\n",
              "        vertical-align: middle;\n",
              "    }\n",
              "\n",
              "    .dataframe tbody tr th {\n",
              "        vertical-align: top;\n",
              "    }\n",
              "\n",
              "    .dataframe thead th {\n",
              "        text-align: right;\n",
              "    }\n",
              "</style>\n",
              "<table border=\"1\" class=\"dataframe\">\n",
              "  <thead>\n",
              "    <tr style=\"text-align: right;\">\n",
              "      <th></th>\n",
              "      <th>Целевая.Цена</th>\n",
              "      <th>Спальни</th>\n",
              "      <th>Ванные</th>\n",
              "      <th>Жилая площадь</th>\n",
              "      <th>Общая площадь</th>\n",
              "      <th>Количество этажей</th>\n",
              "      <th>Вид на воду</th>\n",
              "      <th>Просмотрены ранее</th>\n",
              "      <th>Состояние</th>\n",
              "      <th>Оценка риелтора</th>\n",
              "      <th>Площадь без подвала</th>\n",
              "      <th>Площадь подвала</th>\n",
              "      <th>Год постройки</th>\n",
              "      <th>Год реновации</th>\n",
              "      <th>Широта</th>\n",
              "      <th>Долгота</th>\n",
              "    </tr>\n",
              "  </thead>\n",
              "  <tbody>\n",
              "    <tr>\n",
              "      <th>0</th>\n",
              "      <td>830000</td>\n",
              "      <td>5</td>\n",
              "      <td>3.50</td>\n",
              "      <td>3490</td>\n",
              "      <td>21780</td>\n",
              "      <td>2.0</td>\n",
              "      <td>0</td>\n",
              "      <td>0</td>\n",
              "      <td>3</td>\n",
              "      <td>8</td>\n",
              "      <td>3490</td>\n",
              "      <td>0</td>\n",
              "      <td>1996</td>\n",
              "      <td>0</td>\n",
              "      <td>47.6707</td>\n",
              "      <td>-122.144</td>\n",
              "    </tr>\n",
              "    <tr>\n",
              "      <th>1</th>\n",
              "      <td>385000</td>\n",
              "      <td>4</td>\n",
              "      <td>1.75</td>\n",
              "      <td>2360</td>\n",
              "      <td>7620</td>\n",
              "      <td>1.0</td>\n",
              "      <td>0</td>\n",
              "      <td>0</td>\n",
              "      <td>4</td>\n",
              "      <td>7</td>\n",
              "      <td>1180</td>\n",
              "      <td>1180</td>\n",
              "      <td>1955</td>\n",
              "      <td>0</td>\n",
              "      <td>47.5278</td>\n",
              "      <td>-122.345</td>\n",
              "    </tr>\n",
              "    <tr>\n",
              "      <th>2</th>\n",
              "      <td>610000</td>\n",
              "      <td>6</td>\n",
              "      <td>2.75</td>\n",
              "      <td>2040</td>\n",
              "      <td>8560</td>\n",
              "      <td>1.0</td>\n",
              "      <td>0</td>\n",
              "      <td>2</td>\n",
              "      <td>4</td>\n",
              "      <td>7</td>\n",
              "      <td>1100</td>\n",
              "      <td>940</td>\n",
              "      <td>1961</td>\n",
              "      <td>0</td>\n",
              "      <td>47.6160</td>\n",
              "      <td>-122.115</td>\n",
              "    </tr>\n",
              "    <tr>\n",
              "      <th>3</th>\n",
              "      <td>550000</td>\n",
              "      <td>3</td>\n",
              "      <td>1.75</td>\n",
              "      <td>1940</td>\n",
              "      <td>8376</td>\n",
              "      <td>1.0</td>\n",
              "      <td>0</td>\n",
              "      <td>0</td>\n",
              "      <td>4</td>\n",
              "      <td>8</td>\n",
              "      <td>1290</td>\n",
              "      <td>650</td>\n",
              "      <td>1963</td>\n",
              "      <td>0</td>\n",
              "      <td>47.5586</td>\n",
              "      <td>-122.173</td>\n",
              "    </tr>\n",
              "    <tr>\n",
              "      <th>4</th>\n",
              "      <td>1300000</td>\n",
              "      <td>3</td>\n",
              "      <td>2.75</td>\n",
              "      <td>3450</td>\n",
              "      <td>5350</td>\n",
              "      <td>1.5</td>\n",
              "      <td>0</td>\n",
              "      <td>3</td>\n",
              "      <td>4</td>\n",
              "      <td>9</td>\n",
              "      <td>2590</td>\n",
              "      <td>860</td>\n",
              "      <td>1925</td>\n",
              "      <td>0</td>\n",
              "      <td>47.6389</td>\n",
              "      <td>-122.407</td>\n",
              "    </tr>\n",
              "  </tbody>\n",
              "</table>\n",
              "</div>"
            ],
            "text/plain": [
              "   Целевая.Цена  Спальни  Ванные  ...  Год реновации   Широта  Долгота\n",
              "0        830000        5    3.50  ...              0  47.6707 -122.144\n",
              "1        385000        4    1.75  ...              0  47.5278 -122.345\n",
              "2        610000        6    2.75  ...              0  47.6160 -122.115\n",
              "3        550000        3    1.75  ...              0  47.5586 -122.173\n",
              "4       1300000        3    2.75  ...              0  47.6389 -122.407\n",
              "\n",
              "[5 rows x 16 columns]"
            ]
          },
          "metadata": {
            "tags": []
          },
          "execution_count": 7
        }
      ]
    },
    {
      "cell_type": "code",
      "metadata": {
        "id": "k7mZ6Gh456Qa",
        "colab": {
          "base_uri": "https://localhost:8080/",
          "height": 200
        },
        "outputId": "42bc5537-5fac-40ac-9119-6b03cfbcb1f8"
      },
      "source": [
        "training_data_2.head()"
      ],
      "execution_count": null,
      "outputs": [
        {
          "output_type": "execute_result",
          "data": {
            "text/html": [
              "<div>\n",
              "<style scoped>\n",
              "    .dataframe tbody tr th:only-of-type {\n",
              "        vertical-align: middle;\n",
              "    }\n",
              "\n",
              "    .dataframe tbody tr th {\n",
              "        vertical-align: top;\n",
              "    }\n",
              "\n",
              "    .dataframe thead th {\n",
              "        text-align: right;\n",
              "    }\n",
              "</style>\n",
              "<table border=\"1\" class=\"dataframe\">\n",
              "  <thead>\n",
              "    <tr style=\"text-align: right;\">\n",
              "      <th></th>\n",
              "      <th>Целевая.Цена</th>\n",
              "      <th>Ванные</th>\n",
              "      <th>Жилая площадь</th>\n",
              "      <th>Общая площадь</th>\n",
              "      <th>Вид на воду</th>\n",
              "      <th>Просмотрены ранее</th>\n",
              "      <th>Оценка риелтора</th>\n",
              "      <th>Площадь без подвала</th>\n",
              "      <th>Год постройки</th>\n",
              "      <th>Широта</th>\n",
              "      <th>Долгота</th>\n",
              "    </tr>\n",
              "  </thead>\n",
              "  <tbody>\n",
              "    <tr>\n",
              "      <th>0</th>\n",
              "      <td>830000</td>\n",
              "      <td>3.50</td>\n",
              "      <td>3490</td>\n",
              "      <td>21780</td>\n",
              "      <td>0</td>\n",
              "      <td>0</td>\n",
              "      <td>8</td>\n",
              "      <td>3490</td>\n",
              "      <td>1996</td>\n",
              "      <td>47.6707</td>\n",
              "      <td>-122.144</td>\n",
              "    </tr>\n",
              "    <tr>\n",
              "      <th>1</th>\n",
              "      <td>385000</td>\n",
              "      <td>1.75</td>\n",
              "      <td>2360</td>\n",
              "      <td>7620</td>\n",
              "      <td>0</td>\n",
              "      <td>0</td>\n",
              "      <td>7</td>\n",
              "      <td>1180</td>\n",
              "      <td>1955</td>\n",
              "      <td>47.5278</td>\n",
              "      <td>-122.345</td>\n",
              "    </tr>\n",
              "    <tr>\n",
              "      <th>2</th>\n",
              "      <td>610000</td>\n",
              "      <td>2.75</td>\n",
              "      <td>2040</td>\n",
              "      <td>8560</td>\n",
              "      <td>0</td>\n",
              "      <td>2</td>\n",
              "      <td>7</td>\n",
              "      <td>1100</td>\n",
              "      <td>1961</td>\n",
              "      <td>47.6160</td>\n",
              "      <td>-122.115</td>\n",
              "    </tr>\n",
              "    <tr>\n",
              "      <th>3</th>\n",
              "      <td>550000</td>\n",
              "      <td>1.75</td>\n",
              "      <td>1940</td>\n",
              "      <td>8376</td>\n",
              "      <td>0</td>\n",
              "      <td>0</td>\n",
              "      <td>8</td>\n",
              "      <td>1290</td>\n",
              "      <td>1963</td>\n",
              "      <td>47.5586</td>\n",
              "      <td>-122.173</td>\n",
              "    </tr>\n",
              "    <tr>\n",
              "      <th>4</th>\n",
              "      <td>1300000</td>\n",
              "      <td>2.75</td>\n",
              "      <td>3450</td>\n",
              "      <td>5350</td>\n",
              "      <td>0</td>\n",
              "      <td>3</td>\n",
              "      <td>9</td>\n",
              "      <td>2590</td>\n",
              "      <td>1925</td>\n",
              "      <td>47.6389</td>\n",
              "      <td>-122.407</td>\n",
              "    </tr>\n",
              "  </tbody>\n",
              "</table>\n",
              "</div>"
            ],
            "text/plain": [
              "   Целевая.Цена  Ванные  Жилая площадь  ...  Год постройки   Широта  Долгота\n",
              "0        830000    3.50           3490  ...           1996  47.6707 -122.144\n",
              "1        385000    1.75           2360  ...           1955  47.5278 -122.345\n",
              "2        610000    2.75           2040  ...           1961  47.6160 -122.115\n",
              "3        550000    1.75           1940  ...           1963  47.5586 -122.173\n",
              "4       1300000    2.75           3450  ...           1925  47.6389 -122.407\n",
              "\n",
              "[5 rows x 11 columns]"
            ]
          },
          "metadata": {
            "tags": []
          },
          "execution_count": 137
        }
      ]
    },
    {
      "cell_type": "markdown",
      "metadata": {
        "id": "wkuIAKG4LqbF"
      },
      "source": [
        "**Шаг 1.3. Посмотрим на размеры загруженных таблиц**, у которых мы видели только первые 5 строк.\n",
        "\n",
        "Для этого вызываем поле **shape** у нашей переменной *training_data*. Поле вызывается также как метод, но в конце скобки не ставятся, так как для поля не предусмотрена передача аргументов.  "
      ]
    },
    {
      "cell_type": "code",
      "metadata": {
        "id": "8uNkaQKWLqbG",
        "colab": {
          "base_uri": "https://localhost:8080/",
          "height": 234
        },
        "outputId": "a2f1d297-7088-494d-8854-057f125527ef"
      },
      "source": [
        "training_data.head()"
      ],
      "execution_count": null,
      "outputs": [
        {
          "output_type": "execute_result",
          "data": {
            "text/html": [
              "<div>\n",
              "<style scoped>\n",
              "    .dataframe tbody tr th:only-of-type {\n",
              "        vertical-align: middle;\n",
              "    }\n",
              "\n",
              "    .dataframe tbody tr th {\n",
              "        vertical-align: top;\n",
              "    }\n",
              "\n",
              "    .dataframe thead th {\n",
              "        text-align: right;\n",
              "    }\n",
              "</style>\n",
              "<table border=\"1\" class=\"dataframe\">\n",
              "  <thead>\n",
              "    <tr style=\"text-align: right;\">\n",
              "      <th></th>\n",
              "      <th>Целевая.Цена</th>\n",
              "      <th>Спальни</th>\n",
              "      <th>Ванные</th>\n",
              "      <th>Жилая площадь</th>\n",
              "      <th>Общая площадь</th>\n",
              "      <th>Количество этажей</th>\n",
              "      <th>Вид на воду</th>\n",
              "      <th>Просмотрены ранее</th>\n",
              "      <th>Состояние</th>\n",
              "      <th>Оценка риелтора</th>\n",
              "      <th>Площадь без подвала</th>\n",
              "      <th>Площадь подвала</th>\n",
              "      <th>Год постройки</th>\n",
              "      <th>Год реновации</th>\n",
              "      <th>Широта</th>\n",
              "      <th>Долгота</th>\n",
              "    </tr>\n",
              "  </thead>\n",
              "  <tbody>\n",
              "    <tr>\n",
              "      <th>0</th>\n",
              "      <td>830000</td>\n",
              "      <td>5</td>\n",
              "      <td>3.50</td>\n",
              "      <td>3490</td>\n",
              "      <td>21780</td>\n",
              "      <td>2.0</td>\n",
              "      <td>0</td>\n",
              "      <td>0</td>\n",
              "      <td>3</td>\n",
              "      <td>8</td>\n",
              "      <td>3490</td>\n",
              "      <td>0</td>\n",
              "      <td>1996</td>\n",
              "      <td>0</td>\n",
              "      <td>47.6707</td>\n",
              "      <td>-122.144</td>\n",
              "    </tr>\n",
              "    <tr>\n",
              "      <th>1</th>\n",
              "      <td>385000</td>\n",
              "      <td>4</td>\n",
              "      <td>1.75</td>\n",
              "      <td>2360</td>\n",
              "      <td>7620</td>\n",
              "      <td>1.0</td>\n",
              "      <td>0</td>\n",
              "      <td>0</td>\n",
              "      <td>4</td>\n",
              "      <td>7</td>\n",
              "      <td>1180</td>\n",
              "      <td>1180</td>\n",
              "      <td>1955</td>\n",
              "      <td>0</td>\n",
              "      <td>47.5278</td>\n",
              "      <td>-122.345</td>\n",
              "    </tr>\n",
              "    <tr>\n",
              "      <th>2</th>\n",
              "      <td>610000</td>\n",
              "      <td>6</td>\n",
              "      <td>2.75</td>\n",
              "      <td>2040</td>\n",
              "      <td>8560</td>\n",
              "      <td>1.0</td>\n",
              "      <td>0</td>\n",
              "      <td>2</td>\n",
              "      <td>4</td>\n",
              "      <td>7</td>\n",
              "      <td>1100</td>\n",
              "      <td>940</td>\n",
              "      <td>1961</td>\n",
              "      <td>0</td>\n",
              "      <td>47.6160</td>\n",
              "      <td>-122.115</td>\n",
              "    </tr>\n",
              "    <tr>\n",
              "      <th>3</th>\n",
              "      <td>550000</td>\n",
              "      <td>3</td>\n",
              "      <td>1.75</td>\n",
              "      <td>1940</td>\n",
              "      <td>8376</td>\n",
              "      <td>1.0</td>\n",
              "      <td>0</td>\n",
              "      <td>0</td>\n",
              "      <td>4</td>\n",
              "      <td>8</td>\n",
              "      <td>1290</td>\n",
              "      <td>650</td>\n",
              "      <td>1963</td>\n",
              "      <td>0</td>\n",
              "      <td>47.5586</td>\n",
              "      <td>-122.173</td>\n",
              "    </tr>\n",
              "    <tr>\n",
              "      <th>4</th>\n",
              "      <td>1300000</td>\n",
              "      <td>3</td>\n",
              "      <td>2.75</td>\n",
              "      <td>3450</td>\n",
              "      <td>5350</td>\n",
              "      <td>1.5</td>\n",
              "      <td>0</td>\n",
              "      <td>3</td>\n",
              "      <td>4</td>\n",
              "      <td>9</td>\n",
              "      <td>2590</td>\n",
              "      <td>860</td>\n",
              "      <td>1925</td>\n",
              "      <td>0</td>\n",
              "      <td>47.6389</td>\n",
              "      <td>-122.407</td>\n",
              "    </tr>\n",
              "  </tbody>\n",
              "</table>\n",
              "</div>"
            ],
            "text/plain": [
              "   Целевая.Цена  Спальни  Ванные  ...  Год реновации   Широта  Долгота\n",
              "0        830000        5    3.50  ...              0  47.6707 -122.144\n",
              "1        385000        4    1.75  ...              0  47.5278 -122.345\n",
              "2        610000        6    2.75  ...              0  47.6160 -122.115\n",
              "3        550000        3    1.75  ...              0  47.5586 -122.173\n",
              "4       1300000        3    2.75  ...              0  47.6389 -122.407\n",
              "\n",
              "[5 rows x 16 columns]"
            ]
          },
          "metadata": {
            "tags": []
          },
          "execution_count": 10
        }
      ]
    },
    {
      "cell_type": "code",
      "metadata": {
        "id": "KZF5I43RsK88",
        "colab": {
          "base_uri": "https://localhost:8080/",
          "height": 234
        },
        "outputId": "eb89b7f2-1c5f-464f-9586-5d79dd290a1b"
      },
      "source": [
        "training_data_2.head()"
      ],
      "execution_count": null,
      "outputs": [
        {
          "output_type": "execute_result",
          "data": {
            "text/html": [
              "<div>\n",
              "<style scoped>\n",
              "    .dataframe tbody tr th:only-of-type {\n",
              "        vertical-align: middle;\n",
              "    }\n",
              "\n",
              "    .dataframe tbody tr th {\n",
              "        vertical-align: top;\n",
              "    }\n",
              "\n",
              "    .dataframe thead th {\n",
              "        text-align: right;\n",
              "    }\n",
              "</style>\n",
              "<table border=\"1\" class=\"dataframe\">\n",
              "  <thead>\n",
              "    <tr style=\"text-align: right;\">\n",
              "      <th></th>\n",
              "      <th>Целевая.Цена</th>\n",
              "      <th>Спальни</th>\n",
              "      <th>Ванные</th>\n",
              "      <th>Жилая площадь</th>\n",
              "      <th>Общая площадь</th>\n",
              "      <th>Количество этажей</th>\n",
              "      <th>Вид на воду</th>\n",
              "      <th>Просмотрены ранее</th>\n",
              "      <th>Состояние</th>\n",
              "      <th>Оценка риелтора</th>\n",
              "      <th>Площадь без подвала</th>\n",
              "      <th>Площадь подвала</th>\n",
              "      <th>Год постройки</th>\n",
              "      <th>Год реновации</th>\n",
              "      <th>Широта</th>\n",
              "      <th>Долгота</th>\n",
              "    </tr>\n",
              "  </thead>\n",
              "  <tbody>\n",
              "    <tr>\n",
              "      <th>0</th>\n",
              "      <td>830000</td>\n",
              "      <td>5</td>\n",
              "      <td>3.50</td>\n",
              "      <td>3490</td>\n",
              "      <td>21780</td>\n",
              "      <td>2.0</td>\n",
              "      <td>0</td>\n",
              "      <td>0</td>\n",
              "      <td>3</td>\n",
              "      <td>8</td>\n",
              "      <td>3490</td>\n",
              "      <td>0</td>\n",
              "      <td>1996</td>\n",
              "      <td>0</td>\n",
              "      <td>47.6707</td>\n",
              "      <td>-122.144</td>\n",
              "    </tr>\n",
              "    <tr>\n",
              "      <th>1</th>\n",
              "      <td>385000</td>\n",
              "      <td>4</td>\n",
              "      <td>1.75</td>\n",
              "      <td>2360</td>\n",
              "      <td>7620</td>\n",
              "      <td>1.0</td>\n",
              "      <td>0</td>\n",
              "      <td>0</td>\n",
              "      <td>4</td>\n",
              "      <td>7</td>\n",
              "      <td>1180</td>\n",
              "      <td>1180</td>\n",
              "      <td>1955</td>\n",
              "      <td>0</td>\n",
              "      <td>47.5278</td>\n",
              "      <td>-122.345</td>\n",
              "    </tr>\n",
              "    <tr>\n",
              "      <th>2</th>\n",
              "      <td>610000</td>\n",
              "      <td>6</td>\n",
              "      <td>2.75</td>\n",
              "      <td>2040</td>\n",
              "      <td>8560</td>\n",
              "      <td>1.0</td>\n",
              "      <td>0</td>\n",
              "      <td>2</td>\n",
              "      <td>4</td>\n",
              "      <td>7</td>\n",
              "      <td>1100</td>\n",
              "      <td>940</td>\n",
              "      <td>1961</td>\n",
              "      <td>0</td>\n",
              "      <td>47.6160</td>\n",
              "      <td>-122.115</td>\n",
              "    </tr>\n",
              "    <tr>\n",
              "      <th>3</th>\n",
              "      <td>550000</td>\n",
              "      <td>3</td>\n",
              "      <td>1.75</td>\n",
              "      <td>1940</td>\n",
              "      <td>8376</td>\n",
              "      <td>1.0</td>\n",
              "      <td>0</td>\n",
              "      <td>0</td>\n",
              "      <td>4</td>\n",
              "      <td>8</td>\n",
              "      <td>1290</td>\n",
              "      <td>650</td>\n",
              "      <td>1963</td>\n",
              "      <td>0</td>\n",
              "      <td>47.5586</td>\n",
              "      <td>-122.173</td>\n",
              "    </tr>\n",
              "    <tr>\n",
              "      <th>4</th>\n",
              "      <td>1300000</td>\n",
              "      <td>3</td>\n",
              "      <td>2.75</td>\n",
              "      <td>3450</td>\n",
              "      <td>5350</td>\n",
              "      <td>1.5</td>\n",
              "      <td>0</td>\n",
              "      <td>3</td>\n",
              "      <td>4</td>\n",
              "      <td>9</td>\n",
              "      <td>2590</td>\n",
              "      <td>860</td>\n",
              "      <td>1925</td>\n",
              "      <td>0</td>\n",
              "      <td>47.6389</td>\n",
              "      <td>-122.407</td>\n",
              "    </tr>\n",
              "  </tbody>\n",
              "</table>\n",
              "</div>"
            ],
            "text/plain": [
              "   Целевая.Цена  Спальни  Ванные  ...  Год реновации   Широта  Долгота\n",
              "0        830000        5    3.50  ...              0  47.6707 -122.144\n",
              "1        385000        4    1.75  ...              0  47.5278 -122.345\n",
              "2        610000        6    2.75  ...              0  47.6160 -122.115\n",
              "3        550000        3    1.75  ...              0  47.5586 -122.173\n",
              "4       1300000        3    2.75  ...              0  47.6389 -122.407\n",
              "\n",
              "[5 rows x 16 columns]"
            ]
          },
          "metadata": {
            "tags": []
          },
          "execution_count": 11
        }
      ]
    },
    {
      "cell_type": "code",
      "metadata": {
        "id": "TydJjVQy6L8R",
        "colab": {
          "base_uri": "https://localhost:8080/"
        },
        "outputId": "bce25da6-be7f-48da-f198-44402b12f4da"
      },
      "source": [
        "training_data.shape"
      ],
      "execution_count": null,
      "outputs": [
        {
          "output_type": "execute_result",
          "data": {
            "text/plain": [
              "(15129, 16)"
            ]
          },
          "metadata": {
            "tags": []
          },
          "execution_count": 138
        }
      ]
    },
    {
      "cell_type": "markdown",
      "metadata": {
        "id": "8oiD7YJjLqbI"
      },
      "source": [
        "*Что означает первое и второе число?*\n",
        "\n",
        "Итак, таблица содержит 15129 строк (объектов) и 16 столбцов (признаков), включая выходной (целевой) признак.\n",
        "15129 меньше 21613, так как мы пока загрузили только часть данных, которую будем использовать для обучения модели.\n",
        "\n",
        "Таблицу проверили, теперь можно приступать к обработке данных."
      ]
    },
    {
      "cell_type": "code",
      "metadata": {
        "id": "sRGdmk_H6Ofq",
        "colab": {
          "base_uri": "https://localhost:8080/"
        },
        "outputId": "fb5b81ad-53d6-48e7-8340-35f803694a10"
      },
      "source": [
        "training_data_2.shape"
      ],
      "execution_count": null,
      "outputs": [
        {
          "output_type": "execute_result",
          "data": {
            "text/plain": [
              "(15129, 11)"
            ]
          },
          "metadata": {
            "tags": []
          },
          "execution_count": 139
        }
      ]
    },
    {
      "cell_type": "markdown",
      "metadata": {
        "id": "PXHMeQ-H6XS7"
      },
      "source": [
        "Итак, таблица содержит 15129 строк (объектов) и 11 столбцов (признаков) без минимальных по значимости, включая выходной (целевой) признак."
      ]
    },
    {
      "cell_type": "markdown",
      "metadata": {
        "id": "Mz4rsFhALqbJ"
      },
      "source": [
        "# 2. Обработать данные перед обучением модели"
      ]
    },
    {
      "cell_type": "markdown",
      "metadata": {
        "id": "0Z2QQXxSLqbK"
      },
      "source": [
        "**Шаг 2.1. Проверяем данные на наличие пропусков и типов переменных**\n",
        "\n",
        "Начнем с проверки общей информации о данных.\n",
        "Для того чтобы это сделать, нужно обратиться вызвать у переменной *training_data* метод **info()**.\n",
        "\n",
        "Напомним, что в конце необходимо поставить скобочки."
      ]
    },
    {
      "cell_type": "code",
      "metadata": {
        "id": "yBfVVIN7LqbL",
        "colab": {
          "base_uri": "https://localhost:8080/"
        },
        "outputId": "12d819cc-e8e6-4c2c-8b0a-a102ce4166cb"
      },
      "source": [
        "training_data.info()"
      ],
      "execution_count": null,
      "outputs": [
        {
          "output_type": "stream",
          "text": [
            "<class 'pandas.core.frame.DataFrame'>\n",
            "RangeIndex: 15129 entries, 0 to 15128\n",
            "Data columns (total 16 columns):\n",
            " #   Column               Non-Null Count  Dtype  \n",
            "---  ------               --------------  -----  \n",
            " 0   Целевая.Цена         15129 non-null  int64  \n",
            " 1   Спальни              15129 non-null  int64  \n",
            " 2   Ванные               15129 non-null  float64\n",
            " 3   Жилая площадь        15129 non-null  int64  \n",
            " 4   Общая площадь        15129 non-null  int64  \n",
            " 5   Количество этажей    15129 non-null  float64\n",
            " 6   Вид на воду          15129 non-null  int64  \n",
            " 7   Просмотрены ранее    15129 non-null  int64  \n",
            " 8   Состояние            15129 non-null  int64  \n",
            " 9   Оценка риелтора      15129 non-null  int64  \n",
            " 10  Площадь без подвала  15129 non-null  int64  \n",
            " 11  Площадь подвала      15129 non-null  int64  \n",
            " 12  Год постройки        15129 non-null  int64  \n",
            " 13  Год реновации        15129 non-null  int64  \n",
            " 14  Широта               15129 non-null  float64\n",
            " 15  Долгота              15129 non-null  float64\n",
            "dtypes: float64(4), int64(12)\n",
            "memory usage: 1.8 MB\n"
          ],
          "name": "stdout"
        }
      ]
    },
    {
      "cell_type": "code",
      "metadata": {
        "id": "dEcSL8hSsg0E",
        "colab": {
          "base_uri": "https://localhost:8080/"
        },
        "outputId": "3db12166-7098-40f9-a3d0-d13a25d061fa"
      },
      "source": [
        "training_data_2.info()"
      ],
      "execution_count": null,
      "outputs": [
        {
          "output_type": "stream",
          "text": [
            "<class 'pandas.core.frame.DataFrame'>\n",
            "RangeIndex: 15129 entries, 0 to 15128\n",
            "Data columns (total 11 columns):\n",
            " #   Column               Non-Null Count  Dtype  \n",
            "---  ------               --------------  -----  \n",
            " 0   Целевая.Цена         15129 non-null  int64  \n",
            " 1   Ванные               15129 non-null  float64\n",
            " 2   Жилая площадь        15129 non-null  int64  \n",
            " 3   Общая площадь        15129 non-null  int64  \n",
            " 4   Вид на воду          15129 non-null  int64  \n",
            " 5   Просмотрены ранее    15129 non-null  int64  \n",
            " 6   Оценка риелтора      15129 non-null  int64  \n",
            " 7   Площадь без подвала  15129 non-null  int64  \n",
            " 8   Год постройки        15129 non-null  int64  \n",
            " 9   Широта               15129 non-null  float64\n",
            " 10  Долгота              15129 non-null  float64\n",
            "dtypes: float64(3), int64(8)\n",
            "memory usage: 1.3 MB\n"
          ],
          "name": "stdout"
        }
      ]
    },
    {
      "cell_type": "markdown",
      "metadata": {
        "id": "va78W9uuLqbN"
      },
      "source": [
        "Анализируем результата выполнения команды:\n",
        "\n",
        "* 15129 строк (entries)\n",
        "* 16 столбцов (Data columns)\n",
        "\n",
        "В данных присутствует всего два типа dtypes:\n",
        "* int64 - целое число  (12 столбцов)\n",
        "* float64 - дробное число (4 столбца)\n",
        "\n",
        "Цифры в каждой строчке обозначают количество заполненных (*non-null*) значений. Так как эти цифры в каждой строчке совпадают с числом строк (15129), то в данных нет пропусков и можно двигаться дальше. "
      ]
    },
    {
      "cell_type": "markdown",
      "metadata": {
        "id": "LV1PXguitMDk"
      },
      "source": [
        "Уберем в переменной training_points_2 минимальные по значимости признаки (Количество этажей, Год реновации, Состояние, Спальни, Площадь подвала), предварительно обозначив их"
      ]
    },
    {
      "cell_type": "code",
      "metadata": {
        "id": "k9xWqhiqtwOb"
      },
      "source": [
        "number_of_floors = 'Количество этажей'"
      ],
      "execution_count": null,
      "outputs": []
    },
    {
      "cell_type": "code",
      "metadata": {
        "id": "xPcF2N9Tt-hF"
      },
      "source": [
        "year_of_renovation = 'Год реновации'"
      ],
      "execution_count": null,
      "outputs": []
    },
    {
      "cell_type": "code",
      "metadata": {
        "id": "jMpcUSjtt-qo"
      },
      "source": [
        "condition = 'Состояние'"
      ],
      "execution_count": null,
      "outputs": []
    },
    {
      "cell_type": "code",
      "metadata": {
        "id": "iFgETpPNuOqm"
      },
      "source": [
        "bedrooms = 'Спальни'"
      ],
      "execution_count": null,
      "outputs": []
    },
    {
      "cell_type": "code",
      "metadata": {
        "id": "b011H-itt-XM"
      },
      "source": [
        "basement_area = 'Площадь подвала'"
      ],
      "execution_count": null,
      "outputs": []
    },
    {
      "cell_type": "code",
      "metadata": {
        "id": "MQnIIRPkvBZm"
      },
      "source": [
        "training_data_2 = training_data_2.drop(number_of_floors, axis=1)"
      ],
      "execution_count": null,
      "outputs": []
    },
    {
      "cell_type": "code",
      "metadata": {
        "id": "wLGlJy4UvTKa"
      },
      "source": [
        "training_data_2 = training_data_2.drop(year_of_renovation, axis=1)"
      ],
      "execution_count": null,
      "outputs": []
    },
    {
      "cell_type": "code",
      "metadata": {
        "id": "_DNh8IpjvUiW"
      },
      "source": [
        "training_data_2 = training_data_2.drop(condition, axis=1)"
      ],
      "execution_count": null,
      "outputs": []
    },
    {
      "cell_type": "code",
      "metadata": {
        "id": "pfS3f9EbvUzA"
      },
      "source": [
        "training_data_2 = training_data_2.drop(bedrooms, axis=1)"
      ],
      "execution_count": null,
      "outputs": []
    },
    {
      "cell_type": "code",
      "metadata": {
        "id": "lSIHiX1vvUol"
      },
      "source": [
        "training_data_2 = training_data_2.drop(basement_area, axis=1)"
      ],
      "execution_count": null,
      "outputs": []
    },
    {
      "cell_type": "markdown",
      "metadata": {
        "id": "DcSZ0F3X7nJP"
      },
      "source": [
        "Проведем проверку еще раз"
      ]
    },
    {
      "cell_type": "code",
      "metadata": {
        "id": "R0vtMkO87jlA",
        "colab": {
          "base_uri": "https://localhost:8080/"
        },
        "outputId": "078f1991-0152-4727-e478-225a3141c7a4"
      },
      "source": [
        "training_data_2.info()"
      ],
      "execution_count": null,
      "outputs": [
        {
          "output_type": "stream",
          "text": [
            "<class 'pandas.core.frame.DataFrame'>\n",
            "RangeIndex: 15129 entries, 0 to 15128\n",
            "Data columns (total 11 columns):\n",
            " #   Column               Non-Null Count  Dtype  \n",
            "---  ------               --------------  -----  \n",
            " 0   Целевая.Цена         15129 non-null  int64  \n",
            " 1   Ванные               15129 non-null  float64\n",
            " 2   Жилая площадь        15129 non-null  int64  \n",
            " 3   Общая площадь        15129 non-null  int64  \n",
            " 4   Вид на воду          15129 non-null  int64  \n",
            " 5   Просмотрены ранее    15129 non-null  int64  \n",
            " 6   Оценка риелтора      15129 non-null  int64  \n",
            " 7   Площадь без подвала  15129 non-null  int64  \n",
            " 8   Год постройки        15129 non-null  int64  \n",
            " 9   Широта               15129 non-null  float64\n",
            " 10  Долгота              15129 non-null  float64\n",
            "dtypes: float64(3), int64(8)\n",
            "memory usage: 1.3 MB\n"
          ],
          "name": "stdout"
        }
      ]
    },
    {
      "cell_type": "markdown",
      "metadata": {
        "id": "ygKOIyrK73Py"
      },
      "source": [
        "Анализируем результата выполнения команды:\n",
        "\n",
        "*   15129 строк (entries)\n",
        "*   11 столбцов (Data columns)\n",
        "\n",
        "В данных присутствует всего два типа dtypes:\n",
        "\n",
        "\n",
        "*   int64 - целое число (8 столбцов)\n",
        "*   float64 - дробное число (3 столбца)\n",
        "\n",
        "Цифры в каждой строчке обозначают количество заполненных (non-null) значений. Так как эти цифры в каждой строчке совпадают с числом строк (15129), то в данных нет пропусков и можно двигаться дальше."
      ]
    },
    {
      "cell_type": "markdown",
      "metadata": {
        "id": "oPiLacxmLqbO"
      },
      "source": [
        "**Шаг 2.2. Работаем с целевой переменной**\n",
        "\n",
        "*Какая переменная целевая?*\n",
        "\n",
        "В данном случае по условию задачи мы должны прогнозировать стоимость, поэтому целевая переменная - это цена. "
      ]
    },
    {
      "cell_type": "code",
      "metadata": {
        "id": "EsyYEJd0LqbP"
      },
      "source": [
        "target_variable_name = 'Целевая.Цена'"
      ],
      "execution_count": null,
      "outputs": []
    },
    {
      "cell_type": "markdown",
      "metadata": {
        "id": "gOM9Kj8pLqbS"
      },
      "source": [
        "Нам нужно выделить в отдельные переменные *training_values* и *training_values_2* столбец из наших таблиц, который соответствует определенной выше целевой переменной. Для этого мы у таблиц *training_data* и *training_data_2* в квадратных скобках указываем имя нужного столбца. В нашем случае это имя записано в переменной *target_variable_name*. "
      ]
    },
    {
      "cell_type": "code",
      "metadata": {
        "id": "BbEcpf4mLqbT"
      },
      "source": [
        "training_values = training_data[target_variable_name]"
      ],
      "execution_count": null,
      "outputs": []
    },
    {
      "cell_type": "code",
      "metadata": {
        "id": "dE8UGGJnu3zD"
      },
      "source": [
        "training_values_2 = training_data_2[target_variable_name]"
      ],
      "execution_count": null,
      "outputs": []
    },
    {
      "cell_type": "code",
      "metadata": {
        "id": "iFlZZbzBvUnd",
        "colab": {
          "base_uri": "https://localhost:8080/"
        },
        "outputId": "37636d19-d03a-46f0-9c00-e3576e2b874e"
      },
      "source": [
        "training_data.columns"
      ],
      "execution_count": null,
      "outputs": [
        {
          "output_type": "execute_result",
          "data": {
            "text/plain": [
              "Index(['Целевая.Цена', 'Спальни', 'Ванные', 'Жилая площадь', 'Общая площадь',\n",
              "       'Количество этажей', 'Вид на воду', 'Просмотрены ранее', 'Состояние',\n",
              "       'Оценка риелтора', 'Площадь без подвала', 'Площадь подвала',\n",
              "       'Год постройки', 'Год реновации', 'Широта', 'Долгота'],\n",
              "      dtype='object')"
            ]
          },
          "metadata": {
            "tags": []
          },
          "execution_count": 24
        }
      ]
    },
    {
      "cell_type": "code",
      "metadata": {
        "id": "fYDj0cQDu8Vc",
        "colab": {
          "base_uri": "https://localhost:8080/"
        },
        "outputId": "47fe8af7-1e4f-4ed1-c445-71b1967f1e29"
      },
      "source": [
        "training_data_2.columns"
      ],
      "execution_count": null,
      "outputs": [
        {
          "output_type": "execute_result",
          "data": {
            "text/plain": [
              "Index(['Целевая.Цена', 'Спальни', 'Ванные', 'Жилая площадь', 'Общая площадь',\n",
              "       'Количество этажей', 'Вид на воду', 'Просмотрены ранее', 'Состояние',\n",
              "       'Оценка риелтора', 'Площадь без подвала', 'Площадь подвала',\n",
              "       'Год постройки', 'Год реновации', 'Широта', 'Долгота'],\n",
              "      dtype='object')"
            ]
          },
          "metadata": {
            "tags": []
          },
          "execution_count": 25
        }
      ]
    },
    {
      "cell_type": "markdown",
      "metadata": {
        "id": "INrEpAUkLqbV"
      },
      "source": [
        "Отделим входные переменные от выходной (целевой), чтобы можно было построить модель предсказания целевой переменной по входным. \n",
        "Для это нужно у переменных *training_data*  и *training_data_2* вызвать метод **drop()**. Результат мы записываем в новую переменные *training_points* и *training_points_2*. После выполнения запроса *training_points* будет содержать исходную таблицу без целевого столбца. \n",
        "\n",
        "Обратите внимание, что в данном случае мы передаем два аргумента:\n",
        "    1. target_variable_name - название столбца цены, который мы ранее записали в эту переменную и теперь хотим удалить из training_data\n",
        "    2. axis=1 - означает, что мы удаляем столбец, а в случае axis=0 - означает, что мы удаляем строку"
      ]
    },
    {
      "cell_type": "code",
      "metadata": {
        "id": "DDXkAIHBLqbW"
      },
      "source": [
        "training_points = training_data.drop(target_variable_name, axis=1)"
      ],
      "execution_count": null,
      "outputs": []
    },
    {
      "cell_type": "code",
      "metadata": {
        "id": "-2Sbdo2ssubC"
      },
      "source": [
        "training_points_2 = training_data_2.drop(target_variable_name, axis=1)"
      ],
      "execution_count": null,
      "outputs": []
    },
    {
      "cell_type": "code",
      "metadata": {
        "id": "WYjf6kR-v2OU",
        "colab": {
          "base_uri": "https://localhost:8080/"
        },
        "outputId": "80168455-3883-4c8e-8996-b2caa54d529f"
      },
      "source": [
        "training_points.columns"
      ],
      "execution_count": null,
      "outputs": [
        {
          "output_type": "execute_result",
          "data": {
            "text/plain": [
              "Index(['Спальни', 'Ванные', 'Жилая площадь', 'Общая площадь',\n",
              "       'Количество этажей', 'Вид на воду', 'Просмотрены ранее', 'Состояние',\n",
              "       'Оценка риелтора', 'Площадь без подвала', 'Площадь подвала',\n",
              "       'Год постройки', 'Год реновации', 'Широта', 'Долгота'],\n",
              "      dtype='object')"
            ]
          },
          "metadata": {
            "tags": []
          },
          "execution_count": 38
        }
      ]
    },
    {
      "cell_type": "code",
      "metadata": {
        "id": "snJ3AwwEs4EQ",
        "colab": {
          "base_uri": "https://localhost:8080/"
        },
        "outputId": "68cf5ee1-26f0-48a4-bd6c-efe16498bb6e"
      },
      "source": [
        "training_points_2.columns"
      ],
      "execution_count": null,
      "outputs": [
        {
          "output_type": "execute_result",
          "data": {
            "text/plain": [
              "Index(['Ванные', 'Жилая площадь', 'Общая площадь', 'Вид на воду',\n",
              "       'Просмотрены ранее', 'Оценка риелтора', 'Площадь без подвала',\n",
              "       'Год постройки', 'Широта', 'Долгота'],\n",
              "      dtype='object')"
            ]
          },
          "metadata": {
            "tags": []
          },
          "execution_count": 39
        }
      ]
    },
    {
      "cell_type": "markdown",
      "metadata": {
        "id": "civG1etNLqbY"
      },
      "source": [
        "Можно посмотреть результаты этих действий, вызвав метод **head()** и поле **shape**, которыми мы пользовались ранее, но сейчас нужно вызывать их от новых переменных *training_points* и *training_points_2*."
      ]
    },
    {
      "cell_type": "code",
      "metadata": {
        "id": "tiglFXjuLqbZ",
        "colab": {
          "base_uri": "https://localhost:8080/",
          "height": 214
        },
        "outputId": "560c531e-2f8e-4b12-fb17-8b4ffa0a8ab2"
      },
      "source": [
        "training_points.head()"
      ],
      "execution_count": null,
      "outputs": [
        {
          "output_type": "execute_result",
          "data": {
            "text/html": [
              "<div>\n",
              "<style scoped>\n",
              "    .dataframe tbody tr th:only-of-type {\n",
              "        vertical-align: middle;\n",
              "    }\n",
              "\n",
              "    .dataframe tbody tr th {\n",
              "        vertical-align: top;\n",
              "    }\n",
              "\n",
              "    .dataframe thead th {\n",
              "        text-align: right;\n",
              "    }\n",
              "</style>\n",
              "<table border=\"1\" class=\"dataframe\">\n",
              "  <thead>\n",
              "    <tr style=\"text-align: right;\">\n",
              "      <th></th>\n",
              "      <th>Спальни</th>\n",
              "      <th>Ванные</th>\n",
              "      <th>Жилая площадь</th>\n",
              "      <th>Общая площадь</th>\n",
              "      <th>Количество этажей</th>\n",
              "      <th>Вид на воду</th>\n",
              "      <th>Просмотрены ранее</th>\n",
              "      <th>Состояние</th>\n",
              "      <th>Оценка риелтора</th>\n",
              "      <th>Площадь без подвала</th>\n",
              "      <th>Площадь подвала</th>\n",
              "      <th>Год постройки</th>\n",
              "      <th>Год реновации</th>\n",
              "      <th>Широта</th>\n",
              "      <th>Долгота</th>\n",
              "    </tr>\n",
              "  </thead>\n",
              "  <tbody>\n",
              "    <tr>\n",
              "      <th>0</th>\n",
              "      <td>5</td>\n",
              "      <td>3.50</td>\n",
              "      <td>3490</td>\n",
              "      <td>21780</td>\n",
              "      <td>2.0</td>\n",
              "      <td>0</td>\n",
              "      <td>0</td>\n",
              "      <td>3</td>\n",
              "      <td>8</td>\n",
              "      <td>3490</td>\n",
              "      <td>0</td>\n",
              "      <td>1996</td>\n",
              "      <td>0</td>\n",
              "      <td>47.6707</td>\n",
              "      <td>-122.144</td>\n",
              "    </tr>\n",
              "    <tr>\n",
              "      <th>1</th>\n",
              "      <td>4</td>\n",
              "      <td>1.75</td>\n",
              "      <td>2360</td>\n",
              "      <td>7620</td>\n",
              "      <td>1.0</td>\n",
              "      <td>0</td>\n",
              "      <td>0</td>\n",
              "      <td>4</td>\n",
              "      <td>7</td>\n",
              "      <td>1180</td>\n",
              "      <td>1180</td>\n",
              "      <td>1955</td>\n",
              "      <td>0</td>\n",
              "      <td>47.5278</td>\n",
              "      <td>-122.345</td>\n",
              "    </tr>\n",
              "    <tr>\n",
              "      <th>2</th>\n",
              "      <td>6</td>\n",
              "      <td>2.75</td>\n",
              "      <td>2040</td>\n",
              "      <td>8560</td>\n",
              "      <td>1.0</td>\n",
              "      <td>0</td>\n",
              "      <td>2</td>\n",
              "      <td>4</td>\n",
              "      <td>7</td>\n",
              "      <td>1100</td>\n",
              "      <td>940</td>\n",
              "      <td>1961</td>\n",
              "      <td>0</td>\n",
              "      <td>47.6160</td>\n",
              "      <td>-122.115</td>\n",
              "    </tr>\n",
              "    <tr>\n",
              "      <th>3</th>\n",
              "      <td>3</td>\n",
              "      <td>1.75</td>\n",
              "      <td>1940</td>\n",
              "      <td>8376</td>\n",
              "      <td>1.0</td>\n",
              "      <td>0</td>\n",
              "      <td>0</td>\n",
              "      <td>4</td>\n",
              "      <td>8</td>\n",
              "      <td>1290</td>\n",
              "      <td>650</td>\n",
              "      <td>1963</td>\n",
              "      <td>0</td>\n",
              "      <td>47.5586</td>\n",
              "      <td>-122.173</td>\n",
              "    </tr>\n",
              "    <tr>\n",
              "      <th>4</th>\n",
              "      <td>3</td>\n",
              "      <td>2.75</td>\n",
              "      <td>3450</td>\n",
              "      <td>5350</td>\n",
              "      <td>1.5</td>\n",
              "      <td>0</td>\n",
              "      <td>3</td>\n",
              "      <td>4</td>\n",
              "      <td>9</td>\n",
              "      <td>2590</td>\n",
              "      <td>860</td>\n",
              "      <td>1925</td>\n",
              "      <td>0</td>\n",
              "      <td>47.6389</td>\n",
              "      <td>-122.407</td>\n",
              "    </tr>\n",
              "  </tbody>\n",
              "</table>\n",
              "</div>"
            ],
            "text/plain": [
              "   Спальни  Ванные  Жилая площадь  ...  Год реновации   Широта  Долгота\n",
              "0        5    3.50           3490  ...              0  47.6707 -122.144\n",
              "1        4    1.75           2360  ...              0  47.5278 -122.345\n",
              "2        6    2.75           2040  ...              0  47.6160 -122.115\n",
              "3        3    1.75           1940  ...              0  47.5586 -122.173\n",
              "4        3    2.75           3450  ...              0  47.6389 -122.407\n",
              "\n",
              "[5 rows x 15 columns]"
            ]
          },
          "metadata": {
            "tags": []
          },
          "execution_count": 40
        }
      ]
    },
    {
      "cell_type": "code",
      "metadata": {
        "id": "DAfReQdsLqbb",
        "colab": {
          "base_uri": "https://localhost:8080/"
        },
        "outputId": "f1dbf84d-6e83-4656-b6e3-28e1fbe865ce"
      },
      "source": [
        "training_points.shape"
      ],
      "execution_count": null,
      "outputs": [
        {
          "output_type": "execute_result",
          "data": {
            "text/plain": [
              "(15129, 15)"
            ]
          },
          "metadata": {
            "tags": []
          },
          "execution_count": 41
        }
      ]
    },
    {
      "cell_type": "markdown",
      "metadata": {
        "id": "kx5oc0ScLqbf"
      },
      "source": [
        "Видно, что столбца действительно нет, а количество строк не изменилось. Данные в 5 первых строках такие же, как были ранее."
      ]
    },
    {
      "cell_type": "code",
      "metadata": {
        "id": "OxONNjcMwd4s",
        "colab": {
          "base_uri": "https://localhost:8080/",
          "height": 197
        },
        "outputId": "59eefc08-16e8-4ea9-b751-06edcb6b51c3"
      },
      "source": [
        "training_points_2.head()"
      ],
      "execution_count": null,
      "outputs": [
        {
          "output_type": "execute_result",
          "data": {
            "text/html": [
              "<div>\n",
              "<style scoped>\n",
              "    .dataframe tbody tr th:only-of-type {\n",
              "        vertical-align: middle;\n",
              "    }\n",
              "\n",
              "    .dataframe tbody tr th {\n",
              "        vertical-align: top;\n",
              "    }\n",
              "\n",
              "    .dataframe thead th {\n",
              "        text-align: right;\n",
              "    }\n",
              "</style>\n",
              "<table border=\"1\" class=\"dataframe\">\n",
              "  <thead>\n",
              "    <tr style=\"text-align: right;\">\n",
              "      <th></th>\n",
              "      <th>Ванные</th>\n",
              "      <th>Жилая площадь</th>\n",
              "      <th>Общая площадь</th>\n",
              "      <th>Вид на воду</th>\n",
              "      <th>Просмотрены ранее</th>\n",
              "      <th>Оценка риелтора</th>\n",
              "      <th>Площадь без подвала</th>\n",
              "      <th>Год постройки</th>\n",
              "      <th>Широта</th>\n",
              "      <th>Долгота</th>\n",
              "    </tr>\n",
              "  </thead>\n",
              "  <tbody>\n",
              "    <tr>\n",
              "      <th>0</th>\n",
              "      <td>3.50</td>\n",
              "      <td>3490</td>\n",
              "      <td>21780</td>\n",
              "      <td>0</td>\n",
              "      <td>0</td>\n",
              "      <td>8</td>\n",
              "      <td>3490</td>\n",
              "      <td>1996</td>\n",
              "      <td>47.6707</td>\n",
              "      <td>-122.144</td>\n",
              "    </tr>\n",
              "    <tr>\n",
              "      <th>1</th>\n",
              "      <td>1.75</td>\n",
              "      <td>2360</td>\n",
              "      <td>7620</td>\n",
              "      <td>0</td>\n",
              "      <td>0</td>\n",
              "      <td>7</td>\n",
              "      <td>1180</td>\n",
              "      <td>1955</td>\n",
              "      <td>47.5278</td>\n",
              "      <td>-122.345</td>\n",
              "    </tr>\n",
              "    <tr>\n",
              "      <th>2</th>\n",
              "      <td>2.75</td>\n",
              "      <td>2040</td>\n",
              "      <td>8560</td>\n",
              "      <td>0</td>\n",
              "      <td>2</td>\n",
              "      <td>7</td>\n",
              "      <td>1100</td>\n",
              "      <td>1961</td>\n",
              "      <td>47.6160</td>\n",
              "      <td>-122.115</td>\n",
              "    </tr>\n",
              "    <tr>\n",
              "      <th>3</th>\n",
              "      <td>1.75</td>\n",
              "      <td>1940</td>\n",
              "      <td>8376</td>\n",
              "      <td>0</td>\n",
              "      <td>0</td>\n",
              "      <td>8</td>\n",
              "      <td>1290</td>\n",
              "      <td>1963</td>\n",
              "      <td>47.5586</td>\n",
              "      <td>-122.173</td>\n",
              "    </tr>\n",
              "    <tr>\n",
              "      <th>4</th>\n",
              "      <td>2.75</td>\n",
              "      <td>3450</td>\n",
              "      <td>5350</td>\n",
              "      <td>0</td>\n",
              "      <td>3</td>\n",
              "      <td>9</td>\n",
              "      <td>2590</td>\n",
              "      <td>1925</td>\n",
              "      <td>47.6389</td>\n",
              "      <td>-122.407</td>\n",
              "    </tr>\n",
              "  </tbody>\n",
              "</table>\n",
              "</div>"
            ],
            "text/plain": [
              "   Ванные  Жилая площадь  Общая площадь  ...  Год постройки   Широта  Долгота\n",
              "0    3.50           3490          21780  ...           1996  47.6707 -122.144\n",
              "1    1.75           2360           7620  ...           1955  47.5278 -122.345\n",
              "2    2.75           2040           8560  ...           1961  47.6160 -122.115\n",
              "3    1.75           1940           8376  ...           1963  47.5586 -122.173\n",
              "4    2.75           3450           5350  ...           1925  47.6389 -122.407\n",
              "\n",
              "[5 rows x 10 columns]"
            ]
          },
          "metadata": {
            "tags": []
          },
          "execution_count": 42
        }
      ]
    },
    {
      "cell_type": "code",
      "metadata": {
        "id": "xr5ptCJDwiJf",
        "colab": {
          "base_uri": "https://localhost:8080/"
        },
        "outputId": "4e214020-f893-4f3f-d418-73e0adc96747"
      },
      "source": [
        "training_points_2.shape"
      ],
      "execution_count": null,
      "outputs": [
        {
          "output_type": "execute_result",
          "data": {
            "text/plain": [
              "(15129, 10)"
            ]
          },
          "metadata": {
            "tags": []
          },
          "execution_count": 43
        }
      ]
    },
    {
      "cell_type": "markdown",
      "metadata": {
        "id": "B2fa-tYrwkvx"
      },
      "source": [
        "Видно, что столбцов (целевого и с минимальными по значимости признаками) действительно нет, а количество строк не изменилось. Данные в 5 первых строках такие же, как были ранее."
      ]
    },
    {
      "cell_type": "markdown",
      "metadata": {
        "id": "pJyxgxErLqbg"
      },
      "source": [
        "##   3. Обучить модель на обучающей выборке"
      ]
    },
    {
      "cell_type": "markdown",
      "metadata": {
        "id": "0FvCNInJLqbg"
      },
      "source": [
        "**Шаг 3.1. Выбираем метод, который будем использовать**\n",
        "\n",
        "Проще всего начать с простых методов. \n",
        "Мы воспользуемся двумя методами для построения моделей и сравним их между собой:\n",
        "* Линейная регрессия *linear regression*\n",
        "* Лес решающих деревьев *random forest*\n",
        "\n",
        "На выбор метода для построения модели влияет набор признаков, размер выборки, интуиция про то, какая связь между входными переменными и целевой. Но часто решение принимается исходя из того, какая модель сработала лучше."
      ]
    },
    {
      "cell_type": "markdown",
      "metadata": {
        "id": "m84QeANALqbi"
      },
      "source": [
        "Для корректной работы с методами построения моделей в python требуется загрузить специальную библиотеку\n",
        "**sklearn**, программную библиотеку на языке python для для машинного обучения и анализа данных.\n",
        "\n",
        "Мы импортируем два модуля из этой библиотеки:\n",
        " * *linear_model* - тут находятся все линейные модели\n",
        " * *ensemble* - тут находятся модели на основе ансамблей"
      ]
    },
    {
      "cell_type": "code",
      "metadata": {
        "id": "f1mxLNeZLqbj"
      },
      "source": [
        "from sklearn import linear_model, ensemble"
      ],
      "execution_count": null,
      "outputs": []
    },
    {
      "cell_type": "markdown",
      "metadata": {
        "id": "B86kcKX_Lqbp"
      },
      "source": [
        "Прежде чем начать делать ремонт, нужно подготовить инструменты для работы. Аналогично в нашем случае, прежде чем обучать модели, нужно создать их прототипы.  "
      ]
    },
    {
      "cell_type": "markdown",
      "metadata": {
        "id": "Zm15N2pvLqbq"
      },
      "source": [
        "Чтобы создать модель линейной регресии, пишем имя модуля 'linear_model', затем точку, затем название модели.\n",
        "\n",
        "Для этого нужно выполнить следующий код:\n",
        "\n",
        "```python\n",
        "linear_regression_model = linear_model.LinearRegression()\n",
        "linear_regression_model\n",
        "```\n",
        "\n",
        "Результат выполнения должен быть следующим:\n",
        "\n",
        "```python\n",
        "LinearRegression(copy_X=True, fit_intercept=True, n_jobs=1, normalize=False)\n",
        "```"
      ]
    },
    {
      "cell_type": "code",
      "metadata": {
        "id": "aJdy5rsFLqbt"
      },
      "source": [
        "linear_regression_model = linear_model.LinearRegression() # создаем модель"
      ],
      "execution_count": null,
      "outputs": []
    },
    {
      "cell_type": "code",
      "metadata": {
        "id": "56GKMPJuxFoO"
      },
      "source": [
        "linear_regression_model_2 = linear_model.LinearRegression() # создаем модель 2"
      ],
      "execution_count": null,
      "outputs": []
    },
    {
      "cell_type": "code",
      "metadata": {
        "id": "nYk4bedkLqbw",
        "colab": {
          "base_uri": "https://localhost:8080/"
        },
        "outputId": "3e1c2890-3a0f-417b-93ac-3e3de68eeed1"
      },
      "source": [
        "linear_regression_model # смотрим, что получилось"
      ],
      "execution_count": null,
      "outputs": [
        {
          "output_type": "execute_result",
          "data": {
            "text/plain": [
              "LinearRegression(copy_X=True, fit_intercept=True, n_jobs=None, normalize=False)"
            ]
          },
          "metadata": {
            "tags": []
          },
          "execution_count": 57
        }
      ]
    },
    {
      "cell_type": "code",
      "metadata": {
        "id": "tj0GwugmxYQq",
        "colab": {
          "base_uri": "https://localhost:8080/"
        },
        "outputId": "a7418c98-64cf-44f6-a7fc-42c304796c10"
      },
      "source": [
        "linear_regression_model_2"
      ],
      "execution_count": null,
      "outputs": [
        {
          "output_type": "execute_result",
          "data": {
            "text/plain": [
              "LinearRegression(copy_X=True, fit_intercept=True, n_jobs=None, normalize=False)"
            ]
          },
          "metadata": {
            "tags": []
          },
          "execution_count": 58
        }
      ]
    },
    {
      "cell_type": "markdown",
      "metadata": {
        "id": "c3EEqG5MLqby"
      },
      "source": [
        "Чтобы создать модель случайного леса, пишем имя модуля ensemble, затем точку, затем название модели. \n",
        "\n",
        "Для этого нужно выполнить следующий код:\n",
        "\n",
        "```python\n",
        "random_forest_model = ensemble.RandomForestRegressor()\n",
        "random_forest_model\n",
        "```\n",
        "Результат выполнения должен быть следующим:\n",
        "    \n",
        "```python\n",
        "RandomForestRegressor(bootstrap=True, criterion='mse', max_depth=None,\n",
        "           max_features='auto', max_leaf_nodes=None,\n",
        "           min_impurity_decrease=0.0, min_impurity_split=None,\n",
        "           min_samples_leaf=1, min_samples_split=2,\n",
        "           min_weight_fraction_leaf=0.0, n_estimators=10, n_jobs=1,\n",
        "           oob_score=False, random_state=None, verbose=0, warm_start=False)\n",
        "```"
      ]
    },
    {
      "cell_type": "code",
      "metadata": {
        "id": "m0SUBY9_Lqby",
        "colab": {
          "base_uri": "https://localhost:8080/"
        },
        "outputId": "16730b7e-dbe9-4f90-9e82-ee8505a0d69d"
      },
      "source": [
        "random_forest_model = ensemble.RandomForestRegressor()\n",
        "random_forest_model"
      ],
      "execution_count": null,
      "outputs": [
        {
          "output_type": "execute_result",
          "data": {
            "text/plain": [
              "RandomForestRegressor(bootstrap=True, ccp_alpha=0.0, criterion='mse',\n",
              "                      max_depth=None, max_features='auto', max_leaf_nodes=None,\n",
              "                      max_samples=None, min_impurity_decrease=0.0,\n",
              "                      min_impurity_split=None, min_samples_leaf=1,\n",
              "                      min_samples_split=2, min_weight_fraction_leaf=0.0,\n",
              "                      n_estimators=100, n_jobs=None, oob_score=False,\n",
              "                      random_state=None, verbose=0, warm_start=False)"
            ]
          },
          "metadata": {
            "tags": []
          },
          "execution_count": 59
        }
      ]
    },
    {
      "cell_type": "code",
      "metadata": {
        "id": "AVck3TBfxdxf",
        "colab": {
          "base_uri": "https://localhost:8080/"
        },
        "outputId": "769be06a-e122-45dc-c0a3-496ca03694ea"
      },
      "source": [
        "random_forest_model_2 = ensemble.RandomForestRegressor()\n",
        "random_forest_model_2"
      ],
      "execution_count": null,
      "outputs": [
        {
          "output_type": "execute_result",
          "data": {
            "text/plain": [
              "RandomForestRegressor(bootstrap=True, ccp_alpha=0.0, criterion='mse',\n",
              "                      max_depth=None, max_features='auto', max_leaf_nodes=None,\n",
              "                      max_samples=None, min_impurity_decrease=0.0,\n",
              "                      min_impurity_split=None, min_samples_leaf=1,\n",
              "                      min_samples_split=2, min_weight_fraction_leaf=0.0,\n",
              "                      n_estimators=100, n_jobs=None, oob_score=False,\n",
              "                      random_state=None, verbose=0, warm_start=False)"
            ]
          },
          "metadata": {
            "tags": []
          },
          "execution_count": 60
        }
      ]
    },
    {
      "cell_type": "markdown",
      "metadata": {
        "id": "81hsVtx4Lqb1"
      },
      "source": [
        "У модели на основе случайного леса больше параметров. Рассмотрим наиболее важные:\n",
        "* параметр *n_estimators* определяет, сколько деревьев в лесу,\n",
        "* в параметре *max_depth* устанавливается, какая максимальная глубина у дерева,\n",
        "* в параметре *min_samples_leaf* задается, какое максимальное число объектов может попасть в лист дерева."
      ]
    },
    {
      "cell_type": "markdown",
      "metadata": {
        "id": "DLKkMRIkLqb1"
      },
      "source": [
        "Так как у модели на основе случайного решающего леса больше параметров, такая модель обычно обучается медленнее.\n",
        "Кроме этого, на время обучения влияют значения параметров модели. Например, чем больше деревьев в лесе - тем дольше модель будет учиться."
      ]
    },
    {
      "cell_type": "markdown",
      "metadata": {
        "id": "TM7UfC6uLqb2"
      },
      "source": [
        "**Шаг 3.2. Обучить модель**\n",
        "\n",
        "Теперь, когда мы создали прототипы обеих моделей, можем их обучить с помощью обучающей выборки. \n",
        "\n",
        "Для этого вызываем метод **fit()** у каждой модели и передаем ему на вход два аргумента: \n",
        "таблицу входных признаков и столбец значений целевой переменной - (training_points, training_values)"
      ]
    },
    {
      "cell_type": "code",
      "metadata": {
        "id": "zlMSe5KOLqb3",
        "colab": {
          "base_uri": "https://localhost:8080/"
        },
        "outputId": "53f8842c-3062-49e7-a373-256cdb381e3a"
      },
      "source": [
        "linear_regression_model.fit(training_points, training_values)"
      ],
      "execution_count": null,
      "outputs": [
        {
          "output_type": "execute_result",
          "data": {
            "text/plain": [
              "LinearRegression(copy_X=True, fit_intercept=True, n_jobs=None, normalize=False)"
            ]
          },
          "metadata": {
            "tags": []
          },
          "execution_count": 61
        }
      ]
    },
    {
      "cell_type": "code",
      "metadata": {
        "id": "jmwB869bw0ww",
        "colab": {
          "base_uri": "https://localhost:8080/"
        },
        "outputId": "9ec9dc83-2b44-4993-d965-25341acbe55b"
      },
      "source": [
        "linear_regression_model_2.fit(training_points_2, training_values_2)"
      ],
      "execution_count": null,
      "outputs": [
        {
          "output_type": "execute_result",
          "data": {
            "text/plain": [
              "LinearRegression(copy_X=True, fit_intercept=True, n_jobs=None, normalize=False)"
            ]
          },
          "metadata": {
            "tags": []
          },
          "execution_count": 62
        }
      ]
    },
    {
      "cell_type": "markdown",
      "metadata": {
        "id": "q4N8tiZuLqb5"
      },
      "source": [
        "Делаем тоже самое для модели решающего леса."
      ]
    },
    {
      "cell_type": "code",
      "metadata": {
        "id": "p4avWumzLqb5",
        "colab": {
          "base_uri": "https://localhost:8080/"
        },
        "outputId": "688eb453-a029-44af-d6e6-5bf51fc3c06e"
      },
      "source": [
        "random_forest_model.fit(training_points, training_values)"
      ],
      "execution_count": null,
      "outputs": [
        {
          "output_type": "execute_result",
          "data": {
            "text/plain": [
              "RandomForestRegressor(bootstrap=True, ccp_alpha=0.0, criterion='mse',\n",
              "                      max_depth=None, max_features='auto', max_leaf_nodes=None,\n",
              "                      max_samples=None, min_impurity_decrease=0.0,\n",
              "                      min_impurity_split=None, min_samples_leaf=1,\n",
              "                      min_samples_split=2, min_weight_fraction_leaf=0.0,\n",
              "                      n_estimators=100, n_jobs=None, oob_score=False,\n",
              "                      random_state=None, verbose=0, warm_start=False)"
            ]
          },
          "metadata": {
            "tags": []
          },
          "execution_count": 63
        }
      ]
    },
    {
      "cell_type": "code",
      "metadata": {
        "id": "qzQb4TMSw5Ld",
        "colab": {
          "base_uri": "https://localhost:8080/"
        },
        "outputId": "c2d4c622-76da-482a-b6ef-4172a1e2e51b"
      },
      "source": [
        "random_forest_model_2.fit(training_points_2, training_values_2)"
      ],
      "execution_count": null,
      "outputs": [
        {
          "output_type": "execute_result",
          "data": {
            "text/plain": [
              "RandomForestRegressor(bootstrap=True, ccp_alpha=0.0, criterion='mse',\n",
              "                      max_depth=None, max_features='auto', max_leaf_nodes=None,\n",
              "                      max_samples=None, min_impurity_decrease=0.0,\n",
              "                      min_impurity_split=None, min_samples_leaf=1,\n",
              "                      min_samples_split=2, min_weight_fraction_leaf=0.0,\n",
              "                      n_estimators=100, n_jobs=None, oob_score=False,\n",
              "                      random_state=None, verbose=0, warm_start=False)"
            ]
          },
          "metadata": {
            "tags": []
          },
          "execution_count": 64
        }
      ]
    },
    {
      "cell_type": "markdown",
      "metadata": {
        "id": "vNdd15xULqb7"
      },
      "source": [
        "* Для двух разных моделей в sklearn методы для обучения модели не отличаются.\n",
        "* Мы получили четыре обученные модели. \n",
        "* Теперь необходимо провалидировать модели на новых тестовых данных. "
      ]
    },
    {
      "cell_type": "markdown",
      "metadata": {
        "id": "y8BB5t5DLqb8"
      },
      "source": [
        "## 4. Загрузить и предобработать данные для тестирования"
      ]
    },
    {
      "cell_type": "markdown",
      "metadata": {
        "id": "V70UJoRnLqb9"
      },
      "source": [
        "**Шаг 4.1. Загрузим и проанализируем тестовые данные.**\n",
        "\n",
        "Так как данные в формате xlsx (Excel), мы будем использовать специальную функцию\n",
        "из библиотеки pandas для загрузки таких данных **read_excel**.\n",
        "\n",
        "В функции передаем один атрибут: название файла, в котором находится таблица с данными."
      ]
    },
    {
      "cell_type": "code",
      "metadata": {
        "id": "G2QC-fcBLqb9"
      },
      "source": [
        "test_data = pd.read_excel('predict_house_price_test_data.xlsx')"
      ],
      "execution_count": null,
      "outputs": []
    },
    {
      "cell_type": "code",
      "metadata": {
        "id": "XcSyK0wlrmGT"
      },
      "source": [
        "test_data_2 = pd.read_excel('predict_house_price_test_data.xlsx')"
      ],
      "execution_count": null,
      "outputs": []
    },
    {
      "cell_type": "markdown",
      "metadata": {
        "id": "D5c96FglLqcA"
      },
      "source": [
        "*Что важно посмотреть, после того, как мы загрузили данные?*\n",
        "\n",
        "- проверить, что данные действительно загрузились\n",
        "- посмотреть на данные, чтобы удостовериться, что они правильные: колонки имеют те же названия, что и в таблице и т.д.\n",
        "\n",
        "Для того чтобы это сделать, нужно вызвать от переменной *test_data* метод **head()**, который выводит первые 5 строк таблицы. \n",
        "\n",
        "Для вызова метода объекта необходимо сначала написать *имя объекта*, затем поставить *точку*, затем уже написать *название метода*. Обратите внимание, что в конце обязательно ставить скобочки, потому что метод - это функция и в ней есть аргументы, просто в данном случае мы их не передаем, поэтому оставляем поле пустым"
      ]
    },
    {
      "cell_type": "code",
      "metadata": {
        "id": "aWplqmHwLqcC",
        "colab": {
          "base_uri": "https://localhost:8080/",
          "height": 214
        },
        "outputId": "0763a7a6-83fb-4fc7-829c-497898d9b475"
      },
      "source": [
        "test_data.head()"
      ],
      "execution_count": null,
      "outputs": [
        {
          "output_type": "execute_result",
          "data": {
            "text/html": [
              "<div>\n",
              "<style scoped>\n",
              "    .dataframe tbody tr th:only-of-type {\n",
              "        vertical-align: middle;\n",
              "    }\n",
              "\n",
              "    .dataframe tbody tr th {\n",
              "        vertical-align: top;\n",
              "    }\n",
              "\n",
              "    .dataframe thead th {\n",
              "        text-align: right;\n",
              "    }\n",
              "</style>\n",
              "<table border=\"1\" class=\"dataframe\">\n",
              "  <thead>\n",
              "    <tr style=\"text-align: right;\">\n",
              "      <th></th>\n",
              "      <th>Целевая.Цена</th>\n",
              "      <th>Спальни</th>\n",
              "      <th>Ванные</th>\n",
              "      <th>Жилая площадь</th>\n",
              "      <th>Общая площадь</th>\n",
              "      <th>Количество этажей</th>\n",
              "      <th>Вид на воду</th>\n",
              "      <th>Просмотрены ранее</th>\n",
              "      <th>Состояние</th>\n",
              "      <th>Оценка риелтора</th>\n",
              "      <th>Площадь без подвала</th>\n",
              "      <th>Площадь подвала</th>\n",
              "      <th>Год постройки</th>\n",
              "      <th>Год реновации</th>\n",
              "      <th>Широта</th>\n",
              "      <th>Долгота</th>\n",
              "    </tr>\n",
              "  </thead>\n",
              "  <tbody>\n",
              "    <tr>\n",
              "      <th>0</th>\n",
              "      <td>260000</td>\n",
              "      <td>3</td>\n",
              "      <td>1.00</td>\n",
              "      <td>1300</td>\n",
              "      <td>10139</td>\n",
              "      <td>1.0</td>\n",
              "      <td>0</td>\n",
              "      <td>0</td>\n",
              "      <td>3</td>\n",
              "      <td>7</td>\n",
              "      <td>1300</td>\n",
              "      <td>0</td>\n",
              "      <td>1962</td>\n",
              "      <td>2007</td>\n",
              "      <td>47.3427</td>\n",
              "      <td>-122.087</td>\n",
              "    </tr>\n",
              "    <tr>\n",
              "      <th>1</th>\n",
              "      <td>734500</td>\n",
              "      <td>4</td>\n",
              "      <td>2.75</td>\n",
              "      <td>3280</td>\n",
              "      <td>6845</td>\n",
              "      <td>2.0</td>\n",
              "      <td>0</td>\n",
              "      <td>0</td>\n",
              "      <td>3</td>\n",
              "      <td>10</td>\n",
              "      <td>3280</td>\n",
              "      <td>0</td>\n",
              "      <td>2003</td>\n",
              "      <td>0</td>\n",
              "      <td>47.7042</td>\n",
              "      <td>-122.107</td>\n",
              "    </tr>\n",
              "    <tr>\n",
              "      <th>2</th>\n",
              "      <td>325000</td>\n",
              "      <td>1</td>\n",
              "      <td>1.00</td>\n",
              "      <td>1220</td>\n",
              "      <td>12426</td>\n",
              "      <td>1.0</td>\n",
              "      <td>0</td>\n",
              "      <td>4</td>\n",
              "      <td>4</td>\n",
              "      <td>6</td>\n",
              "      <td>1220</td>\n",
              "      <td>0</td>\n",
              "      <td>1946</td>\n",
              "      <td>0</td>\n",
              "      <td>47.4047</td>\n",
              "      <td>-122.331</td>\n",
              "    </tr>\n",
              "    <tr>\n",
              "      <th>3</th>\n",
              "      <td>1990000</td>\n",
              "      <td>3</td>\n",
              "      <td>2.50</td>\n",
              "      <td>2880</td>\n",
              "      <td>13500</td>\n",
              "      <td>1.0</td>\n",
              "      <td>0</td>\n",
              "      <td>4</td>\n",
              "      <td>5</td>\n",
              "      <td>8</td>\n",
              "      <td>1520</td>\n",
              "      <td>1360</td>\n",
              "      <td>1950</td>\n",
              "      <td>0</td>\n",
              "      <td>47.6281</td>\n",
              "      <td>-122.216</td>\n",
              "    </tr>\n",
              "    <tr>\n",
              "      <th>4</th>\n",
              "      <td>315000</td>\n",
              "      <td>3</td>\n",
              "      <td>2.00</td>\n",
              "      <td>1300</td>\n",
              "      <td>3731</td>\n",
              "      <td>1.0</td>\n",
              "      <td>0</td>\n",
              "      <td>0</td>\n",
              "      <td>3</td>\n",
              "      <td>7</td>\n",
              "      <td>900</td>\n",
              "      <td>400</td>\n",
              "      <td>1993</td>\n",
              "      <td>0</td>\n",
              "      <td>47.5374</td>\n",
              "      <td>-122.270</td>\n",
              "    </tr>\n",
              "  </tbody>\n",
              "</table>\n",
              "</div>"
            ],
            "text/plain": [
              "   Целевая.Цена  Спальни  Ванные  ...  Год реновации   Широта  Долгота\n",
              "0        260000        3    1.00  ...           2007  47.3427 -122.087\n",
              "1        734500        4    2.75  ...              0  47.7042 -122.107\n",
              "2        325000        1    1.00  ...              0  47.4047 -122.331\n",
              "3       1990000        3    2.50  ...              0  47.6281 -122.216\n",
              "4        315000        3    2.00  ...              0  47.5374 -122.270\n",
              "\n",
              "[5 rows x 16 columns]"
            ]
          },
          "metadata": {
            "tags": []
          },
          "execution_count": 68
        }
      ]
    },
    {
      "cell_type": "markdown",
      "metadata": {
        "id": "Lfend3aUzBQr"
      },
      "source": [
        "Уберем из *test_data_2* столбцы с минимальными по значимости признаками"
      ]
    },
    {
      "cell_type": "code",
      "metadata": {
        "id": "CmQ4P6KbzKzJ"
      },
      "source": [
        "test_data_2 = test_data_2.drop(number_of_floors, axis=1)"
      ],
      "execution_count": null,
      "outputs": []
    },
    {
      "cell_type": "code",
      "metadata": {
        "id": "tJrq2C1XzevI"
      },
      "source": [
        "test_data_2 = test_data_2.drop(year_of_renovation, axis=1)"
      ],
      "execution_count": null,
      "outputs": []
    },
    {
      "cell_type": "code",
      "metadata": {
        "id": "aUgIYm6bze-w"
      },
      "source": [
        "test_data_2 = test_data_2.drop(condition, axis=1)"
      ],
      "execution_count": null,
      "outputs": []
    },
    {
      "cell_type": "code",
      "metadata": {
        "id": "GZzH4XEfzeo5"
      },
      "source": [
        "test_data_2 = test_data_2.drop(bedrooms, axis=1)"
      ],
      "execution_count": null,
      "outputs": []
    },
    {
      "cell_type": "code",
      "metadata": {
        "id": "pskngnQOzhaI"
      },
      "source": [
        "test_data_2 = test_data_2.drop(basement_area, axis=1)"
      ],
      "execution_count": null,
      "outputs": []
    },
    {
      "cell_type": "code",
      "metadata": {
        "id": "uCMIPahxrqVY",
        "colab": {
          "base_uri": "https://localhost:8080/",
          "height": 197
        },
        "outputId": "2f31b4d1-468f-4d2e-c636-0a79d94b5170"
      },
      "source": [
        "test_data_2.head()"
      ],
      "execution_count": null,
      "outputs": [
        {
          "output_type": "execute_result",
          "data": {
            "text/html": [
              "<div>\n",
              "<style scoped>\n",
              "    .dataframe tbody tr th:only-of-type {\n",
              "        vertical-align: middle;\n",
              "    }\n",
              "\n",
              "    .dataframe tbody tr th {\n",
              "        vertical-align: top;\n",
              "    }\n",
              "\n",
              "    .dataframe thead th {\n",
              "        text-align: right;\n",
              "    }\n",
              "</style>\n",
              "<table border=\"1\" class=\"dataframe\">\n",
              "  <thead>\n",
              "    <tr style=\"text-align: right;\">\n",
              "      <th></th>\n",
              "      <th>Целевая.Цена</th>\n",
              "      <th>Ванные</th>\n",
              "      <th>Жилая площадь</th>\n",
              "      <th>Общая площадь</th>\n",
              "      <th>Вид на воду</th>\n",
              "      <th>Просмотрены ранее</th>\n",
              "      <th>Оценка риелтора</th>\n",
              "      <th>Площадь без подвала</th>\n",
              "      <th>Год постройки</th>\n",
              "      <th>Широта</th>\n",
              "      <th>Долгота</th>\n",
              "    </tr>\n",
              "  </thead>\n",
              "  <tbody>\n",
              "    <tr>\n",
              "      <th>0</th>\n",
              "      <td>260000</td>\n",
              "      <td>1.00</td>\n",
              "      <td>1300</td>\n",
              "      <td>10139</td>\n",
              "      <td>0</td>\n",
              "      <td>0</td>\n",
              "      <td>7</td>\n",
              "      <td>1300</td>\n",
              "      <td>1962</td>\n",
              "      <td>47.3427</td>\n",
              "      <td>-122.087</td>\n",
              "    </tr>\n",
              "    <tr>\n",
              "      <th>1</th>\n",
              "      <td>734500</td>\n",
              "      <td>2.75</td>\n",
              "      <td>3280</td>\n",
              "      <td>6845</td>\n",
              "      <td>0</td>\n",
              "      <td>0</td>\n",
              "      <td>10</td>\n",
              "      <td>3280</td>\n",
              "      <td>2003</td>\n",
              "      <td>47.7042</td>\n",
              "      <td>-122.107</td>\n",
              "    </tr>\n",
              "    <tr>\n",
              "      <th>2</th>\n",
              "      <td>325000</td>\n",
              "      <td>1.00</td>\n",
              "      <td>1220</td>\n",
              "      <td>12426</td>\n",
              "      <td>0</td>\n",
              "      <td>4</td>\n",
              "      <td>6</td>\n",
              "      <td>1220</td>\n",
              "      <td>1946</td>\n",
              "      <td>47.4047</td>\n",
              "      <td>-122.331</td>\n",
              "    </tr>\n",
              "    <tr>\n",
              "      <th>3</th>\n",
              "      <td>1990000</td>\n",
              "      <td>2.50</td>\n",
              "      <td>2880</td>\n",
              "      <td>13500</td>\n",
              "      <td>0</td>\n",
              "      <td>4</td>\n",
              "      <td>8</td>\n",
              "      <td>1520</td>\n",
              "      <td>1950</td>\n",
              "      <td>47.6281</td>\n",
              "      <td>-122.216</td>\n",
              "    </tr>\n",
              "    <tr>\n",
              "      <th>4</th>\n",
              "      <td>315000</td>\n",
              "      <td>2.00</td>\n",
              "      <td>1300</td>\n",
              "      <td>3731</td>\n",
              "      <td>0</td>\n",
              "      <td>0</td>\n",
              "      <td>7</td>\n",
              "      <td>900</td>\n",
              "      <td>1993</td>\n",
              "      <td>47.5374</td>\n",
              "      <td>-122.270</td>\n",
              "    </tr>\n",
              "  </tbody>\n",
              "</table>\n",
              "</div>"
            ],
            "text/plain": [
              "   Целевая.Цена  Ванные  Жилая площадь  ...  Год постройки   Широта  Долгота\n",
              "0        260000    1.00           1300  ...           1962  47.3427 -122.087\n",
              "1        734500    2.75           3280  ...           2003  47.7042 -122.107\n",
              "2        325000    1.00           1220  ...           1946  47.4047 -122.331\n",
              "3       1990000    2.50           2880  ...           1950  47.6281 -122.216\n",
              "4        315000    2.00           1300  ...           1993  47.5374 -122.270\n",
              "\n",
              "[5 rows x 11 columns]"
            ]
          },
          "metadata": {
            "tags": []
          },
          "execution_count": 81
        }
      ]
    },
    {
      "cell_type": "markdown",
      "metadata": {
        "id": "rNOKBtaVLqcF"
      },
      "source": [
        "Посмотрим на размеры загруженных таблиц, так как мы видели только 5 строк\n",
        "\n",
        "Для этого вызываем поле **shape** у нашей переменной *test_data*. Поле вызывается также как метод, но в конце скобки не ставятся (!), так как для поля не предусмотрена передача аргументов.  "
      ]
    },
    {
      "cell_type": "code",
      "metadata": {
        "id": "FHzoBYPKLqcG",
        "colab": {
          "base_uri": "https://localhost:8080/"
        },
        "outputId": "dbf2024b-7994-45e6-b4e5-ef55346caa4a"
      },
      "source": [
        "test_data.shape"
      ],
      "execution_count": null,
      "outputs": [
        {
          "output_type": "execute_result",
          "data": {
            "text/plain": [
              "(6484, 16)"
            ]
          },
          "metadata": {
            "tags": []
          },
          "execution_count": 82
        }
      ]
    },
    {
      "cell_type": "markdown",
      "metadata": {
        "id": "Sic-zsmxLqcI"
      },
      "source": [
        "*Что означает первое и второе число?* \n",
        "Таблица содержит 6484 строк (объектов) и 16 столбцов (признаков), включая выходной (целевой) признак. Также как в учебных данных до обучения.\n"
      ]
    },
    {
      "cell_type": "code",
      "metadata": {
        "id": "h2JVNeM0rvvw",
        "colab": {
          "base_uri": "https://localhost:8080/"
        },
        "outputId": "af775554-cfdc-4568-acf9-431cf0aa5a87"
      },
      "source": [
        "test_data_2.shape"
      ],
      "execution_count": null,
      "outputs": [
        {
          "output_type": "execute_result",
          "data": {
            "text/plain": [
              "(6484, 11)"
            ]
          },
          "metadata": {
            "tags": []
          },
          "execution_count": 83
        }
      ]
    },
    {
      "cell_type": "markdown",
      "metadata": {
        "id": "XLJHvLNMCrob"
      },
      "source": [
        "Таблица содержит 6484 строк (объектов) и 1 столбцов (признаков), включая выходной (целевой) признак. Также как в учебных данных до обучения."
      ]
    },
    {
      "cell_type": "markdown",
      "metadata": {
        "id": "cirwOcb7LqcJ"
      },
      "source": [
        "Проверим, есть ли в данных пропуски. Для того чтобы это сделать, нужно обратиться вызвать у переменной *test_data* метод **info()**."
      ]
    },
    {
      "cell_type": "code",
      "metadata": {
        "id": "-TMC8NvMLqcJ",
        "colab": {
          "base_uri": "https://localhost:8080/"
        },
        "outputId": "9d676daa-7e69-4f55-df3a-e3d20755478e"
      },
      "source": [
        "test_data.info()"
      ],
      "execution_count": null,
      "outputs": [
        {
          "output_type": "stream",
          "text": [
            "<class 'pandas.core.frame.DataFrame'>\n",
            "RangeIndex: 6484 entries, 0 to 6483\n",
            "Data columns (total 16 columns):\n",
            " #   Column               Non-Null Count  Dtype  \n",
            "---  ------               --------------  -----  \n",
            " 0   Целевая.Цена         6484 non-null   int64  \n",
            " 1   Спальни              6484 non-null   int64  \n",
            " 2   Ванные               6484 non-null   float64\n",
            " 3   Жилая площадь        6484 non-null   int64  \n",
            " 4   Общая площадь        6484 non-null   int64  \n",
            " 5   Количество этажей    6484 non-null   float64\n",
            " 6   Вид на воду          6484 non-null   int64  \n",
            " 7   Просмотрены ранее    6484 non-null   int64  \n",
            " 8   Состояние            6484 non-null   int64  \n",
            " 9   Оценка риелтора      6484 non-null   int64  \n",
            " 10  Площадь без подвала  6484 non-null   int64  \n",
            " 11  Площадь подвала      6484 non-null   int64  \n",
            " 12  Год постройки        6484 non-null   int64  \n",
            " 13  Год реновации        6484 non-null   int64  \n",
            " 14  Широта               6484 non-null   float64\n",
            " 15  Долгота              6484 non-null   float64\n",
            "dtypes: float64(4), int64(12)\n",
            "memory usage: 810.6 KB\n"
          ],
          "name": "stdout"
        }
      ]
    },
    {
      "cell_type": "code",
      "metadata": {
        "id": "QL_umP8Ix_KK",
        "colab": {
          "base_uri": "https://localhost:8080/"
        },
        "outputId": "a0f261b1-bc10-4b25-b38e-f10e96ba0322"
      },
      "source": [
        "test_data_2.info()"
      ],
      "execution_count": null,
      "outputs": [
        {
          "output_type": "stream",
          "text": [
            "<class 'pandas.core.frame.DataFrame'>\n",
            "RangeIndex: 6484 entries, 0 to 6483\n",
            "Data columns (total 11 columns):\n",
            " #   Column               Non-Null Count  Dtype  \n",
            "---  ------               --------------  -----  \n",
            " 0   Целевая.Цена         6484 non-null   int64  \n",
            " 1   Ванные               6484 non-null   float64\n",
            " 2   Жилая площадь        6484 non-null   int64  \n",
            " 3   Общая площадь        6484 non-null   int64  \n",
            " 4   Вид на воду          6484 non-null   int64  \n",
            " 5   Просмотрены ранее    6484 non-null   int64  \n",
            " 6   Оценка риелтора      6484 non-null   int64  \n",
            " 7   Площадь без подвала  6484 non-null   int64  \n",
            " 8   Год постройки        6484 non-null   int64  \n",
            " 9   Широта               6484 non-null   float64\n",
            " 10  Долгота              6484 non-null   float64\n",
            "dtypes: float64(3), int64(8)\n",
            "memory usage: 557.3 KB\n"
          ],
          "name": "stdout"
        }
      ]
    },
    {
      "cell_type": "markdown",
      "metadata": {
        "id": "AN3MKGbcLqcL"
      },
      "source": [
        "Цифры в каждой строчке обозначают количество заполненных (*non-null*) значений. Так как эти цифры в каждой строчке совпадают с числом строк (6484), то в данных нет пропусков."
      ]
    },
    {
      "cell_type": "markdown",
      "metadata": {
        "id": "2cUtLvm8LqcM"
      },
      "source": [
        "**Шаг 4.2. Отделяем целевую переменную**"
      ]
    },
    {
      "cell_type": "markdown",
      "metadata": {
        "id": "s2QuCPmzLqcM"
      },
      "source": [
        "Нам нужно выделить в отдельную переменную *test_values* столбец из нашей таблицы, который соответствует определенной выше целевой переменной. Для этого мы у таблицы *test_data* в квадратных скобках указываем имя нужного столбца. В нашем случае это имя записано в переменной *target_variable_name*. "
      ]
    },
    {
      "cell_type": "code",
      "metadata": {
        "id": "-mJZ2H7QLqcN"
      },
      "source": [
        "test_values = test_data[target_variable_name]"
      ],
      "execution_count": null,
      "outputs": []
    },
    {
      "cell_type": "code",
      "metadata": {
        "id": "a_yAQ35myDlp"
      },
      "source": [
        "test_values_2 = test_data_2[target_variable_name]"
      ],
      "execution_count": null,
      "outputs": []
    },
    {
      "cell_type": "markdown",
      "metadata": {
        "id": "ZDXJjpyVyLCK"
      },
      "source": [
        ""
      ]
    },
    {
      "cell_type": "markdown",
      "metadata": {
        "id": "65B_7B2YLqcP"
      },
      "source": [
        "Отделим входные переменные от выходной (целевой), чтобы можно было построить модель предсказания целевой переменной по входным. \n",
        "Для это нужно у переменной *test_data* вызвать метод **drop()**. Результат мы записываем в новую переменную *test_points*. После выполнения запроса *test_points* будет содержать исходную таблицу без целевого столбца. \n",
        "\n",
        "Обратите внимание, что в данном случае мы передаем два аргумента:\n",
        "    1. target_variable_name - название столбца цены, который мы ранее записали в эту переменную и теперь хотим удалить из training_data\n",
        "    2. axis=1 - означает, что мы удаляем столбец, а в случае axis=0 - означает, что мы удаляем строку"
      ]
    },
    {
      "cell_type": "code",
      "metadata": {
        "id": "-VIMWvPLLqcQ"
      },
      "source": [
        "test_points = test_data.drop(target_variable_name, axis=1)"
      ],
      "execution_count": null,
      "outputs": []
    },
    {
      "cell_type": "code",
      "metadata": {
        "id": "hDtErLHozxKY"
      },
      "source": [
        "test_points_2 = test_data_2.drop(target_variable_name, axis=1)"
      ],
      "execution_count": null,
      "outputs": []
    },
    {
      "cell_type": "markdown",
      "metadata": {
        "id": "y3Cwim1CLqcV"
      },
      "source": [
        "И проверяем результат записанный в test_points"
      ]
    },
    {
      "cell_type": "code",
      "metadata": {
        "id": "s20UtLqELqcV",
        "colab": {
          "base_uri": "https://localhost:8080/",
          "height": 214
        },
        "outputId": "d7750645-2ca1-4751-b727-aa20a6693f99"
      },
      "source": [
        "test_points.head()"
      ],
      "execution_count": null,
      "outputs": [
        {
          "output_type": "execute_result",
          "data": {
            "text/html": [
              "<div>\n",
              "<style scoped>\n",
              "    .dataframe tbody tr th:only-of-type {\n",
              "        vertical-align: middle;\n",
              "    }\n",
              "\n",
              "    .dataframe tbody tr th {\n",
              "        vertical-align: top;\n",
              "    }\n",
              "\n",
              "    .dataframe thead th {\n",
              "        text-align: right;\n",
              "    }\n",
              "</style>\n",
              "<table border=\"1\" class=\"dataframe\">\n",
              "  <thead>\n",
              "    <tr style=\"text-align: right;\">\n",
              "      <th></th>\n",
              "      <th>Спальни</th>\n",
              "      <th>Ванные</th>\n",
              "      <th>Жилая площадь</th>\n",
              "      <th>Общая площадь</th>\n",
              "      <th>Количество этажей</th>\n",
              "      <th>Вид на воду</th>\n",
              "      <th>Просмотрены ранее</th>\n",
              "      <th>Состояние</th>\n",
              "      <th>Оценка риелтора</th>\n",
              "      <th>Площадь без подвала</th>\n",
              "      <th>Площадь подвала</th>\n",
              "      <th>Год постройки</th>\n",
              "      <th>Год реновации</th>\n",
              "      <th>Широта</th>\n",
              "      <th>Долгота</th>\n",
              "    </tr>\n",
              "  </thead>\n",
              "  <tbody>\n",
              "    <tr>\n",
              "      <th>0</th>\n",
              "      <td>3</td>\n",
              "      <td>1.00</td>\n",
              "      <td>1300</td>\n",
              "      <td>10139</td>\n",
              "      <td>1.0</td>\n",
              "      <td>0</td>\n",
              "      <td>0</td>\n",
              "      <td>3</td>\n",
              "      <td>7</td>\n",
              "      <td>1300</td>\n",
              "      <td>0</td>\n",
              "      <td>1962</td>\n",
              "      <td>2007</td>\n",
              "      <td>47.3427</td>\n",
              "      <td>-122.087</td>\n",
              "    </tr>\n",
              "    <tr>\n",
              "      <th>1</th>\n",
              "      <td>4</td>\n",
              "      <td>2.75</td>\n",
              "      <td>3280</td>\n",
              "      <td>6845</td>\n",
              "      <td>2.0</td>\n",
              "      <td>0</td>\n",
              "      <td>0</td>\n",
              "      <td>3</td>\n",
              "      <td>10</td>\n",
              "      <td>3280</td>\n",
              "      <td>0</td>\n",
              "      <td>2003</td>\n",
              "      <td>0</td>\n",
              "      <td>47.7042</td>\n",
              "      <td>-122.107</td>\n",
              "    </tr>\n",
              "    <tr>\n",
              "      <th>2</th>\n",
              "      <td>1</td>\n",
              "      <td>1.00</td>\n",
              "      <td>1220</td>\n",
              "      <td>12426</td>\n",
              "      <td>1.0</td>\n",
              "      <td>0</td>\n",
              "      <td>4</td>\n",
              "      <td>4</td>\n",
              "      <td>6</td>\n",
              "      <td>1220</td>\n",
              "      <td>0</td>\n",
              "      <td>1946</td>\n",
              "      <td>0</td>\n",
              "      <td>47.4047</td>\n",
              "      <td>-122.331</td>\n",
              "    </tr>\n",
              "    <tr>\n",
              "      <th>3</th>\n",
              "      <td>3</td>\n",
              "      <td>2.50</td>\n",
              "      <td>2880</td>\n",
              "      <td>13500</td>\n",
              "      <td>1.0</td>\n",
              "      <td>0</td>\n",
              "      <td>4</td>\n",
              "      <td>5</td>\n",
              "      <td>8</td>\n",
              "      <td>1520</td>\n",
              "      <td>1360</td>\n",
              "      <td>1950</td>\n",
              "      <td>0</td>\n",
              "      <td>47.6281</td>\n",
              "      <td>-122.216</td>\n",
              "    </tr>\n",
              "    <tr>\n",
              "      <th>4</th>\n",
              "      <td>3</td>\n",
              "      <td>2.00</td>\n",
              "      <td>1300</td>\n",
              "      <td>3731</td>\n",
              "      <td>1.0</td>\n",
              "      <td>0</td>\n",
              "      <td>0</td>\n",
              "      <td>3</td>\n",
              "      <td>7</td>\n",
              "      <td>900</td>\n",
              "      <td>400</td>\n",
              "      <td>1993</td>\n",
              "      <td>0</td>\n",
              "      <td>47.5374</td>\n",
              "      <td>-122.270</td>\n",
              "    </tr>\n",
              "  </tbody>\n",
              "</table>\n",
              "</div>"
            ],
            "text/plain": [
              "   Спальни  Ванные  Жилая площадь  ...  Год реновации   Широта  Долгота\n",
              "0        3    1.00           1300  ...           2007  47.3427 -122.087\n",
              "1        4    2.75           3280  ...              0  47.7042 -122.107\n",
              "2        1    1.00           1220  ...              0  47.4047 -122.331\n",
              "3        3    2.50           2880  ...              0  47.6281 -122.216\n",
              "4        3    2.00           1300  ...              0  47.5374 -122.270\n",
              "\n",
              "[5 rows x 15 columns]"
            ]
          },
          "metadata": {
            "tags": []
          },
          "execution_count": 90
        }
      ]
    },
    {
      "cell_type": "code",
      "metadata": {
        "id": "ig4hw7enLqca",
        "colab": {
          "base_uri": "https://localhost:8080/"
        },
        "outputId": "357e5b3a-286e-4435-b937-33345bdfddd4"
      },
      "source": [
        "test_points.shape"
      ],
      "execution_count": null,
      "outputs": [
        {
          "output_type": "execute_result",
          "data": {
            "text/plain": [
              "(6484, 15)"
            ]
          },
          "metadata": {
            "tags": []
          },
          "execution_count": 91
        }
      ]
    },
    {
      "cell_type": "markdown",
      "metadata": {
        "id": "xvDMV5yoLqce"
      },
      "source": [
        "Видно, что количество столбцов уменьшилось на один. Данные в 5 первых строках такие же, как были ранее."
      ]
    },
    {
      "cell_type": "code",
      "metadata": {
        "id": "TB4gnK0Dz2Zr",
        "colab": {
          "base_uri": "https://localhost:8080/",
          "height": 197
        },
        "outputId": "67e127bb-4036-4758-8dff-b8483b4127bf"
      },
      "source": [
        "test_points_2.head()"
      ],
      "execution_count": null,
      "outputs": [
        {
          "output_type": "execute_result",
          "data": {
            "text/html": [
              "<div>\n",
              "<style scoped>\n",
              "    .dataframe tbody tr th:only-of-type {\n",
              "        vertical-align: middle;\n",
              "    }\n",
              "\n",
              "    .dataframe tbody tr th {\n",
              "        vertical-align: top;\n",
              "    }\n",
              "\n",
              "    .dataframe thead th {\n",
              "        text-align: right;\n",
              "    }\n",
              "</style>\n",
              "<table border=\"1\" class=\"dataframe\">\n",
              "  <thead>\n",
              "    <tr style=\"text-align: right;\">\n",
              "      <th></th>\n",
              "      <th>Ванные</th>\n",
              "      <th>Жилая площадь</th>\n",
              "      <th>Общая площадь</th>\n",
              "      <th>Вид на воду</th>\n",
              "      <th>Просмотрены ранее</th>\n",
              "      <th>Оценка риелтора</th>\n",
              "      <th>Площадь без подвала</th>\n",
              "      <th>Год постройки</th>\n",
              "      <th>Широта</th>\n",
              "      <th>Долгота</th>\n",
              "    </tr>\n",
              "  </thead>\n",
              "  <tbody>\n",
              "    <tr>\n",
              "      <th>0</th>\n",
              "      <td>1.00</td>\n",
              "      <td>1300</td>\n",
              "      <td>10139</td>\n",
              "      <td>0</td>\n",
              "      <td>0</td>\n",
              "      <td>7</td>\n",
              "      <td>1300</td>\n",
              "      <td>1962</td>\n",
              "      <td>47.3427</td>\n",
              "      <td>-122.087</td>\n",
              "    </tr>\n",
              "    <tr>\n",
              "      <th>1</th>\n",
              "      <td>2.75</td>\n",
              "      <td>3280</td>\n",
              "      <td>6845</td>\n",
              "      <td>0</td>\n",
              "      <td>0</td>\n",
              "      <td>10</td>\n",
              "      <td>3280</td>\n",
              "      <td>2003</td>\n",
              "      <td>47.7042</td>\n",
              "      <td>-122.107</td>\n",
              "    </tr>\n",
              "    <tr>\n",
              "      <th>2</th>\n",
              "      <td>1.00</td>\n",
              "      <td>1220</td>\n",
              "      <td>12426</td>\n",
              "      <td>0</td>\n",
              "      <td>4</td>\n",
              "      <td>6</td>\n",
              "      <td>1220</td>\n",
              "      <td>1946</td>\n",
              "      <td>47.4047</td>\n",
              "      <td>-122.331</td>\n",
              "    </tr>\n",
              "    <tr>\n",
              "      <th>3</th>\n",
              "      <td>2.50</td>\n",
              "      <td>2880</td>\n",
              "      <td>13500</td>\n",
              "      <td>0</td>\n",
              "      <td>4</td>\n",
              "      <td>8</td>\n",
              "      <td>1520</td>\n",
              "      <td>1950</td>\n",
              "      <td>47.6281</td>\n",
              "      <td>-122.216</td>\n",
              "    </tr>\n",
              "    <tr>\n",
              "      <th>4</th>\n",
              "      <td>2.00</td>\n",
              "      <td>1300</td>\n",
              "      <td>3731</td>\n",
              "      <td>0</td>\n",
              "      <td>0</td>\n",
              "      <td>7</td>\n",
              "      <td>900</td>\n",
              "      <td>1993</td>\n",
              "      <td>47.5374</td>\n",
              "      <td>-122.270</td>\n",
              "    </tr>\n",
              "  </tbody>\n",
              "</table>\n",
              "</div>"
            ],
            "text/plain": [
              "   Ванные  Жилая площадь  Общая площадь  ...  Год постройки   Широта  Долгота\n",
              "0    1.00           1300          10139  ...           1962  47.3427 -122.087\n",
              "1    2.75           3280           6845  ...           2003  47.7042 -122.107\n",
              "2    1.00           1220          12426  ...           1946  47.4047 -122.331\n",
              "3    2.50           2880          13500  ...           1950  47.6281 -122.216\n",
              "4    2.00           1300           3731  ...           1993  47.5374 -122.270\n",
              "\n",
              "[5 rows x 10 columns]"
            ]
          },
          "metadata": {
            "tags": []
          },
          "execution_count": 92
        }
      ]
    },
    {
      "cell_type": "code",
      "metadata": {
        "id": "Q6qDrPLsz8Rx",
        "colab": {
          "base_uri": "https://localhost:8080/"
        },
        "outputId": "7cae32bd-458b-4487-a8d1-918b60bd10a1"
      },
      "source": [
        "test_points_2.shape"
      ],
      "execution_count": null,
      "outputs": [
        {
          "output_type": "execute_result",
          "data": {
            "text/plain": [
              "(6484, 10)"
            ]
          },
          "metadata": {
            "tags": []
          },
          "execution_count": 93
        }
      ]
    },
    {
      "cell_type": "markdown",
      "metadata": {
        "id": "2QtGmwZNz_UI"
      },
      "source": [
        "Видно, что количество столбцов уменьшилось на один. Данные в 5 первых строках такие же, как были ранее."
      ]
    },
    {
      "cell_type": "markdown",
      "metadata": {
        "id": "5QFgDcQXLqcf"
      },
      "source": [
        "# 5. Провалидировать модель на тестовой выборке"
      ]
    },
    {
      "cell_type": "markdown",
      "metadata": {
        "id": "LL7Pb7IlLqcg"
      },
      "source": [
        "**Шаг 5.1. Сравнение моделей.**\n",
        "\n",
        "Теперь мы готовы сравнить качество двух моделей! 😎"
      ]
    },
    {
      "cell_type": "markdown",
      "metadata": {
        "id": "NDTfUzZdLqch"
      },
      "source": [
        "*1. Какая модель лучше?*\n",
        "\n",
        "Получим прогнозы целевой переменной на тестовых данных для модели линейной регрессии и модели случайного леса. \n",
        "\n",
        "Для этого вызовем у каждой модели метод **predict()**, в качестве аргумента передадим *test_points*."
      ]
    },
    {
      "cell_type": "code",
      "metadata": {
        "id": "DK3TytoFLqch"
      },
      "source": [
        "test_predictions_linear = linear_regression_model.predict(test_points)"
      ],
      "execution_count": null,
      "outputs": []
    },
    {
      "cell_type": "code",
      "metadata": {
        "id": "woRlbZ0hLqck"
      },
      "source": [
        "test_predictions_random_forest = random_forest_model.predict(test_points)"
      ],
      "execution_count": null,
      "outputs": []
    },
    {
      "cell_type": "code",
      "metadata": {
        "id": "AMR1cV_V0HOV"
      },
      "source": [
        "test_predictions_linear_2 = linear_regression_model_2.predict(test_points_2)"
      ],
      "execution_count": null,
      "outputs": []
    },
    {
      "cell_type": "code",
      "metadata": {
        "id": "8LDC2BFr0M_v"
      },
      "source": [
        "test_predictions_random_forest_2 = random_forest_model_2.predict(test_points_2)"
      ],
      "execution_count": null,
      "outputs": []
    },
    {
      "cell_type": "markdown",
      "metadata": {
        "id": "kxRo4sq1Lqcm"
      },
      "source": [
        "Качество регрессионных моделей оценим двумя способами: \n",
        "1. Сравним визуально прогнозы с настоящими ценами (тестовые с предсказанием)\n",
        "2. Сравним метрики качества"
      ]
    },
    {
      "cell_type": "markdown",
      "metadata": {
        "id": "3EqEpVOALqcn"
      },
      "source": [
        "Визуализируем прогноз линейной модели и настоящие значения из тестовой выборки.\n",
        "Можно не обращать особого внимания на то, что за код написан."
      ]
    },
    {
      "cell_type": "code",
      "metadata": {
        "id": "fDTQwaoCLqco"
      },
      "source": [
        "%matplotlib inline "
      ],
      "execution_count": null,
      "outputs": []
    },
    {
      "cell_type": "code",
      "metadata": {
        "id": "VBEX2xoYLqcp",
        "colab": {
          "base_uri": "https://localhost:8080/",
          "height": 462
        },
        "outputId": "542f6f1d-b3c0-403c-d243-1c9ac3c9f05d"
      },
      "source": [
        "plt.figure(figsize=(7, 7))\n",
        "plt.scatter(test_values, test_predictions_linear) # рисуем точки, соответствущие парам настоящее значение - прогноз\n",
        "plt.plot([0, 6 * 10**6], [0, 6 * 10**6]) # рисуем прямую, на которой предсказания и настоящие значения совпадают\n",
        "plt.xlabel('Настоящая цена', fontsize=20)\n",
        "plt.ylabel('Предсказанная цена', fontsize=20);"
      ],
      "execution_count": null,
      "outputs": [
        {
          "output_type": "display_data",
          "data": {
            "image/png": "[encoded data removed]",
            "text/plain": [
              "<Figure size 504x504 with 1 Axes>"
            ]
          },
          "metadata": {
            "tags": [],
            "needs_background": "light"
          }
        }
      ]
    },
    {
      "cell_type": "markdown",
      "metadata": {
        "id": "F3uCyXW_0nnV"
      },
      "source": [
        "Визуализируем прогноз линейной модели и настоящие значения из тестовой выборки для модели **без минимальных по значимости признаков**."
      ]
    },
    {
      "cell_type": "code",
      "metadata": {
        "id": "ZSPygku_0szU",
        "colab": {
          "base_uri": "https://localhost:8080/",
          "height": 462
        },
        "outputId": "0303c64d-3a70-44cc-83ae-9aaf3dd97d67"
      },
      "source": [
        "plt.figure(figsize=(7, 7))\n",
        "plt.scatter(test_values_2, test_predictions_linear_2) # рисуем точки, соответствущие парам настоящее значение - прогноз\n",
        "plt.plot([0, 6 * 10**6], [0, 6 * 10**6]) # рисуем прямую, на которой предсказания и настоящие значения совпадают\n",
        "plt.xlabel('Настоящая цена', fontsize=20)\n",
        "plt.ylabel('Предсказанная цена', fontsize=20);"
      ],
      "execution_count": null,
      "outputs": [
        {
          "output_type": "display_data",
          "data": {
            "image/png": "[encoded data removed]",
            "text/plain": [
              "<Figure size 504x504 with 1 Axes>"
            ]
          },
          "metadata": {
            "tags": [],
            "needs_background": "light"
          }
        }
      ]
    },
    {
      "cell_type": "markdown",
      "metadata": {
        "id": "POvZWOBy1DeO"
      },
      "source": [
        "Визуализируем прогноз модели случайного леса и настоящие значения из тестовой выборки."
      ]
    },
    {
      "cell_type": "code",
      "metadata": {
        "id": "nGOb00a-Lqcr",
        "colab": {
          "base_uri": "https://localhost:8080/",
          "height": 462
        },
        "outputId": "ab942bd2-fb35-4e0d-f0d0-6eb18ee4c382"
      },
      "source": [
        "plt.figure(figsize=(7, 7))\n",
        "plt.scatter(test_values, test_predictions_random_forest)\n",
        "plt.plot([0, 6 * 10**6], [0, 6 * 10**6])\n",
        "plt.xlabel('Настоящая цена', fontsize=20)\n",
        "plt.ylabel('Предсказанная цена', fontsize=20);"
      ],
      "execution_count": null,
      "outputs": [
        {
          "output_type": "display_data",
          "data": {
            "image/png": "[encoded data removed]",
            "text/plain": [
              "<Figure size 504x504 with 1 Axes>"
            ]
          },
          "metadata": {
            "tags": [],
            "needs_background": "light"
          }
        }
      ]
    },
    {
      "cell_type": "markdown",
      "metadata": {
        "id": "-LARkMeH1M3R"
      },
      "source": [
        "Визуализируем прогноз модели случайного леса и настоящие значения из тестовой выборки **без минимальных по значимости признаков.**"
      ]
    },
    {
      "cell_type": "code",
      "metadata": {
        "id": "mSaY4c001PFG",
        "colab": {
          "base_uri": "https://localhost:8080/",
          "height": 462
        },
        "outputId": "30caaa0e-5b7e-4793-d728-1713057d77b5"
      },
      "source": [
        "plt.figure(figsize=(7, 7))\n",
        "plt.scatter(test_values_2, test_predictions_random_forest_2)\n",
        "plt.plot([0, 6 * 10**6], [0, 6 * 10**6])\n",
        "plt.xlabel('Настоящая цена', fontsize=20)\n",
        "plt.ylabel('Предсказанная цена', fontsize=20);"
      ],
      "execution_count": null,
      "outputs": [
        {
          "output_type": "display_data",
          "data": {
            "image/png": "[encoded data removed]",
            "text/plain": [
              "<Figure size 504x504 with 1 Axes>"
            ]
          },
          "metadata": {
            "tags": [],
            "needs_background": "light"
          }
        }
      ]
    },
    {
      "cell_type": "markdown",
      "metadata": {
        "id": "YqBK60MVLqct"
      },
      "source": [
        "Кажется, что лучше сработала модель случайного леса, так как точки на вторых изображениях расположены вдоль диагонали. На первых изображениях видно, что для высоких настоящих цен модель линейной регрессии дает существенно заниженный результат. \n",
        "\n",
        "Проверим, так ли это с помощью **метрик качества регрессионной модели**"
      ]
    },
    {
      "cell_type": "markdown",
      "metadata": {
        "id": "Swg445QcLqct"
      },
      "source": [
        "Для корректного подсчета метрик качества модели в python требуется загрузить их из библиотеки **sklearn**. \n",
        "\n",
        "Мы используем две метрики качества:\n",
        " * *mean_absolute_error* - средняя абсолютная ошибка $|y_i - \\hat{y}_i|$\n",
        " * *mean_squared_error* - средняя квадратичная ошибка $(y_i - \\hat{y}_i)^2$"
      ]
    },
    {
      "cell_type": "code",
      "metadata": {
        "id": "vAmGjpEzLqcu"
      },
      "source": [
        "from sklearn.metrics import mean_absolute_error, mean_squared_error"
      ],
      "execution_count": null,
      "outputs": []
    },
    {
      "cell_type": "markdown",
      "metadata": {
        "id": "gmkMZN2FLqcw"
      },
      "source": [
        "Подсчитаем ошибки для линейной модели.\n",
        "\n",
        "Для этого вызовем методы **mean_absolute_error()** и **mean_squared_error()**. На вход им передается столбец настоящих значений *test_values* и столбец значений, предсказанных моделью линейной регрессии *test_predictions_linear*."
      ]
    },
    {
      "cell_type": "code",
      "metadata": {
        "id": "k14DseleLqcw"
      },
      "source": [
        "mean_absolute_error_linear_model = mean_absolute_error(test_values, test_predictions_linear) \n",
        "mean_squared_error_linear_model = mean_squared_error(test_values, test_predictions_linear)"
      ],
      "execution_count": null,
      "outputs": []
    },
    {
      "cell_type": "code",
      "metadata": {
        "id": "GuDZZBuE1vzO"
      },
      "source": [
        "mean_absolute_error_linear_model_2 = mean_absolute_error(test_values_2, test_predictions_linear_2) \n",
        "mean_squared_error_linear_model_2 = mean_squared_error(test_values_2, test_predictions_linear_2)"
      ],
      "execution_count": null,
      "outputs": []
    },
    {
      "cell_type": "markdown",
      "metadata": {
        "id": "R84sQt9LLqc0"
      },
      "source": [
        "Подсчитаем ошибки для модели случайного леса.\n",
        "\n",
        "Для этого вызовем методы **mean_absolute_error()** и **mean_squared_error()**. На вход им передается столбец настоящих значений *test_values* и столбец значений, предсказанных моделью линейной регрессии *test_predictions_random_forest*."
      ]
    },
    {
      "cell_type": "code",
      "metadata": {
        "id": "Tjs8y9jmLqc0"
      },
      "source": [
        "mean_absolute_error_random_forest_model = mean_absolute_error(test_values, test_predictions_random_forest)\n",
        "mean_squared_error_random_forest_model = mean_squared_error(test_values, test_predictions_random_forest)"
      ],
      "execution_count": null,
      "outputs": []
    },
    {
      "cell_type": "code",
      "metadata": {
        "id": "MeFI6oiU13xu"
      },
      "source": [
        "mean_absolute_error_random_forest_model_2 = mean_absolute_error(test_values_2, test_predictions_random_forest_2)\n",
        "mean_squared_error_random_forest_model_2 = mean_squared_error(test_values_2, test_predictions_random_forest_2)"
      ],
      "execution_count": null,
      "outputs": []
    },
    {
      "cell_type": "markdown",
      "metadata": {
        "id": "yvsElUo7Lqc2"
      },
      "source": [
        "Теперь напечатаем полученные ошибки. Обычно смотрят на корень из среднеквадратичной ошибки, RMSE. Чтобы извлечь корень нам понадобится библиотека **Numpy**. С помощью неё можно быстро производить вычисления сразу над массивами чисел."
      ]
    },
    {
      "cell_type": "code",
      "metadata": {
        "id": "35GjVt2mLqc2",
        "colab": {
          "base_uri": "https://localhost:8080/"
        },
        "outputId": "eb8f87a9-4eec-44a1-898c-ef59f47a2cf0"
      },
      "source": [
        "import numpy as np\n",
        "\n",
        "print(\"MAE: {0:7.2f}, RMSE: {1:7.2f} для модели линейной регрессии\".format(\n",
        "        mean_absolute_error_linear_model, \n",
        "        np.sqrt(mean_squared_error_linear_model)))\n",
        "\n",
        "print(\"MAE: {0:7.2f}, RMSE: {1:7.2f} для модели случайного леса\".format(\n",
        "       mean_absolute_error_random_forest_model, \n",
        "       mean_squared_error_random_forest_model**(1/2)))"
      ],
      "execution_count": null,
      "outputs": [
        {
          "output_type": "stream",
          "text": [
            "MAE: 126852.51, RMSE: 201883.24 для модели линейной регрессии\n",
            "MAE: 70829.62, RMSE: 136619.22 для модели случайного леса\n"
          ],
          "name": "stdout"
        }
      ]
    },
    {
      "cell_type": "code",
      "metadata": {
        "id": "rllMRYYg1_0L",
        "colab": {
          "base_uri": "https://localhost:8080/"
        },
        "outputId": "7675b7c6-25e5-42c3-e44d-f7431f0c1a52"
      },
      "source": [
        "import numpy as np\n",
        "\n",
        "print(\"MAE: {0:7.2f}, RMSE: {1:7.2f} для модели линейной регрессии\".format(\n",
        "        mean_absolute_error_linear_model_2, \n",
        "        np.sqrt(mean_squared_error_linear_model_2)))\n",
        "\n",
        "print(\"MAE: {0:7.2f}, RMSE: {1:7.2f} для модели случайного леса\".format(\n",
        "       mean_absolute_error_random_forest_model_2, \n",
        "       mean_squared_error_random_forest_model_2**(1/2)))"
      ],
      "execution_count": null,
      "outputs": [
        {
          "output_type": "stream",
          "text": [
            "MAE: 128146.14, RMSE: 203678.30 для модели линейной регрессии\n",
            "MAE: 70996.28, RMSE: 135095.34 для модели случайного леса\n"
          ],
          "name": "stdout"
        }
      ]
    },
    {
      "cell_type": "markdown",
      "metadata": {
        "id": "eJvZJgnHLqc4"
      },
      "source": [
        "Модель случайного леса работает лучше и визуально, и потому, что абсолютная и средне квадратичная ошибка меньше для линейной регресии."
      ]
    },
    {
      "cell_type": "markdown",
      "metadata": {
        "id": "3WREujt8Lqc5"
      },
      "source": [
        "# Обзор результатов\n",
        "\n",
        "В этом ноутбуке мы научились \n",
        "0. Загружать библиотеки, необходимые для работы.\n",
        "1. Загрузить данные для обучения, представленные в формате excel таблицы.\n",
        "2. Проводить предрватилельную обработку данных перед построением и использованием модели машинного обучения: смотреть на части таблицы, понимать, какой размер у выборки данных, выделять отдельные столбцы таблицы в новые таблицы.\n",
        "3. Обучать модель линейной регрессии и решающего леса на обучающей выборке.\n",
        "4. Валидировать модель на тестовой выборке с помощью кросс-плота для модели и реальных значений, стандартных ошибок модели."
      ]
    },
    {
      "cell_type": "markdown",
      "metadata": {
        "id": "RQS6gBO1Lqc5"
      },
      "source": [
        "## 6. Бонус: Выявление важных признаков"
      ]
    },
    {
      "cell_type": "markdown",
      "metadata": {
        "id": "NCvDudjKLqc6"
      },
      "source": [
        "Признаки, используемые для обучения модели, оказывают большое влияние на качество результатов. Неинформативные или слабо информативные признаки могут снизить качество модели, использование избыточных признаков в модели замедляет скорость ее работы.\n",
        "\n",
        "Для того, чтобы отобрать признаки нам следует ответить на следующие вопросы: \n",
        "    1. Все ли признаки в наших данных заполненны разумными значениями?\n",
        "    2. Какие признаки будут больше всего влиять на значение целевой переменной?\n",
        "    3*. Какие дополнительные признаки имело бы смысл добавить в список входных?"
      ]
    },
    {
      "cell_type": "markdown",
      "metadata": {
        "id": "QlM7skwULqc7"
      },
      "source": [
        "**6.1. Разглядывание значений признаков**\n",
        "\n",
        "Для того чтобы ответить на первый вопрос, нам необходимо получить некоторую нашу экспертную оценку данных. В наших данных нет пропусков, однако иногда пропуски предварительно заполняют другими значениями (0, 999 и другие) и их можно увидеть, только внимательно посмотрев на данные. \n",
        "\n",
        "Для того, чтобы это сделать, нужно вызвать у переменной *training_points* метод **head(10)**, который выводит первые 10 строк таблицы."
      ]
    },
    {
      "cell_type": "code",
      "metadata": {
        "id": "RF5s50mpLqc9",
        "colab": {
          "base_uri": "https://localhost:8080/",
          "height": 364
        },
        "outputId": "7a09996e-262a-4c86-cba0-208998f71ebf"
      },
      "source": [
        "training_points.head(10)"
      ],
      "execution_count": null,
      "outputs": [
        {
          "output_type": "execute_result",
          "data": {
            "text/html": [
              "<div>\n",
              "<style scoped>\n",
              "    .dataframe tbody tr th:only-of-type {\n",
              "        vertical-align: middle;\n",
              "    }\n",
              "\n",
              "    .dataframe tbody tr th {\n",
              "        vertical-align: top;\n",
              "    }\n",
              "\n",
              "    .dataframe thead th {\n",
              "        text-align: right;\n",
              "    }\n",
              "</style>\n",
              "<table border=\"1\" class=\"dataframe\">\n",
              "  <thead>\n",
              "    <tr style=\"text-align: right;\">\n",
              "      <th></th>\n",
              "      <th>Спальни</th>\n",
              "      <th>Ванные</th>\n",
              "      <th>Жилая площадь</th>\n",
              "      <th>Общая площадь</th>\n",
              "      <th>Количество этажей</th>\n",
              "      <th>Вид на воду</th>\n",
              "      <th>Просмотрены ранее</th>\n",
              "      <th>Состояние</th>\n",
              "      <th>Оценка риелтора</th>\n",
              "      <th>Площадь без подвала</th>\n",
              "      <th>Площадь подвала</th>\n",
              "      <th>Год постройки</th>\n",
              "      <th>Год реновации</th>\n",
              "      <th>Широта</th>\n",
              "      <th>Долгота</th>\n",
              "    </tr>\n",
              "  </thead>\n",
              "  <tbody>\n",
              "    <tr>\n",
              "      <th>0</th>\n",
              "      <td>5</td>\n",
              "      <td>3.50</td>\n",
              "      <td>3490</td>\n",
              "      <td>21780</td>\n",
              "      <td>2.0</td>\n",
              "      <td>0</td>\n",
              "      <td>0</td>\n",
              "      <td>3</td>\n",
              "      <td>8</td>\n",
              "      <td>3490</td>\n",
              "      <td>0</td>\n",
              "      <td>1996</td>\n",
              "      <td>0</td>\n",
              "      <td>47.6707</td>\n",
              "      <td>-122.144</td>\n",
              "    </tr>\n",
              "    <tr>\n",
              "      <th>1</th>\n",
              "      <td>4</td>\n",
              "      <td>1.75</td>\n",
              "      <td>2360</td>\n",
              "      <td>7620</td>\n",
              "      <td>1.0</td>\n",
              "      <td>0</td>\n",
              "      <td>0</td>\n",
              "      <td>4</td>\n",
              "      <td>7</td>\n",
              "      <td>1180</td>\n",
              "      <td>1180</td>\n",
              "      <td>1955</td>\n",
              "      <td>0</td>\n",
              "      <td>47.5278</td>\n",
              "      <td>-122.345</td>\n",
              "    </tr>\n",
              "    <tr>\n",
              "      <th>2</th>\n",
              "      <td>6</td>\n",
              "      <td>2.75</td>\n",
              "      <td>2040</td>\n",
              "      <td>8560</td>\n",
              "      <td>1.0</td>\n",
              "      <td>0</td>\n",
              "      <td>2</td>\n",
              "      <td>4</td>\n",
              "      <td>7</td>\n",
              "      <td>1100</td>\n",
              "      <td>940</td>\n",
              "      <td>1961</td>\n",
              "      <td>0</td>\n",
              "      <td>47.6160</td>\n",
              "      <td>-122.115</td>\n",
              "    </tr>\n",
              "    <tr>\n",
              "      <th>3</th>\n",
              "      <td>3</td>\n",
              "      <td>1.75</td>\n",
              "      <td>1940</td>\n",
              "      <td>8376</td>\n",
              "      <td>1.0</td>\n",
              "      <td>0</td>\n",
              "      <td>0</td>\n",
              "      <td>4</td>\n",
              "      <td>8</td>\n",
              "      <td>1290</td>\n",
              "      <td>650</td>\n",
              "      <td>1963</td>\n",
              "      <td>0</td>\n",
              "      <td>47.5586</td>\n",
              "      <td>-122.173</td>\n",
              "    </tr>\n",
              "    <tr>\n",
              "      <th>4</th>\n",
              "      <td>3</td>\n",
              "      <td>2.75</td>\n",
              "      <td>3450</td>\n",
              "      <td>5350</td>\n",
              "      <td>1.5</td>\n",
              "      <td>0</td>\n",
              "      <td>3</td>\n",
              "      <td>4</td>\n",
              "      <td>9</td>\n",
              "      <td>2590</td>\n",
              "      <td>860</td>\n",
              "      <td>1925</td>\n",
              "      <td>0</td>\n",
              "      <td>47.6389</td>\n",
              "      <td>-122.407</td>\n",
              "    </tr>\n",
              "    <tr>\n",
              "      <th>5</th>\n",
              "      <td>3</td>\n",
              "      <td>2.25</td>\n",
              "      <td>2300</td>\n",
              "      <td>9914</td>\n",
              "      <td>2.0</td>\n",
              "      <td>0</td>\n",
              "      <td>0</td>\n",
              "      <td>4</td>\n",
              "      <td>8</td>\n",
              "      <td>2300</td>\n",
              "      <td>0</td>\n",
              "      <td>1980</td>\n",
              "      <td>0</td>\n",
              "      <td>47.5677</td>\n",
              "      <td>-122.086</td>\n",
              "    </tr>\n",
              "    <tr>\n",
              "      <th>6</th>\n",
              "      <td>3</td>\n",
              "      <td>2.50</td>\n",
              "      <td>2770</td>\n",
              "      <td>8820</td>\n",
              "      <td>1.0</td>\n",
              "      <td>0</td>\n",
              "      <td>0</td>\n",
              "      <td>3</td>\n",
              "      <td>7</td>\n",
              "      <td>1900</td>\n",
              "      <td>870</td>\n",
              "      <td>1980</td>\n",
              "      <td>2004</td>\n",
              "      <td>47.3685</td>\n",
              "      <td>-122.048</td>\n",
              "    </tr>\n",
              "    <tr>\n",
              "      <th>7</th>\n",
              "      <td>2</td>\n",
              "      <td>1.75</td>\n",
              "      <td>1650</td>\n",
              "      <td>7500</td>\n",
              "      <td>1.0</td>\n",
              "      <td>0</td>\n",
              "      <td>0</td>\n",
              "      <td>4</td>\n",
              "      <td>7</td>\n",
              "      <td>1000</td>\n",
              "      <td>650</td>\n",
              "      <td>1959</td>\n",
              "      <td>0</td>\n",
              "      <td>47.6871</td>\n",
              "      <td>-122.207</td>\n",
              "    </tr>\n",
              "    <tr>\n",
              "      <th>8</th>\n",
              "      <td>1</td>\n",
              "      <td>1.00</td>\n",
              "      <td>580</td>\n",
              "      <td>1799</td>\n",
              "      <td>1.0</td>\n",
              "      <td>0</td>\n",
              "      <td>0</td>\n",
              "      <td>3</td>\n",
              "      <td>7</td>\n",
              "      <td>580</td>\n",
              "      <td>0</td>\n",
              "      <td>1908</td>\n",
              "      <td>2005</td>\n",
              "      <td>47.6829</td>\n",
              "      <td>-122.375</td>\n",
              "    </tr>\n",
              "    <tr>\n",
              "      <th>9</th>\n",
              "      <td>2</td>\n",
              "      <td>1.00</td>\n",
              "      <td>900</td>\n",
              "      <td>3400</td>\n",
              "      <td>1.0</td>\n",
              "      <td>0</td>\n",
              "      <td>0</td>\n",
              "      <td>5</td>\n",
              "      <td>6</td>\n",
              "      <td>900</td>\n",
              "      <td>0</td>\n",
              "      <td>1905</td>\n",
              "      <td>0</td>\n",
              "      <td>47.5269</td>\n",
              "      <td>-122.314</td>\n",
              "    </tr>\n",
              "  </tbody>\n",
              "</table>\n",
              "</div>"
            ],
            "text/plain": [
              "   Спальни  Ванные  Жилая площадь  ...  Год реновации   Широта  Долгота\n",
              "0        5    3.50           3490  ...              0  47.6707 -122.144\n",
              "1        4    1.75           2360  ...              0  47.5278 -122.345\n",
              "2        6    2.75           2040  ...              0  47.6160 -122.115\n",
              "3        3    1.75           1940  ...              0  47.5586 -122.173\n",
              "4        3    2.75           3450  ...              0  47.6389 -122.407\n",
              "5        3    2.25           2300  ...              0  47.5677 -122.086\n",
              "6        3    2.50           2770  ...           2004  47.3685 -122.048\n",
              "7        2    1.75           1650  ...              0  47.6871 -122.207\n",
              "8        1    1.00            580  ...           2005  47.6829 -122.375\n",
              "9        2    1.00            900  ...              0  47.5269 -122.314\n",
              "\n",
              "[10 rows x 15 columns]"
            ]
          },
          "metadata": {
            "tags": []
          },
          "execution_count": 128
        }
      ]
    },
    {
      "cell_type": "markdown",
      "metadata": {
        "id": "g-MGwOMxLqdG"
      },
      "source": [
        "Рассмотрим столбец \"Год реновации\". Он содержит много нулей и мало реальных данных о годах, что как раз свидетельствует о том, что в этих данных изначально были пропуски, а к нам они попали уже заполненные нулями. \n",
        "\n",
        "Мы можем посмотреть количество уникальных значений и сколько раз эти значения встречаются в этом столбце. Для этого вызываем метод **value_counts()** у нашего столбца *training_points['Год реновации']*"
      ]
    },
    {
      "cell_type": "code",
      "metadata": {
        "scrolled": true,
        "id": "vZhcfLFXLqdJ",
        "colab": {
          "base_uri": "https://localhost:8080/"
        },
        "outputId": "2a155589-b2ac-452c-b37e-9bdfe4943cd3"
      },
      "source": [
        "training_points['Год реновации'].value_counts()"
      ],
      "execution_count": null,
      "outputs": [
        {
          "output_type": "execute_result",
          "data": {
            "text/plain": [
              "0       14490\n",
              "2014       63\n",
              "2013       31\n",
              "2000       28\n",
              "2003       24\n",
              "        ...  \n",
              "1959        1\n",
              "1948        1\n",
              "1954        1\n",
              "1962        1\n",
              "1955        1\n",
              "Name: Год реновации, Length: 67, dtype: int64"
            ]
          },
          "metadata": {
            "tags": []
          },
          "execution_count": 129
        }
      ]
    },
    {
      "cell_type": "markdown",
      "metadata": {
        "id": "DnPPjFtGLqdL"
      },
      "source": [
        "Как видно, нулей существенно больше (14490), чем любых других значений (639), поэтому можем сделать вывод, что этот признак не информативен и может негативно повлиять на качество модели."
      ]
    },
    {
      "cell_type": "code",
      "metadata": {
        "id": "mqv7e9PkJbZR",
        "colab": {
          "base_uri": "https://localhost:8080/",
          "height": 347
        },
        "outputId": "a29c2105-2cd6-450e-a962-255584117b9f"
      },
      "source": [
        "training_points_2.head(10)"
      ],
      "execution_count": null,
      "outputs": [
        {
          "output_type": "execute_result",
          "data": {
            "text/html": [
              "<div>\n",
              "<style scoped>\n",
              "    .dataframe tbody tr th:only-of-type {\n",
              "        vertical-align: middle;\n",
              "    }\n",
              "\n",
              "    .dataframe tbody tr th {\n",
              "        vertical-align: top;\n",
              "    }\n",
              "\n",
              "    .dataframe thead th {\n",
              "        text-align: right;\n",
              "    }\n",
              "</style>\n",
              "<table border=\"1\" class=\"dataframe\">\n",
              "  <thead>\n",
              "    <tr style=\"text-align: right;\">\n",
              "      <th></th>\n",
              "      <th>Ванные</th>\n",
              "      <th>Жилая площадь</th>\n",
              "      <th>Общая площадь</th>\n",
              "      <th>Вид на воду</th>\n",
              "      <th>Просмотрены ранее</th>\n",
              "      <th>Оценка риелтора</th>\n",
              "      <th>Площадь без подвала</th>\n",
              "      <th>Год постройки</th>\n",
              "      <th>Широта</th>\n",
              "      <th>Долгота</th>\n",
              "    </tr>\n",
              "  </thead>\n",
              "  <tbody>\n",
              "    <tr>\n",
              "      <th>0</th>\n",
              "      <td>3.50</td>\n",
              "      <td>3490</td>\n",
              "      <td>21780</td>\n",
              "      <td>0</td>\n",
              "      <td>0</td>\n",
              "      <td>8</td>\n",
              "      <td>3490</td>\n",
              "      <td>1996</td>\n",
              "      <td>47.6707</td>\n",
              "      <td>-122.144</td>\n",
              "    </tr>\n",
              "    <tr>\n",
              "      <th>1</th>\n",
              "      <td>1.75</td>\n",
              "      <td>2360</td>\n",
              "      <td>7620</td>\n",
              "      <td>0</td>\n",
              "      <td>0</td>\n",
              "      <td>7</td>\n",
              "      <td>1180</td>\n",
              "      <td>1955</td>\n",
              "      <td>47.5278</td>\n",
              "      <td>-122.345</td>\n",
              "    </tr>\n",
              "    <tr>\n",
              "      <th>2</th>\n",
              "      <td>2.75</td>\n",
              "      <td>2040</td>\n",
              "      <td>8560</td>\n",
              "      <td>0</td>\n",
              "      <td>2</td>\n",
              "      <td>7</td>\n",
              "      <td>1100</td>\n",
              "      <td>1961</td>\n",
              "      <td>47.6160</td>\n",
              "      <td>-122.115</td>\n",
              "    </tr>\n",
              "    <tr>\n",
              "      <th>3</th>\n",
              "      <td>1.75</td>\n",
              "      <td>1940</td>\n",
              "      <td>8376</td>\n",
              "      <td>0</td>\n",
              "      <td>0</td>\n",
              "      <td>8</td>\n",
              "      <td>1290</td>\n",
              "      <td>1963</td>\n",
              "      <td>47.5586</td>\n",
              "      <td>-122.173</td>\n",
              "    </tr>\n",
              "    <tr>\n",
              "      <th>4</th>\n",
              "      <td>2.75</td>\n",
              "      <td>3450</td>\n",
              "      <td>5350</td>\n",
              "      <td>0</td>\n",
              "      <td>3</td>\n",
              "      <td>9</td>\n",
              "      <td>2590</td>\n",
              "      <td>1925</td>\n",
              "      <td>47.6389</td>\n",
              "      <td>-122.407</td>\n",
              "    </tr>\n",
              "    <tr>\n",
              "      <th>5</th>\n",
              "      <td>2.25</td>\n",
              "      <td>2300</td>\n",
              "      <td>9914</td>\n",
              "      <td>0</td>\n",
              "      <td>0</td>\n",
              "      <td>8</td>\n",
              "      <td>2300</td>\n",
              "      <td>1980</td>\n",
              "      <td>47.5677</td>\n",
              "      <td>-122.086</td>\n",
              "    </tr>\n",
              "    <tr>\n",
              "      <th>6</th>\n",
              "      <td>2.50</td>\n",
              "      <td>2770</td>\n",
              "      <td>8820</td>\n",
              "      <td>0</td>\n",
              "      <td>0</td>\n",
              "      <td>7</td>\n",
              "      <td>1900</td>\n",
              "      <td>1980</td>\n",
              "      <td>47.3685</td>\n",
              "      <td>-122.048</td>\n",
              "    </tr>\n",
              "    <tr>\n",
              "      <th>7</th>\n",
              "      <td>1.75</td>\n",
              "      <td>1650</td>\n",
              "      <td>7500</td>\n",
              "      <td>0</td>\n",
              "      <td>0</td>\n",
              "      <td>7</td>\n",
              "      <td>1000</td>\n",
              "      <td>1959</td>\n",
              "      <td>47.6871</td>\n",
              "      <td>-122.207</td>\n",
              "    </tr>\n",
              "    <tr>\n",
              "      <th>8</th>\n",
              "      <td>1.00</td>\n",
              "      <td>580</td>\n",
              "      <td>1799</td>\n",
              "      <td>0</td>\n",
              "      <td>0</td>\n",
              "      <td>7</td>\n",
              "      <td>580</td>\n",
              "      <td>1908</td>\n",
              "      <td>47.6829</td>\n",
              "      <td>-122.375</td>\n",
              "    </tr>\n",
              "    <tr>\n",
              "      <th>9</th>\n",
              "      <td>1.00</td>\n",
              "      <td>900</td>\n",
              "      <td>3400</td>\n",
              "      <td>0</td>\n",
              "      <td>0</td>\n",
              "      <td>6</td>\n",
              "      <td>900</td>\n",
              "      <td>1905</td>\n",
              "      <td>47.5269</td>\n",
              "      <td>-122.314</td>\n",
              "    </tr>\n",
              "  </tbody>\n",
              "</table>\n",
              "</div>"
            ],
            "text/plain": [
              "   Ванные  Жилая площадь  Общая площадь  ...  Год постройки   Широта  Долгота\n",
              "0    3.50           3490          21780  ...           1996  47.6707 -122.144\n",
              "1    1.75           2360           7620  ...           1955  47.5278 -122.345\n",
              "2    2.75           2040           8560  ...           1961  47.6160 -122.115\n",
              "3    1.75           1940           8376  ...           1963  47.5586 -122.173\n",
              "4    2.75           3450           5350  ...           1925  47.6389 -122.407\n",
              "5    2.25           2300           9914  ...           1980  47.5677 -122.086\n",
              "6    2.50           2770           8820  ...           1980  47.3685 -122.048\n",
              "7    1.75           1650           7500  ...           1959  47.6871 -122.207\n",
              "8    1.00            580           1799  ...           1908  47.6829 -122.375\n",
              "9    1.00            900           3400  ...           1905  47.5269 -122.314\n",
              "\n",
              "[10 rows x 10 columns]"
            ]
          },
          "metadata": {
            "tags": []
          },
          "execution_count": 143
        }
      ]
    },
    {
      "cell_type": "markdown",
      "metadata": {
        "id": "7kYhqu9ELqdM"
      },
      "source": [
        "**6.2. Какие признаки самые важные**\n",
        "\n",
        "Ручной перебор признаков невозможен, если их тысячи, кроме того, часто даже эксперты не могут сказать, использование каких признаков в модели даст прирост качества.\n",
        "Кроме ручного перебора всех признаков и их визуального анализа, можно использовать оценку значимости признаков с помощью обученных моделей. "
      ]
    },
    {
      "cell_type": "code",
      "metadata": {
        "id": "TSzXSHgfLqdN",
        "colab": {
          "base_uri": "https://localhost:8080/"
        },
        "outputId": "12d92e91-8c48-4ada-8255-cfa552d81658"
      },
      "source": [
        "# на всякий случай переобучим модель, так как оценить значимость признаков можно только у уже обученной модели\n",
        "random_forest_model.fit(training_points, training_values)"
      ],
      "execution_count": null,
      "outputs": [
        {
          "output_type": "execute_result",
          "data": {
            "text/plain": [
              "RandomForestRegressor(bootstrap=True, ccp_alpha=0.0, criterion='mse',\n",
              "                      max_depth=None, max_features='auto', max_leaf_nodes=None,\n",
              "                      max_samples=None, min_impurity_decrease=0.0,\n",
              "                      min_impurity_split=None, min_samples_leaf=1,\n",
              "                      min_samples_split=2, min_weight_fraction_leaf=0.0,\n",
              "                      n_estimators=100, n_jobs=None, oob_score=False,\n",
              "                      random_state=None, verbose=0, warm_start=False)"
            ]
          },
          "metadata": {
            "tags": []
          },
          "execution_count": 144
        }
      ]
    },
    {
      "cell_type": "code",
      "metadata": {
        "id": "Q6qLQX9rKBtt",
        "colab": {
          "base_uri": "https://localhost:8080/"
        },
        "outputId": "ab18e0ba-6cdd-47a0-e4b1-4c6c94b333c8"
      },
      "source": [
        "# на всякий случай переобучим модель, так как оценить значимость признаков можно только у уже обученной модели\n",
        "random_forest_model_2.fit(training_points_2, training_values_2)"
      ],
      "execution_count": null,
      "outputs": [
        {
          "output_type": "execute_result",
          "data": {
            "text/plain": [
              "RandomForestRegressor(bootstrap=True, ccp_alpha=0.0, criterion='mse',\n",
              "                      max_depth=None, max_features='auto', max_leaf_nodes=None,\n",
              "                      max_samples=None, min_impurity_decrease=0.0,\n",
              "                      min_impurity_split=None, min_samples_leaf=1,\n",
              "                      min_samples_split=2, min_weight_fraction_leaf=0.0,\n",
              "                      n_estimators=100, n_jobs=None, oob_score=False,\n",
              "                      random_state=None, verbose=0, warm_start=False)"
            ]
          },
          "metadata": {
            "tags": []
          },
          "execution_count": 145
        }
      ]
    },
    {
      "cell_type": "markdown",
      "metadata": {
        "id": "cCJ4ohGjLqdO"
      },
      "source": [
        "Получить оценку важности признаков можно вызвав поле **feature\\_importances\\_** у модели *random\\_forest\\_model*. "
      ]
    },
    {
      "cell_type": "code",
      "metadata": {
        "id": "du0lnWJxLqdP",
        "colab": {
          "base_uri": "https://localhost:8080/"
        },
        "outputId": "42e1651c-26d3-4697-959e-59cc4be34e64"
      },
      "source": [
        "random_forest_model.feature_importances_"
      ],
      "execution_count": null,
      "outputs": [
        {
          "output_type": "execute_result",
          "data": {
            "text/plain": [
              "array([0.00396696, 0.00945666, 0.30996536, 0.02630498, 0.00253287,\n",
              "       0.02917612, 0.0153333 , 0.00401247, 0.28810779, 0.02592585,\n",
              "       0.00718243, 0.03185235, 0.00267548, 0.17292175, 0.07058564])"
            ]
          },
          "metadata": {
            "tags": []
          },
          "execution_count": 146
        }
      ]
    },
    {
      "cell_type": "markdown",
      "metadata": {
        "id": "fb-3CEuxLqdR"
      },
      "source": [
        "Набор цифр, которые мы получили выше, соответствует признакам, на которых мы обучали модель. Посмотреть эти признаки можно, вызвав у *training_points* метод **keys()**"
      ]
    },
    {
      "cell_type": "code",
      "metadata": {
        "id": "d-UqTcKcLqdR",
        "colab": {
          "base_uri": "https://localhost:8080/"
        },
        "outputId": "23737a93-a2e6-4073-b6c2-a0f6943434c0"
      },
      "source": [
        "training_points.keys()"
      ],
      "execution_count": null,
      "outputs": [
        {
          "output_type": "execute_result",
          "data": {
            "text/plain": [
              "Index(['Спальни', 'Ванные', 'Жилая площадь', 'Общая площадь',\n",
              "       'Количество этажей', 'Вид на воду', 'Просмотрены ранее', 'Состояние',\n",
              "       'Оценка риелтора', 'Площадь без подвала', 'Площадь подвала',\n",
              "       'Год постройки', 'Год реновации', 'Широта', 'Долгота'],\n",
              "      dtype='object')"
            ]
          },
          "metadata": {
            "tags": []
          },
          "execution_count": 132
        }
      ]
    },
    {
      "cell_type": "code",
      "metadata": {
        "id": "1HS1TjWfKGj3",
        "colab": {
          "base_uri": "https://localhost:8080/"
        },
        "outputId": "26e39713-3c7b-44cc-9ca9-1588c12696fd"
      },
      "source": [
        "random_forest_model_2.feature_importances_"
      ],
      "execution_count": null,
      "outputs": [
        {
          "output_type": "execute_result",
          "data": {
            "text/plain": [
              "array([0.01158624, 0.30801409, 0.02900708, 0.02937595, 0.0151817 ,\n",
              "       0.29204041, 0.03051814, 0.03476258, 0.17445619, 0.07505762])"
            ]
          },
          "metadata": {
            "tags": []
          },
          "execution_count": 147
        }
      ]
    },
    {
      "cell_type": "code",
      "metadata": {
        "id": "hJ-yujMEKNFS",
        "colab": {
          "base_uri": "https://localhost:8080/"
        },
        "outputId": "80bc8d50-7573-4a86-e43c-94eab172b95a"
      },
      "source": [
        "training_points_2.keys()"
      ],
      "execution_count": null,
      "outputs": [
        {
          "output_type": "execute_result",
          "data": {
            "text/plain": [
              "Index(['Ванные', 'Жилая площадь', 'Общая площадь', 'Вид на воду',\n",
              "       'Просмотрены ранее', 'Оценка риелтора', 'Площадь без подвала',\n",
              "       'Год постройки', 'Широта', 'Долгота'],\n",
              "      dtype='object')"
            ]
          },
          "metadata": {
            "tags": []
          },
          "execution_count": 148
        }
      ]
    },
    {
      "cell_type": "markdown",
      "metadata": {
        "id": "zyK1fI42LqdT"
      },
      "source": [
        "Представим полученные результаты в более удобном табличном виде. Создадим пустую таблицу *feature_importance* с двумя колонками \"Название признака\", \"Важность признака\". Для этого воспользуемся функцией **DataFrame()** из библиотеки pandas и передадим ей в качестве аргумента   \n",
        "*columns = [\"Название признака\", \"Важность признака\"]*"
      ]
    },
    {
      "cell_type": "code",
      "metadata": {
        "id": "H2a9uu6YLqdT"
      },
      "source": [
        "feature_importance = pd.DataFrame(columns = ['Название признака', 'Важность признака'])"
      ],
      "execution_count": null,
      "outputs": []
    },
    {
      "cell_type": "markdown",
      "metadata": {
        "id": "2L5zngrOLqdX"
      },
      "source": [
        "Заполним соответствующие колонки значениями, которые мы получили выше. "
      ]
    },
    {
      "cell_type": "code",
      "metadata": {
        "id": "iE6lttbfLqdY"
      },
      "source": [
        "feature_importance['Название признака'] = training_points.keys()\n",
        "feature_importance['Важность признака'] = random_forest_model.feature_importances_"
      ],
      "execution_count": null,
      "outputs": []
    },
    {
      "cell_type": "code",
      "metadata": {
        "id": "gb3TXJEbLqdZ",
        "colab": {
          "base_uri": "https://localhost:8080/",
          "height": 497
        },
        "outputId": "9e297eba-efe5-4e62-9802-4e9da70dc5af"
      },
      "source": [
        "# выведем полученную таблицу\n",
        "feature_importance"
      ],
      "execution_count": null,
      "outputs": [
        {
          "output_type": "execute_result",
          "data": {
            "text/html": [
              "<div>\n",
              "<style scoped>\n",
              "    .dataframe tbody tr th:only-of-type {\n",
              "        vertical-align: middle;\n",
              "    }\n",
              "\n",
              "    .dataframe tbody tr th {\n",
              "        vertical-align: top;\n",
              "    }\n",
              "\n",
              "    .dataframe thead th {\n",
              "        text-align: right;\n",
              "    }\n",
              "</style>\n",
              "<table border=\"1\" class=\"dataframe\">\n",
              "  <thead>\n",
              "    <tr style=\"text-align: right;\">\n",
              "      <th></th>\n",
              "      <th>Название признака</th>\n",
              "      <th>Важность признака</th>\n",
              "    </tr>\n",
              "  </thead>\n",
              "  <tbody>\n",
              "    <tr>\n",
              "      <th>0</th>\n",
              "      <td>Спальни</td>\n",
              "      <td>0.003907</td>\n",
              "    </tr>\n",
              "    <tr>\n",
              "      <th>1</th>\n",
              "      <td>Ванные</td>\n",
              "      <td>0.009947</td>\n",
              "    </tr>\n",
              "    <tr>\n",
              "      <th>2</th>\n",
              "      <td>Жилая площадь</td>\n",
              "      <td>0.293854</td>\n",
              "    </tr>\n",
              "    <tr>\n",
              "      <th>3</th>\n",
              "      <td>Общая площадь</td>\n",
              "      <td>0.025084</td>\n",
              "    </tr>\n",
              "    <tr>\n",
              "      <th>4</th>\n",
              "      <td>Количество этажей</td>\n",
              "      <td>0.002622</td>\n",
              "    </tr>\n",
              "    <tr>\n",
              "      <th>5</th>\n",
              "      <td>Вид на воду</td>\n",
              "      <td>0.028808</td>\n",
              "    </tr>\n",
              "    <tr>\n",
              "      <th>6</th>\n",
              "      <td>Просмотрены ранее</td>\n",
              "      <td>0.014407</td>\n",
              "    </tr>\n",
              "    <tr>\n",
              "      <th>7</th>\n",
              "      <td>Состояние</td>\n",
              "      <td>0.003984</td>\n",
              "    </tr>\n",
              "    <tr>\n",
              "      <th>8</th>\n",
              "      <td>Оценка риелтора</td>\n",
              "      <td>0.307224</td>\n",
              "    </tr>\n",
              "    <tr>\n",
              "      <th>9</th>\n",
              "      <td>Площадь без подвала</td>\n",
              "      <td>0.025571</td>\n",
              "    </tr>\n",
              "    <tr>\n",
              "      <th>10</th>\n",
              "      <td>Площадь подвала</td>\n",
              "      <td>0.007338</td>\n",
              "    </tr>\n",
              "    <tr>\n",
              "      <th>11</th>\n",
              "      <td>Год постройки</td>\n",
              "      <td>0.035215</td>\n",
              "    </tr>\n",
              "    <tr>\n",
              "      <th>12</th>\n",
              "      <td>Год реновации</td>\n",
              "      <td>0.002676</td>\n",
              "    </tr>\n",
              "    <tr>\n",
              "      <th>13</th>\n",
              "      <td>Широта</td>\n",
              "      <td>0.170109</td>\n",
              "    </tr>\n",
              "    <tr>\n",
              "      <th>14</th>\n",
              "      <td>Долгота</td>\n",
              "      <td>0.069254</td>\n",
              "    </tr>\n",
              "  </tbody>\n",
              "</table>\n",
              "</div>"
            ],
            "text/plain": [
              "      Название признака  Важность признака\n",
              "0               Спальни           0.003907\n",
              "1                Ванные           0.009947\n",
              "2         Жилая площадь           0.293854\n",
              "3         Общая площадь           0.025084\n",
              "4     Количество этажей           0.002622\n",
              "5           Вид на воду           0.028808\n",
              "6     Просмотрены ранее           0.014407\n",
              "7             Состояние           0.003984\n",
              "8       Оценка риелтора           0.307224\n",
              "9   Площадь без подвала           0.025571\n",
              "10      Площадь подвала           0.007338\n",
              "11        Год постройки           0.035215\n",
              "12        Год реновации           0.002676\n",
              "13               Широта           0.170109\n",
              "14              Долгота           0.069254"
            ]
          },
          "metadata": {
            "tags": []
          },
          "execution_count": 135
        }
      ]
    },
    {
      "cell_type": "markdown",
      "metadata": {
        "id": "HCqhWnNtLqdb"
      },
      "source": [
        "Мы можем отсортировать значения по важности, вызвав у *feature_importance* метод **sort_values()**.\n",
        "\n",
        "Обратите внимание, что в данном случае мы передаем два аргумента:\n",
        "\n",
        "1. by='Важность признака' - название столбца, по которому мы сортируем\n",
        "2. ascending=False - означает, что мы сортируем по убиыванию, а в случае ascending=True сортировка будет по возростанию"
      ]
    },
    {
      "cell_type": "code",
      "metadata": {
        "id": "uAOXjcAxLqdb",
        "colab": {
          "base_uri": "https://localhost:8080/",
          "height": 497
        },
        "outputId": "c78d4908-ac26-408b-c4c7-7a6286a78270"
      },
      "source": [
        "feature_importance.sort_values(by='Важность признака', ascending=False)"
      ],
      "execution_count": null,
      "outputs": [
        {
          "output_type": "execute_result",
          "data": {
            "text/html": [
              "<div>\n",
              "<style scoped>\n",
              "    .dataframe tbody tr th:only-of-type {\n",
              "        vertical-align: middle;\n",
              "    }\n",
              "\n",
              "    .dataframe tbody tr th {\n",
              "        vertical-align: top;\n",
              "    }\n",
              "\n",
              "    .dataframe thead th {\n",
              "        text-align: right;\n",
              "    }\n",
              "</style>\n",
              "<table border=\"1\" class=\"dataframe\">\n",
              "  <thead>\n",
              "    <tr style=\"text-align: right;\">\n",
              "      <th></th>\n",
              "      <th>Название признака</th>\n",
              "      <th>Важность признака</th>\n",
              "    </tr>\n",
              "  </thead>\n",
              "  <tbody>\n",
              "    <tr>\n",
              "      <th>8</th>\n",
              "      <td>Оценка риелтора</td>\n",
              "      <td>0.307224</td>\n",
              "    </tr>\n",
              "    <tr>\n",
              "      <th>2</th>\n",
              "      <td>Жилая площадь</td>\n",
              "      <td>0.293854</td>\n",
              "    </tr>\n",
              "    <tr>\n",
              "      <th>13</th>\n",
              "      <td>Широта</td>\n",
              "      <td>0.170109</td>\n",
              "    </tr>\n",
              "    <tr>\n",
              "      <th>14</th>\n",
              "      <td>Долгота</td>\n",
              "      <td>0.069254</td>\n",
              "    </tr>\n",
              "    <tr>\n",
              "      <th>11</th>\n",
              "      <td>Год постройки</td>\n",
              "      <td>0.035215</td>\n",
              "    </tr>\n",
              "    <tr>\n",
              "      <th>5</th>\n",
              "      <td>Вид на воду</td>\n",
              "      <td>0.028808</td>\n",
              "    </tr>\n",
              "    <tr>\n",
              "      <th>9</th>\n",
              "      <td>Площадь без подвала</td>\n",
              "      <td>0.025571</td>\n",
              "    </tr>\n",
              "    <tr>\n",
              "      <th>3</th>\n",
              "      <td>Общая площадь</td>\n",
              "      <td>0.025084</td>\n",
              "    </tr>\n",
              "    <tr>\n",
              "      <th>6</th>\n",
              "      <td>Просмотрены ранее</td>\n",
              "      <td>0.014407</td>\n",
              "    </tr>\n",
              "    <tr>\n",
              "      <th>1</th>\n",
              "      <td>Ванные</td>\n",
              "      <td>0.009947</td>\n",
              "    </tr>\n",
              "    <tr>\n",
              "      <th>10</th>\n",
              "      <td>Площадь подвала</td>\n",
              "      <td>0.007338</td>\n",
              "    </tr>\n",
              "    <tr>\n",
              "      <th>7</th>\n",
              "      <td>Состояние</td>\n",
              "      <td>0.003984</td>\n",
              "    </tr>\n",
              "    <tr>\n",
              "      <th>0</th>\n",
              "      <td>Спальни</td>\n",
              "      <td>0.003907</td>\n",
              "    </tr>\n",
              "    <tr>\n",
              "      <th>12</th>\n",
              "      <td>Год реновации</td>\n",
              "      <td>0.002676</td>\n",
              "    </tr>\n",
              "    <tr>\n",
              "      <th>4</th>\n",
              "      <td>Количество этажей</td>\n",
              "      <td>0.002622</td>\n",
              "    </tr>\n",
              "  </tbody>\n",
              "</table>\n",
              "</div>"
            ],
            "text/plain": [
              "      Название признака  Важность признака\n",
              "8       Оценка риелтора           0.307224\n",
              "2         Жилая площадь           0.293854\n",
              "13               Широта           0.170109\n",
              "14              Долгота           0.069254\n",
              "11        Год постройки           0.035215\n",
              "5           Вид на воду           0.028808\n",
              "9   Площадь без подвала           0.025571\n",
              "3         Общая площадь           0.025084\n",
              "6     Просмотрены ранее           0.014407\n",
              "1                Ванные           0.009947\n",
              "10      Площадь подвала           0.007338\n",
              "7             Состояние           0.003984\n",
              "0               Спальни           0.003907\n",
              "12        Год реновации           0.002676\n",
              "4     Количество этажей           0.002622"
            ]
          },
          "metadata": {
            "tags": []
          },
          "execution_count": 136
        }
      ]
    },
    {
      "cell_type": "markdown",
      "metadata": {
        "id": "EYIbpPKVLqdd"
      },
      "source": [
        "Как видно, наиболее значимые признаки - это \n",
        "* Жилая площадь \n",
        "* Оценка риелтора\n",
        "* Широта. \n",
        "\n",
        "Наименее важны такие признаки, как \n",
        "* Количество этажей\n",
        "* Год реновации\n",
        "* Состояние\n",
        "* Спальни\n",
        "* Площадь подвала "
      ]
    },
    {
      "cell_type": "markdown",
      "metadata": {
        "id": "XVIluwmULqdg"
      },
      "source": [
        "Посмотрим на наиболее значимые признаки. Размер жилой площади квартиры (признак Жилая площадь) очевидным образом влияет на цену: чем больше площадь, тем квартира дороже. Важность оценки состояния квартиры риелтором (признак Оценка риелтора), также понятна. Интересно появление признака Широта в списке наиболее важных. Давайте посмотрим на карту округа Кинг.   "
      ]
    },
    {
      "cell_type": "markdown",
      "metadata": {
        "id": "LDm86s6tLqdh"
      },
      "source": [
        "<a href=\"https://drive.google.com/uc?id=1-76SNpWIKLYMcUibXUnCy1PFq6srIpnp\n",
        "\" target=\"_blank\"><img src=\"https://drive.google.com/uc?id=1-76SNpWIKLYMcUibXUnCy1PFq6srIpnp\" \n",
        "alt=\"IMAGE ALT TEXT HERE\" width=\"360\" border=\"0\" /></a>\n"
      ]
    },
    {
      "cell_type": "markdown",
      "metadata": {
        "id": "9-P3wGRPLqdj"
      },
      "source": [
        "На карте видно, что центр Сиэтла находится в верхней половине карты. Соответственно, чем ближе к нему, тем дороже будет квартира. "
      ]
    },
    {
      "cell_type": "code",
      "metadata": {
        "id": "5G-A_qAYLqdm"
      },
      "source": [
        "feature_importance_2 = pd.DataFrame(columns = ['Название признака', 'Важность признака'])"
      ],
      "execution_count": null,
      "outputs": []
    },
    {
      "cell_type": "code",
      "metadata": {
        "id": "DfnFrAEEKevk"
      },
      "source": [
        "feature_importance_2['Название признака'] = training_points_2.keys()\n",
        "feature_importance_2['Важность признака'] = random_forest_model_2.feature_importances_"
      ],
      "execution_count": null,
      "outputs": []
    },
    {
      "cell_type": "code",
      "metadata": {
        "id": "_RCLiQ7OKkw4",
        "colab": {
          "base_uri": "https://localhost:8080/",
          "height": 347
        },
        "outputId": "38370c34-7228-431c-fe1c-139c0c86a8f9"
      },
      "source": [
        "feature_importance_2.sort_values(by='Важность признака', ascending=False)"
      ],
      "execution_count": null,
      "outputs": [
        {
          "output_type": "execute_result",
          "data": {
            "text/html": [
              "<div>\n",
              "<style scoped>\n",
              "    .dataframe tbody tr th:only-of-type {\n",
              "        vertical-align: middle;\n",
              "    }\n",
              "\n",
              "    .dataframe tbody tr th {\n",
              "        vertical-align: top;\n",
              "    }\n",
              "\n",
              "    .dataframe thead th {\n",
              "        text-align: right;\n",
              "    }\n",
              "</style>\n",
              "<table border=\"1\" class=\"dataframe\">\n",
              "  <thead>\n",
              "    <tr style=\"text-align: right;\">\n",
              "      <th></th>\n",
              "      <th>Название признака</th>\n",
              "      <th>Важность признака</th>\n",
              "    </tr>\n",
              "  </thead>\n",
              "  <tbody>\n",
              "    <tr>\n",
              "      <th>1</th>\n",
              "      <td>Жилая площадь</td>\n",
              "      <td>0.308014</td>\n",
              "    </tr>\n",
              "    <tr>\n",
              "      <th>5</th>\n",
              "      <td>Оценка риелтора</td>\n",
              "      <td>0.292040</td>\n",
              "    </tr>\n",
              "    <tr>\n",
              "      <th>8</th>\n",
              "      <td>Широта</td>\n",
              "      <td>0.174456</td>\n",
              "    </tr>\n",
              "    <tr>\n",
              "      <th>9</th>\n",
              "      <td>Долгота</td>\n",
              "      <td>0.075058</td>\n",
              "    </tr>\n",
              "    <tr>\n",
              "      <th>7</th>\n",
              "      <td>Год постройки</td>\n",
              "      <td>0.034763</td>\n",
              "    </tr>\n",
              "    <tr>\n",
              "      <th>6</th>\n",
              "      <td>Площадь без подвала</td>\n",
              "      <td>0.030518</td>\n",
              "    </tr>\n",
              "    <tr>\n",
              "      <th>3</th>\n",
              "      <td>Вид на воду</td>\n",
              "      <td>0.029376</td>\n",
              "    </tr>\n",
              "    <tr>\n",
              "      <th>2</th>\n",
              "      <td>Общая площадь</td>\n",
              "      <td>0.029007</td>\n",
              "    </tr>\n",
              "    <tr>\n",
              "      <th>4</th>\n",
              "      <td>Просмотрены ранее</td>\n",
              "      <td>0.015182</td>\n",
              "    </tr>\n",
              "    <tr>\n",
              "      <th>0</th>\n",
              "      <td>Ванные</td>\n",
              "      <td>0.011586</td>\n",
              "    </tr>\n",
              "  </tbody>\n",
              "</table>\n",
              "</div>"
            ],
            "text/plain": [
              "     Название признака  Важность признака\n",
              "1        Жилая площадь           0.308014\n",
              "5      Оценка риелтора           0.292040\n",
              "8               Широта           0.174456\n",
              "9              Долгота           0.075058\n",
              "7        Год постройки           0.034763\n",
              "6  Площадь без подвала           0.030518\n",
              "3          Вид на воду           0.029376\n",
              "2        Общая площадь           0.029007\n",
              "4    Просмотрены ранее           0.015182\n",
              "0               Ванные           0.011586"
            ]
          },
          "metadata": {
            "tags": []
          },
          "execution_count": 151
        }
      ]
    }
  ]
}